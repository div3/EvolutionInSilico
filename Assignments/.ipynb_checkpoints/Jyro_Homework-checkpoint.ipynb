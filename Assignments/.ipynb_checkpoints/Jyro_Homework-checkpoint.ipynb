{
 "cells": [
  {
   "cell_type": "markdown",
   "metadata": {},
   "source": [
    "# Jyro Homework Testbed\n",
    "\n",
    "## I'm giving you the code I'll use to generate random robot worlds for your homework. \n",
    "\n",
    "### The goal of this environment it to get as close to the light source as you can within 500 steps of the simulator using an evolved controller. \n",
    "Note that trying to evolve something using 500 steps from the very begening will take a looonnnggg time (so I don't reccomend it). \n",
    "\n",
    "### You should feel free to manipulate the fitness function, selection methods, recombination, diversity maintenance, and the structure of the neural network brain to try and evolve better robots. \n",
    "\n",
    "### You may also use genetic programing to evolve a brain for this robot, in which case you'll want to also change the kinds of function nodes available to evolution.\n",
    "\n"
   ]
  },
  {
   "cell_type": "code",
   "execution_count": 29,
   "metadata": {},
   "outputs": [],
   "source": [
    "from IPython.display import display, clear_output\n",
    "from jyro.simulator import *\n",
    "import random\n",
    "import numpy as np\n",
    "import pickle\n",
    "\n",
    "#Here is the main difference, I'm just random generating some walls\n",
    "#either on the left or right side of the world, evenly spaced along \n",
    "#the length of the world. \n",
    "def add_walls(sim, num_walls):\n",
    "    pos_xs = np.linspace(1.5, 10, num_walls)\n",
    "\n",
    "    for i in range(num_walls):\n",
    "        width = random.uniform(0.1, 0.3)\n",
    "        pos_y1 = random.choice([12-0.25, 0.25])\n",
    "        length = random.uniform(3, 10)\n",
    "        sim.addBox(pos_y1, pos_xs[i], length, pos_xs[i]+width, fill=\"gray\", wallcolor=\"gray\")\n",
    "\n",
    "# We'll create a box for the robot to live in\n",
    "# and a light source\n",
    "def make_world(sim):\n",
    "    sim.addBox(0, 0, 12, 12, fill=\"backgroundgreen\", wallcolor=\"gray\") #bounding box\n",
    "    sim.addLight(11, 11, 1) #paramters are x, y, brightness\n",
    "    add_walls(sim, 6)\n",
    "    \n",
    "#We'll give our robot the 16 sonar distance sensors, some light sensors\n",
    "class MyPioneer(Pioneer):\n",
    "    def __init__(self, name, x, y, angle):\n",
    "        Pioneer.__init__(self, name, x, y, angle)\n",
    "        self.addDevice(Pioneer16Sonars())\n",
    "        #parameter defines max range in meters\n",
    "        self.addDevice(PioneerFrontLightSensors(3))\n",
    "        \n",
    "    def move(self, linear, rotational):\n",
    "        if -1 > linear > 1 or -1 > rotational > 1:\n",
    "            super().move(random.uniform(-1, 1), random.uniform(-1, 1))\n",
    "            print(\"moving randomly!\")\n",
    "        else:\n",
    "            super().move(linear, rotational)\n",
    "        \n",
    "\n",
    "\n",
    "def setup_world(robot_brain):\n",
    "    robot = MyPioneer(\"Johnny\", 1, 1, 0)\n",
    "    sim = Physics()\n",
    "    make_world(sim)\n",
    "    sim.addRobot(robot)\n",
    "    robot.brain = robot_brain\n",
    "    return sim, robot"
   ]
  },
  {
   "cell_type": "markdown",
   "metadata": {},
   "source": [
    "### Same neural network code from before"
   ]
  },
  {
   "cell_type": "code",
   "execution_count": 30,
   "metadata": {},
   "outputs": [],
   "source": [
    "class SimpleNeuralNet():\n",
    "    #This is our squashing function\n",
    "    #I changed this to the hyperbolic tangent function that\n",
    "    #returns values in (-1, 1)\n",
    "    def activation_function(self, x):\n",
    "        return np.tanh(x)\n",
    "    \n",
    "    #this should look familiar, just a way to create a copy of \n",
    "    #the network without worying about pesky reference \n",
    "    def deepcopy(self):\n",
    "        new_net = SimpleNeuralNet(self.num_inputs, self.num_outputs, self.layer_node_counts)\n",
    "        new_net.layers = [np.copy(layer) for layer in self.layers]\n",
    "        return new_net\n",
    "    \n",
    "    #this is where the neural network does its computation!\n",
    "    def execute(self, input_vector):\n",
    "        # First we need to make sure we're getting the right\n",
    "        # number of inputs into our neural network.\n",
    "        assert len(input_vector) == self.num_inputs ,\\\n",
    "        \"wrong input vector size\"\n",
    "\n",
    "        # create a temporary variable to hold the values that should go\n",
    "        # into the next layer of the network.\n",
    "        # **at the start, this will just be our input**\n",
    "        next_v = input_vector\n",
    "\n",
    "        # iterate through layers, computing the activation\n",
    "        # of the weighted inputs from the previous layer\n",
    "        for layer in self.layers:\n",
    "            # add a bias to each layer [1]\n",
    "            next_v = np.append(next_v, 1)\n",
    "            \n",
    "            # pump the input vector through the matrix multiplication\n",
    "            # and our activation function\n",
    "            next_v = self.activation_function(np.dot(next_v, layer))\n",
    "            \n",
    "        return next_v\n",
    "        \n",
    "    def __init__(self, num_inputs, num_outputs, layer_node_counts=[]):\n",
    "        self.num_inputs = num_inputs\n",
    "        self.layer_node_counts = layer_node_counts\n",
    "        self.num_outputs = num_outputs\n",
    "        self.layers = []\n",
    "        \n",
    "        last_num_neurons = self.num_inputs\n",
    "        for nc in layer_node_counts + [num_outputs]:\n",
    "            # for now, we'll just use random weights in the range [-5,5]\n",
    "            # +1 handles adding a bias node for each layer of nodes\n",
    "            self.layers.append(np.random.uniform(-5, 5, size=(last_num_neurons+1, nc)))\n",
    "            last_num_neurons = nc\n",
    "    "
   ]
  },
  {
   "cell_type": "markdown",
   "metadata": {},
   "source": [
    "## If you were going to use genetic programing, you'll have to change this code to generate a random GP tree instead of a random neural network"
   ]
  },
  {
   "cell_type": "code",
   "execution_count": 31,
   "metadata": {},
   "outputs": [],
   "source": [
    "def network_to_brain(simple_net):\n",
    "    \n",
    "    #Define the brain function for jyro\n",
    "    def neural_brain(a_robot):\n",
    "        sonar_sensors = a_robot[\"sonar\"].getData()\n",
    "        light_sensors = a_robot[\"light\"].getData()\n",
    "        \n",
    "        #combine the sonar and light inputs\n",
    "        combined_input = sonar_sensors + light_sensors\n",
    "\n",
    "        network = simple_net\n",
    "\n",
    "        #run the neural network with the combined input values\n",
    "        output = network.execute(combined_input)\n",
    "        \n",
    "        #use the output of the network to move the robot\n",
    "        a_robot.move(output[0], output[1])\n",
    "\n",
    "    return neural_brain"
   ]
  },
  {
   "cell_type": "markdown",
   "metadata": {},
   "source": [
    "# And here are the functions you'll most likely want to play with to get better evolved robots."
   ]
  },
  {
   "cell_type": "code",
   "execution_count": 32,
   "metadata": {},
   "outputs": [],
   "source": [
    "def tournament_selection(population, fitnesses, tournament_size=3):\n",
    "    sample_pop_idxs = np.random.choice(range(len(population)), size=tournament_size)\n",
    "    tourny_winner_idx = np.argmax(np.array(fitnesses)[sample_pop_idxs])\n",
    "    winner_pop_idx = sample_pop_idxs[tourny_winner_idx]\n",
    "\n",
    "    return population[winner_pop_idx]\n",
    "   "
   ]
  },
  {
   "cell_type": "code",
   "execution_count": 252,
   "metadata": {},
   "outputs": [],
   "source": [
    "def rank_order_selection(population, fitnesses, factor=0.1):\n",
    "    combined_pop = zip(population, fitnesses)\n",
    "    population = [x for _,x in sorted(zip(fitnesses, population), reverse=True)]\n",
    "    scaled_fitness = [(factor**float(len(population)-g))*(factor-1)/(factor**float(len(population))-1) for g in range(len(population))]\n",
    "    population = random.choices(population, k=len(population), weights=scaled_fitness)\n",
    "    return population"
   ]
  },
  {
   "cell_type": "code",
   "execution_count": null,
   "metadata": {},
   "outputs": [],
   "source": [
    "def elitism(population, fitnesses, num = 3):\n",
    "    combined_pop = zip(population, fitnesses)\n",
    "    population = [x for _,x in sorted(zip(fitnesses, population))]\n",
    "    len_pop = len(population)\n",
    "    elites = population[]\n",
    "    scaled_fitness = [(factor**float(len(population)-g))*(factor-1)/(factor**float(len(population))-1) for g in range(len(population))]\n",
    "    population = random.choices(population, k=len(population), weights=scaled_fitness)\n",
    "    return population"
   ]
  },
  {
   "cell_type": "code",
   "execution_count": 33,
   "metadata": {},
   "outputs": [],
   "source": [
    "def mutate_network(simple_net, mutation_rate=1E-3, mutation_effect_size=2):\n",
    "    for layer_to_mut in simple_net.layers:\n",
    "        dims = layer_to_mut.shape\n",
    "        num_mutations = np.random.binomial(dims[0]*dims[1], mutation_rate)\n",
    "        for i in range(num_mutations): \n",
    "            rand_i = np.random.randint(0, dims[0])\n",
    "            rand_j = np.random.randint(0, dims[1])\n",
    "            layer_to_mut[rand_i, rand_j] += np.random.normal(scale=mutation_effect_size)"
   ]
  },
  {
   "cell_type": "code",
   "execution_count": 34,
   "metadata": {},
   "outputs": [],
   "source": [
    "def measure_neuralnet_fitness(simple_net, iterations=500):\n",
    "    this_brain = network_to_brain(simple_net)\n",
    "    sim, robot = setup_world(this_brain)\n",
    "    \n",
    "    distance_moved = 0\n",
    "    \n",
    "    #reset the robot's position\n",
    "    robot.setPose(1, 1, 0)\n",
    "    robot.reset()\n",
    "    sonar = [11, 11]\n",
    "    y_2 = robot.getPose()\n",
    "    y_1 = robot.getPose()\n",
    "    start = math.hypot(y_2[0]-sonar[0], y_2[1] - sonar[1])\n",
    "    #iterate through the simulation\n",
    "    for i in range(iterations):        \n",
    "        #but if the robot's stuck, end early!   \n",
    "        if robot.stall:\n",
    "            break\n",
    "        #move the robot\n",
    "        sim.step(run_brain=True)\n",
    "    y_2 = robot.getPose()\n",
    "    total_distance = math.hypot(y_2[0]-y_1[0], y_2[1] - y_1[1])\n",
    "    end = math.hypot(y_2[0]-sonar[0], y_2[1] - sonar[1])\n",
    "    return (start - end)/total_distance"
   ]
  },
  {
   "cell_type": "code",
   "execution_count": 35,
   "metadata": {},
   "outputs": [],
   "source": [
    "def measure_displacement(simple_net, iterations=500):\n",
    "    this_brain = network_to_brain(simple_net)\n",
    "    sim, robot = setup_world(this_brain)\n",
    "\n",
    "    distance_moved = 0\n",
    "    \n",
    "    #reset the robot's position\n",
    "    robot.setPose(1, 1, 0)\n",
    "    robot.reset()\n",
    "    x = robot.getPose()\n",
    "    #iterate through the simulation\n",
    "    for i in range(iterations):        \n",
    "        #but if the robot's stuck, end early!   \n",
    "        if robot.stall:\n",
    "            break\n",
    "        #move the robot\n",
    "        sim.step(run_brain=True)\n",
    "    y = robot.getPose()\n",
    "    total_distance = math.hypot(y[0]-x[0], y[1] - x[1])\n",
    "    return total_distance"
   ]
  },
  {
   "cell_type": "code",
   "execution_count": 165,
   "metadata": {},
   "outputs": [],
   "source": [
    "def measure_distance(simple_net, iterations=500):\n",
    "    this_brain = network_to_brain(simple_net)\n",
    "    sim, robot = setup_world(this_brain)\n",
    "\n",
    "    distance_moved = 0\n",
    "    \n",
    "    #reset the robot's position\n",
    "    robot.setPose(1, 1, 0)\n",
    "    robot.reset()\n",
    "    x = robot.getPose()\n",
    "    #iterate through the simulation\n",
    "    for i in range(iterations):        \n",
    "        #but if the robot's stuck, end early!   \n",
    "        if robot.stall:\n",
    "            break\n",
    "        #move the robot\n",
    "        cur_pos = robot.getPose()\n",
    "        sim.step(run_brain=True)\n",
    "        next_pos = robot.getPose()\n",
    "        \n",
    "        #and keep track of how far it moved\n",
    "        distance_moved += np.linalg.norm(np.array(cur_pos[0:2]) - np.array(next_pos[0:2]))\n",
    "    return distance_moved"
   ]
  },
  {
   "cell_type": "code",
   "execution_count": 227,
   "metadata": {},
   "outputs": [],
   "source": [
    "def measure_distance_to_light(simple_net, iterations=500):\n",
    "    this_brain = network_to_brain(simple_net)\n",
    "    sim, robot = setup_world(this_brain)\n",
    "    \n",
    "    distance_moved = 0\n",
    "    \n",
    "    #reset the robot's position\n",
    "    robot.setPose(1, 1, 0)\n",
    "    robot.reset()\n",
    "    sonar = [11, 11]\n",
    "    #iterate through the simulation\n",
    "    for i in range(iterations):        \n",
    "        #but if the robot's stuck, end early!   \n",
    "        if robot.stall:\n",
    "            break\n",
    "        #move the robot\n",
    "        sim.step(run_brain=True)\n",
    "    end = robot.getPose()\n",
    "    distance_to_light = math.hypot(sonar[0]-end[0], sonar[1] - end[1])\n",
    "    return 100/distance_to_light"
   ]
  },
  {
   "cell_type": "code",
   "execution_count": 167,
   "metadata": {},
   "outputs": [],
   "source": [
    "def run_evolution(pop_size, num_generations):\n",
    "    #build our random population of neural networks\n",
    "    population = [SimpleNeuralNet(18,2,[10]) for _ in range(pop_size)]\n",
    "    evo_fitnesses = []\n",
    "\n",
    "    for i in range(num_generations):\n",
    "        #evaluate the fitnesses using 50 timesteps\n",
    "        fitnesses = [measure_displacement(n) for n in population]\n",
    "\n",
    "        #keep track of the mean pop fitnesses\n",
    "        evo_fitnesses.append(np.mean(fitnesses))\n",
    "\n",
    "        #print the generation and the mean fitness we just stuck on the\n",
    "        #evo_fitnesses list\n",
    "        clear_output(wait=True)\n",
    "        display(i, evo_fitnesses[-1])\n",
    "\n",
    "        #do tournament selection\n",
    "        next_pop = [tournament_selection(population, fitnesses).deepcopy() for _ in range(pop_size)]\n",
    "\n",
    "        #and mutate the new networks\n",
    "        for net in next_pop:\n",
    "            mutate_network(net, mutation_rate=0.1)\n",
    "\n",
    "        population = next_pop\n",
    "    return population"
   ]
  },
  {
   "cell_type": "markdown",
   "metadata": {},
   "source": [
    "# These functions will work, but are probably not going to evolve very good robots. We can run them and visualize the output though."
   ]
  },
  {
   "cell_type": "code",
   "execution_count": 37,
   "metadata": {},
   "outputs": [
    {
     "data": {
      "text/plain": [
       "149"
      ]
     },
     "metadata": {},
     "output_type": "display_data"
    },
    {
     "data": {
      "text/plain": [
       "7.526025655958759"
      ]
     },
     "metadata": {},
     "output_type": "display_data"
    }
   ],
   "source": [
    "#evolve \n",
    "evolved_pop = run_evolution(pop_size=30, num_generations=150)\n",
    "\n",
    "#let's visualize the first individual in the population\n",
    "#Note there is no reason to expect this is the best individual!\n",
    "sim, robot = setup_world(network_to_brain(evolved_pop[0]))\n",
    "canvas = Canvas((250, 250))"
   ]
  },
  {
   "cell_type": "markdown",
   "metadata": {},
   "source": [
    "# To save your robot brain, we'll use the python `pickle` module. \n",
    "## This lets us pass a copy of our brain, and an opened file to save the object. "
   ]
  },
  {
   "cell_type": "code",
   "execution_count": 38,
   "metadata": {},
   "outputs": [],
   "source": [
    "\n",
    "#copy the network when we pickle it\n",
    "fittest = sorted(evolved_pop, key = lambda x:(measure_displacement(x)))\n",
    "pickle.dump(fittest[0].deepcopy(), open('my_robot_brain.pkl', 'wb'))"
   ]
  },
  {
   "cell_type": "markdown",
   "metadata": {},
   "source": [
    "## Then, we can use `pickle.load` to read the file, and reconstruct the network object we need to control the robot! "
   ]
  },
  {
   "cell_type": "code",
   "execution_count": 39,
   "metadata": {},
   "outputs": [
    {
     "name": "stdout",
     "output_type": "stream",
     "text": [
      "<__main__.SimpleNeuralNet object at 0x1113fee80>\n"
     ]
    }
   ],
   "source": [
    "loaded_brain = pickle.load(open('my_robot_brain.pkl', 'rb'))\n",
    "print(loaded_brain)"
   ]
  },
  {
   "cell_type": "markdown",
   "metadata": {},
   "source": [
    "## And now we can put that loaded in brain into a robot and run it!"
   ]
  },
  {
   "cell_type": "code",
   "execution_count": 55,
   "metadata": {},
   "outputs": [
    {
     "data": {
      "image/svg+xml": [
       "<svg baseProfile=\"full\" height=\"250\" version=\"1.1\" width=\"250\" xmlns=\"http://www.w3.org/2000/svg\" xmlns:ev=\"http://www.w3.org/2001/xml-events\" xmlns:xlink=\"http://www.w3.org/1999/xlink\"><defs /><rect fill=\"#eef3dd\" height=\"250.0\" stroke=\"#bebebe\" stroke-width=\"1\" width=\"250.0\" x=\"0.0\" y=\"0.0\" /><rect fill=\"#bebebe\" height=\"5.375007076501191\" stroke=\"#bebebe\" stroke-width=\"1\" width=\"136.2849990286435\" x=\"108.50666763802315\" y=\"213.3749929234988\" /><rect fill=\"#bebebe\" height=\"2.474398323083193\" stroke=\"#bebebe\" stroke-width=\"1\" width=\"81.16136459021337\" x=\"163.6303020764533\" y=\"180.85893501025015\" /><rect fill=\"#bebebe\" height=\"5.631743934934661\" stroke=\"#bebebe\" stroke-width=\"1\" width=\"173.4214344095663\" x=\"71.37023225710037\" y=\"142.284922731732\" /><rect fill=\"#bebebe\" height=\"2.244580222868194\" stroke=\"#bebebe\" stroke-width=\"1\" width=\"90.9741507393972\" x=\"153.81751592726945\" y=\"110.2554197771318\" /><rect fill=\"#bebebe\" height=\"5.193753673002078\" stroke=\"#bebebe\" stroke-width=\"1\" width=\"143.64460377879163\" x=\"5.208333333333333\" y=\"71.88957966033124\" /><rect fill=\"#bebebe\" height=\"4.177389164213807\" stroke=\"#bebebe\" stroke-width=\"1\" width=\"92.63428934606524\" x=\"5.208333333333333\" y=\"37.48927750245286\" /><circle cx=\"229.16666666666666\" cy=\"20.833333333333332\" fill=\"#ffff00\" r=\"5.208333333333333\" stroke=\"#ffff00\" stroke-width=\"1\" /><line fill=\"#800080\" stroke=\"#add8e6\" stroke-width=\"1\" x1=\"154.7696291093109\" x2=\"149.79706851090108\" y1=\"181.26122501661567\" y2=\"213.37499375000002\" /><line fill=\"#800080\" stroke=\"#add8e6\" stroke-width=\"1\" x1=\"153.40816722423523\" x2=\"131.41435102521828\" y1=\"180.52337340029408\" y2=\"213.37499375000002\" /><line fill=\"#800080\" stroke=\"#add8e6\" stroke-width=\"1\" x1=\"152.9180430558596\" x2=\"36.67212757960844\" y1=\"179.60421740481857\" y2=\"250.0\" /><line fill=\"#800080\" stroke=\"#add8e6\" stroke-width=\"1\" x1=\"152.5946165222585\" x2=\"0.0\" y1=\"178.28924111663926\" y2=\"194.86121458333335\" /><line fill=\"#800080\" stroke=\"#add8e6\" stroke-width=\"1\" x1=\"152.91340504742809\" x2=\"88.72322365099947\" y1=\"176.2304425218277\" y2=\"147.91666666666666\" /><line fill=\"#800080\" stroke=\"#add8e6\" stroke-width=\"1\" x1=\"153.61937781123274\" x2=\"129.84576103826527\" y1=\"175.07486049623319\" y2=\"147.91666666666666\" /><line fill=\"#800080\" stroke=\"#add8e6\" stroke-width=\"1\" x1=\"154.36453279974404\" x2=\"146.6867651115588\" y1=\"174.3469776158595\" y2=\"147.91666666666666\" /><line fill=\"#800080\" stroke=\"#add8e6\" stroke-width=\"1\" x1=\"155.88538894740452\" x2=\"159.93276821779756\" y1=\"174.05542993477528\" y2=\"147.91666666666666\" /><line fill=\"#800080\" stroke=\"#add8e6\" stroke-width=\"1\" x1=\"160.0029861370276\" x2=\"164.1490879420268\" y1=\"174.6930069851145\" y2=\"147.91666666666666\" /><line fill=\"#800080\" stroke=\"#add8e6\" stroke-width=\"1\" x1=\"161.36444802210326\" x2=\"179.78491037387818\" y1=\"175.43085860143609\" y2=\"147.91666666666666\" /><line fill=\"#800080\" stroke=\"#add8e6\" stroke-width=\"1\" x1=\"161.8545721904789\" x2=\"208.8071106029451\" y1=\"176.3500145969116\" y2=\"147.91666666666666\" /><line fill=\"#800080\" stroke=\"#add8e6\" stroke-width=\"1\" x1=\"162.17799872408003\" x2=\"250.0\" y1=\"177.66499088509093\" y2=\"168.12740833333334\" /><line fill=\"#800080\" stroke=\"#add8e6\" stroke-width=\"1\" x1=\"161.8592101989104\" x2=\"164.43269865848094\" y1=\"179.72378947990248\" y2=\"180.85893541666667\" /><line fill=\"#800080\" stroke=\"#add8e6\" stroke-width=\"1\" x1=\"161.15323743510575\" x2=\"189.59910650430203\" y1=\"180.879371505497\" y2=\"213.37499375000002\" /><line fill=\"#800080\" stroke=\"#add8e6\" stroke-width=\"1\" x1=\"160.40808244659448\" x2=\"169.6363260230592\" y1=\"181.60725438587073\" y2=\"213.37499375000002\" /><line fill=\"#800080\" stroke=\"#add8e6\" stroke-width=\"1\" x1=\"158.887226298934\" x2=\"154.01338970852706\" y1=\"181.8988020669549\" y2=\"213.37499375000002\" /><line fill=\"#800080\" stroke=\"#a020f0\" stroke-width=\"1\" x1=\"229.16666666666666\" x2=\"186.15666107738815\" y1=\"20.833333333333332\" y2=\"110.25541874999999\" /><line fill=\"#800080\" stroke=\"#a020f0\" stroke-width=\"1\" x1=\"229.16666666666666\" x2=\"184.7815615393254\" y1=\"20.833333333333332\" y2=\"110.25541874999999\" /><polygon fill=\"white\" points=\"152.4989799647076,178.90688069508272 153.74022981190512,181.10183075403089 159.91662559633977,182.0581963295397 161.76357364135953,180.34142905834594 162.2736352816309,177.04735130664747 161.03238543443337,174.85240124769928 154.85598964999875,173.8960356721905 153.009041604979,175.61280294338425\" stroke=\"black\" stroke-width=\"1\" /><polygon points=\"-1.0416666666666667,-1.0416666666666667 0,0 1.0416666666666667,-1.0416666666666667 0,1.0416666666666667\" stroke=\"black\" stroke-width=\"1\" transform=\"translate(157.38630762316924,177.9771160008651) rotate(98.80189333173105)\" /><circle cx=\"152.19613086579648\" cy=\"180.86273936015368\" fill=\"yellow\" r=\"0.5208333333333334\" stroke=\"orange\" stroke-width=\"1\" /><circle cx=\"153.3118907038901\" cy=\"173.65694427831332\" fill=\"yellow\" r=\"0.5208333333333334\" stroke=\"orange\" stroke-width=\"1\" /></svg>"
      ],
      "text/plain": [
       "<jyro.simulator.canvas.Canvas at 0x1115a1400>"
      ]
     },
     "metadata": {},
     "output_type": "display_data"
    },
    {
     "name": "stdout",
     "output_type": "stream",
     "text": [
      "[0.0, 0.0]\n"
     ]
    }
   ],
   "source": [
    "sim, robot = setup_world(network_to_brain(loaded_brain))\n",
    "canvas = Canvas((250, 250))\n",
    "\n",
    "for i in range(500):\n",
    "    sim.step(run_brain=True)\n",
    "    sim.draw(canvas)\n",
    "    clear_output(wait=True)\n",
    "    display(canvas)\n",
    "    print(robot[\"light\"].getData())\n",
    "    time.sleep(0.01)\n",
    "    if robot.stall:\n",
    "        break"
   ]
  },
  {
   "cell_type": "markdown",
   "metadata": {},
   "source": [
    "# Homework!\n",
    "## You should turn in a pickled robot brain, and a jupyter notebook that unpickles and runs your robot (just like the above code cell). That way, I know I have the right version of whatever required classes make up your brain."
   ]
  },
  {
   "cell_type": "code",
   "execution_count": 38,
   "metadata": {},
   "outputs": [],
   "source": [
    "from IPython.display import Audio\n",
    "\n",
    "def allDone():\n",
    "  os.system('say \"DONE!\"')"
   ]
  },
  {
   "cell_type": "code",
   "execution_count": 100,
   "metadata": {},
   "outputs": [
    {
     "name": "stdout",
     "output_type": "stream",
     "text": [
      "-1\n",
      "0.5905970063723649\n",
      "0.9667637470422888\n",
      "-1\n",
      "-1\n",
      "0.6542304513735671\n",
      "-1\n",
      "0.48942775444000036\n",
      "-1\n",
      "0.6288235459042685\n",
      "-1\n",
      "0.99993674695352\n"
     ]
    }
   ],
   "source": [
    "for x in evolved_pop:\n",
    "    print(measure_neuralnet_fitness(x))"
   ]
  },
  {
   "cell_type": "code",
   "execution_count": 69,
   "metadata": {},
   "outputs": [
    {
     "name": "stdout",
     "output_type": "stream",
     "text": [
      "0.7029279228152482\n",
      "0.316771019180215\n",
      "0.8193943904242353\n",
      "0.6566526358863919\n",
      "0.5999232010993941\n",
      "0.9021122885856406\n",
      "0.8599440873872805\n",
      "0.8626644886145834\n",
      "0.30247784608321593\n"
     ]
    },
    {
     "ename": "KeyboardInterrupt",
     "evalue": "",
     "output_type": "error",
     "traceback": [
      "\u001b[0;31m---------------------------------------------------------------------------\u001b[0m",
      "\u001b[0;31mKeyboardInterrupt\u001b[0m                         Traceback (most recent call last)",
      "\u001b[0;32m<ipython-input-69-e3edadfc35ce>\u001b[0m in \u001b[0;36m<module>\u001b[0;34m()\u001b[0m\n\u001b[1;32m      1\u001b[0m \u001b[0;32mfor\u001b[0m \u001b[0my\u001b[0m \u001b[0;32min\u001b[0m \u001b[0mx\u001b[0m\u001b[0;34m:\u001b[0m\u001b[0;34m\u001b[0m\u001b[0m\n\u001b[0;32m----> 2\u001b[0;31m     \u001b[0mprint\u001b[0m\u001b[0;34m(\u001b[0m\u001b[0mmeasure_displacement_over_distance\u001b[0m\u001b[0;34m(\u001b[0m\u001b[0my\u001b[0m\u001b[0;34m)\u001b[0m\u001b[0;34m)\u001b[0m\u001b[0;34m\u001b[0m\u001b[0m\n\u001b[0m",
      "\u001b[0;32m<ipython-input-56-e66523ca9a80>\u001b[0m in \u001b[0;36mmeasure_displacement_over_distance\u001b[0;34m(simple_net, iterations)\u001b[0m\n\u001b[1;32m     16\u001b[0m         \u001b[0;31m#move the robot\u001b[0m\u001b[0;34m\u001b[0m\u001b[0;34m\u001b[0m\u001b[0m\n\u001b[1;32m     17\u001b[0m         \u001b[0mcur_pos\u001b[0m \u001b[0;34m=\u001b[0m \u001b[0mrobot\u001b[0m\u001b[0;34m.\u001b[0m\u001b[0mgetPose\u001b[0m\u001b[0;34m(\u001b[0m\u001b[0;34m)\u001b[0m\u001b[0;34m\u001b[0m\u001b[0m\n\u001b[0;32m---> 18\u001b[0;31m         \u001b[0msim\u001b[0m\u001b[0;34m.\u001b[0m\u001b[0mstep\u001b[0m\u001b[0;34m(\u001b[0m\u001b[0mrun_brain\u001b[0m\u001b[0;34m=\u001b[0m\u001b[0;32mTrue\u001b[0m\u001b[0;34m)\u001b[0m\u001b[0;34m\u001b[0m\u001b[0m\n\u001b[0m\u001b[1;32m     19\u001b[0m         \u001b[0mnext_pos\u001b[0m \u001b[0;34m=\u001b[0m \u001b[0mrobot\u001b[0m\u001b[0;34m.\u001b[0m\u001b[0mgetPose\u001b[0m\u001b[0;34m(\u001b[0m\u001b[0;34m)\u001b[0m\u001b[0;34m\u001b[0m\u001b[0m\n\u001b[1;32m     20\u001b[0m \u001b[0;34m\u001b[0m\u001b[0m\n",
      "\u001b[0;32m/anaconda3/lib/python3.6/site-packages/jyro/simulator/simulator.py\u001b[0m in \u001b[0;36mstep\u001b[0;34m(self, run_brain)\u001b[0m\n\u001b[1;32m    340\u001b[0m             \u001b[0mcollision\u001b[0m \u001b[0;34m=\u001b[0m \u001b[0mr\u001b[0m\u001b[0;34m.\u001b[0m\u001b[0mstep\u001b[0m\u001b[0;34m(\u001b[0m\u001b[0mself\u001b[0m\u001b[0;34m.\u001b[0m\u001b[0mtimeslice\u001b[0m\u001b[0;34m)\u001b[0m\u001b[0;34m\u001b[0m\u001b[0m\n\u001b[1;32m    341\u001b[0m         \u001b[0;32mfor\u001b[0m \u001b[0mr\u001b[0m \u001b[0;32min\u001b[0m \u001b[0mself\u001b[0m\u001b[0;34m.\u001b[0m\u001b[0mrobots\u001b[0m\u001b[0;34m:\u001b[0m\u001b[0;34m\u001b[0m\u001b[0m\n\u001b[0;32m--> 342\u001b[0;31m             \u001b[0mr\u001b[0m\u001b[0;34m.\u001b[0m\u001b[0mupdateDevices\u001b[0m\u001b[0;34m(\u001b[0m\u001b[0;34m)\u001b[0m\u001b[0;34m\u001b[0m\u001b[0m\n\u001b[0m\u001b[1;32m    343\u001b[0m         \u001b[0mself\u001b[0m\u001b[0;34m.\u001b[0m\u001b[0mstepCount\u001b[0m \u001b[0;34m+=\u001b[0m \u001b[0;36m1\u001b[0m\u001b[0;34m\u001b[0m\u001b[0m\n\u001b[1;32m    344\u001b[0m \u001b[0;34m\u001b[0m\u001b[0m\n",
      "\u001b[0;32m/anaconda3/lib/python3.6/site-packages/jyro/simulator/robot.py\u001b[0m in \u001b[0;36mupdateDevices\u001b[0;34m(self)\u001b[0m\n\u001b[1;32m    180\u001b[0m         \u001b[0;32mfor\u001b[0m \u001b[0mdevice\u001b[0m \u001b[0;32min\u001b[0m \u001b[0mself\u001b[0m\u001b[0;34m.\u001b[0m\u001b[0mdevices\u001b[0m\u001b[0;34m:\u001b[0m\u001b[0;34m\u001b[0m\u001b[0m\n\u001b[1;32m    181\u001b[0m             \u001b[0;32mif\u001b[0m \u001b[0mdevice\u001b[0m\u001b[0;34m.\u001b[0m\u001b[0mactive\u001b[0m\u001b[0;34m:\u001b[0m\u001b[0;34m\u001b[0m\u001b[0m\n\u001b[0;32m--> 182\u001b[0;31m                 \u001b[0mdevice\u001b[0m\u001b[0;34m.\u001b[0m\u001b[0mupdate\u001b[0m\u001b[0;34m(\u001b[0m\u001b[0mself\u001b[0m\u001b[0;34m)\u001b[0m\u001b[0;34m\u001b[0m\u001b[0m\n\u001b[0m\u001b[1;32m    183\u001b[0m \u001b[0;34m\u001b[0m\u001b[0m\n\u001b[1;32m    184\u001b[0m     \u001b[0;32mdef\u001b[0m \u001b[0mstep\u001b[0m\u001b[0;34m(\u001b[0m\u001b[0mself\u001b[0m\u001b[0;34m,\u001b[0m \u001b[0mtimeslice\u001b[0m\u001b[0;34m=\u001b[0m\u001b[0;36m100\u001b[0m\u001b[0;34m)\u001b[0m\u001b[0;34m:\u001b[0m\u001b[0;34m\u001b[0m\u001b[0m\n",
      "\u001b[0;32m/anaconda3/lib/python3.6/site-packages/jyro/simulator/device.py\u001b[0m in \u001b[0;36mupdate\u001b[0;34m(self, robot)\u001b[0m\n\u001b[1;32m    109\u001b[0m                 \u001b[0mself\u001b[0m\u001b[0;34m.\u001b[0m\u001b[0mscan\u001b[0m\u001b[0;34m[\u001b[0m\u001b[0mi\u001b[0m\u001b[0;34m]\u001b[0m \u001b[0;34m=\u001b[0m \u001b[0;36m0\u001b[0m\u001b[0;34m\u001b[0m\u001b[0m\n\u001b[1;32m    110\u001b[0m                 \u001b[0;32mcontinue\u001b[0m\u001b[0;34m\u001b[0m\u001b[0m\n\u001b[0;32m--> 111\u001b[0;31m             \u001b[0mdist\u001b[0m\u001b[0;34m,\u001b[0m \u001b[0mhit\u001b[0m\u001b[0;34m,\u001b[0m \u001b[0mobj\u001b[0m \u001b[0;34m=\u001b[0m \u001b[0mrobot\u001b[0m\u001b[0;34m.\u001b[0m\u001b[0mphysics\u001b[0m\u001b[0;34m.\u001b[0m\u001b[0mcastRay\u001b[0m\u001b[0;34m(\u001b[0m\u001b[0mrobot\u001b[0m\u001b[0;34m,\u001b[0m \u001b[0mgx\u001b[0m\u001b[0;34m,\u001b[0m \u001b[0mgy\u001b[0m\u001b[0;34m,\u001b[0m \u001b[0;34m-\u001b[0m\u001b[0mga\u001b[0m\u001b[0;34m,\u001b[0m \u001b[0mself\u001b[0m\u001b[0;34m.\u001b[0m\u001b[0mmaxRange\u001b[0m\u001b[0;34m,\u001b[0m \u001b[0mrayType\u001b[0m\u001b[0;34m=\u001b[0m\u001b[0;34m\"range\"\u001b[0m\u001b[0;34m)\u001b[0m\u001b[0;34m\u001b[0m\u001b[0m\n\u001b[0m\u001b[1;32m    112\u001b[0m             \u001b[0;32mif\u001b[0m \u001b[0mhit\u001b[0m\u001b[0;34m:\u001b[0m\u001b[0;34m\u001b[0m\u001b[0m\n\u001b[1;32m    113\u001b[0m                 \u001b[0;32mif\u001b[0m \u001b[0mrobot\u001b[0m\u001b[0;34m.\u001b[0m\u001b[0mdisplay\u001b[0m\u001b[0;34m[\u001b[0m\u001b[0;34m\"devices\"\u001b[0m\u001b[0;34m]\u001b[0m \u001b[0;34m==\u001b[0m \u001b[0;36m1\u001b[0m\u001b[0;34m:\u001b[0m\u001b[0;34m\u001b[0m\u001b[0m\n",
      "\u001b[0;32m/anaconda3/lib/python3.6/site-packages/jyro/simulator/simulator.py\u001b[0m in \u001b[0;36mcastRay\u001b[0;34m(self, robot, x1, y1, a, maxRange, ignoreRobot, rayType)\u001b[0m\n\u001b[1;32m    354\u001b[0m             \u001b[0;32mfor\u001b[0m \u001b[0mw\u001b[0m \u001b[0;32min\u001b[0m \u001b[0mself\u001b[0m\u001b[0;34m.\u001b[0m\u001b[0mworld\u001b[0m\u001b[0;34m:\u001b[0m\u001b[0;34m\u001b[0m\u001b[0m\n\u001b[1;32m    355\u001b[0m                 \u001b[0;31m## Direct light:\u001b[0m\u001b[0;34m\u001b[0m\u001b[0;34m\u001b[0m\u001b[0m\n\u001b[0;32m--> 356\u001b[0;31m                 \u001b[0mretval\u001b[0m \u001b[0;34m=\u001b[0m \u001b[0mw\u001b[0m\u001b[0;34m.\u001b[0m\u001b[0mintersects\u001b[0m\u001b[0;34m(\u001b[0m\u001b[0mseg\u001b[0m\u001b[0;34m)\u001b[0m\u001b[0;34m\u001b[0m\u001b[0m\n\u001b[0m\u001b[1;32m    357\u001b[0m                 \u001b[0;32mif\u001b[0m \u001b[0mretval\u001b[0m\u001b[0;34m:\u001b[0m\u001b[0;34m\u001b[0m\u001b[0m\n\u001b[1;32m    358\u001b[0m                     \u001b[0mdist\u001b[0m \u001b[0;34m=\u001b[0m \u001b[0mSegment\u001b[0m\u001b[0;34m(\u001b[0m\u001b[0mretval\u001b[0m\u001b[0;34m,\u001b[0m \u001b[0;34m(\u001b[0m\u001b[0mx1\u001b[0m\u001b[0;34m,\u001b[0m \u001b[0my1\u001b[0m\u001b[0;34m)\u001b[0m\u001b[0;34m)\u001b[0m\u001b[0;34m.\u001b[0m\u001b[0mlength\u001b[0m\u001b[0;34m(\u001b[0m\u001b[0;34m)\u001b[0m\u001b[0;34m\u001b[0m\u001b[0m\n",
      "\u001b[0;32m/anaconda3/lib/python3.6/site-packages/jyro/simulator/simulator.py\u001b[0m in \u001b[0;36mintersects\u001b[0;34m(self, other)\u001b[0m\n\u001b[1;32m    189\u001b[0m                     \u001b[0;32mreturn\u001b[0m \u001b[0;32mNone\u001b[0m\u001b[0;34m\u001b[0m\u001b[0m\n\u001b[1;32m    190\u001b[0m         \u001b[0;32melse\u001b[0m\u001b[0;34m:\u001b[0m\u001b[0;34m\u001b[0m\u001b[0m\n\u001b[0;32m--> 191\u001b[0;31m             \u001b[0mi\u001b[0m \u001b[0;34m=\u001b[0m \u001b[0mself\u001b[0m\u001b[0;34m.\u001b[0m\u001b[0mintersection\u001b[0m\u001b[0;34m(\u001b[0m\u001b[0mother\u001b[0m\u001b[0;34m)\u001b[0m\u001b[0;34m\u001b[0m\u001b[0m\n\u001b[0m\u001b[1;32m    192\u001b[0m             \u001b[0;32mif\u001b[0m \u001b[0mself\u001b[0m\u001b[0;34m.\u001b[0m\u001b[0min_bbox\u001b[0m\u001b[0;34m(\u001b[0m\u001b[0mi\u001b[0m\u001b[0;34m)\u001b[0m \u001b[0;32mand\u001b[0m \u001b[0mother\u001b[0m\u001b[0;34m.\u001b[0m\u001b[0min_bbox\u001b[0m\u001b[0;34m(\u001b[0m\u001b[0mi\u001b[0m\u001b[0;34m)\u001b[0m\u001b[0;34m:\u001b[0m\u001b[0;34m\u001b[0m\u001b[0m\n\u001b[1;32m    193\u001b[0m                 \u001b[0;32mreturn\u001b[0m \u001b[0mi\u001b[0m\u001b[0;34m\u001b[0m\u001b[0m\n",
      "\u001b[0;32m/anaconda3/lib/python3.6/site-packages/jyro/simulator/simulator.py\u001b[0m in \u001b[0;36mintersection\u001b[0;34m(self, other)\u001b[0m\n\u001b[1;32m    145\u001b[0m             \u001b[0;32mreturn\u001b[0m \u001b[0;32mNone\u001b[0m\u001b[0;34m\u001b[0m\u001b[0m\n\u001b[1;32m    146\u001b[0m         \u001b[0;32melif\u001b[0m \u001b[0mself\u001b[0m\u001b[0;34m.\u001b[0m\u001b[0mvertical\u001b[0m\u001b[0;34m:\u001b[0m\u001b[0;34m\u001b[0m\u001b[0m\n\u001b[0;32m--> 147\u001b[0;31m             \u001b[0;32mreturn\u001b[0m \u001b[0mother\u001b[0m\u001b[0;34m.\u001b[0m\u001b[0mintersection\u001b[0m\u001b[0;34m(\u001b[0m\u001b[0mself\u001b[0m\u001b[0;34m)\u001b[0m\u001b[0;34m\u001b[0m\u001b[0m\n\u001b[0m\u001b[1;32m    148\u001b[0m         \u001b[0;32melif\u001b[0m \u001b[0mother\u001b[0m\u001b[0;34m.\u001b[0m\u001b[0mvertical\u001b[0m\u001b[0;34m:\u001b[0m\u001b[0;34m\u001b[0m\u001b[0m\n\u001b[1;32m    149\u001b[0m             return (other.start[0],\n",
      "\u001b[0;32m/anaconda3/lib/python3.6/site-packages/jyro/simulator/simulator.py\u001b[0m in \u001b[0;36mintersection\u001b[0;34m(self, other)\u001b[0m\n\u001b[1;32m    141\u001b[0m     \u001b[0;31m# far enough\u001b[0m\u001b[0;34m\u001b[0m\u001b[0;34m\u001b[0m\u001b[0m\n\u001b[1;32m    142\u001b[0m     \u001b[0;32mdef\u001b[0m \u001b[0mintersection\u001b[0m\u001b[0;34m(\u001b[0m\u001b[0mself\u001b[0m\u001b[0;34m,\u001b[0m \u001b[0mother\u001b[0m\u001b[0;34m)\u001b[0m\u001b[0;34m:\u001b[0m\u001b[0;34m\u001b[0m\u001b[0m\n\u001b[0;32m--> 143\u001b[0;31m         \u001b[0;32mif\u001b[0m \u001b[0mself\u001b[0m\u001b[0;34m.\u001b[0m\u001b[0mparallel\u001b[0m\u001b[0;34m(\u001b[0m\u001b[0mother\u001b[0m\u001b[0;34m)\u001b[0m\u001b[0;34m:\u001b[0m\u001b[0;34m\u001b[0m\u001b[0m\n\u001b[0m\u001b[1;32m    144\u001b[0m             \u001b[0;31m# the segments may intersect eventually, but we don't care\u001b[0m\u001b[0;34m\u001b[0m\u001b[0;34m\u001b[0m\u001b[0m\n\u001b[1;32m    145\u001b[0m             \u001b[0;32mreturn\u001b[0m \u001b[0;32mNone\u001b[0m\u001b[0;34m\u001b[0m\u001b[0m\n",
      "\u001b[0;31mKeyboardInterrupt\u001b[0m: "
     ]
    }
   ],
   "source": [
    "for y in x:\n",
    "    print(measure_displacement_over_distance(y))"
   ]
  },
  {
   "cell_type": "code",
   "execution_count": 64,
   "metadata": {},
   "outputs": [],
   "source": [
    "def save_population(prefix, evolved_pop):\n",
    "    for i, pop in enumerate(evolved_pop):\n",
    "        pickle.dump(pop.deepcopy(), open(prefix + str(i) + '.pkl', 'wb'))\n",
    "def return_population(prefix, num):\n",
    "    evolved = []\n",
    "    for i in range(num):\n",
    "        evolved.append(pickle.load(open(prefix + str(i) + '.pkl', 'rb')))\n",
    "    return evolved\n",
    "def delete_population(prefix, num):\n",
    "    for i in range(num):\n",
    "        os.remove(prefix + str(i) + '.pkl')"
   ]
  },
  {
   "cell_type": "code",
   "execution_count": 72,
   "metadata": {},
   "outputs": [],
   "source": [
    "save_population('displacement', fittest)"
   ]
  },
  {
   "cell_type": "code",
   "execution_count": 168,
   "metadata": {},
   "outputs": [],
   "source": [
    "fittest = return_population('displacement', 30)"
   ]
  },
  {
   "cell_type": "code",
   "execution_count": 71,
   "metadata": {},
   "outputs": [],
   "source": [
    "delete_population('displacement', 30)"
   ]
  },
  {
   "cell_type": "code",
   "execution_count": 246,
   "metadata": {},
   "outputs": [],
   "source": [
    "def run_evolution_with_fitness(pop, num_generations, fitness_func, repopulating_func = tournament_selection):\n",
    "    #build our random population of neural networks\n",
    "    population = pop\n",
    "    evo_fitnesses = []\n",
    "\n",
    "    for i in range(num_generations):\n",
    "        #evaluate the fitnesses using 50 timesteps\n",
    "        fitnesses = [fitness_func(n) for n in population]\n",
    "\n",
    "        #keep track of the mean pop fitnesses\n",
    "        evo_fitnesses.append(np.mean(fitnesses))\n",
    "\n",
    "        #print the generation and the mean fitness we just stuck on the\n",
    "        #evo_fitnesses list\n",
    "        clear_output(wait=True)\n",
    "        display(i, evo_fitnesses[-1])\n",
    "\n",
    "        #do tournament selection\n",
    "        next_pop = repopulating_func(population, fitnesses)\n",
    "\n",
    "        #and mutate the new networks\n",
    "        for net in next_pop:\n",
    "            mutate_network(net, mutation_rate=0.1)\n",
    "\n",
    "        population = next_pop\n",
    "    return population"
   ]
  },
  {
   "cell_type": "code",
   "execution_count": 216,
   "metadata": {},
   "outputs": [
    {
     "data": {
      "text/plain": [
       "24"
      ]
     },
     "metadata": {},
     "output_type": "display_data"
    },
    {
     "data": {
      "text/plain": [
       "7.544696236289764"
      ]
     },
     "metadata": {},
     "output_type": "display_data"
    }
   ],
   "source": [
    "new_fittest = run_evolution_with_fitness(fittest, 25, measure_displacement)"
   ]
  },
  {
   "cell_type": "code",
   "execution_count": 217,
   "metadata": {},
   "outputs": [],
   "source": [
    "new_fittest_sorted = sorted(new_fittest, key = lambda x:(measure_displacement(x)))"
   ]
  },
  {
   "cell_type": "code",
   "execution_count": 271,
   "metadata": {},
   "outputs": [
    {
     "data": {
      "image/svg+xml": [
       "<svg baseProfile=\"full\" height=\"250\" version=\"1.1\" width=\"250\" xmlns=\"http://www.w3.org/2000/svg\" xmlns:ev=\"http://www.w3.org/2001/xml-events\" xmlns:xlink=\"http://www.w3.org/1999/xlink\"><defs /><rect fill=\"#eef3dd\" height=\"250.0\" stroke=\"#bebebe\" stroke-width=\"1\" width=\"250.0\" x=\"0.0\" y=\"0.0\" /><rect fill=\"#bebebe\" height=\"4.552876643910395\" stroke=\"#bebebe\" stroke-width=\"1\" width=\"76.52564405661275\" x=\"168.2660226100539\" y=\"214.1971233560896\" /><rect fill=\"#bebebe\" height=\"5.0640176205532725\" stroke=\"#bebebe\" stroke-width=\"1\" width=\"192.66735446861594\" x=\"5.208333333333333\" y=\"178.26931571278007\" /><rect fill=\"#bebebe\" height=\"5.595394069836516\" stroke=\"#bebebe\" stroke-width=\"1\" width=\"47.89957239312588\" x=\"196.89209427354078\" y=\"142.32127259683014\" /><rect fill=\"#bebebe\" height=\"3.93072994137097\" stroke=\"#bebebe\" stroke-width=\"1\" width=\"62.90656399782052\" x=\"5.208333333333333\" y=\"108.56927005862903\" /><rect fill=\"#bebebe\" height=\"5.816628770375516\" stroke=\"#bebebe\" stroke-width=\"1\" width=\"66.91467403531485\" x=\"5.208333333333333\" y=\"71.2667045629578\" /><rect fill=\"#bebebe\" height=\"3.5485881845651974\" stroke=\"#bebebe\" stroke-width=\"1\" width=\"177.90170884877767\" x=\"66.88995781788898\" y=\"38.11807848210147\" /><circle cx=\"229.16666666666666\" cy=\"20.833333333333332\" fill=\"#ffff00\" r=\"5.208333333333333\" stroke=\"#ffff00\" stroke-width=\"1\" /><line fill=\"#800080\" stroke=\"#add8e6\" stroke-width=\"1\" x1=\"186.5365044926664\" x2=\"179.90230625113918\" y1=\"243.73106844167316\" y2=\"250.0\" /><line fill=\"#800080\" stroke=\"#add8e6\" stroke-width=\"1\" x1=\"185.91345850439413\" x2=\"162.7776455100906\" y1=\"242.3133882348846\" y2=\"250.0\" /><line fill=\"#800080\" stroke=\"#d3d3d3\" stroke-width=\"1\" x1=\"186.08989323023533\" x2=\"20.534970843627598\" y1=\"241.2867723223049\" y2=\"222.068409974226\" /><line fill=\"#800080\" stroke=\"#add8e6\" stroke-width=\"1\" x1=\"186.64071807682072\" x2=\"94.52711456801084\" y1=\"240.04969538472372\" y2=\"183.33333333333334\" /><line fill=\"#800080\" stroke=\"#add8e6\" stroke-width=\"1\" x1=\"188.15495273326223\" x2=\"177.42155493517518\" y1=\"238.61883159560566\" y2=\"218.75\" /><line fill=\"#800080\" stroke=\"#add8e6\" stroke-width=\"1\" x1=\"189.42120947440668\" x2=\"188.27660554660426\" y1=\"238.13887198624522\" y2=\"218.75\" /><line fill=\"#800080\" stroke=\"#add8e6\" stroke-width=\"1\" x1=\"190.45616247371868\" x2=\"198.09438279224636\" y1=\"238.02079686753046\" y2=\"218.75\" /><line fill=\"#800080\" stroke=\"#add8e6\" stroke-width=\"1\" x1=\"191.8363257902117\" x2=\"212.9731225627029\" y1=\"238.72304517976002\" y2=\"218.75\" /><line fill=\"#800080\" stroke=\"#add8e6\" stroke-width=\"1\" x1=\"194.69805336844777\" x2=\"219.03977861848787\" y1=\"241.75151449264305\" y2=\"218.75\" /><line fill=\"#800080\" stroke=\"#add8e6\" stroke-width=\"1\" x1=\"195.32109935672003\" x2=\"250.0\" y1=\"243.1691946994316\" y2=\"225.00274791666666\" /><line fill=\"#800080\" stroke=\"#add8e6\" stroke-width=\"1\" x1=\"195.14466463087882\" x2=\"245.1443596403195\" y1=\"244.1958106120113\" y2=\"250.0\" /><line fill=\"#800080\" stroke=\"#add8e6\" stroke-width=\"1\" x1=\"194.59383978429344\" x2=\"202.01133349866768\" y1=\"245.4328875495925\" y2=\"250.0\" /><line fill=\"#800080\" stroke=\"#add8e6\" stroke-width=\"1\" x1=\"193.07960512785192\" x2=\"194.7738459470139\" y1=\"246.8637513387105\" y2=\"250.0\" /><line fill=\"#800080\" stroke=\"#add8e6\" stroke-width=\"1\" x1=\"191.81334838670747\" x2=\"191.97015960840264\" y1=\"247.34371094807096\" y2=\"250.0\" /><line fill=\"#800080\" stroke=\"#add8e6\" stroke-width=\"1\" x1=\"190.77839538739548\" x2=\"189.77234265100867\" y1=\"247.46178606678572\" y2=\"250.0\" /><line fill=\"#800080\" stroke=\"#add8e6\" stroke-width=\"1\" x1=\"189.39823207090248\" x2=\"185.96896010220308\" y1=\"246.75953775455616\" y2=\"250.0\" /><line fill=\"#800080\" stroke=\"#a020f0\" stroke-width=\"1\" x1=\"229.16666666666666\" x2=\"225.69268707934862\" y1=\"20.833333333333332\" y2=\"38.11807916666665\" /><line fill=\"#800080\" stroke=\"#a020f0\" stroke-width=\"1\" x1=\"229.16666666666666\" x2=\"226.0362488754659\" y1=\"20.833333333333332\" y2=\"38.11807916666665\" /><polygon fill=\"white\" points=\"186.1864476798883,240.47895452145912 185.82107259810738,242.9739511134524 190.11366396546146,247.51665508277694 192.62533473091946,247.29301047544593 195.04811018122587,245.00362841285707 195.41348526300678,242.50863182086377 191.1208938956527,237.96592785153928 188.60922313019472,238.1895724588703\" stroke=\"black\" stroke-width=\"1\" /><polygon points=\"-1.0416666666666667,-1.0416666666666667 0,0 1.0416666666666667,-1.0416666666666667 0,1.0416666666666667\" stroke=\"black\" stroke-width=\"1\" transform=\"translate(190.6172789305571,242.74129146715808) rotate(136.62151573231358)\" /><circle cx=\"184.74792475626884\" cy=\"241.83827512112128\" fill=\"yellow\" r=\"0.5208333333333334\" stroke=\"orange\" stroke-width=\"1\" /><circle cx=\"190.04774605381417\" cy=\"236.83025185920812\" fill=\"yellow\" r=\"0.5208333333333334\" stroke=\"orange\" stroke-width=\"1\" /></svg>"
      ],
      "text/plain": [
       "<jyro.simulator.canvas.Canvas at 0x111f10518>"
      ]
     },
     "metadata": {},
     "output_type": "display_data"
    },
    {
     "name": "stdout",
     "output_type": "stream",
     "text": [
      "[0.0, 0.0]\n"
     ]
    }
   ],
   "source": [
    "sim, robot = setup_world(network_to_brain(new_fittest_sorted[0]))\n",
    "canvas = Canvas((250, 250))\n",
    "\n",
    "for i in range(500):\n",
    "    sim.step(run_brain=True)\n",
    "    sim.draw(canvas)\n",
    "    clear_output(wait=True)\n",
    "    display(canvas)\n",
    "    print(robot[\"light\"].getData())\n",
    "    time.sleep(0.01)\n",
    "    if robot.stall:\n",
    "        break"
   ]
  },
  {
   "cell_type": "code",
   "execution_count": 220,
   "metadata": {},
   "outputs": [],
   "source": [
    "delete_population('distance_over_displacement', 30)\n",
    "save_population('distance_over_displacement', new_fittest_sorted)"
   ]
  },
  {
   "cell_type": "code",
   "execution_count": 253,
   "metadata": {},
   "outputs": [
    {
     "data": {
      "text/plain": [
       "49"
      ]
     },
     "metadata": {},
     "output_type": "display_data"
    },
    {
     "data": {
      "text/plain": [
       "7.3032538812544505"
      ]
     },
     "metadata": {},
     "output_type": "display_data"
    }
   ],
   "source": [
    "distance_to_light_50 = run_evolution_with_fitness(new_fittest, 50, measure_distance_to_light, elitism)"
   ]
  },
  {
   "cell_type": "code",
   "execution_count": 254,
   "metadata": {},
   "outputs": [],
   "source": [
    "distance_to_light_fittest = sorted(distance_to_light_50, key = lambda x:(measure_distance_to_light(x)))"
   ]
  },
  {
   "cell_type": "code",
   "execution_count": 270,
   "metadata": {},
   "outputs": [
    {
     "data": {
      "image/svg+xml": [
       "<svg baseProfile=\"full\" height=\"250\" version=\"1.1\" width=\"250\" xmlns=\"http://www.w3.org/2000/svg\" xmlns:ev=\"http://www.w3.org/2001/xml-events\" xmlns:xlink=\"http://www.w3.org/1999/xlink\"><defs /><rect fill=\"#eef3dd\" height=\"250.0\" stroke=\"#bebebe\" stroke-width=\"1\" width=\"250.0\" x=\"0.0\" y=\"0.0\" /><rect fill=\"#bebebe\" height=\"2.105414794101904\" stroke=\"#bebebe\" stroke-width=\"1\" width=\"152.75251611292273\" x=\"92.03915055374392\" y=\"216.6445852058981\" /><rect fill=\"#bebebe\" height=\"5.942754855942582\" stroke=\"#bebebe\" stroke-width=\"1\" width=\"77.21340854607517\" x=\"5.208333333333333\" y=\"177.39057847739076\" /><rect fill=\"#bebebe\" height=\"5.81256599532972\" stroke=\"#bebebe\" stroke-width=\"1\" width=\"98.7618363935389\" x=\"5.208333333333333\" y=\"142.10410067133694\" /><rect fill=\"#bebebe\" height=\"4.726652408391686\" stroke=\"#bebebe\" stroke-width=\"1\" width=\"137.55455684684898\" x=\"5.208333333333333\" y=\"107.77334759160831\" /><rect fill=\"#bebebe\" height=\"3.8171560587943247\" stroke=\"#bebebe\" stroke-width=\"1\" width=\"109.79526209791351\" x=\"134.99640456875315\" y=\"73.26617727453899\" /><rect fill=\"#bebebe\" height=\"4.1097407280380125\" stroke=\"#bebebe\" stroke-width=\"1\" width=\"202.70584905365425\" x=\"5.208333333333333\" y=\"37.55692593862865\" /><circle cx=\"229.16666666666666\" cy=\"20.833333333333332\" fill=\"#ffff00\" r=\"5.208333333333333\" stroke=\"#ffff00\" stroke-width=\"1\" /><line fill=\"#800080\" stroke=\"#add8e6\" stroke-width=\"1\" x1=\"19.13233583724049\" x2=\"19.093191146905504\" y1=\"148.25187364241395\" y2=\"147.91666666666666\" /><line fill=\"#800080\" stroke=\"#add8e6\" stroke-width=\"1\" x1=\"20.641236800572514\" x2=\"20.86776315254452\" y1=\"148.60004221520293\" y2=\"147.91666666666666\" /><line fill=\"#800080\" stroke=\"#add8e6\" stroke-width=\"1\" x1=\"21.358675246203624\" x2=\"22.716203419123143\" y1=\"149.35525842343395\" y2=\"147.91666666666666\" /><line fill=\"#800080\" stroke=\"#add8e6\" stroke-width=\"1\" x1=\"22.02097850106489\" x2=\"28.617297511661143\" y1=\"150.536411148407\" y2=\"147.91666666666666\" /><line fill=\"#800080\" stroke=\"#d3d3d3\" stroke-width=\"1\" x1=\"22.26262056419742\" x2=\"187.16701256946376\" y1=\"152.605683216334\" y2=\"176.77838011078953\" /><line fill=\"#800080\" stroke=\"#add8e6\" stroke-width=\"1\" x1=\"21.890287785095197\" x2=\"57.58613883816054\" y1=\"153.90765697287333\" y2=\"177.39057916666667\" /><line fill=\"#800080\" stroke=\"#add8e6\" stroke-width=\"1\" x1=\"21.366162989970114\" x2=\"35.29210549478542\" y1=\"154.80785841898387\" y2=\"177.39057916666667\" /><line fill=\"#800080\" stroke=\"#add8e6\" stroke-width=\"1\" x1=\"19.97808305820435\" x2=\"22.53504804934514\" y1=\"155.4943258801584\" y2=\"177.39057916666667\" /><line fill=\"#800080\" stroke=\"#add8e6\" stroke-width=\"1\" x1=\"15.839538922350378\" x2=\"18.340068049788442\" y1=\"155.97761000642348\" y2=\"177.39057916666667\" /><line fill=\"#800080\" stroke=\"#add8e6\" stroke-width=\"1\" x1=\"14.330637959018356\" x2=\"7.117235324411106\" y1=\"155.6294414336345\" y2=\"177.39057916666667\" /><line fill=\"#800080\" stroke=\"#add8e6\" stroke-width=\"1\" x1=\"13.613199513387245\" x2=\"0.0\" y1=\"154.87422522540345\" y2=\"169.30032708333331\" /><line fill=\"#800080\" stroke=\"#add8e6\" stroke-width=\"1\" x1=\"12.95089625852598\" x2=\"0.0\" y1=\"153.6930725004304\" y2=\"158.83655416666664\" /><line fill=\"#800080\" stroke=\"#add8e6\" stroke-width=\"1\" x1=\"12.709254195393447\" x2=\"0.0\" y1=\"151.6238004325034\" y2=\"149.7608\" /><line fill=\"#800080\" stroke=\"#add8e6\" stroke-width=\"1\" x1=\"13.081586974495675\" x2=\"9.425557445180187\" y1=\"150.32182667596408\" y2=\"147.91666666666666\" /><line fill=\"#800080\" stroke=\"#add8e6\" stroke-width=\"1\" x1=\"13.605711769620758\" x2=\"12.677660021746016\" y1=\"149.42162522985353\" y2=\"147.91666666666666\" /><line fill=\"#800080\" stroke=\"#add8e6\" stroke-width=\"1\" x1=\"14.993791701386517\" x2=\"14.898211196784992\" y1=\"148.73515776867902\" y2=\"147.91666666666666\" /><line fill=\"#800080\" stroke=\"#a020f0\" stroke-width=\"1\" x1=\"229.16666666666666\" x2=\"201.87460251819667\" y1=\"20.833333333333332\" y2=\"37.556925\" /><line fill=\"#800080\" stroke=\"#a020f0\" stroke-width=\"1\" x1=\"229.16666666666666\" x2=\"203.45101687755016\" y1=\"20.833333333333332\" y2=\"37.556925\" /><polygon fill=\"white\" points=\"21.94848588212513,149.91562952802892 20.166971871203987,148.1310526108477 13.959155667423023,148.85597880024528 12.636761576453686,151.0030188121253 13.02338887746574,154.3138541208085 14.804902888386884,156.09843103798974 21.01271909216785,155.37350484859212 22.335113183137178,153.2264648367121\" stroke=\"black\" stroke-width=\"1\" /><polygon points=\"-1.0416666666666667,-1.0416666666666667 0,0 1.0416666666666667,-1.0416666666666667 0,1.0416666666666667\" stroke=\"black\" stroke-width=\"1\" transform=\"translate(17.485937379795434,152.1147418244187) rotate(-96.66062562326051)\" /><circle cx=\"21.71892592214922\" cy=\"147.9498210634983\" fill=\"yellow\" r=\"0.5208333333333334\" stroke=\"orange\" stroke-width=\"1\" /><circle cx=\"22.564673143113087\" cy=\"155.19227330124275\" fill=\"yellow\" r=\"0.5208333333333334\" stroke=\"orange\" stroke-width=\"1\" /></svg>"
      ],
      "text/plain": [
       "<jyro.simulator.canvas.Canvas at 0x111e39d30>"
      ]
     },
     "metadata": {},
     "output_type": "display_data"
    },
    {
     "name": "stdout",
     "output_type": "stream",
     "text": [
      "[0.0, 0.0]\n"
     ]
    }
   ],
   "source": [
    "sim, robot = setup_world(network_to_brain(new_fittest[0]))\n",
    "canvas = Canvas((250, 250))\n",
    "\n",
    "for i in range(500):\n",
    "    sim.step(run_brain=True)\n",
    "    sim.draw(canvas)\n",
    "    clear_output(wait=True)\n",
    "    display(canvas)\n",
    "    print(robot[\"light\"].getData())\n",
    "    time.sleep(0.001)\n",
    "    if robot.stall:\n",
    "        break"
   ]
  },
  {
   "cell_type": "code",
   "execution_count": 122,
   "metadata": {},
   "outputs": [
    {
     "data": {
      "text/plain": [
       "(1.2090819207909915, 0.2617321346943963, 0.11657911392967957)"
      ]
     },
     "execution_count": 122,
     "metadata": {},
     "output_type": "execute_result"
    }
   ],
   "source": [
    "robot.getPose()"
   ]
  },
  {
   "cell_type": "code",
   "execution_count": 273,
   "metadata": {},
   "outputs": [
    {
     "data": {
      "text/plain": [
       "[1, 3, 5]"
      ]
     },
     "execution_count": 273,
     "metadata": {},
     "output_type": "execute_result"
    }
   ],
   "source": [
    "sorted([3, 5, 1])"
   ]
  },
  {
   "cell_type": "code",
   "execution_count": null,
   "metadata": {},
   "outputs": [],
   "source": []
  }
 ],
 "metadata": {
  "kernelspec": {
   "display_name": "Python 3",
   "language": "python",
   "name": "python3"
  }
 },
 "nbformat": 4,
 "nbformat_minor": 2
}
