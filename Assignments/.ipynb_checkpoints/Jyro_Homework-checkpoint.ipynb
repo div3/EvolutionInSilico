{
 "cells": [
  {
   "cell_type": "markdown",
   "metadata": {},
   "source": [
    "# Jyro Homework Testbed\n",
    "\n",
    "## I'm giving you the code I'll use to generate random robot worlds for your homework. \n",
    "\n",
    "### The goal of this environment it to get as close to the light source as you can within 500 steps of the simulator using an evolved controller. \n",
    "Note that trying to evolve something using 500 steps from the very begening will take a looonnnggg time (so I don't reccomend it). \n",
    "\n",
    "### You should feel free to manipulate the fitness function, selection methods, recombination, diversity maintenance, and the structure of the neural network brain to try and evolve better robots. \n",
    "\n",
    "### You may also use genetic programing to evolve a brain for this robot, in which case you'll want to also change the kinds of function nodes available to evolution.\n",
    "\n"
   ]
  },
  {
   "cell_type": "code",
   "execution_count": 1,
   "metadata": {},
   "outputs": [],
   "source": [
    "from IPython.display import display, clear_output\n",
    "from jyro.simulator import *\n",
    "import random\n",
    "import numpy as np\n",
    "\n",
    "\n",
    "#Here is the main difference, I'm just random generating some walls\n",
    "#either on the left or right side of the world, evenly spaced along \n",
    "#the length of the world. \n",
    "def add_walls(sim, num_walls):\n",
    "    pos_xs = np.linspace(1.5, 10, num_walls)\n",
    "\n",
    "    for i in range(num_walls):\n",
    "        width = random.uniform(0.1, 0.3)\n",
    "        pos_y1 = random.choice([12-0.25, 0.25])\n",
    "        length = random.uniform(3, 10)\n",
    "        sim.addBox(pos_y1, pos_xs[i], length, pos_xs[i]+width, fill=\"gray\", wallcolor=\"gray\")\n",
    "\n",
    "# We'll create a box for the robot to live in\n",
    "# and a light source\n",
    "def make_world(sim):\n",
    "    sim.addBox(0, 0, 12, 12, fill=\"backgroundgreen\", wallcolor=\"gray\") #bounding box\n",
    "    sim.addLight(11, 11, 1) #paramters are x, y, brightness\n",
    "    add_walls(sim, 6)\n",
    "    \n",
    "#We'll give our robot the 16 sonar distance sensors, some light sensors\n",
    "class MyPioneer(Pioneer):\n",
    "    def __init__(self, name, x, y, angle):\n",
    "        Pioneer.__init__(self, name, x, y, angle)\n",
    "        self.addDevice(Pioneer16Sonars())\n",
    "        #parameter defines max range in meters\n",
    "        self.addDevice(PioneerFrontLightSensors(3))\n",
    "        \n",
    "    def move(self, linear, rotational):\n",
    "        if -1 > linear > 1 or -1 > rotational > 1:\n",
    "            super().move(random.uniform(-1, 1), random.uniform(-1, 1))\n",
    "            print(\"moving randomly!\")\n",
    "        else:\n",
    "            super().move(linear, rotational)\n",
    "        \n",
    "\n",
    "\n",
    "def setup_world(robot_brain):\n",
    "    robot = MyPioneer(\"Johnny\", 1, 1, 0)\n",
    "    sim = Physics()\n",
    "    make_world(sim)\n",
    "    sim.addRobot(robot)\n",
    "    robot.brain = robot_brain\n",
    "    return sim, robot"
   ]
  },
  {
   "cell_type": "markdown",
   "metadata": {},
   "source": [
    "### Same neural network code from before"
   ]
  },
  {
   "cell_type": "code",
   "execution_count": 2,
   "metadata": {},
   "outputs": [],
   "source": [
    "class SimpleNeuralNet():\n",
    "    #This is our squashing function\n",
    "    #I changed this to the hyperbolic tangent function that\n",
    "    #returns values in (-1, 1)\n",
    "    def activation_function(self, x):\n",
    "        return np.tanh(x)\n",
    "    \n",
    "    #this should look familiar, just a way to create a copy of \n",
    "    #the network without worying about pesky reference \n",
    "    def deepcopy(self):\n",
    "        new_net = SimpleNeuralNet(self.num_inputs, self.num_outputs, self.layer_node_counts)\n",
    "        new_net.layers = [np.copy(layer) for layer in self.layers]\n",
    "        return new_net\n",
    "    \n",
    "    #this is where the neural network does its computation!\n",
    "    def execute(self, input_vector):\n",
    "        # First we need to make sure we're getting the right\n",
    "        # number of inputs into our neural network.\n",
    "        assert len(input_vector) == self.num_inputs ,\\\n",
    "        \"wrong input vector size\"\n",
    "\n",
    "        # create a temporary variable to hold the values that should go\n",
    "        # into the next layer of the network.\n",
    "        # **at the start, this will just be our input**\n",
    "        next_v = input_vector\n",
    "\n",
    "        # iterate through layers, computing the activation\n",
    "        # of the weighted inputs from the previous layer\n",
    "        for layer in self.layers:\n",
    "            # add a bias to each layer [1]\n",
    "            next_v = np.append(next_v, 1)\n",
    "            \n",
    "            # pump the input vector through the matrix multiplication\n",
    "            # and our activation function\n",
    "            next_v = self.activation_function(np.dot(next_v, layer))\n",
    "            \n",
    "        return next_v\n",
    "        \n",
    "    def __init__(self, num_inputs, num_outputs, layer_node_counts=[]):\n",
    "        self.num_inputs = num_inputs\n",
    "        self.layer_node_counts = layer_node_counts\n",
    "        self.num_outputs = num_outputs\n",
    "        self.layers = []\n",
    "        \n",
    "        last_num_neurons = self.num_inputs\n",
    "        for nc in layer_node_counts + [num_outputs]:\n",
    "            # for now, we'll just use random weights in the range [-5,5]\n",
    "            # +1 handles adding a bias node for each layer of nodes\n",
    "            self.layers.append(np.random.uniform(-5, 5, size=(last_num_neurons+1, nc)))\n",
    "            last_num_neurons = nc\n",
    "    "
   ]
  },
  {
   "cell_type": "markdown",
   "metadata": {},
   "source": [
    "## If you were going to use genetic programing, you'll have to change this code to generate a random GP tree instead of a random neural network"
   ]
  },
  {
   "cell_type": "code",
   "execution_count": 3,
   "metadata": {},
   "outputs": [],
   "source": [
    "def network_to_brain(simple_net):\n",
    "    \n",
    "    #Define the brain function for jyro\n",
    "    def neural_brain(a_robot):\n",
    "        sonar_sensors = a_robot[\"sonar\"].getData()\n",
    "        light_sensors = a_robot[\"light\"].getData()\n",
    "        \n",
    "        #combine the sonar and light inputs\n",
    "        combined_input = sonar_sensors + light_sensors\n",
    "\n",
    "        network = simple_net\n",
    "\n",
    "        #run the neural network with the combined input values\n",
    "        output = network.execute(combined_input)\n",
    "        \n",
    "        #use the output of the network to move the robot\n",
    "        a_robot.move(output[0], output[1])\n",
    "\n",
    "    return neural_brain"
   ]
  },
  {
   "cell_type": "markdown",
   "metadata": {},
   "source": [
    "# And here are the functions you'll most likely want to play with to get better evolved robots."
   ]
  },
  {
   "cell_type": "code",
   "execution_count": 37,
   "metadata": {},
   "outputs": [],
   "source": [
    "def tournament_selection(population, fitnesses, tournament_size=3):\n",
    "    sample_pop_idxs = np.random.choice(range(len(population)), size=tournament_size)\n",
    "    tourny_winner_idx = np.argmax(np.array(fitnesses)[sample_pop_idxs])\n",
    "    winner_pop_idx = sample_pop_idxs[tourny_winner_idx]\n",
    "\n",
    "    return population[winner_pop_idx]\n",
    "   "
   ]
  },
  {
   "cell_type": "code",
   "execution_count": 38,
   "metadata": {},
   "outputs": [],
   "source": [
    "def mutate_network(simple_net, mutation_rate=1E-3, mutation_effect_size=2):\n",
    "    for layer_to_mut in simple_net.layers:\n",
    "        dims = layer_to_mut.shape\n",
    "        num_mutations = np.random.binomial(dims[0]*dims[1], mutation_rate)\n",
    "        for i in range(num_mutations): \n",
    "            rand_i = np.random.randint(0, dims[0])\n",
    "            rand_j = np.random.randint(0, dims[1])\n",
    "            layer_to_mut[rand_i, rand_j] += np.random.normal(scale=mutation_effect_size)"
   ]
  },
  {
   "cell_type": "code",
   "execution_count": 39,
   "metadata": {},
   "outputs": [],
   "source": [
    "def measure_neuralnet_fitness(simple_net, iterations=100):\n",
    "    this_brain = network_to_brain(simple_net)\n",
    "    sim, robot = setup_world(this_brain)\n",
    "    \n",
    "    distance_moved = 0\n",
    "    \n",
    "    #reset the robot's position\n",
    "    robot.setPose(1, 1, 0)\n",
    "    robot.reset()\n",
    "    \n",
    "    #iterate through the simulation\n",
    "    for i in range(iterations):        \n",
    "        #but if the robot's stuck, end early!\n",
    "        if robot.stall:\n",
    "            break\n",
    "            \n",
    "        #move the robot\n",
    "        cur_pos = robot.getPose()\n",
    "        sim.step(run_brain=True)\n",
    "        next_pos = robot.getPose()\n",
    "        \n",
    "        #and keep track of how far it moved\n",
    "        distance_moved += np.linalg.norm(np.array(cur_pos[0:2]) - np.array(next_pos[0:2]))\n",
    "    \n",
    "    final_pos = robot.getPose()\n",
    "    #return distance_moved\n",
    "    return np.linalg.norm(np.array([1,1])-np.array(final_pos[0:2]))"
   ]
  },
  {
   "cell_type": "code",
   "execution_count": 40,
   "metadata": {},
   "outputs": [],
   "source": [
    "def run_evolution(pop_size, num_generations):\n",
    "    #build our random population of neural networks\n",
    "    population = [SimpleNeuralNet(18,2,[10]) for _ in range(pop_size)]\n",
    "    evo_fitnesses = []\n",
    "\n",
    "    for i in range(num_generations):\n",
    "        #evaluate the fitnesses using 50 timesteps\n",
    "        fitnesses = [measure_neuralnet_fitness(n) for n in population]\n",
    "\n",
    "        #keep track of the mean pop fitnesses\n",
    "        evo_fitnesses.append(np.mean(fitnesses))\n",
    "\n",
    "        #print the generation and the mean fitness we just stuck on the\n",
    "        #evo_fitnesses list\n",
    "        clear_output(wait=True)\n",
    "        display(i, evo_fitnesses[-1])\n",
    "\n",
    "        #do tournament selection\n",
    "        next_pop = [tournament_selection(population, fitnesses).deepcopy() for _ in range(pop_size)]\n",
    "\n",
    "        #and mutate the new networks\n",
    "        for net in next_pop:\n",
    "            mutate_network(net, mutation_rate=0.01)\n",
    "\n",
    "        population = next_pop\n",
    "    return population"
   ]
  },
  {
   "cell_type": "markdown",
   "metadata": {},
   "source": [
    "# These functions will work, but are probably not going to evolve very good robots. We can run them and visualize the output though."
   ]
  },
  {
   "cell_type": "code",
   "execution_count": 41,
   "metadata": {},
   "outputs": [
    {
     "data": {
      "image/svg+xml": [
       "<svg baseProfile=\"full\" height=\"250\" version=\"1.1\" width=\"250\" xmlns=\"http://www.w3.org/2000/svg\" xmlns:ev=\"http://www.w3.org/2001/xml-events\" xmlns:xlink=\"http://www.w3.org/1999/xlink\"><defs /><rect fill=\"#eef3dd\" height=\"250.0\" stroke=\"#bebebe\" stroke-width=\"1\" width=\"250.0\" x=\"0.0\" y=\"0.0\" /><rect fill=\"#bebebe\" height=\"2.18303736899\" stroke=\"#bebebe\" stroke-width=\"1\" width=\"119.61642203986673\" x=\"125.17524462679992\" y=\"216.566962631\" /><rect fill=\"#bebebe\" height=\"3.69768479355\" stroke=\"#bebebe\" stroke-width=\"1\" width=\"113.08170538272294\" x=\"5.208333333333333\" y=\"179.63564854\" /><rect fill=\"#bebebe\" height=\"2.19032872996\" stroke=\"#bebebe\" stroke-width=\"1\" width=\"158.43126076775297\" x=\"86.36040589891368\" y=\"145.726337937\" /><rect fill=\"#bebebe\" height=\"4.51376089612\" stroke=\"#bebebe\" stroke-width=\"1\" width=\"120.6581551023534\" x=\"5.208333333333333\" y=\"107.986239104\" /><rect fill=\"#bebebe\" height=\"2.10590246764\" stroke=\"#bebebe\" stroke-width=\"1\" width=\"113.00147620048875\" x=\"131.7901904661779\" y=\"74.9774308657\" /><rect fill=\"#bebebe\" height=\"3.65285243708\" stroke=\"#bebebe\" stroke-width=\"1\" width=\"45.36361566726313\" x=\"199.42805099940352\" y=\"38.0138142296\" /><circle cx=\"229.16666666666666\" cy=\"20.833333333333332\" fill=\"#ffff00\" r=\"5.208333333333333\" stroke=\"#ffff00\" stroke-width=\"1\" /><line fill=\"#800080\" stroke=\"#add8e6\" stroke-width=\"1\" x1=\"8.71881617323\" x2=\"0.0\" y1=\"186.604361339\" y2=\"186.743508333\" /><line fill=\"#800080\" stroke=\"#add8e6\" stroke-width=\"1\" x1=\"9.21631192986\" x2=\"0.0\" y1=\"185.137902528\" y2=\"181.0180125\" /><line fill=\"#800080\" stroke=\"#add8e6\" stroke-width=\"1\" x1=\"10.0395657594\" x2=\"9.02873135016\" y1=\"184.499684245\" y2=\"183.333333333\" /><line fill=\"#800080\" stroke=\"#add8e6\" stroke-width=\"1\" x1=\"11.2810954351\" x2=\"11.1027091822\" y1=\"183.958970434\" y2=\"183.333333333\" /><line fill=\"#800080\" stroke=\"#add8e6\" stroke-width=\"1\" x1=\"13.3641635018\" x2=\"13.5128037413\" y1=\"183.925725777\" y2=\"183.333333333\" /><line fill=\"#800080\" stroke=\"#add8e6\" stroke-width=\"1\" x1=\"14.6223155061\" x2=\"15.5102898928\" y1=\"184.426545999\" y2=\"183.333333333\" /><line fill=\"#800080\" stroke=\"#add8e6\" stroke-width=\"1\" x1=\"15.46551613\" x2=\"18.9742527575\" y1=\"185.038168556\" y2=\"183.333333333\" /><line fill=\"#800080\" stroke=\"#d3d3d3\" stroke-width=\"1\" x1=\"16.0095544067\" x2=\"182.654999743\" y1=\"186.488005039\" y2=\"183.828432461\" /><line fill=\"#800080\" stroke=\"#d3d3d3\" stroke-width=\"1\" x1=\"16.0760437211\" x2=\"182.721489058\" y1=\"190.654141172\" y2=\"187.994568595\" /><line fill=\"#800080\" stroke=\"#add8e6\" stroke-width=\"1\" x1=\"15.5785479645\" x2=\"145.056464299\" y1=\"192.120599983\" y2=\"250.0\" /><line fill=\"#800080\" stroke=\"#add8e6\" stroke-width=\"1\" x1=\"14.755294135\" x2=\"64.3642291941\" y1=\"192.758818266\" y2=\"250.0\" /><line fill=\"#800080\" stroke=\"#add8e6\" stroke-width=\"1\" x1=\"13.5137644593\" x2=\"29.6806536471\" y1=\"193.299532077\" y2=\"250.0\" /><line fill=\"#800080\" stroke=\"#add8e6\" stroke-width=\"1\" x1=\"11.4306963926\" x2=\"0.0\" y1=\"193.332776734\" y2=\"238.8885125\" /><line fill=\"#800080\" stroke=\"#add8e6\" stroke-width=\"1\" x1=\"10.1725443882\" x2=\"0.0\" y1=\"192.831956512\" y2=\"205.35566875\" /><line fill=\"#800080\" stroke=\"#add8e6\" stroke-width=\"1\" x1=\"9.32934376439\" x2=\"0.0\" y1=\"192.220333955\" y2=\"196.753304167\" /><line fill=\"#800080\" stroke=\"#add8e6\" stroke-width=\"1\" x1=\"8.78530548767\" x2=\"0.0\" y1=\"190.770497472\" y2=\"190.91070625\" /><line fill=\"#800080\" stroke=\"#a020f0\" stroke-width=\"1\" x1=\"229.16666666666666\" x2=\"205.950515421\" y1=\"20.833333333333332\" y2=\"38.0138145833\" /><line fill=\"#800080\" stroke=\"#a020f0\" stroke-width=\"1\" x1=\"229.16666666666666\" x2=\"206.702166578\" y1=\"20.833333333333332\" y2=\"38.0138145833\" /><polygon fill=\"white\" points=\"10.6561750151,183.968943831 8.70219384463,185.562827306 8.80192781627,191.812031506 10.8057759726,193.342750131 14.1386848793,193.28955868 16.0926660498,191.695675205 15.9929320781,185.446471005 13.9890839218,183.91575238\" stroke=\"black\" stroke-width=\"1\" /><polygon points=\"-1.0416666666666667,-1.0416666666666667 0,0 1.0416666666666667,-1.0416666666666667 0,1.0416666666666667\" stroke=\"black\" stroke-width=\"1\" transform=\"translate(12.3974299472,188.629251255) rotate(179.085667489)\" /><circle cx=\"8.67726035171\" cy=\"184.000526256\" fill=\"yellow\" r=\"0.5208333333333334\" stroke=\"orange\" stroke-width=\"1\" /><circle cx=\"15.9679985852\" cy=\"183.884169955\" fill=\"yellow\" r=\"0.5208333333333334\" stroke=\"orange\" stroke-width=\"1\" /></svg>"
      ],
      "text/plain": [
       "<jyro.simulator.canvas.Canvas at 0x10d0a9f98>"
      ]
     },
     "metadata": {},
     "output_type": "display_data"
    }
   ],
   "source": [
    "#evolve \n",
    "evolved_pop = run_evolution(pop_size=20, num_generations=20)\n",
    "\n",
    "#let's visualize the first individual in the population\n",
    "#Note there is no reason to expect this is the best individual!\n",
    "sim, robot = setup_world(network_to_brain(evolved_pop[0]))\n",
    "canvas = Canvas((250, 250))\n",
    "\n",
    "for i in range(500):\n",
    "    sim.step(run_brain=True)\n",
    "    sim.draw(canvas)\n",
    "    clear_output(wait=True)\n",
    "    display(canvas)\n",
    "    time.sleep(.085)"
   ]
  },
  {
   "cell_type": "markdown",
   "metadata": {},
   "source": [
    "# To save your robot brain, we'll use the python `pickle` module. \n",
    "## This lets us pass a copy of our brain, and an opened file to save the object. "
   ]
  },
  {
   "cell_type": "code",
   "execution_count": 42,
   "metadata": {},
   "outputs": [],
   "source": [
    "import pickle\n",
    "\n",
    "#copy the network when we pickle it\n",
    "pickle.dump(evolved_pop[0].deepcopy(), open('my_robot_brain.pkl', 'wb'))"
   ]
  },
  {
   "cell_type": "markdown",
   "metadata": {},
   "source": [
    "## Then, we can use `pickle.load` to read the file, and reconstruct the network object we need to control the robot! "
   ]
  },
  {
   "cell_type": "code",
   "execution_count": 43,
   "metadata": {},
   "outputs": [
    {
     "name": "stdout",
     "output_type": "stream",
     "text": [
      "<__main__.SimpleNeuralNet object at 0x10ce03080>\n"
     ]
    }
   ],
   "source": [
    "loaded_brain = pickle.load(open('my_robot_brain.pkl', 'rb'))\n",
    "print(loaded_brain)"
   ]
  },
  {
   "cell_type": "markdown",
   "metadata": {},
   "source": [
    "## And now we can put that loaded in brain into a robot and run it!"
   ]
  },
  {
   "cell_type": "code",
   "execution_count": 44,
   "metadata": {},
   "outputs": [
    {
     "data": {
      "image/svg+xml": [
       "<svg baseProfile=\"full\" height=\"250\" version=\"1.1\" width=\"250\" xmlns=\"http://www.w3.org/2000/svg\" xmlns:ev=\"http://www.w3.org/2001/xml-events\" xmlns:xlink=\"http://www.w3.org/1999/xlink\"><defs /><rect fill=\"#eef3dd\" height=\"250.0\" stroke=\"#bebebe\" stroke-width=\"1\" width=\"250.0\" x=\"0.0\" y=\"0.0\" /><rect fill=\"#bebebe\" height=\"2.90580857204\" stroke=\"#bebebe\" stroke-width=\"1\" width=\"67.43505393251647\" x=\"177.3566127341502\" y=\"215.844191428\" /><rect fill=\"#bebebe\" height=\"4.79816989071\" stroke=\"#bebebe\" stroke-width=\"1\" width=\"127.32257034115683\" x=\"117.46909632550982\" y=\"178.535163443\" /><rect fill=\"#bebebe\" height=\"3.43920159201\" stroke=\"#bebebe\" stroke-width=\"1\" width=\"94.9609427651517\" x=\"5.208333333333333\" y=\"144.477465075\" /><rect fill=\"#bebebe\" height=\"5.74349875948\" stroke=\"#bebebe\" stroke-width=\"1\" width=\"37.563072841475986\" x=\"207.22859382519067\" y=\"106.756501241\" /><rect fill=\"#bebebe\" height=\"5.00374591158\" stroke=\"#bebebe\" stroke-width=\"1\" width=\"96.37306797279183\" x=\"148.41859869387483\" y=\"72.0795874217\" /><rect fill=\"#bebebe\" height=\"3.30129875352\" stroke=\"#bebebe\" stroke-width=\"1\" width=\"203.06568643456197\" x=\"5.208333333333333\" y=\"38.3653679131\" /><circle cx=\"229.16666666666666\" cy=\"20.833333333333332\" fill=\"#ffff00\" r=\"5.208333333333333\" stroke=\"#ffff00\" stroke-width=\"1\" /><line fill=\"#800080\" stroke=\"#add8e6\" stroke-width=\"1\" x1=\"13.8574436384\" x2=\"21.6843509301\" y1=\"153.741948311\" y2=\"147.916666667\" /><line fill=\"#800080\" stroke=\"#add8e6\" stroke-width=\"1\" x1=\"14.3103282529\" x2=\"49.7179678484\" y1=\"155.222792327\" y2=\"147.916666667\" /><line fill=\"#800080\" stroke=\"#add8e6\" stroke-width=\"1\" x1=\"14.0149820217\" x2=\"117.46909583333333\" y1=\"156.221711767\" y2=\"180.755483605\" /><line fill=\"#800080\" stroke=\"#add8e6\" stroke-width=\"1\" x1=\"13.3231915496\" x2=\"130.420518055\" y1=\"157.385839468\" y2=\"250.0\" /><line fill=\"#800080\" stroke=\"#add8e6\" stroke-width=\"1\" x1=\"11.6519342514\" x2=\"47.9368054747\" y1=\"158.629695095\" y2=\"250.0\" /><line fill=\"#800080\" stroke=\"#add8e6\" stroke-width=\"1\" x1=\"10.3382159657\" x2=\"5.02334862972\" y1=\"158.958194147\" y2=\"250.0\" /><line fill=\"#800080\" stroke=\"#add8e6\" stroke-width=\"1\" x1=\"9.29655635831\" x2=\"0.0\" y1=\"158.954359208\" y2=\"176.19035\" /><line fill=\"#800080\" stroke=\"#add8e6\" stroke-width=\"1\" x1=\"8.0080430948\" x2=\"0.0\" y1=\"158.095443006\" y2=\"164.0555375\" /><line fill=\"#800080\" stroke=\"#add8e6\" stroke-width=\"1\" x1=\"5.52033184062\" x2=\"0.0\" y1=\"154.75292841\" y2=\"158.861510417\" /><line fill=\"#800080\" stroke=\"#add8e6\" stroke-width=\"1\" x1=\"5.06744722621\" x2=\"0.0\" y1=\"153.272084394\" y2=\"154.31771875\" /><line fill=\"#800080\" stroke=\"#add8e6\" stroke-width=\"1\" x1=\"5.36279345735\" x2=\"0.0\" y1=\"152.273164954\" y2=\"151.001397917\" /><line fill=\"#800080\" stroke=\"#add8e6\" stroke-width=\"1\" x1=\"6.05458392949\" x2=\"0.0\" y1=\"151.109037253\" y2=\"146.320370833\" /><line fill=\"#800080\" stroke=\"#add8e6\" stroke-width=\"1\" x1=\"7.72584122768\" x2=\"6.95204982237\" y1=\"149.865181626\" y2=\"147.916666667\" /><line fill=\"#800080\" stroke=\"#add8e6\" stroke-width=\"1\" x1=\"9.03955951336\" x2=\"9.13413424151\" y1=\"149.536682574\" y2=\"147.916666667\" /><line fill=\"#800080\" stroke=\"#add8e6\" stroke-width=\"1\" x1=\"10.0812191208\" x2=\"10.9570732172\" y1=\"149.540517513\" y2=\"147.916666667\" /><line fill=\"#800080\" stroke=\"#add8e6\" stroke-width=\"1\" x1=\"11.3697323843\" x2=\"14.7056052333\" y1=\"150.399433715\" y2=\"147.916666667\" /><line fill=\"#800080\" stroke=\"#a020f0\" stroke-width=\"1\" x1=\"229.16666666666666\" x2=\"201.406562415\" y1=\"20.833333333333332\" y2=\"38.36536875\" /><line fill=\"#800080\" stroke=\"#a020f0\" stroke-width=\"1\" x1=\"229.16666666666666\" x2=\"201.537895901\" y1=\"20.833333333333332\" y2=\"38.36536875\" /><polygon fill=\"white\" points=\"13.824568739,157.01268278 14.479371452,154.57757696 10.7478045707,149.563805066 8.22721841714,149.492024938 5.55320674004,151.482193941 4.89840402708,153.917299761 8.62997090834,158.931071655 11.1505570619,159.002851783\" stroke=\"black\" stroke-width=\"1\" /><polygon points=\"-1.0416666666666667,-1.0416666666666667 0,0 1.0416666666666667,-1.0416666666666667 0,1.0416666666666667\" stroke=\"black\" stroke-width=\"1\" transform=\"translate(9.68888773953,154.24743836) rotate(-36.6589604036)\" /><circle cx=\"15.4122631723\" cy=\"155.831019934\" fill=\"yellow\" r=\"0.5208333333333334\" stroke=\"orange\" stroke-width=\"1\" /><circle cx=\"9.56286262866\" cy=\"160.184514629\" fill=\"yellow\" r=\"0.5208333333333334\" stroke=\"orange\" stroke-width=\"1\" /></svg>"
      ],
      "text/plain": [
       "<jyro.simulator.canvas.Canvas at 0x107cf2ac8>"
      ]
     },
     "metadata": {},
     "output_type": "display_data"
    }
   ],
   "source": [
    "sim, robot = setup_world(network_to_brain(loaded_brain))\n",
    "canvas = Canvas((250, 250))\n",
    "\n",
    "for i in range(500):\n",
    "    sim.step(run_brain=True)\n",
    "    sim.draw(canvas)\n",
    "    clear_output(wait=True)\n",
    "    display(canvas)\n",
    "    time.sleep(.085)"
   ]
  },
  {
   "cell_type": "markdown",
   "metadata": {},
   "source": [
    "# Homework!\n",
    "## You should turn in a pickled robot brain, and a jupyter notebook that unpickles and runs your robot (just like the above code cell). That way, I know I have the right version of whatever required classes make up your brain."
   ]
  },
  {
   "cell_type": "code",
   "execution_count": null,
   "metadata": {},
   "outputs": [],
   "source": []
  }
 ],
 "metadata": {
  "kernelspec": {
   "display_name": "Python 3",
   "language": "python",
   "name": "python3"
  },
  "language_info": {
   "codemirror_mode": {
    "name": "ipython",
    "version": 3
   },
   "file_extension": ".py",
   "mimetype": "text/x-python",
   "name": "python",
   "nbconvert_exporter": "python",
   "pygments_lexer": "ipython3",
   "version": "3.6.4"
  }
 },
 "nbformat": 4,
 "nbformat_minor": 2
}
