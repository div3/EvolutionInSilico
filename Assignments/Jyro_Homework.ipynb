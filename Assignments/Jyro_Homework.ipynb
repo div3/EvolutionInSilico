{
 "cells": [
  {
   "cell_type": "markdown",
   "metadata": {},
   "source": [
    "# Jyro Homework Testbed\n",
    "\n",
    "## I'm giving you the code I'll use to generate random robot worlds for your homework. \n",
    "\n",
    "### The goal of this environment it to get as close to the light source as you can within 500 steps of the simulator using an evolved controller. \n",
    "Note that trying to evolve something using 500 steps from the very begening will take a looonnnggg time (so I don't reccomend it). \n",
    "\n",
    "### You should feel free to manipulate the fitness function, selection methods, recombination, diversity maintenance, and the structure of the neural network brain to try and evolve better robots. \n",
    "\n",
    "### You may also use genetic programing to evolve a brain for this robot, in which case you'll want to also change the kinds of function nodes available to evolution.\n",
    "\n"
   ]
  },
  {
   "cell_type": "code",
   "execution_count": 1,
   "metadata": {},
   "outputs": [],
   "source": [
    "from IPython.display import display, clear_output\n",
    "from jyro.simulator import *\n",
    "import random\n",
    "import numpy as np\n",
    "\n",
    "\n",
    "#Here is the main difference, I'm just random generating some walls\n",
    "#either on the left or right side of the world, evenly spaced along \n",
    "#the length of the world. \n",
    "def add_walls(sim, num_walls):\n",
    "    pos_xs = np.linspace(1.5, 10, num_walls)\n",
    "\n",
    "    for i in range(num_walls):\n",
    "        width = random.uniform(0.1, 0.3)\n",
    "        pos_y1 = random.choice([12-0.25, 0.25])\n",
    "        length = random.uniform(3, 10)\n",
    "        sim.addBox(pos_y1, pos_xs[i], length, pos_xs[i]+width, fill=\"gray\", wallcolor=\"gray\")\n",
    "\n",
    "# We'll create a box for the robot to live in\n",
    "# and a light source\n",
    "def make_world(sim):\n",
    "    sim.addBox(0, 0, 12, 12, fill=\"backgroundgreen\", wallcolor=\"gray\") #bounding box\n",
    "    sim.addLight(11, 11, 1) #paramters are x, y, brightness\n",
    "    add_walls(sim, 6)\n",
    "    \n",
    "#We'll give our robot the 16 sonar distance sensors, some light sensors\n",
    "class MyPioneer(Pioneer):\n",
    "    def __init__(self, name, x, y, angle):\n",
    "        Pioneer.__init__(self, name, x, y, angle)\n",
    "        self.addDevice(Pioneer16Sonars())\n",
    "        #parameter defines max range in meters\n",
    "        self.addDevice(PioneerFrontLightSensors(3))\n",
    "        \n",
    "    def move(self, linear, rotational):\n",
    "        if -1 > linear > 1 or -1 > rotational > 1:\n",
    "            super().move(random.uniform(-1, 1), random.uniform(-1, 1))\n",
    "            print(\"moving randomly!\")\n",
    "        else:\n",
    "            super().move(linear, rotational)\n",
    "        \n",
    "\n",
    "\n",
    "def setup_world(robot_brain):\n",
    "    robot = MyPioneer(\"Johnny\", 1, 1, 0)\n",
    "    sim = Physics()\n",
    "    make_world(sim)\n",
    "    sim.addRobot(robot)\n",
    "    robot.brain = robot_brain\n",
    "    return sim, robot"
   ]
  },
  {
   "cell_type": "markdown",
   "metadata": {},
   "source": [
    "### Same neural network code from before"
   ]
  },
  {
   "cell_type": "code",
   "execution_count": 2,
   "metadata": {},
   "outputs": [],
   "source": [
    "class SimpleNeuralNet():\n",
    "    #This is our squashing function\n",
    "    #I changed this to the hyperbolic tangent function that\n",
    "    #returns values in (-1, 1)\n",
    "    def activation_function(self, x):\n",
    "        return np.tanh(x)\n",
    "    \n",
    "    #this should look familiar, just a way to create a copy of \n",
    "    #the network without worying about pesky reference \n",
    "    def deepcopy(self):\n",
    "        new_net = SimpleNeuralNet(self.num_inputs, self.num_outputs, self.layer_node_counts)\n",
    "        new_net.layers = [np.copy(layer) for layer in self.layers]\n",
    "        return new_net\n",
    "    \n",
    "    #this is where the neural network does its computation!\n",
    "    def execute(self, input_vector):\n",
    "        # First we need to make sure we're getting the right\n",
    "        # number of inputs into our neural network.\n",
    "        assert len(input_vector) == self.num_inputs ,\\\n",
    "        \"wrong input vector size\"\n",
    "\n",
    "        # create a temporary variable to hold the values that should go\n",
    "        # into the next layer of the network.\n",
    "        # **at the start, this will just be our input**\n",
    "        next_v = input_vector\n",
    "\n",
    "        # iterate through layers, computing the activation\n",
    "        # of the weighted inputs from the previous layer\n",
    "        for layer in self.layers:\n",
    "            # add a bias to each layer [1]\n",
    "            next_v = np.append(next_v, 1)\n",
    "            \n",
    "            # pump the input vector through the matrix multiplication\n",
    "            # and our activation function\n",
    "            next_v = self.activation_function(np.dot(next_v, layer))\n",
    "            \n",
    "        return next_v\n",
    "        \n",
    "    def __init__(self, num_inputs, num_outputs, layer_node_counts=[]):\n",
    "        self.num_inputs = num_inputs\n",
    "        self.layer_node_counts = layer_node_counts\n",
    "        self.num_outputs = num_outputs\n",
    "        self.layers = []\n",
    "        \n",
    "        last_num_neurons = self.num_inputs\n",
    "        for nc in layer_node_counts + [num_outputs]:\n",
    "            # for now, we'll just use random weights in the range [-5,5]\n",
    "            # +1 handles adding a bias node for each layer of nodes\n",
    "            self.layers.append(np.random.uniform(-5, 5, size=(last_num_neurons+1, nc)))\n",
    "            last_num_neurons = nc\n",
    "    "
   ]
  },
  {
   "cell_type": "markdown",
   "metadata": {},
   "source": [
    "## If you were going to use genetic programing, you'll have to change this code to generate a random GP tree instead of a random neural network"
   ]
  },
  {
   "cell_type": "code",
   "execution_count": 3,
   "metadata": {},
   "outputs": [],
   "source": [
    "def network_to_brain(simple_net):\n",
    "    \n",
    "    #Define the brain function for jyro\n",
    "    def neural_brain(a_robot):\n",
    "        sonar_sensors = a_robot[\"sonar\"].getData()\n",
    "        light_sensors = a_robot[\"light\"].getData()\n",
    "        \n",
    "        #combine the sonar and light inputs\n",
    "        combined_input = sonar_sensors + light_sensors\n",
    "\n",
    "        network = simple_net\n",
    "\n",
    "        #run the neural network with the combined input values\n",
    "        output = network.execute(combined_input)\n",
    "        \n",
    "        #use the output of the network to move the robot\n",
    "        a_robot.move(output[0], output[1])\n",
    "\n",
    "    return neural_brain"
   ]
  },
  {
   "cell_type": "markdown",
   "metadata": {},
   "source": [
    "# And here are the functions you'll most likely want to play with to get better evolved robots."
   ]
  },
  {
   "cell_type": "code",
   "execution_count": 4,
   "metadata": {},
   "outputs": [],
   "source": [
    "def tournament_selection(population, fitnesses, tournament_size=3):\n",
    "    sample_pop_idxs = np.random.choice(range(len(population)), size=tournament_size)\n",
    "    tourny_winner_idx = np.argmax(np.array(fitnesses)[sample_pop_idxs])\n",
    "    winner_pop_idx = sample_pop_idxs[tourny_winner_idx]\n",
    "\n",
    "    return population[winner_pop_idx]\n",
    "   "
   ]
  },
  {
   "cell_type": "code",
   "execution_count": 5,
   "metadata": {},
   "outputs": [],
   "source": [
    "def mutate_network(simple_net, mutation_rate=1E-3, mutation_effect_size=2):\n",
    "    for layer_to_mut in simple_net.layers:\n",
    "        dims = layer_to_mut.shape\n",
    "        num_mutations = np.random.binomial(dims[0]*dims[1], mutation_rate)\n",
    "        for i in range(num_mutations): \n",
    "            rand_i = np.random.randint(0, dims[0])\n",
    "            rand_j = np.random.randint(0, dims[1])\n",
    "            layer_to_mut[rand_i, rand_j] += np.random.normal(scale=mutation_effect_size)"
   ]
  },
  {
   "cell_type": "code",
   "execution_count": 37,
   "metadata": {},
   "outputs": [],
   "source": [
    "def measure_neuralnet_fitness(simple_net, iterations=100):\n",
    "    this_brain = network_to_brain(simple_net)\n",
    "    sim, robot = setup_world(this_brain)\n",
    "    \n",
    "    distance_moved = 0\n",
    "    \n",
    "    #reset the robot's position\n",
    "    robot.setPose(1, 1, 0)\n",
    "    robot.reset()\n",
    "    x = 0\n",
    "    x_cord = 0\n",
    "    y_cord = 0\n",
    "    y = robot[\"light\"].getData()\n",
    "    #iterate through the simulation\n",
    "    for i in range(iterations):        \n",
    "        #but if the robot's stuck, end early!\n",
    "        if robot.stall:\n",
    "            x = 1\n",
    "            break\n",
    "            \n",
    "        #move the robot\n",
    "        cur_pos = robot.getPose()\n",
    "        sim.step(run_brain=True)\n",
    "        next_pos = robot.getPose()\n",
    "        \n",
    "        #and keep track of how far it moved\n",
    "        dist = math.hypot(next_pos[1] - cur_pos[0], next_pos[1] - cur_pos[1])\n",
    "        x_cord += robot[\"light\"].getData()[0]\n",
    "        y_cord += robot[\"light\"].getData()[1]\n",
    "        distance_moved += dist\n",
    "    if x:\n",
    "        return 0\n",
    "    if x_cord > 0 or y_cord > 0:\n",
    "        return((x_cord + y_cord)**distance_moved)\n",
    "    #return distance_moved\n",
    "    return distance_moved"
   ]
  },
  {
   "cell_type": "code",
   "execution_count": 38,
   "metadata": {},
   "outputs": [],
   "source": [
    "def run_evolution(pop_size, num_generations):\n",
    "    #build our random population of neural networks\n",
    "    population = [SimpleNeuralNet(18,2,[10]) for _ in range(pop_size)]\n",
    "    evo_fitnesses = []\n",
    "\n",
    "    for i in range(num_generations):\n",
    "        #evaluate the fitnesses using 50 timesteps\n",
    "        fitnesses = [measure_neuralnet_fitness(n) for n in population]\n",
    "\n",
    "        #keep track of the mean pop fitnesses\n",
    "        evo_fitnesses.append(np.mean(fitnesses))\n",
    "\n",
    "        #print the generation and the mean fitness we just stuck on the\n",
    "        #evo_fitnesses list\n",
    "        clear_output(wait=True)\n",
    "        display(i, evo_fitnesses[-1])\n",
    "\n",
    "        #do tournament selection\n",
    "        next_pop = [tournament_selection(population, fitnesses).deepcopy() for _ in range(pop_size)]\n",
    "\n",
    "        #and mutate the new networks\n",
    "        for net in next_pop:\n",
    "            mutate_network(net, mutation_rate=0.01)\n",
    "\n",
    "        population = next_pop\n",
    "    return population"
   ]
  },
  {
   "cell_type": "markdown",
   "metadata": {},
   "source": [
    "# These functions will work, but are probably not going to evolve very good robots. We can run them and visualize the output though."
   ]
  },
  {
   "cell_type": "code",
   "execution_count": 39,
   "metadata": {},
   "outputs": [
    {
     "data": {
      "image/svg+xml": [
       "<svg baseProfile=\"full\" height=\"250\" version=\"1.1\" width=\"250\" xmlns=\"http://www.w3.org/2000/svg\" xmlns:ev=\"http://www.w3.org/2001/xml-events\" xmlns:xlink=\"http://www.w3.org/1999/xlink\"><defs /><rect fill=\"#eef3dd\" height=\"250.0\" stroke=\"#bebebe\" stroke-width=\"1\" width=\"250.0\" x=\"0.0\" y=\"0.0\" /><rect fill=\"#bebebe\" height=\"2.1029046429086407\" stroke=\"#bebebe\" stroke-width=\"1\" width=\"62.30463045541268\" x=\"182.48703621125398\" y=\"216.64709535709136\" /><rect fill=\"#bebebe\" height=\"3.501315947006475\" stroke=\"#bebebe\" stroke-width=\"1\" width=\"141.03407241256846\" x=\"5.208333333333333\" y=\"179.83201738632687\" /><rect fill=\"#bebebe\" height=\"6.069005544203151\" stroke=\"#bebebe\" stroke-width=\"1\" width=\"72.1442504563125\" x=\"5.208333333333333\" y=\"141.8476611224635\" /><rect fill=\"#bebebe\" height=\"3.9200267551835424\" stroke=\"#bebebe\" stroke-width=\"1\" width=\"74.22821501608715\" x=\"170.5634516505795\" y=\"108.57997324481646\" /><rect fill=\"#bebebe\" height=\"5.244981541797571\" stroke=\"#bebebe\" stroke-width=\"1\" width=\"38.86621944040465\" x=\"205.925447226262\" y=\"71.83835179153574\" /><rect fill=\"#bebebe\" height=\"4.422349251664514\" stroke=\"#bebebe\" stroke-width=\"1\" width=\"158.51496149962531\" x=\"86.27670516704133\" y=\"37.24431741500215\" /><circle cx=\"229.16666666666666\" cy=\"20.833333333333332\" fill=\"#ffff00\" r=\"5.208333333333333\" stroke=\"#ffff00\" stroke-width=\"1\" /><line fill=\"#800080\" stroke=\"#add8e6\" stroke-width=\"1\" x1=\"14.651275727405546\" x2=\"0.0\" y1=\"239.9415319307663\" y2=\"234.51746458333332\" /><line fill=\"#800080\" stroke=\"#add8e6\" stroke-width=\"1\" x1=\"15.646020573253274\" x2=\"0.0\" y1=\"238.75473533324774\" y2=\"222.93565833333332\" /><line fill=\"#800080\" stroke=\"#add8e6\" stroke-width=\"1\" x1=\"16.644507821586483\" x2=\"0.0\" y1=\"238.45793125753377\" y2=\"191.93294375\" /><line fill=\"#800080\" stroke=\"#add8e6\" stroke-width=\"1\" x1=\"17.997579058714795\" x2=\"23.120938480273896\" y1=\"238.40347404160082\" y2=\"183.33333333333334\" /><line fill=\"#800080\" stroke=\"#add8e6\" stroke-width=\"1\" x1=\"19.951323546904685\" x2=\"59.477388220003576\" y1=\"239.1267722184583\" y2=\"183.33333333333334\" /><line fill=\"#800080\" stroke=\"#add8e6\" stroke-width=\"1\" x1=\"20.94274569560424\" x2=\"120.43720856227182\" y1=\"240.0491872466203\" y2=\"183.33333333333334\" /><line fill=\"#800080\" stroke=\"#d3d3d3\" stroke-width=\"1\" x1=\"21.50725403782295\" x2=\"187.6170829778366\" y1=\"240.92462986382026\" y2=\"227.3120435079073\" /><line fill=\"#800080\" stroke=\"#add8e6\" stroke-width=\"1\" x1=\"21.48938143607017\" x2=\"41.82081853997574\" y1=\"242.47307554976754\" y2=\"250.0\" /><line fill=\"#800080\" stroke=\"#add8e6\" stroke-width=\"1\" x1=\"20.04278508235515\" x2=\"29.819465213370098\" y1=\"246.38056452614734\" y2=\"250.0\" /><line fill=\"#800080\" stroke=\"#add8e6\" stroke-width=\"1\" x1=\"19.048040236507422\" x2=\"21.454067578072546\" y1=\"247.5673611236659\" y2=\"250.0\" /><line fill=\"#800080\" stroke=\"#add8e6\" stroke-width=\"1\" x1=\"18.049552988174213\" x2=\"18.8136560192467\" y1=\"247.86416519937987\" y2=\"250.0\" /><line fill=\"#800080\" stroke=\"#add8e6\" stroke-width=\"1\" x1=\"16.696481751045898\" x2=\"16.502843712936098\" y1=\"247.91862241531285\" y2=\"250.0\" /><line fill=\"#800080\" stroke=\"#add8e6\" stroke-width=\"1\" x1=\"14.742737262856009\" x2=\"12.755805506628231\" y1=\"247.1953242384553\" y2=\"250.0\" /><line fill=\"#800080\" stroke=\"#add8e6\" stroke-width=\"1\" x1=\"13.75131511415645\" x2=\"7.213020728534455\" y1=\"246.27290921029334\" y2=\"250.0\" /><line fill=\"#800080\" stroke=\"#add8e6\" stroke-width=\"1\" x1=\"13.186806771937746\" x2=\"0.0\" y1=\"245.39746659309338\" y2=\"246.47811666666666\" /><line fill=\"#800080\" stroke=\"#add8e6\" stroke-width=\"1\" x1=\"13.204679373690528\" x2=\"0.0\" y1=\"243.84902090714607\" y2=\"238.96049999999997\" /><line fill=\"#800080\" stroke=\"#a020f0\" stroke-width=\"1\" x1=\"229.16666666666666\" x2=\"212.9870598013113\" y1=\"20.833333333333332\" y2=\"37.244316666666684\" /><line fill=\"#800080\" stroke=\"#a020f0\" stroke-width=\"1\" x1=\"229.16666666666666\" x2=\"213.68587897164295\" y1=\"20.833333333333332\" y2=\"37.244316666666684\" /><polygon fill=\"white\" points=\"17.41145571225783,238.18648458854355 15.012924815834301,238.96465968667135 12.843030285261774,244.82589315124102 14.15661391639904,246.9783347853981 17.282605097502866,248.1356118683701 19.681135993926393,247.35743677024232 21.851030524498924,241.49620330567262 20.537446893361654,239.34376167151555\" stroke=\"black\" stroke-width=\"1\" /><polygon points=\"-1.0416666666666667,-1.0416666666666667 0,0 1.0416666666666667,-1.0416666666666667 0,1.0416666666666667\" stroke=\"black\" stroke-width=\"1\" transform=\"translate(17.347030404880346,243.1610482284568) rotate(-159.68488107879793)\" /><circle cx=\"15.555398448477433\" cy=\"237.49935132052892\" fill=\"yellow\" r=\"0.5208333333333334\" stroke=\"orange\" stroke-width=\"1\" /><circle cx=\"22.39350415714205\" cy=\"240.0308949395302\" fill=\"yellow\" r=\"0.5208333333333334\" stroke=\"orange\" stroke-width=\"1\" /></svg>"
      ],
      "text/plain": [
       "<jyro.simulator.canvas.Canvas at 0x114796d68>"
      ]
     },
     "metadata": {},
     "output_type": "display_data"
    },
    {
     "ename": "KeyboardInterrupt",
     "evalue": "",
     "output_type": "error",
     "traceback": [
      "\u001b[0;31m---------------------------------------------------------------------------\u001b[0m",
      "\u001b[0;31mKeyboardInterrupt\u001b[0m                         Traceback (most recent call last)",
      "\u001b[0;32m<ipython-input-39-335c1a7764e9>\u001b[0m in \u001b[0;36m<module>\u001b[0;34m()\u001b[0m\n\u001b[1;32m     12\u001b[0m     \u001b[0mclear_output\u001b[0m\u001b[0;34m(\u001b[0m\u001b[0mwait\u001b[0m\u001b[0;34m=\u001b[0m\u001b[0;32mTrue\u001b[0m\u001b[0;34m)\u001b[0m\u001b[0;34m\u001b[0m\u001b[0m\n\u001b[1;32m     13\u001b[0m     \u001b[0mdisplay\u001b[0m\u001b[0;34m(\u001b[0m\u001b[0mcanvas\u001b[0m\u001b[0;34m)\u001b[0m\u001b[0;34m\u001b[0m\u001b[0m\n\u001b[0;32m---> 14\u001b[0;31m     \u001b[0mtime\u001b[0m\u001b[0;34m.\u001b[0m\u001b[0msleep\u001b[0m\u001b[0;34m(\u001b[0m\u001b[0;36m.085\u001b[0m\u001b[0;34m)\u001b[0m\u001b[0;34m\u001b[0m\u001b[0m\n\u001b[0m",
      "\u001b[0;31mKeyboardInterrupt\u001b[0m: "
     ]
    }
   ],
   "source": [
    "#evolve \n",
    "evolved_pop = run_evolution(pop_size=20, num_generations=20)\n",
    "\n",
    "#let's visualize the first individual in the population\n",
    "#Note there is no reason to expect this is the best individual!\n",
    "sim, robot = setup_world(network_to_brain(evolved_pop[0]))\n",
    "canvas = Canvas((250, 250))\n",
    "\n",
    "for i in range(500):\n",
    "    sim.step(run_brain=True)\n",
    "    sim.draw(canvas)\n",
    "    clear_output(wait=True)\n",
    "    display(canvas)\n",
    "    time.sleep(.085)"
   ]
  },
  {
   "cell_type": "markdown",
   "metadata": {},
   "source": [
    "# To save your robot brain, we'll use the python `pickle` module. \n",
    "## This lets us pass a copy of our brain, and an opened file to save the object. "
   ]
  },
  {
   "cell_type": "code",
   "execution_count": 48,
   "metadata": {},
   "outputs": [],
   "source": [
    "import pickle\n",
    "\n",
    "#copy the network when we pickle it\n",
    "# fittest = sorted(evolved_pop, key = lambda x:(measure_neuralnet_fitness(x)))\n",
    "pickle.dump(evolved_pop[-1].deepcopy(), open('my_robot_brain.pkl', 'wb'))"
   ]
  },
  {
   "cell_type": "markdown",
   "metadata": {},
   "source": [
    "## Then, we can use `pickle.load` to read the file, and reconstruct the network object we need to control the robot! "
   ]
  },
  {
   "cell_type": "code",
   "execution_count": 49,
   "metadata": {},
   "outputs": [
    {
     "name": "stdout",
     "output_type": "stream",
     "text": [
      "<__main__.SimpleNeuralNet object at 0x11474cd30>\n"
     ]
    }
   ],
   "source": [
    "loaded_brain = pickle.load(open('my_robot_brain.pkl', 'rb'))\n",
    "print(loaded_brain)"
   ]
  },
  {
   "cell_type": "markdown",
   "metadata": {},
   "source": [
    "## And now we can put that loaded in brain into a robot and run it!"
   ]
  },
  {
   "cell_type": "code",
   "execution_count": 54,
   "metadata": {},
   "outputs": [
    {
     "data": {
      "image/svg+xml": [
       "<svg baseProfile=\"full\" height=\"250\" version=\"1.1\" width=\"250\" xmlns=\"http://www.w3.org/2000/svg\" xmlns:ev=\"http://www.w3.org/2001/xml-events\" xmlns:xlink=\"http://www.w3.org/1999/xlink\"><defs /><rect fill=\"#eef3dd\" height=\"250.0\" stroke=\"#bebebe\" stroke-width=\"1\" width=\"250.0\" x=\"0.0\" y=\"0.0\" /><rect fill=\"#bebebe\" height=\"4.006074944970521\" stroke=\"#bebebe\" stroke-width=\"1\" width=\"140.8831521469888\" x=\"103.90851451967785\" y=\"214.74392505502948\" /><rect fill=\"#bebebe\" height=\"4.335491910206116\" stroke=\"#bebebe\" stroke-width=\"1\" width=\"86.70071495098202\" x=\"158.09095171568464\" y=\"178.99784142312723\" /><rect fill=\"#bebebe\" height=\"4.147024610166454\" stroke=\"#bebebe\" stroke-width=\"1\" width=\"71.78688559733575\" x=\"5.208333333333333\" y=\"143.7696420565002\" /><rect fill=\"#bebebe\" height=\"4.189331183958473\" stroke=\"#bebebe\" stroke-width=\"1\" width=\"93.21572162703322\" x=\"151.57594503963344\" y=\"108.31066881604153\" /><rect fill=\"#bebebe\" height=\"2.9679313774583562\" stroke=\"#bebebe\" stroke-width=\"1\" width=\"86.44857787995362\" x=\"5.208333333333333\" y=\"74.11540195587496\" /><rect fill=\"#bebebe\" height=\"3.9818679389754834\" stroke=\"#bebebe\" stroke-width=\"1\" width=\"115.17858567775903\" x=\"129.61308098890763\" y=\"37.68479872769118\" /><circle cx=\"229.16666666666666\" cy=\"20.833333333333332\" fill=\"#ffff00\" r=\"5.208333333333333\" stroke=\"#ffff00\" stroke-width=\"1\" /><line fill=\"#800080\" stroke=\"#add8e6\" stroke-width=\"1\" x1=\"24.539011703307477\" x2=\"0.0\" y1=\"222.3104848153298\" y2=\"216.93195416666666\" /><line fill=\"#800080\" stroke=\"#add8e6\" stroke-width=\"1\" x1=\"25.359997576914964\" x2=\"0.0\" y1=\"220.99747846821677\" y2=\"201.6344020833333\" /><line fill=\"#800080\" stroke=\"#add8e6\" stroke-width=\"1\" x1=\"26.307820060130343\" x2=\"0.0\" y1=\"220.56538821750996\" y2=\"170.3227375\" /><line fill=\"#800080\" stroke=\"#add8e6\" stroke-width=\"1\" x1=\"27.640345269207902\" x2=\"24.30517180893661\" y1=\"220.32425769624828\" y2=\"147.91666666666666\" /><line fill=\"#800080\" stroke=\"#add8e6\" stroke-width=\"1\" x1=\"29.675369543200684\" x2=\"67.37904692270354\" y1=\"220.77030027497585\" y2=\"147.91666666666666\" /><line fill=\"#800080\" stroke=\"#d3d3d3\" stroke-width=\"1\" x1=\"30.784873462914458\" x2=\"162.7670196679235\" y1=\"221.54668189071057\" y2=\"119.77001039425524\" /><line fill=\"#800080\" stroke=\"#d3d3d3\" stroke-width=\"1\" x1=\"31.465070398893303\" x2=\"194.09419724788881\" y1=\"222.33560620439943\" y2=\"185.87268149845872\" /><line fill=\"#800080\" stroke=\"#add8e6\" stroke-width=\"1\" x1=\"31.661596662282204\" x2=\"150.86965231624666\" y1=\"223.87163384087629\" y2=\"250.0\" /><line fill=\"#800080\" stroke=\"#add8e6\" stroke-width=\"1\" x1=\"30.769511504827076\" x2=\"131.40836564652926\" y1=\"227.94168238886184\" y2=\"250.0\" /><line fill=\"#800080\" stroke=\"#add8e6\" stroke-width=\"1\" x1=\"29.94852563121959\" x2=\"57.118847133760454\" y1=\"229.2546887359749\" y2=\"250.0\" /><line fill=\"#800080\" stroke=\"#add8e6\" stroke-width=\"1\" x1=\"29.000703148004206\" x2=\"39.637018084102046\" y1=\"229.68677898668173\" y2=\"250.0\" /><line fill=\"#800080\" stroke=\"#add8e6\" stroke-width=\"1\" x1=\"27.66817793892665\" x2=\"28.59271978761824\" y1=\"229.92790950794338\" y2=\"250.0\" /><line fill=\"#800080\" stroke=\"#add8e6\" stroke-width=\"1\" x1=\"25.633153664933868\" x2=\"15.01447896529499\" y1=\"229.4818669292158\" y2=\"250.0\" /><line fill=\"#800080\" stroke=\"#add8e6\" stroke-width=\"1\" x1=\"24.52364974522009\" x2=\"0.0\" y1=\"228.70548531348106\" y2=\"247.6166458333333\" /><line fill=\"#800080\" stroke=\"#add8e6\" stroke-width=\"1\" x1=\"23.84345280924125\" x2=\"0.0\" y1=\"227.9165609997922\" y2=\"233.26247916666662\" /><line fill=\"#800080\" stroke=\"#add8e6\" stroke-width=\"1\" x1=\"23.646926545852345\" x2=\"0.0\" y1=\"226.38053336331538\" y2=\"221.19753125\" /><line fill=\"#800080\" stroke=\"#a020f0\" stroke-width=\"1\" x1=\"229.16666666666666\" x2=\"211.88007435358378\" y1=\"20.833333333333332\" y2=\"37.684797916666675\" /><line fill=\"#800080\" stroke=\"#a020f0\" stroke-width=\"1\" x1=\"229.16666666666666\" x2=\"212.6133260917534\" y1=\"20.833333333333332\" y2=\"37.684797916666675\" /><polygon fill=\"red\" points=\"27.029837987010065,220.19044492263 24.76203299267126,221.29297267833343 23.423905256488563,227.39804550031178 25.022646382736035,229.34805415559754 28.278685221124487,230.06172228156166 30.546490215463294,228.95919452585824 31.884617951645986,222.85412170387988 30.285876825398514,220.90411304859413\" stroke=\"red\" stroke-width=\"1\" /><polygon points=\"-1.0416666666666667,-1.0416666666666667 0,0 1.0416666666666667,-1.0416666666666667 0,1.0416666666666667\" stroke=\"black\" stroke-width=\"1\" transform=\"translate(27.654261604067276,225.12608360209583) rotate(-167.637242671896)\" /><circle cx=\"25.096564926716926\" cy=\"219.76670447283885\" fill=\"yellow\" r=\"0.5208333333333334\" stroke=\"orange\" stroke-width=\"1\" /><circle cx=\"32.21914988569166\" cy=\"221.3278534983853\" fill=\"yellow\" r=\"0.5208333333333334\" stroke=\"orange\" stroke-width=\"1\" /></svg>"
      ],
      "text/plain": [
       "<jyro.simulator.canvas.Canvas at 0x114855588>"
      ]
     },
     "metadata": {},
     "output_type": "display_data"
    },
    {
     "name": "stdout",
     "output_type": "stream",
     "text": [
      "[0.0, 0.0]\n"
     ]
    }
   ],
   "source": [
    "sim, robot = setup_world(network_to_brain(loaded_brain))\n",
    "canvas = Canvas((250, 250))\n",
    "\n",
    "for i in range(500):\n",
    "    sim.step(run_brain=True)\n",
    "    sim.draw(canvas)\n",
    "    clear_output(wait=True)\n",
    "    display(canvas)\n",
    "    print(robot[\"light\"].getData())\n",
    "    time.sleep(0.01)\n",
    "    if robot.stall:\n",
    "        break"
   ]
  },
  {
   "cell_type": "markdown",
   "metadata": {},
   "source": [
    "# Homework!\n",
    "## You should turn in a pickled robot brain, and a jupyter notebook that unpickles and runs your robot (just like the above code cell). That way, I know I have the right version of whatever required classes make up your brain."
   ]
  },
  {
   "cell_type": "code",
   "execution_count": null,
   "metadata": {},
   "outputs": [],
   "source": []
  }
 ],
 "metadata": {
  "kernelspec": {
   "display_name": "Python 3",
   "language": "python",
   "name": "python3"
  },
  "language_info": {
   "codemirror_mode": {
    "name": "ipython",
    "version": 3
   },
   "file_extension": ".py",
   "mimetype": "text/x-python",
   "name": "python",
   "nbconvert_exporter": "python",
   "pygments_lexer": "ipython3",
   "version": "3.6.4"
  }
 },
 "nbformat": 4,
 "nbformat_minor": 2
}
