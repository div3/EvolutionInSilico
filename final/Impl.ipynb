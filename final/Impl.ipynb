{
 "cells": [
  {
   "cell_type": "code",
   "execution_count": 15,
   "metadata": {},
   "outputs": [],
   "source": [
    "import neat\n",
    "import copy\n",
    "import pickle"
   ]
  },
  {
   "cell_type": "code",
   "execution_count": 16,
   "metadata": {},
   "outputs": [],
   "source": [
    "def create_new_ship():\n",
    "    pass\n",
    "def get_ship_inputs(ship):\n",
    "    pass\n",
    "def send_to_ship(ship, output):\n",
    "    pass\n",
    "def ship_in_optimal(ship):\n",
    "    pass\n",
    "def get_altitude(ship):\n",
    "    pass\n",
    "def delta_v(ship):\n",
    "    pass"
   ]
  },
  {
   "cell_type": "code",
   "execution_count": 17,
   "metadata": {},
   "outputs": [],
   "source": [
    "def fitness_func(nets, config):\n",
    "    # For each genome in 'nets' create a Neural Network\n",
    "    for genome_id, genome in nets:\n",
    "        net = neat.nn.FeedForwardNetwork.create(genome, config)\n",
    "        ship = create_new_ship() # Create a new ship\n",
    "        reached_basic = False\n",
    "        for i in range(100):\n",
    "            inputs = get_ship_inputs(ship)\n",
    "            output = net.activate(inputs) # Activate using inputs\n",
    "            send_to_ship(ship, output)\n",
    "            if ship_in_optimal(ship) == True:\n",
    "                break\n",
    "        fitness = get_altitude(ship)\n",
    "        if reached_basic:\n",
    "            fitness = get_altitude + delta_v(ship)\n",
    "        genome.fitness = fitness"
   ]
  },
  {
   "cell_type": "code",
   "execution_count": 18,
   "metadata": {},
   "outputs": [],
   "source": [
    "config = neat.Config(neat.DefaultGenome, neat.DefaultReproduction,\n",
    "                     neat.DefaultSpeciesSet, neat.DefaultStagnation, \n",
    "                     'neat_config')"
   ]
  },
  {
   "cell_type": "code",
   "execution_count": 19,
   "metadata": {},
   "outputs": [],
   "source": [
    "# Creates a new population p\n",
    "p = neat.Population(config)\n",
    "# Add statistics to pretty print progress\n",
    "p.add_reporter(neat.StdOutReporter(True))\n",
    "stats = neat.StatisticsReporter()\n",
    "p.add_reporter(stats)"
   ]
  },
  {
   "cell_type": "markdown",
   "metadata": {},
   "source": [
    "x = p.run(first, second) runs the function first for second value times and returns the best genome as x. Population p is also modified."
   ]
  },
  {
   "cell_type": "code",
   "execution_count": null,
   "metadata": {},
   "outputs": [],
   "source": [
    "winner = p.run(fitness_func, 5) # Run "
   ]
  },
  {
   "cell_type": "code",
   "execution_count": null,
   "metadata": {},
   "outputs": [],
   "source": [
    "winner_net = neat.nn.FeedForwardNetwork.create(winner, config)"
   ]
  },
  {
   "cell_type": "code",
   "execution_count": 20,
   "metadata": {},
   "outputs": [],
   "source": [
    "def save_population(prefix, pop):\n",
    "    pickle.dump(copy.deepcopy(p), open(prefix + '.pkl', 'wb'))\n",
    "def return_population(prefix):\n",
    "    loaded = pickle.load(open(prefix + '.pkl', 'rb'))\n",
    "    return loaded\n",
    "def delete_population(prefix):\n",
    "    try:\n",
    "        os.remove(prefix + '.pkl')\n",
    "    except FileNotFoundError:\n",
    "        print('Not found')"
   ]
  },
  {
   "cell_type": "code",
   "execution_count": null,
   "metadata": {},
   "outputs": [],
   "source": []
  }
 ],
 "metadata": {
  "kernelspec": {
   "display_name": "Python 3",
   "language": "python",
   "name": "python3"
  },
  "language_info": {
   "codemirror_mode": {
    "name": "ipython",
    "version": 3
   },
   "file_extension": ".py",
   "mimetype": "text/x-python",
   "name": "python",
   "nbconvert_exporter": "python",
   "pygments_lexer": "ipython3",
   "version": "3.6.4"
  }
 },
 "nbformat": 4,
 "nbformat_minor": 2
}
