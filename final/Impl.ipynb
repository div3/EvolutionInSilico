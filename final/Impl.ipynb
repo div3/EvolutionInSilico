{
 "cells": [
  {
   "cell_type": "code",
   "execution_count": 15,
   "metadata": {},
   "outputs": [],
   "source": [
    "import neat\n",
    "import copy\n",
    "import pickle"
   ]
  },
  {
   "cell_type": "code",
   "execution_count": 16,
   "metadata": {},
   "outputs": [],
   "source": [
    "def create_new_ship():\n",
    "    global connection\n",
    "    print(\"========== New Voyage ===========\")\n",
    "    connection.space_center.quickload()\n",
    "    vessel = connection.space_center.active_vessel\n",
    "    # Pre-flight\n",
    "    vessel.control.sas = False\n",
    "    vessel.control.rcs = False\n",
    "    vessel.control.throttle = 0.10\n",
    "    return vessel\n",
    "def get_ship_inputs(ship):\n",
    "    pass\n",
    "def send_to_ship(ship, output):\n",
    "    pass\n",
    "def ship_in_optimal(ship):\n",
    "    pass\n",
    "def get_altitude(ship):\n",
    "    pass\n",
    "def delta_v(ship):\n",
    "    pass"
   ]
  },
  {
   "cell_type": "code",
   "execution_count": null,
   "metadata": {},
   "outputs": [],
   "source": [
    "    while True:\n",
    "#         connection.space_center.quickload()\n",
    "#         vessel = connection.space_center.active_vessel\n",
    "\n",
    "        #enable telemetry streaming\n",
    "#         altitude = connection.add_stream(getattr, vessel.flight(), 'mean_altitude')\n",
    "#         universal_time = connection.add_stream(getattr, connection.space_center, 'ut')\n",
    "#         telemetry_pitch = connection.add_stream(getattr, vessel.flight(), 'pitch')\n",
    "#         telemetry_heading = connection.add_stream(getattr, vessel.flight(), 'heading')\n",
    "#         telemetry_roll = connection.add_stream(getattr, vessel.flight(), 'roll')\n",
    "\n",
    "        #set pre-flight conditions\n",
    "#         vessel.control.sas = False\n",
    "#         vessel.control.rcs = False\n",
    "#         vessel.control.throttle = 0.10\n",
    "#         launch_time = universal_time()\n",
    "#         last_altitude = altitude()\n",
    "#         warnings = 0\n",
    "        \n",
    "        #launch\n",
    "        \n",
    "        in_flight = True\n",
    "        while in_flight and \\\n",
    "              ((universal_time() - launch_time) < 10):\n",
    "            time.sleep(0.1)\n",
    "\n",
    "            #keep track of failure state\n",
    "#             current_altitude = altitude()\n",
    "#             if (current_altitude - last_altitude < 5):\n",
    "#                 print(\"WARNING\")\n",
    "#                 warnings += 1\n",
    "#             else:\n",
    "#                 warnings = max(0, warnings - 1)\n",
    "#             if (warnings > 10):\n",
    "#                 print(\"FAILURE\")\n",
    "#                 in_flight = False\n",
    "#             last_altitude = current_altitude\n",
    "\n",
    "            #gather telemetry\n",
    "            inputs = [current_altitude,\\\n",
    "                      telemetry_pitch(),\\\n",
    "                      telemetry_heading(),\\\n",
    "                      telemetry_roll()]\n",
    "\n",
    "            #pass into neural network\n",
    "            actions = get_actions(inputs)\n",
    "\n",
    "            #perform actions\n",
    "            vessel.control.throttle = actions[0]\n",
    "            vessel.control.pitch = actions[1]\n",
    "            vessel.control.yaw = actions[2]\n",
    "            vessel.control.roll = actions[3]\n",
    "\n",
    "            print(\"alt.: \" + str(altitude()))\n",
    "\n",
    "        #remove telemetry streams\n",
    "#         altitude.remove()\n",
    "#         universal_time.remove()\n",
    "#         telemetry_pitch.remove()\n",
    "#         telemetry_heading.remove()\n",
    "#         telemetry_roll.remove()\n",
    "#         #end single voyage while loop\n",
    "        \n",
    "    #end infinite while loop\n",
    "\n",
    "    ###end main###"
   ]
  },
  {
   "cell_type": "code",
   "execution_count": 17,
   "metadata": {},
   "outputs": [],
   "source": [
    "def fitness_func(nets, config):\n",
    "    # For each genome in 'nets' create a Neural Network\n",
    "    for genome_id, genome in nets:\n",
    "        net = neat.nn.FeedForwardNetwork.create(genome, config)\n",
    "        vessel = create_new_ship() # Create a new ship\n",
    "        \n",
    "        # Set up connections\n",
    "        altitude = connection.add_stream(getattr, vessel.flight(), 'mean_altitude')\n",
    "        universal_time = connection.add_stream(getattr, connection.space_center, 'ut')\n",
    "        telemetry_pitch = connection.add_stream(getattr, vessel.flight(), 'pitch')\n",
    "        telemetry_heading = connection.add_stream(getattr, vessel.flight(), 'heading')\n",
    "        telemetry_roll = connection.add_stream(getattr, vessel.flight(), 'roll')\n",
    "        \n",
    "        launch_time = universal_time()\n",
    "        last_altitude = altitude()\n",
    "        warnings = 0\n",
    "        vessel.control.activate_next_stage()\n",
    "        print(\"[\" + str(universal_time()) + \"]:\\tLiftoff\")\n",
    "\n",
    "        reached_basic = False\n",
    "        in_flight = True\n",
    "        while in_flight and ((universal_time() - launch_time) < 10):\n",
    "            # Error Check for crash\n",
    "            current_altitude = altitude()\n",
    "            last_altitude = current_altitude + 5\n",
    "\n",
    "            if (current_altitude - last_altitude < 5):\n",
    "                print(\"WARNING\")\n",
    "                warnings += 1\n",
    "            else:\n",
    "                warnings = max(0, warnings - 1)\n",
    "            if (warnings > 10):\n",
    "                print(\"FAILURE\")\n",
    "                in_flight = False\n",
    "            \n",
    "            inputs = [current_altitude, telemetry_pitch(), telemetry_heading(), telemetry_roll()]\n",
    "            actions = net.activate(inputs) # Activate using inputs\n",
    "            #perform actions\n",
    "            vessel.control.throttle = actions[0]\n",
    "            vessel.control.pitch = actions[1]\n",
    "            vessel.control.yaw = actions[2]\n",
    "            vessel.control.roll = actions[3]\n",
    "\n",
    "            if current_altitude >= 70000:\n",
    "                break\n",
    "        fitness = current_altitude\n",
    "        if reached_basic:\n",
    "            fitness = get_altitude + delta_v(ship)\n",
    "        #remove telemetry streams\n",
    "        altitude.remove()\n",
    "        universal_time.remove()\n",
    "        telemetry_pitch.remove()\n",
    "        telemetry_heading.remove()\n",
    "        telemetry_roll.remove()\n",
    "\n",
    "        genome.fitness = fitness"
   ]
  },
  {
   "cell_type": "code",
   "execution_count": 18,
   "metadata": {},
   "outputs": [],
   "source": [
    "config = neat.Config(neat.DefaultGenome, neat.DefaultReproduction,\n",
    "                     neat.DefaultSpeciesSet, neat.DefaultStagnation, \n",
    "                     'neat_config')"
   ]
  },
  {
   "cell_type": "code",
   "execution_count": 19,
   "metadata": {},
   "outputs": [],
   "source": [
    "# Creates a new population p\n",
    "p = neat.Population(config)\n",
    "# Add statistics to pretty print progress\n",
    "p.add_reporter(neat.StdOutReporter(True))\n",
    "stats = neat.StatisticsReporter()\n",
    "p.add_reporter(stats)"
   ]
  },
  {
   "cell_type": "markdown",
   "metadata": {},
   "source": [
    "x = p.run(first, second) runs the function first for second value times and returns the best genome as x. Population p is also modified."
   ]
  },
  {
   "cell_type": "code",
   "execution_count": null,
   "metadata": {},
   "outputs": [],
   "source": [
    "winner = p.run(fitness_func, 5) # Run "
   ]
  },
  {
   "cell_type": "code",
   "execution_count": null,
   "metadata": {},
   "outputs": [],
   "source": [
    "winner_net = neat.nn.FeedForwardNetwork.create(winner, config)"
   ]
  },
  {
   "cell_type": "code",
   "execution_count": 20,
   "metadata": {},
   "outputs": [],
   "source": [
    "def save_population(prefix, pop):\n",
    "    pickle.dump(copy.deepcopy(p), open(prefix + '.pkl', 'wb'))\n",
    "def return_population(prefix):\n",
    "    loaded = pickle.load(open(prefix + '.pkl', 'rb'))\n",
    "    return loaded\n",
    "def delete_population(prefix):\n",
    "    try:\n",
    "        os.remove(prefix + '.pkl')\n",
    "    except FileNotFoundError:\n",
    "        print('Not found')"
   ]
  },
  {
   "cell_type": "code",
   "execution_count": 1,
   "metadata": {},
   "outputs": [
    {
     "ename": "ModuleNotFoundError",
     "evalue": "No module named 'krpc'",
     "output_type": "error",
     "traceback": [
      "\u001b[0;31m---------------------------------------------------------------------------\u001b[0m",
      "\u001b[0;31mModuleNotFoundError\u001b[0m                       Traceback (most recent call last)",
      "\u001b[0;32m<ipython-input-1-b3646231bd3b>\u001b[0m in \u001b[0;36m<module>\u001b[0;34m()\u001b[0m\n\u001b[0;32m----> 1\u001b[0;31m \u001b[0;32mimport\u001b[0m \u001b[0mkrpc\u001b[0m\u001b[0;34m\u001b[0m\u001b[0m\n\u001b[0m",
      "\u001b[0;31mModuleNotFoundError\u001b[0m: No module named 'krpc'"
     ]
    }
   ],
   "source": [
    "import krpc"
   ]
  },
  {
   "cell_type": "code",
   "execution_count": 2,
   "metadata": {},
   "outputs": [
    {
     "name": "stdout",
     "output_type": "stream",
     "text": [
      "Collecting krpc\n",
      "\u001b[33m  Cache entry deserialization failed, entry ignored\u001b[0m\n",
      "  Downloading https://files.pythonhosted.org/packages/47/3c/d03c601148aeb77f88431d9751bada344d60fdbfc65e226756028f0ad4fc/krpc-0.4.5.zip (63kB)\n",
      "\u001b[K    100% |████████████████████████████████| 71kB 245kB/s ta 0:00:01\n",
      "\u001b[?25hCollecting protobuf>=3 (from krpc)\n",
      "  Downloading https://files.pythonhosted.org/packages/eb/a7/042722bc48082f6b02498ebdf4e64a6d1b4543271d4f2f495641f429c56d/protobuf-3.5.2.post1-cp36-cp36m-macosx_10_6_intel.macosx_10_9_intel.macosx_10_9_x86_64.macosx_10_10_intel.macosx_10_10_x86_64.whl (1.2MB)\n",
      "\u001b[K    100% |████████████████████████████████| 1.2MB 641kB/s ta 0:00:01\n",
      "\u001b[?25hRequirement already satisfied: setuptools in /anaconda3/lib/python3.6/site-packages (from protobuf>=3->krpc)\n",
      "Requirement already satisfied: six>=1.9 in /anaconda3/lib/python3.6/site-packages (from protobuf>=3->krpc)\n",
      "Building wheels for collected packages: krpc\n",
      "  Running setup.py bdist_wheel for krpc ... \u001b[?25ldone\n",
      "\u001b[?25h  Stored in directory: /Users/div/Library/Caches/pip/wheels/d2/6c/8b/e7ca155e6c806335d8919023aeee2a35aa455ddd43a9372641\n",
      "Successfully built krpc\n",
      "Installing collected packages: protobuf, krpc\n",
      "Successfully installed krpc-0.4.5 protobuf-3.5.2.post1\n",
      "\u001b[33mYou are using pip version 9.0.3, however version 10.0.0 is available.\n",
      "You should consider upgrading via the 'pip install --upgrade pip' command.\u001b[0m\n"
     ]
    }
   ],
   "source": [
    "!pip install krpc"
   ]
  },
  {
   "cell_type": "code",
   "execution_count": 3,
   "metadata": {},
   "outputs": [],
   "source": [
    "import krpc"
   ]
  },
  {
   "cell_type": "code",
   "execution_count": null,
   "metadata": {},
   "outputs": [],
   "source": [
    "connection = krpc.connect()"
   ]
  }
 ],
 "metadata": {
  "kernelspec": {
   "display_name": "Python 3",
   "language": "python",
   "name": "python3"
  },
  "language_info": {
   "codemirror_mode": {
    "name": "ipython",
    "version": 3
   },
   "file_extension": ".py",
   "mimetype": "text/x-python",
   "name": "python",
   "nbconvert_exporter": "python",
   "pygments_lexer": "ipython3",
   "version": "3.6.4"
  }
 },
 "nbformat": 4,
 "nbformat_minor": 2
}
