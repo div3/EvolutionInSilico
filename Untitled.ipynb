{
 "cells": [
  {
   "cell_type": "code",
   "execution_count": 5,
   "metadata": {},
   "outputs": [
    {
     "ename": "ModuleNotFoundError",
     "evalue": "No module named 'jyro'",
     "output_type": "error",
     "traceback": [
      "\u001b[0;31m---------------------------------------------------------------------------\u001b[0m",
      "\u001b[0;31mModuleNotFoundError\u001b[0m                       Traceback (most recent call last)",
      "\u001b[0;32m<ipython-input-5-6a54849c0c69>\u001b[0m in \u001b[0;36m<module>\u001b[0;34m()\u001b[0m\n\u001b[0;32m----> 1\u001b[0;31m \u001b[0;32mfrom\u001b[0m \u001b[0mjyro\u001b[0m\u001b[0;34m.\u001b[0m\u001b[0msimulator\u001b[0m \u001b[0;32mimport\u001b[0m \u001b[0;34m*\u001b[0m\u001b[0;34m\u001b[0m\u001b[0m\n\u001b[0m",
      "\u001b[0;31mModuleNotFoundError\u001b[0m: No module named 'jyro'"
     ]
    }
   ],
   "source": []
  },
  {
   "cell_type": "code",
   "execution_count": 6,
   "metadata": {},
   "outputs": [
    {
     "name": "stdout",
     "output_type": "stream",
     "text": [
      "Collecting jyro\n",
      "  Downloading jyro-0.3.2-py3-none-any.whl (142kB)\n",
      "\u001b[K    100% |████████████████████████████████| 143kB 3.5MB/s ta 0:00:01\n",
      "\u001b[?25hCollecting calysto (from jyro)\n",
      "  Downloading calysto-1.0.5-py3-none-any.whl (83kB)\n",
      "\u001b[K    100% |████████████████████████████████| 92kB 4.3MB/s ta 0:00:011\n",
      "\u001b[?25hCollecting cairosvg (from calysto->jyro)\n",
      "  Downloading CairoSVG-2.1.3-py3-none-any.whl (101kB)\n",
      "\u001b[K    100% |████████████████████████████████| 102kB 4.1MB/s a 0:00:011\n",
      "\u001b[?25hCollecting metakernel (from calysto->jyro)\n",
      "  Using cached metakernel-0.20.14-py2.py3-none-any.whl\n",
      "Requirement already satisfied: ipywidgets in /anaconda3/lib/python3.6/site-packages (from calysto->jyro)\n",
      "Requirement already satisfied: IPython in /anaconda3/lib/python3.6/site-packages (from calysto->jyro)\n",
      "Collecting svgwrite (from calysto->jyro)\n",
      "  Using cached svgwrite-1.1.12-py2.py3-none-any.whl\n",
      "Collecting cairocffi (from cairosvg->calysto->jyro)\n",
      "  Downloading cairocffi-0.8.0.tar.gz (79kB)\n",
      "\u001b[K    100% |████████████████████████████████| 81kB 4.6MB/s ta 0:00:011\n",
      "\u001b[?25hCollecting tinycss2 (from cairosvg->calysto->jyro)\n",
      "  Downloading tinycss2-0.6.1-py2.py3-none-any.whl (61kB)\n",
      "\u001b[K    100% |████████████████████████████████| 71kB 4.5MB/s ta 0:00:011\n",
      "\u001b[?25hCollecting defusedxml (from cairosvg->calysto->jyro)\n",
      "  Downloading defusedxml-0.5.0-py2.py3-none-any.whl\n",
      "Collecting cssselect2 (from cairosvg->calysto->jyro)\n",
      "  Downloading cssselect2-0.2.1-py2.py3-none-any.whl\n",
      "Requirement already satisfied: pillow in /anaconda3/lib/python3.6/site-packages (from cairosvg->calysto->jyro)\n",
      "Requirement already satisfied: ipykernel<6.0 in /anaconda3/lib/python3.6/site-packages (from metakernel->calysto->jyro)\n",
      "Requirement already satisfied: pexpect>=4.2 in /anaconda3/lib/python3.6/site-packages (from metakernel->calysto->jyro)\n",
      "Requirement already satisfied: traitlets>=4.3.1 in /anaconda3/lib/python3.6/site-packages (from ipywidgets->calysto->jyro)\n",
      "Requirement already satisfied: nbformat>=4.2.0 in /anaconda3/lib/python3.6/site-packages (from ipywidgets->calysto->jyro)\n",
      "Requirement already satisfied: widgetsnbextension~=3.1.0 in /anaconda3/lib/python3.6/site-packages (from ipywidgets->calysto->jyro)\n",
      "Requirement already satisfied: setuptools>=18.5 in /anaconda3/lib/python3.6/site-packages (from IPython->calysto->jyro)\n",
      "Requirement already satisfied: jedi>=0.10 in /anaconda3/lib/python3.6/site-packages (from IPython->calysto->jyro)\n",
      "Requirement already satisfied: decorator in /anaconda3/lib/python3.6/site-packages (from IPython->calysto->jyro)\n",
      "Requirement already satisfied: pickleshare in /anaconda3/lib/python3.6/site-packages (from IPython->calysto->jyro)\n",
      "Requirement already satisfied: simplegeneric>0.8 in /anaconda3/lib/python3.6/site-packages (from IPython->calysto->jyro)\n",
      "Requirement already satisfied: prompt_toolkit<2.0.0,>=1.0.4 in /anaconda3/lib/python3.6/site-packages (from IPython->calysto->jyro)\n",
      "Requirement already satisfied: pygments in /anaconda3/lib/python3.6/site-packages (from IPython->calysto->jyro)\n",
      "Requirement already satisfied: appnope in /anaconda3/lib/python3.6/site-packages (from IPython->calysto->jyro)\n",
      "Requirement already satisfied: pyparsing>=2.0.1 in /anaconda3/lib/python3.6/site-packages (from svgwrite->calysto->jyro)\n",
      "Requirement already satisfied: cffi>=1.1.0 in /anaconda3/lib/python3.6/site-packages (from cairocffi->cairosvg->calysto->jyro)\n",
      "Requirement already satisfied: webencodings>=0.4 in /anaconda3/lib/python3.6/site-packages (from tinycss2->cairosvg->calysto->jyro)\n",
      "Requirement already satisfied: jupyter_client in /anaconda3/lib/python3.6/site-packages (from ipykernel<6.0->metakernel->calysto->jyro)\n",
      "Requirement already satisfied: tornado>=4.0 in /anaconda3/lib/python3.6/site-packages (from ipykernel<6.0->metakernel->calysto->jyro)\n",
      "Requirement already satisfied: ipython_genutils in /anaconda3/lib/python3.6/site-packages (from traitlets>=4.3.1->ipywidgets->calysto->jyro)\n",
      "Requirement already satisfied: six in /anaconda3/lib/python3.6/site-packages (from traitlets>=4.3.1->ipywidgets->calysto->jyro)\n",
      "Requirement already satisfied: jsonschema!=2.5.0,>=2.4 in /anaconda3/lib/python3.6/site-packages (from nbformat>=4.2.0->ipywidgets->calysto->jyro)\n",
      "Requirement already satisfied: jupyter_core in /anaconda3/lib/python3.6/site-packages (from nbformat>=4.2.0->ipywidgets->calysto->jyro)\n",
      "Requirement already satisfied: notebook>=4.4.1 in /anaconda3/lib/python3.6/site-packages (from widgetsnbextension~=3.1.0->ipywidgets->calysto->jyro)\n",
      "Requirement already satisfied: parso==0.1.* in /anaconda3/lib/python3.6/site-packages (from jedi>=0.10->IPython->calysto->jyro)\n",
      "Requirement already satisfied: wcwidth in /anaconda3/lib/python3.6/site-packages (from prompt_toolkit<2.0.0,>=1.0.4->IPython->calysto->jyro)\n",
      "Requirement already satisfied: pycparser in /anaconda3/lib/python3.6/site-packages (from cffi>=1.1.0->cairocffi->cairosvg->calysto->jyro)\n",
      "Requirement already satisfied: pyzmq>=13 in /anaconda3/lib/python3.6/site-packages (from jupyter_client->ipykernel<6.0->metakernel->calysto->jyro)\n",
      "Requirement already satisfied: python-dateutil>=2.1 in /anaconda3/lib/python3.6/site-packages (from jupyter_client->ipykernel<6.0->metakernel->calysto->jyro)\n",
      "Requirement already satisfied: jinja2 in /anaconda3/lib/python3.6/site-packages (from notebook>=4.4.1->widgetsnbextension~=3.1.0->ipywidgets->calysto->jyro)\n",
      "Requirement already satisfied: nbconvert in /anaconda3/lib/python3.6/site-packages (from notebook>=4.4.1->widgetsnbextension~=3.1.0->ipywidgets->calysto->jyro)\n",
      "Requirement already satisfied: Send2Trash in /anaconda3/lib/python3.6/site-packages (from notebook>=4.4.1->widgetsnbextension~=3.1.0->ipywidgets->calysto->jyro)\n",
      "Requirement already satisfied: terminado>=0.8.1 in /anaconda3/lib/python3.6/site-packages (from notebook>=4.4.1->widgetsnbextension~=3.1.0->ipywidgets->calysto->jyro)\n",
      "Requirement already satisfied: MarkupSafe>=0.23 in /anaconda3/lib/python3.6/site-packages (from jinja2->notebook>=4.4.1->widgetsnbextension~=3.1.0->ipywidgets->calysto->jyro)\n",
      "Requirement already satisfied: mistune>=0.7.4 in /anaconda3/lib/python3.6/site-packages (from nbconvert->notebook>=4.4.1->widgetsnbextension~=3.1.0->ipywidgets->calysto->jyro)\n",
      "Requirement already satisfied: entrypoints>=0.2.2 in /anaconda3/lib/python3.6/site-packages (from nbconvert->notebook>=4.4.1->widgetsnbextension~=3.1.0->ipywidgets->calysto->jyro)\n",
      "Requirement already satisfied: bleach in /anaconda3/lib/python3.6/site-packages (from nbconvert->notebook>=4.4.1->widgetsnbextension~=3.1.0->ipywidgets->calysto->jyro)\n",
      "Requirement already satisfied: pandocfilters>=1.4.1 in /anaconda3/lib/python3.6/site-packages (from nbconvert->notebook>=4.4.1->widgetsnbextension~=3.1.0->ipywidgets->calysto->jyro)\n",
      "Requirement already satisfied: testpath in /anaconda3/lib/python3.6/site-packages (from nbconvert->notebook>=4.4.1->widgetsnbextension~=3.1.0->ipywidgets->calysto->jyro)\n",
      "Requirement already satisfied: html5lib!=1.0b1,!=1.0b2,!=1.0b3,!=1.0b4,!=1.0b5,!=1.0b6,!=1.0b7,!=1.0b8,>=0.99999999pre in /anaconda3/lib/python3.6/site-packages (from bleach->nbconvert->notebook>=4.4.1->widgetsnbextension~=3.1.0->ipywidgets->calysto->jyro)\n",
      "Building wheels for collected packages: cairocffi\n",
      "  Running setup.py bdist_wheel for cairocffi ... \u001b[?25ldone\n",
      "\u001b[?25h  Stored in directory: /Users/div/Library/Caches/pip/wheels/ed/67/1b/c2e45826aef8e76b0942c2c1e62120da72259a5c1e46a3d02d\n",
      "Successfully built cairocffi\n",
      "Installing collected packages: cairocffi, tinycss2, defusedxml, cssselect2, cairosvg, metakernel, svgwrite, calysto, jyro\n",
      "Successfully installed cairocffi-0.8.0 cairosvg-2.1.3 calysto-1.0.5 cssselect2-0.2.1 defusedxml-0.5.0 jyro-0.3.2 metakernel-0.20.14 svgwrite-1.1.12 tinycss2-0.6.1\n"
     ]
    }
   ],
   "source": [
    "!pip install jyro"
   ]
  },
  {
   "cell_type": "code",
   "execution_count": 5,
   "metadata": {},
   "outputs": [],
   "source": [
    "import jyro"
   ]
  },
  {
   "cell_type": "code",
   "execution_count": 6,
   "metadata": {},
   "outputs": [
    {
     "data": {
      "text/plain": [
       "<module 'jyro' from '/anaconda3/lib/python3.6/site-packages/jyro/__init__.py'>"
      ]
     },
     "execution_count": 6,
     "metadata": {},
     "output_type": "execute_result"
    }
   ],
   "source": [
    "jyro"
   ]
  },
  {
   "cell_type": "code",
   "execution_count": null,
   "metadata": {},
   "outputs": [],
   "source": []
  }
 ],
 "metadata": {
  "kernelspec": {
   "display_name": "Python 3",
   "language": "python",
   "name": "python3"
  },
  "language_info": {
   "codemirror_mode": {
    "name": "ipython",
    "version": 3
   },
   "file_extension": ".py",
   "mimetype": "text/x-python",
   "name": "python",
   "nbconvert_exporter": "python",
   "pygments_lexer": "ipython3",
   "version": "3.6.4"
  }
 },
 "nbformat": 4,
 "nbformat_minor": 2
}
