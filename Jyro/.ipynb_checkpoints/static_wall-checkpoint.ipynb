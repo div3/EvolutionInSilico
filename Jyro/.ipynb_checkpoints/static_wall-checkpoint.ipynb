{
 "cells": [
  {
   "cell_type": "code",
   "execution_count": 2,
   "metadata": {},
   "outputs": [],
   "source": [
    "from IPython.display import display, clear_output\n",
    "from jyro.simulator import *\n",
    "import random\n",
    "import numpy as np\n",
    "import pickle\n",
    "import copy\n",
    "\n",
    "#Here is the main difference, I'm just random generating some walls\n",
    "#either on the left or right side of the world, evenly spaced along \n",
    "#the length of the world. \n",
    "def add_walls(sim, num_walls):\n",
    "    pos_xs = np.linspace(1.5, 10, num_walls)\n",
    "\n",
    "    for i in range(num_walls):\n",
    "        width = random.uniform(0.1, 0.3)\n",
    "        pos_y1 = random.choice([12-0.25, 0.25])\n",
    "        length = random.uniform(3, 10)\n",
    "        sim.addBox(pos_y1, pos_xs[i], length, pos_xs[i]+width, fill=\"gray\", wallcolor=\"gray\")\n",
    "\n",
    "# We'll create a box for the robot to live in\n",
    "# and a light source\n",
    "def make_world(sim):\n",
    "    sim.addBox(0, 0, 12, 12, fill=\"backgroundgreen\", wallcolor=\"gray\") #bounding box\n",
    "    sim.addLight(11, 11, 1) #paramters are x, y, brightness\n",
    "    add_walls(sim, 6)\n",
    "    \n",
    "#We'll give our robot the 16 sonar distance sensors, some light sensors\n",
    "class MyPioneer(Pioneer):\n",
    "    def __init__(self, name, x, y, angle):\n",
    "        Pioneer.__init__(self, name, x, y, angle)\n",
    "        self.addDevice(Pioneer16Sonars())\n",
    "        #parameter defines max range in meters\n",
    "        self.addDevice(PioneerFrontLightSensors(3))\n",
    "        \n",
    "    def move(self, linear, rotational):\n",
    "        if -1 > linear > 1 or -1 > rotational > 1:\n",
    "            super().move(random.uniform(-1, 1), random.uniform(-1, 1))\n",
    "            print(\"moving randomly!\")\n",
    "        else:\n",
    "            super().move(linear, rotational)\n",
    "        \n",
    "\n",
    "\n",
    "def setup_world(robot_brain):\n",
    "    robot = MyPioneer(\"Johnny\", 1, 1, 0)\n",
    "    sim = Physics()\n",
    "    make_world(sim)\n",
    "    sim.addRobot(robot)\n",
    "    robot.brain = robot_brain\n",
    "    return sim, robot"
   ]
  },
  {
   "cell_type": "code",
   "execution_count": 3,
   "metadata": {},
   "outputs": [],
   "source": [
    "import neat"
   ]
  },
  {
   "cell_type": "code",
   "execution_count": 17,
   "metadata": {},
   "outputs": [],
   "source": [
    "def get_brain_inputs(a_robot):\n",
    "    #Define the brain function for jyro\n",
    "    sonar_sensors = a_robot[\"sonar\"].getData()\n",
    "    light_sensors = a_robot[\"light\"].getData()\n",
    "\n",
    "    #combine the sonar and light inputs\n",
    "    combined_input = sonar_sensors + light_sensors\n",
    "\n",
    "    return combined_input\n",
    "def setup_neat():\n",
    "    robot = MyPioneer(\"Johnny\", 1, 1, 0)\n",
    "    sim = Physics()\n",
    "    make_world(sim)\n",
    "    sim.addRobot(robot)\n",
    "    return sim, robot\n",
    "def setup_neat_static():\n",
    "    global static_sim\n",
    "    new_static = copy.deepcopy(static_sim)\n",
    "    robot = MyPioneer(\"Johnny\", 1, 1, 0)\n",
    "    new_static.addRobot(robot)\n",
    "    return new_static, robot"
   ]
  },
  {
   "cell_type": "code",
   "execution_count": 92,
   "metadata": {},
   "outputs": [],
   "source": [
    "def avoid_wall_and_fly(nets, config, iterations=500):\n",
    "    print(\"try\")\n",
    "    for genome_id, genome in nets:\n",
    "        net = neat.nn.FeedForwardNetwork.create(genome, config)\n",
    "#         robot_net = SimpleNeuralNet(18,2,[10])\n",
    "#         robot_net.\n",
    "#         net.layers = genome\n",
    "#         this_brain = network_to_brain(simple_net)\n",
    "        moved = 0\n",
    "        for i in range(3):\n",
    "            sim, robot = setup_neat()\n",
    "            robot.setPose(1, 1, 0)\n",
    "#             sonar = [11, 11]\n",
    "            moved = 0\n",
    "            for i in range(100):\n",
    "                if robot.stall:\n",
    "                    break\n",
    "                inputs = get_brain_inputs(robot)\n",
    "                x, y = net.activate(inputs[:])\n",
    "                robot.move(x, y)\n",
    "                sim.step()\n",
    "                #move the robot\n",
    "            end = robot.getPose()\n",
    "            moved = moved+math.hypot(1-end[0], 1 - end[1])\n",
    "#         distance_to_light = math.hypot(sonar[0]-end[0], sonar[1] - end[1])\n",
    "        genome.fitness = moved/3\n",
    "#         print(\"genome_id {0}:  {1}\".format(genome_id, genome.fitness))"
   ]
  },
  {
   "cell_type": "code",
   "execution_count": null,
   "metadata": {},
   "outputs": [],
   "source": []
  },
  {
   "cell_type": "code",
   "execution_count": 93,
   "metadata": {},
   "outputs": [],
   "source": [
    "def binary_light_with_static_net(nets, config, iterations=150):\n",
    "    for genome_id, genome in nets:\n",
    "        net = neat.nn.FeedForwardNetwork.create(genome, config)\n",
    "        light = [11, 11]\n",
    "        moved_less_than_5 = 0\n",
    "        sim, robot = setup_neat_static()\n",
    "        robot.setPose(1, 1, 0)\n",
    "        times_found = 0\n",
    "        for i in range(200):\n",
    "            inputs = get_brain_inputs(robot)\n",
    "            x, y = net.activate(inputs)\n",
    "            robot.move(x, y)\n",
    "            sim.step()\n",
    "            end = robot.getPose()\n",
    "            dist_light = abs(math.hypot(light[0]-end[0], light[1] - end[1]))\n",
    "            if dist_light < 8:\n",
    "                times_found += (8-dist_light)\n",
    "                break\n",
    "            if robot.stall:\n",
    "                break\n",
    "        sim, robot = setup_neat()\n",
    "        for i in range(200):\n",
    "            inputs = get_brain_inputs(robot)\n",
    "            x, y = net.activate(inputs)\n",
    "            robot.move(x, y)\n",
    "            sim.step()\n",
    "            end = robot.getPose()\n",
    "            dist_light = abs(math.hypot(light[0]-end[0], light[1] - end[1]))\n",
    "            if dist_light < 2:\n",
    "                times_found += (8-dist_light)\n",
    "                break\n",
    "            if robot.stall:\n",
    "                break\n",
    "        genome.fitness = 100*times_found"
   ]
  },
  {
   "cell_type": "code",
   "execution_count": 94,
   "metadata": {},
   "outputs": [],
   "source": [
    "def binary_light(nets, config, iterations=150):\n",
    "    print(\"try\")\n",
    "    for genome_id, genome in nets:\n",
    "        net = neat.nn.FeedForwardNetwork.create(genome, config)\n",
    "#         robot_net = SimpleNeuralNet(18,2,[10])\n",
    "#         robot_net.\n",
    "#         net.layers = genome\n",
    "#         this_brain = network_to_brain(simple_net)\n",
    "        sonar = [11, 11]\n",
    "        moved_less_than_5 = 0\n",
    "        for i in range(3):\n",
    "            sim, robot = setup_neat()\n",
    "            robot.setPose(1, 1, 0)\n",
    "            times_found = 0\n",
    "            for i in range(150):\n",
    "                inputs = get_brain_inputs(robot)\n",
    "                x, y = net.activate(inputs[:])\n",
    "                robot.move(x, y)\n",
    "                sim.step()\n",
    "                end = robot.getPose()\n",
    "                dist_light = abs(math.hypot(sonar[0]-end[0], sonar[1] - end[1]))\n",
    "                if dist_light < 0.5:\n",
    "                    times_found += 1\n",
    "                    break\n",
    "                if robot.stall:\n",
    "                    break\n",
    "                #move the robot\n",
    "            end = robot.getPose()\n",
    "            moved = abs(math.hypot(1-end[0], 1 - end[1]))\n",
    "            moved += moved\n",
    "        if times_found != 0:\n",
    "            for i in range(5):\n",
    "                sim, robot = setup_neat()\n",
    "                robot.setPose(1, 1, 0)\n",
    "                times_found = 0\n",
    "                for i in range(150):\n",
    "                    inputs = get_brain_inputs(robot)\n",
    "                    x, y = net.activate(inputs[:])\n",
    "                    robot.move(x, y)\n",
    "                    sim.step()\n",
    "                    end = robot.getPose()\n",
    "                    dist_light = abs(math.hypot(sonar[0]-end[0], sonar[1] - end[1]))\n",
    "                    if dist_light < 0.5:\n",
    "                        times_found += 1\n",
    "                        break\n",
    "                    if robot.stall:\n",
    "                        break\n",
    "                    #move the robot\n",
    "                end = robot.getPose()\n",
    "                moved = abs(math.hypot(1-end[0], 1 - end[1]))\n",
    "                if moved < 5:\n",
    "                    moved_less_than_5 += 1\n",
    "                moved = 0\n",
    "            genome.fitness = times_found*10 + (moved)/8\n",
    "        else:\n",
    "            end = robot.getPose()\n",
    "            genome.fitness = 100/abs(math.hypot(sonar[0]-end[0], sonar[1] - end[1]))\n",
    "#         print(genome.fitness)\n",
    "#         print(\"genome_id {0}:  {1}\".format(genome_id, genome.fitness))"
   ]
  },
  {
   "cell_type": "code",
   "execution_count": 28,
   "metadata": {},
   "outputs": [],
   "source": [
    "config = neat.Config(neat.DefaultGenome, neat.DefaultReproduction,\n",
    "                     neat.DefaultSpeciesSet, neat.DefaultStagnation, \n",
    "                     'neat_config')"
   ]
  },
  {
   "cell_type": "code",
   "execution_count": 95,
   "metadata": {},
   "outputs": [],
   "source": [
    "p = neat.Population(config)\n",
    "p.add_reporter(neat.StdOutReporter(True))\n",
    "stats = neat.StatisticsReporter()\n",
    "p.add_reporter(stats)"
   ]
  },
  {
   "cell_type": "code",
   "execution_count": 108,
   "metadata": {},
   "outputs": [
    {
     "name": "stdout",
     "output_type": "stream",
     "text": [
      "\n",
      " ****** Running generation 10 ****** \n",
      "\n",
      "try\n",
      "Population's average fitness: 0.00000 stdev: 0.00000\n",
      "Best fitness: 0.00000 - size: (2, 18) - species 3 - id 851\n",
      "Average adjusted fitness: 0.000\n",
      "Mean genetic distance 2.904, standard deviation 1.125\n",
      "Population of 150 members in 6 species:\n",
      "   ID   age  size  fitness  adj fit  stag\n",
      "  ====  ===  ====  =======  =======  ====\n",
      "     1   10    23      0.0    0.000     2\n",
      "     2   10    36      0.0    0.000     2\n",
      "     3   10    15      0.0    0.000     1\n",
      "     4   10    25      0.0    0.000     2\n",
      "     5   10    25      0.0    0.000     2\n",
      "     6    9    26      0.0    0.000     1\n",
      "Total extinctions: 0\n",
      "Generation time: 170.131 sec (85.691 average)\n",
      "\n",
      " ****** Running generation 11 ****** \n",
      "\n",
      "try\n",
      "Population's average fitness: 0.00000 stdev: 0.00000\n",
      "Best fitness: 0.00000 - size: (2, 18) - species 3 - id 851\n",
      "Average adjusted fitness: 0.000\n",
      "Mean genetic distance 2.910, standard deviation 1.083\n",
      "Population of 150 members in 6 species:\n",
      "   ID   age  size  fitness  adj fit  stag\n",
      "  ====  ===  ====  =======  =======  ====\n",
      "     1   11    28      0.0    0.000     3\n",
      "     2   11    34      0.0    0.000     3\n",
      "     3   11    18      0.0    0.000     2\n",
      "     4   11    24      0.0    0.000     3\n",
      "     5   11    23      0.0    0.000     3\n",
      "     6   10    23      0.0    0.000     2\n",
      "Total extinctions: 0\n",
      "Generation time: 1555.787 sec (238.342 average)\n",
      "\n",
      " ****** Running generation 12 ****** \n",
      "\n",
      "try\n",
      "Population's average fitness: 0.00000 stdev: 0.00000\n",
      "Best fitness: 0.00000 - size: (2, 18) - species 3 - id 851\n",
      "Average adjusted fitness: 0.000\n",
      "Mean genetic distance 2.927, standard deviation 1.086\n",
      "Population of 150 members in 6 species:\n",
      "   ID   age  size  fitness  adj fit  stag\n",
      "  ====  ===  ====  =======  =======  ====\n",
      "     1   12    29      0.0    0.000     4\n",
      "     2   12    31      0.0    0.000     4\n",
      "     3   12    18      0.0    0.000     3\n",
      "     4   12    25      0.0    0.000     4\n",
      "     5   12    24      0.0    0.000     4\n",
      "     6   11    23      0.0    0.000     3\n",
      "Total extinctions: 0\n",
      "Generation time: 104.168 sec (245.418 average)\n",
      "\n",
      " ****** Running generation 13 ****** \n",
      "\n",
      "try\n",
      "Population's average fitness: 0.00000 stdev: 0.00000\n",
      "Best fitness: 0.00000 - size: (2, 18) - species 3 - id 851\n",
      "Average adjusted fitness: 0.000\n",
      "Mean genetic distance 2.988, standard deviation 1.093\n",
      "Population of 150 members in 6 species:\n",
      "   ID   age  size  fitness  adj fit  stag\n",
      "  ====  ===  ====  =======  =======  ====\n",
      "     1   13    30      0.0    0.000     5\n",
      "     2   13    27      0.0    0.000     5\n",
      "     3   13    19      0.0    0.000     4\n",
      "     4   13    26      0.0    0.000     5\n",
      "     5   13    24      0.0    0.000     5\n",
      "     6   12    24      0.0    0.000     4\n",
      "Total extinctions: 0\n",
      "Generation time: 178.535 sec (258.488 average)\n",
      "\n",
      " ****** Running generation 14 ****** \n",
      "\n",
      "try\n",
      "Population's average fitness: 0.66667 stdev: 8.13770\n",
      "Best fitness: 100.00000 - size: (2, 12) - species 6 - id 2087\n",
      "Average adjusted fitness: 0.007\n",
      "Mean genetic distance 2.949, standard deviation 1.025\n",
      "Population of 149 members in 6 species:\n",
      "   ID   age  size  fitness  adj fit  stag\n",
      "  ====  ===  ====  =======  =======  ====\n",
      "     1   14    14      0.0    0.000     6\n",
      "     2   14    14      0.0    0.000     6\n",
      "     3   14    11      0.0    0.000     5\n",
      "     4   14    13      0.0    0.000     6\n",
      "     5   14    12      0.0    0.000     6\n",
      "     6   13    85      4.2    0.042     5\n",
      "Total extinctions: 0\n",
      "Generation time: 120.071 sec (263.438 average)\n"
     ]
    }
   ],
   "source": [
    "winner = p.run(binary_light_with_static_net, 5)"
   ]
  },
  {
   "cell_type": "code",
   "execution_count": 91,
   "metadata": {},
   "outputs": [
    {
     "ename": "NameError",
     "evalue": "name 'avoid_wall_and_fly' is not defined",
     "output_type": "error",
     "traceback": [
      "\u001b[0;31m---------------------------------------------------------------------------\u001b[0m",
      "\u001b[0;31mNameError\u001b[0m                                 Traceback (most recent call last)",
      "\u001b[0;32m<ipython-input-91-21bf7375d584>\u001b[0m in \u001b[0;36m<module>\u001b[0;34m()\u001b[0m\n\u001b[0;32m----> 1\u001b[0;31m \u001b[0mp\u001b[0m\u001b[0;34m.\u001b[0m\u001b[0mrun\u001b[0m\u001b[0;34m(\u001b[0m\u001b[0mavoid_wall_and_fly\u001b[0m\u001b[0;34m,\u001b[0m \u001b[0;36m5\u001b[0m\u001b[0;34m)\u001b[0m\u001b[0;34m\u001b[0m\u001b[0m\n\u001b[0m\u001b[1;32m      2\u001b[0m \u001b[0mp\u001b[0m\u001b[0;34m.\u001b[0m\u001b[0mrun\u001b[0m\u001b[0;34m(\u001b[0m\u001b[0mfitness_over_three\u001b[0m\u001b[0;34m,\u001b[0m \u001b[0;36m5\u001b[0m\u001b[0;34m)\u001b[0m\u001b[0;34m\u001b[0m\u001b[0m\n\u001b[1;32m      3\u001b[0m \u001b[0mp\u001b[0m\u001b[0;34m.\u001b[0m\u001b[0mrun\u001b[0m\u001b[0;34m(\u001b[0m\u001b[0mbinary_light_with_static_net\u001b[0m\u001b[0;34m,\u001b[0m \u001b[0;36m10\u001b[0m\u001b[0;34m)\u001b[0m\u001b[0;34m\u001b[0m\u001b[0m\n\u001b[1;32m      4\u001b[0m \u001b[0mwinner\u001b[0m \u001b[0;34m=\u001b[0m \u001b[0mp\u001b[0m\u001b[0;34m.\u001b[0m\u001b[0mrun\u001b[0m\u001b[0;34m(\u001b[0m\u001b[0mbinary_light\u001b[0m\u001b[0;34m,\u001b[0m \u001b[0;36m5\u001b[0m\u001b[0;34m)\u001b[0m\u001b[0;34m\u001b[0m\u001b[0m\n",
      "\u001b[0;31mNameError\u001b[0m: name 'avoid_wall_and_fly' is not defined"
     ]
    }
   ],
   "source": [
    "p.run(avoid_wall_and_fly, 5)\n",
    "\n",
    "# p.run(fitness_over_three, 5)\n",
    "# p.run(binary_light_with_static_net, 10)\n",
    "# winner = p.run(binary_light, 5)"
   ]
  },
  {
   "cell_type": "code",
   "execution_count": null,
   "metadata": {},
   "outputs": [],
   "source": []
  },
  {
   "cell_type": "code",
   "execution_count": 13,
   "metadata": {},
   "outputs": [],
   "source": [
    "static_sim = Physics()\n",
    "make_world(static_sim)"
   ]
  },
  {
   "cell_type": "code",
   "execution_count": 14,
   "metadata": {},
   "outputs": [
    {
     "data": {
      "image/svg+xml": [
       "<svg baseProfile=\"full\" height=\"250\" version=\"1.1\" width=\"250\" xmlns=\"http://www.w3.org/2000/svg\" xmlns:ev=\"http://www.w3.org/2001/xml-events\" xmlns:xlink=\"http://www.w3.org/1999/xlink\"><defs /><rect fill=\"#eef3dd\" height=\"250.0\" stroke=\"#bebebe\" stroke-width=\"1\" width=\"250.0\" x=\"0.0\" y=\"0.0\" /><rect fill=\"#bebebe\" height=\"5.183358432208109\" stroke=\"#bebebe\" stroke-width=\"1\" width=\"138.87928500193155\" x=\"5.208333333333333\" y=\"213.5666415677919\" /><rect fill=\"#bebebe\" height=\"2.609827030684471\" stroke=\"#bebebe\" stroke-width=\"1\" width=\"161.95579661319766\" x=\"82.83587005346898\" y=\"180.72350630264887\" /><rect fill=\"#bebebe\" height=\"3.9040556175858683\" stroke=\"#bebebe\" stroke-width=\"1\" width=\"82.68581665072865\" x=\"5.208333333333333\" y=\"144.0126110490808\" /><rect fill=\"#bebebe\" height=\"4.605312683424543\" stroke=\"#bebebe\" stroke-width=\"1\" width=\"180.81861883475676\" x=\"63.973047831909895\" y=\"107.89468731657546\" /><rect fill=\"#bebebe\" height=\"4.506972007323341\" stroke=\"#bebebe\" stroke-width=\"1\" width=\"99.95513261790606\" x=\"5.208333333333333\" y=\"72.57636132600997\" /><rect fill=\"#bebebe\" height=\"2.613605901627068\" stroke=\"#bebebe\" stroke-width=\"1\" width=\"202.0035680805347\" x=\"5.208333333333333\" y=\"39.053060765039596\" /><circle cx=\"229.16666666666666\" cy=\"20.833333333333332\" fill=\"#ffff00\" r=\"5.208333333333333\" stroke=\"#ffff00\" stroke-width=\"1\" /></svg>"
      ],
      "text/plain": [
       "<jyro.simulator.canvas.Canvas at 0x113e4c860>"
      ]
     },
     "metadata": {},
     "output_type": "display_data"
    }
   ],
   "source": [
    "canvas = Canvas((250, 250))\n",
    "static_sim.draw(canvas)\n",
    "clear_output(wait=True)\n",
    "display(canvas)"
   ]
  },
  {
   "cell_type": "code",
   "execution_count": 116,
   "metadata": {},
   "outputs": [
    {
     "data": {
      "image/svg+xml": [
       "<svg baseProfile=\"full\" height=\"250\" version=\"1.1\" width=\"250\" xmlns=\"http://www.w3.org/2000/svg\" xmlns:ev=\"http://www.w3.org/2001/xml-events\" xmlns:xlink=\"http://www.w3.org/1999/xlink\"><defs /><rect fill=\"#eef3dd\" height=\"250.0\" stroke=\"#bebebe\" stroke-width=\"1\" width=\"250.0\" x=\"0.0\" y=\"0.0\" /><rect fill=\"#bebebe\" height=\"6.222226415560215\" stroke=\"#bebebe\" stroke-width=\"1\" width=\"141.79668427199454\" x=\"102.99498239467212\" y=\"212.52777358443979\" /><rect fill=\"#bebebe\" height=\"2.7316573924400416\" stroke=\"#bebebe\" stroke-width=\"1\" width=\"175.30423193004373\" x=\"5.208333333333333\" y=\"180.6016759408933\" /><rect fill=\"#bebebe\" height=\"5.039078181848396\" stroke=\"#bebebe\" stroke-width=\"1\" width=\"163.68218153613532\" x=\"81.10948513053135\" y=\"142.87758848481826\" /><rect fill=\"#bebebe\" height=\"4.252987236595288\" stroke=\"#bebebe\" stroke-width=\"1\" width=\"166.75864407942018\" x=\"5.208333333333333\" y=\"108.24701276340471\" /><rect fill=\"#bebebe\" height=\"3.8429313156332228\" stroke=\"#bebebe\" stroke-width=\"1\" width=\"94.47726697303108\" x=\"5.208333333333333\" y=\"73.24040201770009\" /><rect fill=\"#bebebe\" height=\"5.874216895409866\" stroke=\"#bebebe\" stroke-width=\"1\" width=\"114.50882039921201\" x=\"5.208333333333333\" y=\"35.7924497712568\" /><circle cx=\"229.16666666666666\" cy=\"20.833333333333332\" fill=\"#ffff00\" r=\"5.208333333333333\" stroke=\"#ffff00\" stroke-width=\"1\" /><line fill=\"#800080\" stroke=\"#add8e6\" stroke-width=\"1\" x1=\"1.532259365741097\" x2=\"0.0\" y1=\"171.46891005980464\" y2=\"171.96430625\" /><line fill=\"#800080\" stroke=\"#add8e6\" stroke-width=\"1\" x1=\"1.5792046215546776\" x2=\"0.0\" y1=\"169.92107298337226\" y2=\"169.7248375\" /><line fill=\"#800080\" stroke=\"#add8e6\" stroke-width=\"1\" x1=\"2.1798555355290725\" x2=\"0.0\" y1=\"169.07002191323238\" y2=\"167.70348125\" /><line fill=\"#800080\" stroke=\"#add8e6\" stroke-width=\"1\" x1=\"3.2090120295815594\" x2=\"0.0\" y1=\"168.18990585732803\" y2=\"163.23267708333333\" /><line fill=\"#800080\" stroke=\"#add8e6\" stroke-width=\"1\" x1=\"5.1913147761084\" x2=\"0.0\" y1=\"167.54900524187354\" y2=\"65.65517291666667\" /><line fill=\"#800080\" stroke=\"#add8e6\" stroke-width=\"1\" x1=\"6.540921577888123\" x2=\"28.920477348788793\" y1=\"167.66004055923256\" y2=\"112.5\" /><line fill=\"#800080\" stroke=\"#add8e6\" stroke-width=\"1\" x1=\"7.5261128611352\" x2=\"67.21478383355341\" y1=\"167.99837113700883\" y2=\"112.5\" /><line fill=\"#800080\" stroke=\"#add8e6\" stroke-width=\"1\" x1=\"8.47031897858504\" x2=\"81.10948541666666\" y1=\"169.22575790571398\" y2=\"145.740701188555\" /><line fill=\"#800080\" stroke=\"#add8e6\" stroke-width=\"1\" x1=\"9.752120209493981\" x2=\"87.92354445706388\" y1=\"173.1903633987677\" y2=\"147.91666666666666\" /><line fill=\"#800080\" stroke=\"#add8e6\" stroke-width=\"1\" x1=\"9.7051749536804\" x2=\"56.89140480145244\" y1=\"174.73820047520007\" y2=\"180.60167499999997\" /><line fill=\"#800080\" stroke=\"#add8e6\" stroke-width=\"1\" x1=\"9.104524039706005\" x2=\"17.100156852373406\" y1=\"175.58925154533995\" y2=\"180.60167499999997\" /><line fill=\"#800080\" stroke=\"#add8e6\" stroke-width=\"1\" x1=\"8.075367545653519\" x2=\"10.750375192910035\" y1=\"176.4693676012443\" y2=\"180.60167499999997\" /><line fill=\"#800080\" stroke=\"#add8e6\" stroke-width=\"1\" x1=\"6.093064799126678\" x2=\"6.270945783943027\" y1=\"177.11026821669878\" y2=\"180.60167499999997\" /><line fill=\"#800080\" stroke=\"#add8e6\" stroke-width=\"1\" x1=\"4.7434579973469555\" x2=\"0.0\" y1=\"176.99923289933977\" y2=\"188.69067708333333\" /><line fill=\"#800080\" stroke=\"#add8e6\" stroke-width=\"1\" x1=\"3.7582667140998782\" x2=\"0.0\" y1=\"176.6609023215635\" y2=\"180.15532916666663\" /><line fill=\"#800080\" stroke=\"#add8e6\" stroke-width=\"1\" x1=\"2.8140605966500383\" x2=\"0.0\" y1=\"175.43351555285835\" y2=\"176.34333125\" /><line fill=\"#800080\" stroke=\"#a020f0\" stroke-width=\"1\" x1=\"229.16666666666666\" x2=\"94.38871226248911\" y1=\"20.833333333333332\" y2=\"108.2470125\" /><line fill=\"#800080\" stroke=\"#a020f0\" stroke-width=\"1\" x1=\"229.16666666666666\" x2=\"96.47317941475949\" y1=\"20.833333333333332\" y2=\"108.2470125\" /><polygon fill=\"red\" points=\"2.614321205623507,168.38217604196436 1.2118090580138616,170.47775868654125 3.1345109043772745,176.42466692612174 5.498373975168627,177.30253840133514 8.67005836961157,176.27709741660797 10.072570517221218,174.1815147720311 8.149868670857805,168.23460653245058 5.786005600066453,167.35673505723722\" stroke=\"red\" stroke-width=\"1\" /><polygon points=\"-1.0416666666666667,-1.0416666666666667 0,0 1.0416666666666667,-1.0416666666666667 0,1.0416666666666667\" stroke=\"black\" stroke-width=\"1\" transform=\"translate(5.642189787617539,172.32963672928616) rotate(162.08340059247323)\" /><circle cx=\"0.7311335964230083\" cy=\"168.9910316266461\" fill=\"yellow\" r=\"0.5208333333333334\" stroke=\"orange\" stroke-width=\"1\" /><circle cx=\"7.66919320926695\" cy=\"166.74787947255547\" fill=\"yellow\" r=\"0.5208333333333334\" stroke=\"orange\" stroke-width=\"1\" /></svg>"
      ],
      "text/plain": [
       "<jyro.simulator.canvas.Canvas at 0x113c931d0>"
      ]
     },
     "metadata": {},
     "output_type": "display_data"
    },
    {
     "name": "stdout",
     "output_type": "stream",
     "text": [
      "0.9096151585120236 1.0\n"
     ]
    }
   ],
   "source": [
    "winner_net = neat.nn.FeedForwardNetwork.create(winner, config)\n",
    "sim, robot = setup_neat()\n",
    "robot.setPose(1, 1, 0)\n",
    "canvas = Canvas((250, 250))\n",
    "for i in range(500):\n",
    "    sim.draw(canvas)\n",
    "    clear_output(wait=True)\n",
    "    display(canvas)\n",
    "    inputs = get_brain_inputs(robot)\n",
    "    x, y = winner_net.activate(inputs)\n",
    "    print(x, y)\n",
    "    robot.move(x, y)\n",
    "    sim.step()\n",
    "    time.sleep(0.001)\n",
    "    if robot.stall:\n",
    "        break"
   ]
  },
  {
   "cell_type": "code",
   "execution_count": 44,
   "metadata": {},
   "outputs": [],
   "source": [
    "import copy\n",
    "y = copy.deepcopy(p)"
   ]
  },
  {
   "cell_type": "code",
   "execution_count": 48,
   "metadata": {},
   "outputs": [],
   "source": [
    "p = copy.deepcopy(y)"
   ]
  },
  {
   "cell_type": "code",
   "execution_count": 57,
   "metadata": {},
   "outputs": [
    {
     "data": {
      "text/plain": [
       "(1, 1, 0.0)"
      ]
     },
     "execution_count": 57,
     "metadata": {},
     "output_type": "execute_result"
    }
   ],
   "source": [
    "robot.getPose()"
   ]
  },
  {
   "cell_type": "code",
   "execution_count": 69,
   "metadata": {},
   "outputs": [],
   "source": [
    "robot.setPose(10, 5, 10)"
   ]
  },
  {
   "cell_type": "code",
   "execution_count": 70,
   "metadata": {},
   "outputs": [
    {
     "data": {
      "image/svg+xml": [
       "<svg baseProfile=\"full\" height=\"250\" version=\"1.1\" width=\"250\" xmlns=\"http://www.w3.org/2000/svg\" xmlns:ev=\"http://www.w3.org/2001/xml-events\" xmlns:xlink=\"http://www.w3.org/1999/xlink\"><defs /><rect fill=\"#eef3dd\" height=\"250.0\" stroke=\"#bebebe\" stroke-width=\"1\" width=\"250.0\" x=\"0.0\" y=\"0.0\" /><rect fill=\"#bebebe\" height=\"4.910544766915052\" stroke=\"#bebebe\" stroke-width=\"1\" width=\"111.32199201196832\" x=\"133.46967465469834\" y=\"213.83945523308495\" /><rect fill=\"#bebebe\" height=\"4.737901842926561\" stroke=\"#bebebe\" stroke-width=\"1\" width=\"59.87736132946032\" x=\"5.208333333333333\" y=\"178.59543149040678\" /><rect fill=\"#bebebe\" height=\"5.081109833635168\" stroke=\"#bebebe\" stroke-width=\"1\" width=\"136.96792850003573\" x=\"107.82373816663093\" y=\"142.8355568330315\" /><rect fill=\"#bebebe\" height=\"5.9841777780632555\" stroke=\"#bebebe\" stroke-width=\"1\" width=\"146.47934369022596\" x=\"98.31232297644068\" y=\"106.51582222193674\" /><rect fill=\"#bebebe\" height=\"2.093351772242343\" stroke=\"#bebebe\" stroke-width=\"1\" width=\"47.57981346569767\" x=\"197.211853200969\" y=\"74.98998156109097\" /><rect fill=\"#bebebe\" height=\"4.385009132563013\" stroke=\"#bebebe\" stroke-width=\"1\" width=\"73.45012233801984\" x=\"5.208333333333333\" y=\"37.28165753410365\" /><circle cx=\"229.16666666666666\" cy=\"20.833333333333332\" fill=\"#ffff00\" r=\"5.208333333333333\" stroke=\"#ffff00\" stroke-width=\"1\" /><line fill=\"#800080\" stroke=\"#add8e6\" stroke-width=\"1\" x1=\"212.52582559744405\" x2=\"216.7864681465423\" y1=\"145.59798871879178\" y2=\"142.83555625\" /><line fill=\"#800080\" stroke=\"#add8e6\" stroke-width=\"1\" x1=\"212.88217329609708\" x2=\"243.42390622682535\" y1=\"147.10497902728315\" y2=\"142.83555625\" /><line fill=\"#800080\" stroke=\"#add8e6\" stroke-width=\"1\" x1=\"212.52296021617255\" x2=\"250.0\" y1=\"148.08274965869705\" y2=\"159.57082291666669\" /><line fill=\"#800080\" stroke=\"#add8e6\" stroke-width=\"1\" x1=\"211.75746513341522\" x2=\"250.0\" y1=\"149.19979246870278\" y2=\"183.68456666666665\" /><line fill=\"#800080\" stroke=\"#add8e6\" stroke-width=\"1\" x1=\"210.0093994478393\" x2=\"230.5921373894057\" y1=\"150.3331697830556\" y2=\"213.83945624999998\" /><line fill=\"#800080\" stroke=\"#add8e6\" stroke-width=\"1\" x1=\"208.6772157079055\" x2=\"200.86215534586955\" y1=\"150.57617975027335\" y2=\"213.83945624999998\" /><line fill=\"#800080\" stroke=\"#add8e6\" stroke-width=\"1\" x1=\"207.63797623936927\" x2=\"167.99738652723417\" y1=\"150.5051109703417\" y2=\"213.83945624999998\" /><line fill=\"#800080\" stroke=\"#d3d3d3\" stroke-width=\"1\" x1=\"206.4075956979283\" x2=\"66.5623408518529\" y1=\"149.56480931902675\" y2=\"240.23499446725512\" /><line fill=\"#800080\" stroke=\"#add8e6\" stroke-width=\"1\" x1=\"204.14084106922257\" x2=\"201.29059185358935\" y1=\"146.06867794787487\" y2=\"147.91666666666666\" /><line fill=\"#800080\" stroke=\"#add8e6\" stroke-width=\"1\" x1=\"203.78449337056958\" x2=\"179.78432320050064\" y1=\"144.5616876393835\" y2=\"147.91666666666666\" /><line fill=\"#800080\" stroke=\"#add8e6\" stroke-width=\"1\" x1=\"204.14370645049408\" x2=\"201.70236227596317\" y1=\"143.58391700796957\" y2=\"142.83555625\" /><line fill=\"#800080\" stroke=\"#add8e6\" stroke-width=\"1\" x1=\"204.9092015332514\" x2=\"171.67687638706573\" y1=\"142.46687419796388\" y2=\"112.5\" /><line fill=\"#800080\" stroke=\"#add8e6\" stroke-width=\"1\" x1=\"206.65726721882737\" x2=\"197.3121714042789\" y1=\"141.33349688361102\" y2=\"112.5\" /><line fill=\"#800080\" stroke=\"#add8e6\" stroke-width=\"1\" x1=\"207.98945095876115\" x2=\"211.52130006378135\" y1=\"141.0904869163933\" y2=\"112.5\" /><line fill=\"#800080\" stroke=\"#add8e6\" stroke-width=\"1\" x1=\"209.0286904272974\" x2=\"226.96778742384825\" y1=\"141.16155569632494\" y2=\"112.5\" /><line fill=\"#800080\" stroke=\"#add8e6\" stroke-width=\"1\" x1=\"210.25907096873837\" x2=\"250.0\" y1=\"142.10185734763988\" y2=\"116.33539791666665\" /><line fill=\"#800080\" stroke=\"#a020f0\" stroke-width=\"1\" x1=\"229.16666666666666\" x2=\"222.6720705306909\" y1=\"20.833333333333332\" y2=\"74.98998125\" /><line fill=\"#800080\" stroke=\"#a020f0\" stroke-width=\"1\" x1=\"229.16666666666666\" x2=\"220.33791267436027\" y1=\"20.833333333333332\" y2=\"74.98998125\" /><polygon fill=\"red\" points=\"212.281884839088,148.8597792743969 213.09251425462048,146.47202156157974 209.69238231156194,141.22782450485192 207.18168692450016,140.99348368930518 204.38478182757865,142.80688739226974 203.57415241204615,145.1946451050869 206.97428435510471,150.4388421618147 209.4849797421665,150.67318297736148\" stroke=\"red\" stroke-width=\"1\" /><polygon points=\"-1.0416666666666667,-1.0416666666666667 0,0 1.0416666666666667,-1.0416666666666667 0,1.0416666666666667\" stroke=\"black\" stroke-width=\"1\" transform=\"translate(208.33333333333331,145.83333333333331) rotate(-32.95779513082323)\" /><circle cx=\"213.94254724038515\" cy=\"147.7830708257617\" fill=\"yellow\" r=\"0.5208333333333334\" stroke=\"orange\" stroke-width=\"1\" /><circle cx=\"207.82431734086936\" cy=\"151.74989142599668\" fill=\"yellow\" r=\"0.5208333333333334\" stroke=\"orange\" stroke-width=\"1\" /></svg>"
      ],
      "text/plain": [
       "<jyro.simulator.canvas.Canvas at 0x113cc2d30>"
      ]
     },
     "execution_count": 70,
     "metadata": {},
     "output_type": "execute_result"
    }
   ],
   "source": [
    "sim.draw(canvas)"
   ]
  },
  {
   "cell_type": "code",
   "execution_count": null,
   "metadata": {},
   "outputs": [],
   "source": []
  }
 ],
 "metadata": {
  "kernelspec": {
   "display_name": "Python 3",
   "language": "python",
   "name": "python3"
  },
  "language_info": {
   "codemirror_mode": {
    "name": "ipython",
    "version": 3
   },
   "file_extension": ".py",
   "mimetype": "text/x-python",
   "name": "python",
   "nbconvert_exporter": "python",
   "pygments_lexer": "ipython3",
   "version": "3.6.4"
  }
 },
 "nbformat": 4,
 "nbformat_minor": 2
}
