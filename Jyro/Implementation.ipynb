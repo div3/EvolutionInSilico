{
 "cells": [
  {
   "cell_type": "markdown",
   "metadata": {},
   "source": [
    "## Submission"
   ]
  },
  {
   "cell_type": "markdown",
   "metadata": {},
   "source": [
    "### Simple Neural Net:\n",
    "1. Code provided in the the assignment\n",
    "2. Repopulating Functions to evolve a better population, these include:\n",
    "    - Tournament selection\n",
    "    - Elitism\n",
    "    - Rank order selection\n",
    "    - Proportional selection\n",
    "    - Recombination\n",
    "3. Fitness Functions:\n",
    "    - measure_proportional_distance_to_light\n",
    "    - measure_displacement\n",
    "    - measure_distance\n",
    "    - measure_distance_to_light\n",
    "4. Run function\n",
    "    - Run to evolve population\n",
    "5. Simple Neural Net Population\n",
    "\n",
    "### Advanced Extensions:\n",
    "1. NEAT\n",
    "    - Description for NEAT\n",
    "    - Fitness Functions:\n",
    "        - Similar to the ones in Neural Net, except modified to be neat(heh)\n",
    "    - Sample Run\n",
    "    - Evolved Population"
   ]
  },
  {
   "cell_type": "markdown",
   "metadata": {},
   "source": [
    "### First, importing code to setup world as given in the assignment"
   ]
  },
  {
   "cell_type": "code",
   "execution_count": 13,
   "metadata": {},
   "outputs": [],
   "source": [
    "from IPython.display import display, clear_output\n",
    "from jyro.simulator import *\n",
    "import random\n",
    "import numpy as np\n",
    "import pickle\n",
    "\n",
    "#Here is the main difference, I'm just random generating some walls\n",
    "#either on the left or right side of the world, evenly spaced along \n",
    "#the length of the world. \n",
    "def add_walls(sim, num_walls):\n",
    "    pos_xs = np.linspace(1.5, 10, num_walls)\n",
    "\n",
    "    for i in range(num_walls):\n",
    "        width = random.uniform(0.1, 0.3)\n",
    "        pos_y1 = random.choice([12-0.25, 0.25])\n",
    "        length = random.uniform(3, 10)\n",
    "        sim.addBox(pos_y1, pos_xs[i], length, pos_xs[i]+width, fill=\"gray\", wallcolor=\"gray\")\n",
    "\n",
    "# We'll create a box for the robot to live in\n",
    "# and a light source\n",
    "def make_world(sim):\n",
    "    sim.addBox(0, 0, 12, 12, fill=\"backgroundgreen\", wallcolor=\"gray\") #bounding box\n",
    "    sim.addLight(11, 11, 1) #paramters are x, y, brightness\n",
    "    add_walls(sim, 6)\n",
    "    \n",
    "#We'll give our robot the 16 sonar distance sensors, some light sensors\n",
    "class MyPioneer(Pioneer):\n",
    "    def __init__(self, name, x, y, angle):\n",
    "        Pioneer.__init__(self, name, x, y, angle)\n",
    "        self.addDevice(Pioneer16Sonars())\n",
    "        #parameter defines max range in meters\n",
    "        self.addDevice(PioneerFrontLightSensors(3))\n",
    "        \n",
    "    def move(self, linear, rotational):\n",
    "        if -1 > linear > 1 or -1 > rotational > 1:\n",
    "            super().move(random.uniform(-1, 1), random.uniform(-1, 1))\n",
    "            print(\"moving randomly!\")\n",
    "        else:\n",
    "            super().move(linear, rotational)\n",
    "        \n",
    "\n",
    "\n",
    "def setup_world(robot_brain):\n",
    "    robot = MyPioneer(\"Johnny\", 1, 1, 0)\n",
    "    sim = Physics()\n",
    "    make_world(sim)\n",
    "    sim.addRobot(robot)\n",
    "    robot.brain = robot_brain\n",
    "    return sim, robot"
   ]
  },
  {
   "cell_type": "markdown",
   "metadata": {},
   "source": [
    "### Neural Network code for the robot\n",
    "\n",
    "TODO: *Extension:* Add Position as another input to the brain."
   ]
  },
  {
   "cell_type": "code",
   "execution_count": 14,
   "metadata": {},
   "outputs": [],
   "source": [
    "class SimpleNeuralNet():\n",
    "    #This is our squashing function\n",
    "    #I changed this to the hyperbolic tangent function that\n",
    "    #returns values in (-1, 1)\n",
    "    def activation_function(self, x):\n",
    "        return np.tanh(x)\n",
    "    \n",
    "    #this should look familiar, just a way to create a copy of \n",
    "    #the network without worying about pesky reference \n",
    "    def deepcopy(self):\n",
    "        new_net = SimpleNeuralNet(self.num_inputs, self.num_outputs, self.layer_node_counts)\n",
    "        new_net.layers = [np.copy(layer) for layer in self.layers]\n",
    "        return new_net\n",
    "    \n",
    "    #this is where the neural network does its computation!\n",
    "    def execute(self, input_vector):\n",
    "        # First we need to make sure we're getting the right\n",
    "        # number of inputs into our neural network.\n",
    "        assert len(input_vector) == self.num_inputs ,\\\n",
    "        \"wrong input vector size\"\n",
    "\n",
    "        # create a temporary variable to hold the values that should go\n",
    "        # into the next layer of the network.\n",
    "        # **at the start, this will just be our input**\n",
    "        next_v = input_vector\n",
    "\n",
    "        # iterate through layers, computing the activation\n",
    "        # of the weighted inputs from the previous layer\n",
    "        for layer in self.layers:\n",
    "            # add a bias to each layer [1]\n",
    "            next_v = np.append(next_v, 1)\n",
    "            \n",
    "            # pump the input vector through the matrix multiplication\n",
    "            # and our activation function\n",
    "            next_v = self.activation_function(np.dot(next_v, layer))\n",
    "            \n",
    "        return next_v\n",
    "        \n",
    "    def __init__(self, num_inputs, num_outputs, layer_node_counts=[]):\n",
    "        self.num_inputs = num_inputs\n",
    "        self.layer_node_counts = layer_node_counts\n",
    "        self.num_outputs = num_outputs\n",
    "        self.layers = []\n",
    "        \n",
    "        last_num_neurons = self.num_inputs\n",
    "        for nc in layer_node_counts + [num_outputs]:\n",
    "            # for now, we'll just use random weights in the range [-5,5]\n",
    "            # +1 handles adding a bias node for each layer of nodes\n",
    "            self.layers.append(np.random.uniform(-5, 5, size=(last_num_neurons+1, nc)))\n",
    "            last_num_neurons = nc"
   ]
  },
  {
   "cell_type": "code",
   "execution_count": 15,
   "metadata": {},
   "outputs": [],
   "source": [
    "def network_to_brain(simple_net):\n",
    "    \n",
    "    #Define the brain function for jyro\n",
    "    def neural_brain(a_robot):\n",
    "        sonar_sensors = a_robot[\"sonar\"].getData()\n",
    "        light_sensors = a_robot[\"light\"].getData()\n",
    "        \n",
    "        #combine the sonar and light inputs\n",
    "        combined_input = sonar_sensors + light_sensors\n",
    "\n",
    "        network = simple_net\n",
    "\n",
    "        #run the neural network with the combined input values\n",
    "        output = network.execute(combined_input)\n",
    "        \n",
    "        #use the output of the network to move the robot\n",
    "        a_robot.move(output[0], output[1])\n",
    "\n",
    "    return neural_brain\n",
    "\n",
    "def mutate_network(simple_net, mutation_rate=1E-3, mutation_effect_size=2):\n",
    "    for layer_to_mut in simple_net.layers:\n",
    "        dims = layer_to_mut.shape\n",
    "        num_mutations = np.random.binomial(dims[0]*dims[1], mutation_rate)\n",
    "        for i in range(num_mutations): \n",
    "            rand_i = np.random.randint(0, dims[0])\n",
    "            rand_j = np.random.randint(0, dims[1])\n",
    "            layer_to_mut[rand_i, rand_j] += np.random.normal(scale=mutation_effect_size)"
   ]
  },
  {
   "cell_type": "markdown",
   "metadata": {},
   "source": [
    "### Repopulating Functions\n",
    "#### *Extensions*: \n",
    "- **Tournament selection** now returns a whole population\n",
    "- **Elitism** selects for the best *n* brains and repopulates using those\n",
    "- **Rank order selection** selects based on the rank-order formula, with k uniformally from 0.1 - 1\n",
    "- **Proportional** selects based on the proportional fitness\n",
    "- **Recombination** selects n/k fittest from the population and recombines their brain to form 2k/3 new robots"
   ]
  },
  {
   "cell_type": "code",
   "execution_count": 16,
   "metadata": {},
   "outputs": [],
   "source": [
    "def tournament_selection(population, fitnesses, tournament_size=3):\n",
    "    new_pop = []\n",
    "    for _ in range(len(population)):\n",
    "        sample_pop_idxs = np.random.choice(range(len(population)), size=tournament_size)\n",
    "        tourny_winner_idx = np.argmax(np.array(fitnesses)[sample_pop_idxs])\n",
    "        winner_pop_idx = sample_pop_idxs[tourny_winner_idx]\n",
    "        new_pop.append(population[winner_pop_idx])\n",
    "    return new_pop"
   ]
  },
  {
   "cell_type": "code",
   "execution_count": 17,
   "metadata": {},
   "outputs": [],
   "source": [
    "def rank_order_selection(population, fitnesses, factor=0.1):\n",
    "    factor = np.uniform(0.1, 1)\n",
    "    combined_pop = zip(population, fitnesses)\n",
    "    population = [x for _,x in sorted(zip(fitnesses, population), reverse=True)]\n",
    "    scaled_fitness = [(factor**float(len(population)-g))*(factor-1)/(factor**float(len(population))-1) for g in range(len(population))]\n",
    "    population = random.choices(population, k=len(population), weights=scaled_fitness)\n",
    "    return population"
   ]
  },
  {
   "cell_type": "code",
   "execution_count": 18,
   "metadata": {},
   "outputs": [],
   "source": [
    "def elitism(population, fitnesses, factor = 7):\n",
    "    combined_pop = zip(population, fitnesses)\n",
    "    # Sort based on fitness\n",
    "    population = [x for _,x in sorted(zip(fitnesses, population), reverse=True, key=lambda pair: pair[0])]\n",
    "    fitnesses = sorted(fitnesses, reverse=True)\n",
    "    len_pop = len(population)\n",
    "    # Mark the first 'factor' as eiltes\n",
    "    elites = population[:factor]\n",
    "    elites_fitness = fitnesses[:factor]\n",
    "    new_elites = []\n",
    "    # create new_elites using elites\n",
    "    for net in range(len_pop - factor):\n",
    "        new_elite = random.choices(elites, k=1, weights=elites_fitness)[0]\n",
    "        new_elites.append(new_elite)\n",
    "        mutate_network(new_elite, mutation_rate=0.50)\n",
    "    # Add new_elites to elites and return\n",
    "    elites.extend(new_elites)\n",
    "    population = elites\n",
    "    return population"
   ]
  },
  {
   "cell_type": "code",
   "execution_count": 19,
   "metadata": {},
   "outputs": [],
   "source": [
    "def proportional(population, fitnesses, factor = 1):\n",
    "    population = random.choices(population, k=len(population), weights=np.dot(fitnesses,factor))\n",
    "    return population"
   ]
  },
  {
   "cell_type": "code",
   "execution_count": 20,
   "metadata": {},
   "outputs": [],
   "source": [
    "def combine_2(robot_1, robot_2):\n",
    "    layer_1 = robot_1.layers.deepcopy()\n",
    "    layer_2 = robot_2.layers.deepcopy()\n",
    "    len_layer = len(layer_1)\n",
    "    new_layer = layer_1[:(len_layer/2)]\n",
    "    new_layer.extend(layer_2[len_layer:])\n",
    "    new_robot = SimpleNeuralNet(18,2,[10])\n",
    "    new_robot.layers = new_layer\n",
    "    return new_robot\n",
    "    \n",
    "def recombination(population, fitnesses, factor = 5):\n",
    "    combined_pop = zip(population, fitnesses)\n",
    "    # Sort based on fitness\n",
    "    population = [x for _,x in sorted(zip(fitnesses, population), reverse=True, key=lambda pair: pair[0])]\n",
    "    fitnesses = sorted(fitnesses, reverse=True)\n",
    "    elites = population[:factor]\n",
    "    elites_fitness = fitnesses[:factor]\n",
    "    new_elites = []\n",
    "    # recombine using num(factor) elites\n",
    "    for net in range(len_pop - factor):\n",
    "        recombine_1, recombine_2 = random.choices(elites, k=2, weights=elites_fitness, replace = True)\n",
    "        new_elite = combine_2(robot_1, robot_2)\n",
    "        new_elites.append(new_elite)\n",
    "        mutate_network(new_elite, mutation_rate=0.1)\n",
    "    # Add new_elites to elites and return\n",
    "    elites.extend(new_elites)\n",
    "    population = elites\n",
    "    return population"
   ]
  },
  {
   "cell_type": "markdown",
   "metadata": {},
   "source": [
    "### Fitness Functions\n",
    "#### *Extensions*: \n",
    "- **measure_proportional_distance_to_light** measures the total distance travelled towards the light over the displacement.\n",
    "- **measure_displacement** measures the displacement\n",
    "- **measure_distance**, was given and measures the total distance a robot has travelled\n",
    "- **measure_distance_to_light** measures the absolute distance to the light"
   ]
  },
  {
   "cell_type": "code",
   "execution_count": 21,
   "metadata": {},
   "outputs": [],
   "source": [
    "def measure_proportional_distance_to_light(simple_net, iterations=250):\n",
    "    this_brain = network_to_brain(simple_net)\n",
    "    sim, robot = setup_world(this_brain)\n",
    "    \n",
    "    distance_moved = 0\n",
    "    \n",
    "    #reset the robot's position\n",
    "    robot.setPose(1, 1, 0)\n",
    "    robot.reset()\n",
    "    sonar = [11, 11]\n",
    "    y_2 = robot.getPose()\n",
    "    y_1 = robot.getPose()\n",
    "    start = math.hypot(y_2[0]-sonar[0], y_2[1] - sonar[1])\n",
    "    #iterate through the simulation\n",
    "    for i in range(iterations):        \n",
    "        #but if the robot's stuck, end early!   \n",
    "        if robot.stall:\n",
    "            break\n",
    "        #move the robot\n",
    "        sim.step(run_brain=True)\n",
    "    y_2 = robot.getPose()\n",
    "    total_distance = math.hypot(y_2[0]-y_1[0], y_2[1] - y_1[1])\n",
    "    end = math.hypot(y_2[0]-sonar[0], y_2[1] - sonar[1])\n",
    "    return (start - end)/total_distance"
   ]
  },
  {
   "cell_type": "code",
   "execution_count": 22,
   "metadata": {},
   "outputs": [],
   "source": [
    "def measure_displacement(simple_net, iterations=500):\n",
    "    this_brain = network_to_brain(simple_net)\n",
    "    sim, robot = setup_world(this_brain)\n",
    "\n",
    "    distance_moved = 0\n",
    "    \n",
    "    #reset the robot's position\n",
    "    robot.setPose(1, 1, 0)\n",
    "    robot.reset()\n",
    "    x = robot.getPose()\n",
    "    #iterate through the simulation\n",
    "    for i in range(iterations):        \n",
    "        #but if the robot's stuck, end early!   \n",
    "        if robot.stall:\n",
    "            break\n",
    "        #move the robot\n",
    "        sim.step(run_brain=True)\n",
    "    y = robot.getPose()\n",
    "    total_distance = math.hypot(y[0]-x[0], y[1] - x[1])\n",
    "    return total_distance"
   ]
  },
  {
   "cell_type": "code",
   "execution_count": 23,
   "metadata": {},
   "outputs": [],
   "source": [
    "def measure_distance(simple_net, iterations=500):\n",
    "    this_brain = network_to_brain(simple_net)\n",
    "    sim, robot = setup_world(this_brain)\n",
    "\n",
    "    distance_moved = 0\n",
    "    \n",
    "    #reset the robot's position\n",
    "    robot.setPose(1, 1, 0)\n",
    "    robot.reset()\n",
    "    x = robot.getPose()\n",
    "    #iterate through the simulation\n",
    "    for i in range(iterations):        \n",
    "        #but if the robot's stuck, end early!   \n",
    "        if robot.stall:\n",
    "            break\n",
    "        #move the robot\n",
    "        cur_pos = robot.getPose()\n",
    "        sim.step(run_brain=True)\n",
    "        next_pos = robot.getPose()\n",
    "        \n",
    "        #and keep track of how far it moved\n",
    "        distance_moved += np.linalg.norm(np.array(cur_pos[0:2]) - np.array(next_pos[0:2]))\n",
    "    return distance_moved"
   ]
  },
  {
   "cell_type": "code",
   "execution_count": 24,
   "metadata": {},
   "outputs": [],
   "source": [
    "def measure_distance_to_light(simple_net, iterations=500):\n",
    "    this_brain = network_to_brain(simple_net)\n",
    "    sim, robot = setup_world(this_brain)\n",
    "    \n",
    "    distance_moved = 0\n",
    "    \n",
    "    #reset the robot's position\n",
    "    robot.setPose(1, 1, 0)\n",
    "    robot.reset()\n",
    "    sonar = [11, 11]\n",
    "    #iterate through the simulation\n",
    "    for i in range(iterations):        \n",
    "        #but if the robot's stuck, end early!   \n",
    "        if robot.stall:\n",
    "            break\n",
    "        #move the robot\n",
    "        sim.step(run_brain=True)\n",
    "    end = robot.getPose()\n",
    "    distance_to_light = math.hypot(sonar[0]-end[0], sonar[1] - end[1])\n",
    "    return 100/distance_to_light"
   ]
  },
  {
   "cell_type": "code",
   "execution_count": null,
   "metadata": {},
   "outputs": [],
   "source": [
    "def save_simple_net(prefix, evolved_pop):\n",
    "    for i, pop in enumerate(evolved_pop):\n",
    "        pickle.dump(pop.deepcopy(), open(prefix + str(i) + '.pkl', 'wb'))\n",
    "def return_simple_net(prefix, num):\n",
    "    evolved = []\n",
    "    for i in range(num):\n",
    "        evolved.append(pickle.load(open(prefix + str(i) + '.pkl', 'rb')))\n",
    "    return evolved\n",
    "def delete_simple_net(prefix, num):\n",
    "    for i in range(num):\n",
    "        os.remove(prefix + str(i) + '.pkl')"
   ]
  },
  {
   "cell_type": "markdown",
   "metadata": {},
   "source": [
    "### Run\n",
    "run_evolution_with_fitness runs a given population of nets, num_generation times using a given fitness function to generate fitness and then using a given repopulating_func to generate a new population."
   ]
  },
  {
   "cell_type": "code",
   "execution_count": null,
   "metadata": {},
   "outputs": [],
   "source": [
    "def run_evolution(pop_size, num_generations):\n",
    "    #build our random population of neural networks\n",
    "    population = [SimpleNeuralNet(18,2,[10]) for _ in range(pop_size)]\n",
    "    evo_fitnesses = []\n",
    "\n",
    "    for i in range(num_generations):\n",
    "        #evaluate the fitnesses using 50 timesteps\n",
    "        fitnesses = [measure_displacement(n) for n in population]\n",
    "\n",
    "        #keep track of the mean pop fitnesses\n",
    "        evo_fitnesses.append(np.mean(fitnesses))\n",
    "\n",
    "        #print the generation and the mean fitness we just stuck on the\n",
    "        #evo_fitnesses list\n",
    "        clear_output(wait=True)\n",
    "        display(i, evo_fitnesses[-1])\n",
    "\n",
    "        #do tournament selection\n",
    "        next_pop = [x.deepcopy() for x in tournament_selection(population, fitnesses)]\n",
    "\n",
    "        #and mutate the new networks\n",
    "        for net in next_pop:\n",
    "            mutate_network(net, mutation_rate=0.1)\n",
    "\n",
    "        population = next_pop\n",
    "    return population"
   ]
  },
  {
   "cell_type": "code",
   "execution_count": 15,
   "metadata": {},
   "outputs": [],
   "source": [
    "def run_evolution_with_fitness(pop, num_generations, fitness_func, repopulating_func = tournament_selection):\n",
    "    #build our random population of neural networks\n",
    "    population = pop\n",
    "    evo_fitnesses = []\n",
    "\n",
    "    for i in range(num_generations):\n",
    "        #evaluate the fitnesses using 50 timesteps\n",
    "        fitnesses = [np.mean([fitness_func(n, iterations=500) for _ in range(10)]) for n in population]\n",
    "        \n",
    "        #keep track of the mean pop fitnesses\n",
    "        evo_fitnesses.append(np.mean(fitnesses))\n",
    "\n",
    "        #print the generation and the mean fitness we just stuck on the\n",
    "        #evo_fitnesses list\n",
    "        clear_output(wait=True)\n",
    "        display(i, \"mean:\", evo_fitnesses[-1], \"first:\", fitnesses[0])\n",
    "\n",
    "        #do tournament selection\n",
    "        next_pop = [x.deepcopy() for x in repopulating_func(population, fitnesses, 3)]\n",
    "\n",
    "        #and mutate the new networks\n",
    "        for net in next_pop:\n",
    "            mutate_network(net, mutation_rate=0.1)\n",
    "\n",
    "        population = next_pop\n",
    "    return population"
   ]
  },
  {
   "cell_type": "code",
   "execution_count": null,
   "metadata": {},
   "outputs": [],
   "source": [
    "# Run with displacement\n",
    "fittest = run_evolution(30, 20)\n",
    "new_fittest = run_evolution_with_fitness(fittest, 25, measure_distance)\n",
    "new_fittest = run_evolution_with_fitness(new_fittest, 25, measure_displacement)\n",
    "new_fittest = run_evolution_with_fitness(new_fittest, 25, measure_distance_to_light)\n",
    "new_fittest = run_evolution_with_fitness(new_fittest, 25, measure_proportional_distance_to_light)"
   ]
  },
  {
   "cell_type": "code",
   "execution_count": null,
   "metadata": {},
   "outputs": [],
   "source": [
    "new_fittest_sorted = sorted(new_fittest, key = lambda x:(measure_displacement(x)), reverse = True)"
   ]
  },
  {
   "cell_type": "code",
   "execution_count": null,
   "metadata": {},
   "outputs": [],
   "source": [
    "save_simple_net('submission', new_fittest_sorted)\n",
    "# TO LOAD: return_simple_net('submission', 30)"
   ]
  },
  {
   "cell_type": "code",
   "execution_count": null,
   "metadata": {},
   "outputs": [],
   "source": [
    "sim, robot = setup_world(network_to_brain(new_fittest[0]))\n",
    "canvas = Canvas((250, 250))\n",
    "\n",
    "for i in range(500):\n",
    "    sim.step(run_brain=True)\n",
    "    sim.draw(canvas)\n",
    "    clear_output(wait=True)\n",
    "    display(canvas)\n",
    "    print(robot[\"light\"].getData())\n",
    "    time.sleep(0.01)\n",
    "    if robot.stall:\n",
    "        break"
   ]
  },
  {
   "cell_type": "markdown",
   "metadata": {},
   "source": [
    "### NEAT\n",
    "First, we import the neat library from the python, it can be installed with pip. \n",
    "\n",
    "Helper Functions:\n",
    "1. get_brain_inputs: gets the input from the robot\n",
    "2. setup_neat: creates the world, just like setup_world but returns the sim, with a *reference* to the robot object\n",
    "3. setup_neat_static: creates a copy of a predefined global world(static_world) and returns the sim, and a reference to the robot object\n",
    "\n",
    "The fitness functions take in the population, and then for each genome, create a FeedForwardNetwork which over each iteration in the simulation, accepts 18 inputs and outputs 2 values, which are then used to move the robot.\n",
    "\n",
    "The Fitness functions:\n",
    "1. avoid_wall_and_fly: Evolves the robot to travel the farthest it can in a predefined static world.\n",
    "2. fitness_over_three: Evaluates the robot's fitness over 3 randomally generated canvases\n",
    "3. binary_light_with_static_net: Evaluates the robot over a predefined static world and a random world. The fitness is rewarded as 100\\*num_times it stays within 1 unit distance of the light.\n",
    "4. binary_light: repeats the above function with a 3 random nets, for 200 steps."
   ]
  },
  {
   "cell_type": "code",
   "execution_count": 39,
   "metadata": {},
   "outputs": [],
   "source": [
    "import neat\n",
    "import copy"
   ]
  },
  {
   "cell_type": "code",
   "execution_count": 30,
   "metadata": {},
   "outputs": [],
   "source": [
    "def get_brain_inputs(a_robot):\n",
    "    #Define the brain function for jyro\n",
    "    sonar_sensors = a_robot[\"sonar\"].getData()\n",
    "    light_sensors = a_robot[\"light\"].getData()\n",
    "\n",
    "    #combine the sonar and light inputs\n",
    "    combined_input = sonar_sensors + light_sensors\n",
    "    return combined_input\n",
    "\n",
    "def setup_neat():\n",
    "    robot = MyPioneer(\"Johnny\", 1, 1, 0)\n",
    "    sim = Physics()\n",
    "    make_world(sim)\n",
    "    sim.addRobot(robot)\n",
    "    return sim, robot\n",
    "\n",
    "def setup_neat_static():\n",
    "    global static_sim\n",
    "    new_static = copy.deepcopy(static_sim)\n",
    "    robot = MyPioneer(\"Johnny\", 1, 1, 0)\n",
    "    new_static.addRobot(robot)\n",
    "    return new_static, robot"
   ]
  },
  {
   "cell_type": "code",
   "execution_count": 42,
   "metadata": {},
   "outputs": [],
   "source": [
    "def avoid_wall_and_fly(nets, config, iterations=500):\n",
    "    for genome_id, genome in nets:\n",
    "        net = neat.nn.FeedForwardNetwork.create(genome, config)\n",
    "        sim, robot = setup_neat_static()\n",
    "        robot.setPose(1, 1, 0)\n",
    "        moved = 0\n",
    "        start = [1, 1]\n",
    "        for i in range(250):\n",
    "            if robot.stall:\n",
    "                break\n",
    "            inputs = get_brain_inputs(robot)\n",
    "            x, y = net.activate(inputs[:])\n",
    "            robot.move(x, y)\n",
    "            sim.step()\n",
    "        end = robot.getPose()\n",
    "        moved = math.hypot(start[0] - end[0], start[1] - end[1])\n",
    "        genome.fitness = moved"
   ]
  },
  {
   "cell_type": "code",
   "execution_count": 43,
   "metadata": {},
   "outputs": [],
   "source": [
    "def fitness_over_three(nets, config, iterations=500):\n",
    "    for genome_id, genome in nets:\n",
    "        net = neat.nn.FeedForwardNetwork.create(genome, config)\n",
    "        moved = 0\n",
    "        for i in range(3):\n",
    "            sim, robot = setup_neat()\n",
    "            robot.setPose(1, 1, 0)\n",
    "            moved = 0\n",
    "            for i in range(100):\n",
    "                if robot.stall:\n",
    "                    break\n",
    "                inputs = get_brain_inputs(robot)\n",
    "                x, y = net.activate(inputs)\n",
    "                robot.move(x, y)\n",
    "                sim.step()\n",
    "            end = robot.getPose()\n",
    "            moved = moved+math.hypot(1-end[0], 1 - end[1])\n",
    "        genome.fitness = moved/3"
   ]
  },
  {
   "cell_type": "code",
   "execution_count": 52,
   "metadata": {},
   "outputs": [],
   "source": [
    "def binary_light_with_static_net(nets, config, iterations=150):\n",
    "    for genome_id, genome in nets:\n",
    "        net = neat.nn.FeedForwardNetwork.create(genome, config)\n",
    "        light = [11, 11]\n",
    "        moved_less_than_5 = 0\n",
    "        sim, robot = setup_neat_static()\n",
    "        robot.setPose(1, 1, 0)\n",
    "        times_found = 0\n",
    "        for i in range(200):\n",
    "            inputs = get_brain_inputs(robot)\n",
    "            x, y = net.activate(inputs)\n",
    "            robot.move(x, y)\n",
    "            sim.step()\n",
    "            end = robot.getPose()\n",
    "            dist_light = abs(math.hypot(light[0]-end[0], light[1] - end[1]))\n",
    "            if dist_light < 8:\n",
    "                times_found += (8-dist_light)\n",
    "                break\n",
    "            if robot.stall:\n",
    "                break\n",
    "        sim, robot = setup_neat()\n",
    "        for i in range(200):\n",
    "            inputs = get_brain_inputs(robot)\n",
    "            x, y = net.activate(inputs)\n",
    "            robot.move(x, y)\n",
    "            sim.step()\n",
    "            end = robot.getPose()\n",
    "            dist_light = abs(math.hypot(light[0]-end[0], light[1] - end[1]))\n",
    "            if dist_light < 2:\n",
    "                times_found += (8-dist_light)\n",
    "                break\n",
    "            if robot.stall:\n",
    "                break\n",
    "        genome.fitness = 10*times_found"
   ]
  },
  {
   "cell_type": "code",
   "execution_count": 53,
   "metadata": {},
   "outputs": [],
   "source": [
    "def binary_light(nets, config, iterations=150):\n",
    "    for genome_id, genome in nets:\n",
    "        net = neat.nn.FeedForwardNetwork.create(genome, config)\n",
    "        light = [11, 11]\n",
    "        moved_less_than_5 = 0\n",
    "        sim, robot = setup_neat()\n",
    "        robot.setPose(1, 1, 0)\n",
    "        times_found = 0\n",
    "        for j in range(3):\n",
    "            sim, robot = setup_neat()\n",
    "            for i in range(200):\n",
    "                inputs = get_brain_inputs(robot)\n",
    "                x, y = net.activate(inputs)\n",
    "                robot.move(x, y)\n",
    "                sim.step()\n",
    "                end = robot.getPose()\n",
    "                dist_light = abs(math.hypot(light[0]-end[0], light[1] - end[1]))\n",
    "                if dist_light < 5:\n",
    "                    times_found += 1\n",
    "                    break\n",
    "                if robot.stall:\n",
    "                    break\n",
    "        genome.fitness = 10*times_found"
   ]
  },
  {
   "cell_type": "code",
   "execution_count": 27,
   "metadata": {},
   "outputs": [
    {
     "data": {
      "image/svg+xml": [
       "<svg baseProfile=\"full\" height=\"250\" version=\"1.1\" width=\"250\" xmlns=\"http://www.w3.org/2000/svg\" xmlns:ev=\"http://www.w3.org/2001/xml-events\" xmlns:xlink=\"http://www.w3.org/1999/xlink\"><defs /><rect fill=\"#eef3dd\" height=\"250.0\" stroke=\"#bebebe\" stroke-width=\"1\" width=\"250.0\" x=\"0.0\" y=\"0.0\" /><rect fill=\"#bebebe\" height=\"3.63348332344421\" stroke=\"#bebebe\" stroke-width=\"1\" width=\"150.50193687936104\" x=\"5.208333333333333\" y=\"215.1165166765558\" /><rect fill=\"#bebebe\" height=\"5.93113357223271\" stroke=\"#bebebe\" stroke-width=\"1\" width=\"131.5110039862855\" x=\"5.208333333333333\" y=\"177.40219976110063\" /><rect fill=\"#bebebe\" height=\"4.003841915013481\" stroke=\"#bebebe\" stroke-width=\"1\" width=\"80.02360912921264\" x=\"164.768057537454\" y=\"143.91282475165318\" /><rect fill=\"#bebebe\" height=\"2.7884811867969432\" stroke=\"#bebebe\" stroke-width=\"1\" width=\"136.92443776011496\" x=\"5.208333333333333\" y=\"109.71151881320306\" /><rect fill=\"#bebebe\" height=\"3.489518922582647\" stroke=\"#bebebe\" stroke-width=\"1\" width=\"198.7309948099683\" x=\"5.208333333333333\" y=\"73.59381441075067\" /><rect fill=\"#bebebe\" height=\"5.543914781087402\" stroke=\"#bebebe\" stroke-width=\"1\" width=\"143.4210174320537\" x=\"101.37064923461297\" y=\"36.12275188557926\" /><circle cx=\"229.16666666666666\" cy=\"20.833333333333332\" fill=\"#ffff00\" r=\"5.208333333333333\" stroke=\"#ffff00\" stroke-width=\"1\" /></svg>"
      ],
      "text/plain": [
       "<jyro.simulator.canvas.Canvas at 0x109541908>"
      ]
     },
     "metadata": {},
     "output_type": "display_data"
    }
   ],
   "source": [
    "# First we create a 'hard' world to evolve the robot\n",
    "static_sim = Physics()\n",
    "make_world(static_sim)\n",
    "canvas = Canvas((250, 250))\n",
    "static_sim.draw(canvas)\n",
    "clear_output(wait=True)\n",
    "display(canvas)"
   ]
  },
  {
   "cell_type": "markdown",
   "metadata": {},
   "source": [
    "The config variable generates a configuration from the provided CONFIG file, which includes all the parameters defined and used for the values in neat.DefaultGenome etc. "
   ]
  },
  {
   "cell_type": "code",
   "execution_count": 46,
   "metadata": {},
   "outputs": [],
   "source": [
    "config = neat.Config(neat.DefaultGenome, neat.DefaultReproduction,\n",
    "                     neat.DefaultSpeciesSet, neat.DefaultStagnation, \n",
    "                     'neat_config')"
   ]
  },
  {
   "cell_type": "code",
   "execution_count": 47,
   "metadata": {},
   "outputs": [],
   "source": [
    "# Creates a new population p\n",
    "p = neat.Population(config)\n",
    "# Add statistics to pretty print progress\n",
    "p.add_reporter(neat.StdOutReporter(True))\n",
    "stats = neat.StatisticsReporter()\n",
    "p.add_reporter(stats)"
   ]
  },
  {
   "cell_type": "markdown",
   "metadata": {},
   "source": [
    "x = p.run(first, second) runs the function first for second value times and returns the best genome as x. Population p is also modified.\n",
    "\n",
    "The NEAT implementation also pretty prints its progress"
   ]
  },
  {
   "cell_type": "code",
   "execution_count": 78,
   "metadata": {
    "scrolled": true
   },
   "outputs": [
    {
     "name": "stdout",
     "output_type": "stream",
     "text": [
      "\n",
      " ****** Running generation 40 ****** \n",
      "\n",
      "Population's average fitness: 2.42811 stdev: 2.95439\n",
      "Best fitness: 10.91317 - size: (3, 16) - species 16 - id 5112\n",
      "Average adjusted fitness: 0.179\n",
      "Mean genetic distance 3.121, standard deviation 0.928\n",
      "Population of 148 members in 8 species:\n",
      "   ID   age  size  fitness  adj fit  stag\n",
      "  ====  ===  ====  =======  =======  ====\n",
      "     9   19    10      1.1    0.096     1\n",
      "    10   15    23      2.0    0.186     4\n",
      "    11   11     7      0.7    0.064     6\n",
      "    12   10     4      0.4    0.035     1\n",
      "    13    5    31      3.0    0.273     4\n",
      "    14    4    18      2.2    0.197     0\n",
      "    15    3    28      3.4    0.314     0\n",
      "    16    2    27      2.9    0.266     1\n",
      "Total extinctions: 0\n",
      "Generation time: 115.984 sec (100.312 average)\n",
      "\n",
      " ****** Running generation 41 ****** \n",
      "\n"
     ]
    },
    {
     "ename": "KeyboardInterrupt",
     "evalue": "",
     "output_type": "error",
     "traceback": [
      "\u001b[0;31m---------------------------------------------------------------------------\u001b[0m",
      "\u001b[0;31mKeyboardInterrupt\u001b[0m                         Traceback (most recent call last)",
      "\u001b[0;32m<ipython-input-78-4a4ab92374e8>\u001b[0m in \u001b[0;36m<module>\u001b[0;34m()\u001b[0m\n\u001b[1;32m      3\u001b[0m \u001b[0;31m# p.run(binary_light_with_static_net, 10)\u001b[0m\u001b[0;34m\u001b[0m\u001b[0;34m\u001b[0m\u001b[0m\n\u001b[1;32m      4\u001b[0m \u001b[0;31m# p.run(binary_light, 5)\u001b[0m\u001b[0;34m\u001b[0m\u001b[0;34m\u001b[0m\u001b[0m\n\u001b[0;32m----> 5\u001b[0;31m \u001b[0mwinner\u001b[0m \u001b[0;34m=\u001b[0m \u001b[0mp\u001b[0m\u001b[0;34m.\u001b[0m\u001b[0mrun\u001b[0m\u001b[0;34m(\u001b[0m\u001b[0mavoid_wall_and_fly\u001b[0m\u001b[0;34m,\u001b[0m \u001b[0;36m2\u001b[0m\u001b[0;34m)\u001b[0m\u001b[0;34m\u001b[0m\u001b[0m\n\u001b[0m",
      "\u001b[0;32m/anaconda3/lib/python3.6/site-packages/neat/population.py\u001b[0m in \u001b[0;36mrun\u001b[0;34m(self, fitness_function, n)\u001b[0m\n\u001b[1;32m     87\u001b[0m \u001b[0;34m\u001b[0m\u001b[0m\n\u001b[1;32m     88\u001b[0m             \u001b[0;31m# Evaluate all genomes using the user-provided function.\u001b[0m\u001b[0;34m\u001b[0m\u001b[0;34m\u001b[0m\u001b[0m\n\u001b[0;32m---> 89\u001b[0;31m             \u001b[0mfitness_function\u001b[0m\u001b[0;34m(\u001b[0m\u001b[0mlist\u001b[0m\u001b[0;34m(\u001b[0m\u001b[0miteritems\u001b[0m\u001b[0;34m(\u001b[0m\u001b[0mself\u001b[0m\u001b[0;34m.\u001b[0m\u001b[0mpopulation\u001b[0m\u001b[0;34m)\u001b[0m\u001b[0;34m)\u001b[0m\u001b[0;34m,\u001b[0m \u001b[0mself\u001b[0m\u001b[0;34m.\u001b[0m\u001b[0mconfig\u001b[0m\u001b[0;34m)\u001b[0m\u001b[0;34m\u001b[0m\u001b[0m\n\u001b[0m\u001b[1;32m     90\u001b[0m \u001b[0;34m\u001b[0m\u001b[0m\n\u001b[1;32m     91\u001b[0m             \u001b[0;31m# Gather and report statistics.\u001b[0m\u001b[0;34m\u001b[0m\u001b[0;34m\u001b[0m\u001b[0m\n",
      "\u001b[0;32m<ipython-input-42-66831c1472ef>\u001b[0m in \u001b[0;36mavoid_wall_and_fly\u001b[0;34m(nets, config, iterations)\u001b[0m\n\u001b[1;32m     12\u001b[0m             \u001b[0mx\u001b[0m\u001b[0;34m,\u001b[0m \u001b[0my\u001b[0m \u001b[0;34m=\u001b[0m \u001b[0mnet\u001b[0m\u001b[0;34m.\u001b[0m\u001b[0mactivate\u001b[0m\u001b[0;34m(\u001b[0m\u001b[0minputs\u001b[0m\u001b[0;34m[\u001b[0m\u001b[0;34m:\u001b[0m\u001b[0;34m]\u001b[0m\u001b[0;34m)\u001b[0m\u001b[0;34m\u001b[0m\u001b[0m\n\u001b[1;32m     13\u001b[0m             \u001b[0mrobot\u001b[0m\u001b[0;34m.\u001b[0m\u001b[0mmove\u001b[0m\u001b[0;34m(\u001b[0m\u001b[0mx\u001b[0m\u001b[0;34m,\u001b[0m \u001b[0my\u001b[0m\u001b[0;34m)\u001b[0m\u001b[0;34m\u001b[0m\u001b[0m\n\u001b[0;32m---> 14\u001b[0;31m             \u001b[0msim\u001b[0m\u001b[0;34m.\u001b[0m\u001b[0mstep\u001b[0m\u001b[0;34m(\u001b[0m\u001b[0;34m)\u001b[0m\u001b[0;34m\u001b[0m\u001b[0m\n\u001b[0m\u001b[1;32m     15\u001b[0m         \u001b[0mend\u001b[0m \u001b[0;34m=\u001b[0m \u001b[0mrobot\u001b[0m\u001b[0;34m.\u001b[0m\u001b[0mgetPose\u001b[0m\u001b[0;34m(\u001b[0m\u001b[0;34m)\u001b[0m\u001b[0;34m\u001b[0m\u001b[0m\n\u001b[1;32m     16\u001b[0m         \u001b[0mmoved\u001b[0m \u001b[0;34m=\u001b[0m \u001b[0mmath\u001b[0m\u001b[0;34m.\u001b[0m\u001b[0mhypot\u001b[0m\u001b[0;34m(\u001b[0m\u001b[0mstart\u001b[0m\u001b[0;34m[\u001b[0m\u001b[0;36m0\u001b[0m\u001b[0;34m]\u001b[0m \u001b[0;34m-\u001b[0m \u001b[0mend\u001b[0m\u001b[0;34m[\u001b[0m\u001b[0;36m0\u001b[0m\u001b[0;34m]\u001b[0m\u001b[0;34m,\u001b[0m \u001b[0mstart\u001b[0m\u001b[0;34m[\u001b[0m\u001b[0;36m1\u001b[0m\u001b[0;34m]\u001b[0m \u001b[0;34m-\u001b[0m \u001b[0mend\u001b[0m\u001b[0;34m[\u001b[0m\u001b[0;36m1\u001b[0m\u001b[0;34m]\u001b[0m\u001b[0;34m)\u001b[0m\u001b[0;34m\u001b[0m\u001b[0m\n",
      "\u001b[0;32m/anaconda3/lib/python3.6/site-packages/jyro/simulator/simulator.py\u001b[0m in \u001b[0;36mstep\u001b[0;34m(self, run_brain)\u001b[0m\n\u001b[1;32m    340\u001b[0m             \u001b[0mcollision\u001b[0m \u001b[0;34m=\u001b[0m \u001b[0mr\u001b[0m\u001b[0;34m.\u001b[0m\u001b[0mstep\u001b[0m\u001b[0;34m(\u001b[0m\u001b[0mself\u001b[0m\u001b[0;34m.\u001b[0m\u001b[0mtimeslice\u001b[0m\u001b[0;34m)\u001b[0m\u001b[0;34m\u001b[0m\u001b[0m\n\u001b[1;32m    341\u001b[0m         \u001b[0;32mfor\u001b[0m \u001b[0mr\u001b[0m \u001b[0;32min\u001b[0m \u001b[0mself\u001b[0m\u001b[0;34m.\u001b[0m\u001b[0mrobots\u001b[0m\u001b[0;34m:\u001b[0m\u001b[0;34m\u001b[0m\u001b[0m\n\u001b[0;32m--> 342\u001b[0;31m             \u001b[0mr\u001b[0m\u001b[0;34m.\u001b[0m\u001b[0mupdateDevices\u001b[0m\u001b[0;34m(\u001b[0m\u001b[0;34m)\u001b[0m\u001b[0;34m\u001b[0m\u001b[0m\n\u001b[0m\u001b[1;32m    343\u001b[0m         \u001b[0mself\u001b[0m\u001b[0;34m.\u001b[0m\u001b[0mstepCount\u001b[0m \u001b[0;34m+=\u001b[0m \u001b[0;36m1\u001b[0m\u001b[0;34m\u001b[0m\u001b[0m\n\u001b[1;32m    344\u001b[0m \u001b[0;34m\u001b[0m\u001b[0m\n",
      "\u001b[0;32m/anaconda3/lib/python3.6/site-packages/jyro/simulator/robot.py\u001b[0m in \u001b[0;36mupdateDevices\u001b[0;34m(self)\u001b[0m\n\u001b[1;32m    180\u001b[0m         \u001b[0;32mfor\u001b[0m \u001b[0mdevice\u001b[0m \u001b[0;32min\u001b[0m \u001b[0mself\u001b[0m\u001b[0;34m.\u001b[0m\u001b[0mdevices\u001b[0m\u001b[0;34m:\u001b[0m\u001b[0;34m\u001b[0m\u001b[0m\n\u001b[1;32m    181\u001b[0m             \u001b[0;32mif\u001b[0m \u001b[0mdevice\u001b[0m\u001b[0;34m.\u001b[0m\u001b[0mactive\u001b[0m\u001b[0;34m:\u001b[0m\u001b[0;34m\u001b[0m\u001b[0m\n\u001b[0;32m--> 182\u001b[0;31m                 \u001b[0mdevice\u001b[0m\u001b[0;34m.\u001b[0m\u001b[0mupdate\u001b[0m\u001b[0;34m(\u001b[0m\u001b[0mself\u001b[0m\u001b[0;34m)\u001b[0m\u001b[0;34m\u001b[0m\u001b[0m\n\u001b[0m\u001b[1;32m    183\u001b[0m \u001b[0;34m\u001b[0m\u001b[0m\n\u001b[1;32m    184\u001b[0m     \u001b[0;32mdef\u001b[0m \u001b[0mstep\u001b[0m\u001b[0;34m(\u001b[0m\u001b[0mself\u001b[0m\u001b[0;34m,\u001b[0m \u001b[0mtimeslice\u001b[0m\u001b[0;34m=\u001b[0m\u001b[0;36m100\u001b[0m\u001b[0;34m)\u001b[0m\u001b[0;34m:\u001b[0m\u001b[0;34m\u001b[0m\u001b[0m\n",
      "\u001b[0;32m/anaconda3/lib/python3.6/site-packages/jyro/simulator/device.py\u001b[0m in \u001b[0;36mupdate\u001b[0;34m(self, robot)\u001b[0m\n\u001b[1;32m    109\u001b[0m                 \u001b[0mself\u001b[0m\u001b[0;34m.\u001b[0m\u001b[0mscan\u001b[0m\u001b[0;34m[\u001b[0m\u001b[0mi\u001b[0m\u001b[0;34m]\u001b[0m \u001b[0;34m=\u001b[0m \u001b[0;36m0\u001b[0m\u001b[0;34m\u001b[0m\u001b[0m\n\u001b[1;32m    110\u001b[0m                 \u001b[0;32mcontinue\u001b[0m\u001b[0;34m\u001b[0m\u001b[0m\n\u001b[0;32m--> 111\u001b[0;31m             \u001b[0mdist\u001b[0m\u001b[0;34m,\u001b[0m \u001b[0mhit\u001b[0m\u001b[0;34m,\u001b[0m \u001b[0mobj\u001b[0m \u001b[0;34m=\u001b[0m \u001b[0mrobot\u001b[0m\u001b[0;34m.\u001b[0m\u001b[0mphysics\u001b[0m\u001b[0;34m.\u001b[0m\u001b[0mcastRay\u001b[0m\u001b[0;34m(\u001b[0m\u001b[0mrobot\u001b[0m\u001b[0;34m,\u001b[0m \u001b[0mgx\u001b[0m\u001b[0;34m,\u001b[0m \u001b[0mgy\u001b[0m\u001b[0;34m,\u001b[0m \u001b[0;34m-\u001b[0m\u001b[0mga\u001b[0m\u001b[0;34m,\u001b[0m \u001b[0mself\u001b[0m\u001b[0;34m.\u001b[0m\u001b[0mmaxRange\u001b[0m\u001b[0;34m,\u001b[0m \u001b[0mrayType\u001b[0m\u001b[0;34m=\u001b[0m\u001b[0;34m\"range\"\u001b[0m\u001b[0;34m)\u001b[0m\u001b[0;34m\u001b[0m\u001b[0m\n\u001b[0m\u001b[1;32m    112\u001b[0m             \u001b[0;32mif\u001b[0m \u001b[0mhit\u001b[0m\u001b[0;34m:\u001b[0m\u001b[0;34m\u001b[0m\u001b[0m\n\u001b[1;32m    113\u001b[0m                 \u001b[0;32mif\u001b[0m \u001b[0mrobot\u001b[0m\u001b[0;34m.\u001b[0m\u001b[0mdisplay\u001b[0m\u001b[0;34m[\u001b[0m\u001b[0;34m\"devices\"\u001b[0m\u001b[0;34m]\u001b[0m \u001b[0;34m==\u001b[0m \u001b[0;36m1\u001b[0m\u001b[0;34m:\u001b[0m\u001b[0;34m\u001b[0m\u001b[0m\n",
      "\u001b[0;32m/anaconda3/lib/python3.6/site-packages/jyro/simulator/simulator.py\u001b[0m in \u001b[0;36mcastRay\u001b[0;34m(self, robot, x1, y1, a, maxRange, ignoreRobot, rayType)\u001b[0m\n\u001b[1;32m    354\u001b[0m             \u001b[0;32mfor\u001b[0m \u001b[0mw\u001b[0m \u001b[0;32min\u001b[0m \u001b[0mself\u001b[0m\u001b[0;34m.\u001b[0m\u001b[0mworld\u001b[0m\u001b[0;34m:\u001b[0m\u001b[0;34m\u001b[0m\u001b[0m\n\u001b[1;32m    355\u001b[0m                 \u001b[0;31m## Direct light:\u001b[0m\u001b[0;34m\u001b[0m\u001b[0;34m\u001b[0m\u001b[0m\n\u001b[0;32m--> 356\u001b[0;31m                 \u001b[0mretval\u001b[0m \u001b[0;34m=\u001b[0m \u001b[0mw\u001b[0m\u001b[0;34m.\u001b[0m\u001b[0mintersects\u001b[0m\u001b[0;34m(\u001b[0m\u001b[0mseg\u001b[0m\u001b[0;34m)\u001b[0m\u001b[0;34m\u001b[0m\u001b[0m\n\u001b[0m\u001b[1;32m    357\u001b[0m                 \u001b[0;32mif\u001b[0m \u001b[0mretval\u001b[0m\u001b[0;34m:\u001b[0m\u001b[0;34m\u001b[0m\u001b[0m\n\u001b[1;32m    358\u001b[0m                     \u001b[0mdist\u001b[0m \u001b[0;34m=\u001b[0m \u001b[0mSegment\u001b[0m\u001b[0;34m(\u001b[0m\u001b[0mretval\u001b[0m\u001b[0;34m,\u001b[0m \u001b[0;34m(\u001b[0m\u001b[0mx1\u001b[0m\u001b[0;34m,\u001b[0m \u001b[0my1\u001b[0m\u001b[0;34m)\u001b[0m\u001b[0;34m)\u001b[0m\u001b[0;34m.\u001b[0m\u001b[0mlength\u001b[0m\u001b[0;34m(\u001b[0m\u001b[0;34m)\u001b[0m\u001b[0;34m\u001b[0m\u001b[0m\n",
      "\u001b[0;32m/anaconda3/lib/python3.6/site-packages/jyro/simulator/simulator.py\u001b[0m in \u001b[0;36mintersects\u001b[0;34m(self, other)\u001b[0m\n\u001b[1;32m    190\u001b[0m         \u001b[0;32melse\u001b[0m\u001b[0;34m:\u001b[0m\u001b[0;34m\u001b[0m\u001b[0m\n\u001b[1;32m    191\u001b[0m             \u001b[0mi\u001b[0m \u001b[0;34m=\u001b[0m \u001b[0mself\u001b[0m\u001b[0;34m.\u001b[0m\u001b[0mintersection\u001b[0m\u001b[0;34m(\u001b[0m\u001b[0mother\u001b[0m\u001b[0;34m)\u001b[0m\u001b[0;34m\u001b[0m\u001b[0m\n\u001b[0;32m--> 192\u001b[0;31m             \u001b[0;32mif\u001b[0m \u001b[0mself\u001b[0m\u001b[0;34m.\u001b[0m\u001b[0min_bbox\u001b[0m\u001b[0;34m(\u001b[0m\u001b[0mi\u001b[0m\u001b[0;34m)\u001b[0m \u001b[0;32mand\u001b[0m \u001b[0mother\u001b[0m\u001b[0;34m.\u001b[0m\u001b[0min_bbox\u001b[0m\u001b[0;34m(\u001b[0m\u001b[0mi\u001b[0m\u001b[0;34m)\u001b[0m\u001b[0;34m:\u001b[0m\u001b[0;34m\u001b[0m\u001b[0m\n\u001b[0m\u001b[1;32m    193\u001b[0m                 \u001b[0;32mreturn\u001b[0m \u001b[0mi\u001b[0m\u001b[0;34m\u001b[0m\u001b[0m\n\u001b[1;32m    194\u001b[0m             \u001b[0;32melse\u001b[0m\u001b[0;34m:\u001b[0m\u001b[0;34m\u001b[0m\u001b[0m\n",
      "\u001b[0;32m/anaconda3/lib/python3.6/site-packages/jyro/simulator/simulator.py\u001b[0m in \u001b[0;36min_bbox\u001b[0;34m(self, point)\u001b[0m\n\u001b[1;32m    162\u001b[0m         return (((self.end[0]   <= round(point[0], RESOLUTION) <= self.start[0]) or\n\u001b[1;32m    163\u001b[0m                  (self.start[0] <= round(point[0], RESOLUTION) <= self.end[0])) and\n\u001b[0;32m--> 164\u001b[0;31m                 ((self.end[1]   <= round(point[1], RESOLUTION) <= self.start[1]) or\n\u001b[0m\u001b[1;32m    165\u001b[0m                  (self.start[1] <= round(point[1], RESOLUTION) <= self.end[1])))\n\u001b[1;32m    166\u001b[0m \u001b[0;34m\u001b[0m\u001b[0m\n",
      "\u001b[0;31mKeyboardInterrupt\u001b[0m: "
     ]
    }
   ],
   "source": [
    "p.run(avoid_wall_and_fly, 5)\n",
    "p.run(fitness_over_three, 5)\n",
    "p.run(binary_light_with_static_net, 10)\n",
    "p.run(binary_light, 5)\n",
    "winner = p.run(avoid_wall_and_fly, 5)"
   ]
  },
  {
   "cell_type": "code",
   "execution_count": 56,
   "metadata": {},
   "outputs": [],
   "source": [
    "# Some code to execute right after the previous cell to alert of completion\n",
    "from IPython.display import Audio\n",
    "import os\n",
    "def allDone():\n",
    "  os.system('say \"DONE!\"')\n",
    "allDone()"
   ]
  },
  {
   "cell_type": "markdown",
   "metadata": {},
   "source": [
    "Creates a winner_net from the best genome"
   ]
  },
  {
   "cell_type": "code",
   "execution_count": 57,
   "metadata": {},
   "outputs": [],
   "source": [
    "winner_net = neat.nn.FeedForwardNetwork.create(winner, config)"
   ]
  },
  {
   "cell_type": "markdown",
   "metadata": {},
   "source": [
    "Save, return and delete the copy of the population or a particular genome."
   ]
  },
  {
   "cell_type": "code",
   "execution_count": 83,
   "metadata": {},
   "outputs": [],
   "source": [
    "def save_population(prefix, pop):\n",
    "    pickle.dump(copy.deepcopy(p), open(prefix + '.pkl', 'wb'))\n",
    "def return_population(prefix):\n",
    "    loaded = pickle.load(open(prefix + '.pkl', 'rb'))\n",
    "    return loaded\n",
    "def delete_population(prefix):\n",
    "    try:\n",
    "        os.remove(prefix + '.pkl')\n",
    "    except FileNotFoundError:\n",
    "        print('Not found')\n",
    "save_population('binary', p)\n",
    "y = return_population('binary') # To return pop"
   ]
  },
  {
   "cell_type": "markdown",
   "metadata": {},
   "source": [
    "Similar to the code provided, this uses the neat net to move the robot."
   ]
  },
  {
   "cell_type": "code",
   "execution_count": 79,
   "metadata": {},
   "outputs": [
    {
     "data": {
      "image/svg+xml": [
       "<svg baseProfile=\"full\" height=\"250\" version=\"1.1\" width=\"250\" xmlns=\"http://www.w3.org/2000/svg\" xmlns:ev=\"http://www.w3.org/2001/xml-events\" xmlns:xlink=\"http://www.w3.org/1999/xlink\"><defs /><rect fill=\"#eef3dd\" height=\"250.0\" stroke=\"#bebebe\" stroke-width=\"1\" width=\"250.0\" x=\"0.0\" y=\"0.0\" /><rect fill=\"#bebebe\" height=\"4.171074300980479\" stroke=\"#bebebe\" stroke-width=\"1\" width=\"175.1686421176924\" x=\"69.62302454897427\" y=\"214.57892569901952\" /><rect fill=\"#bebebe\" height=\"6.123483712048227\" stroke=\"#bebebe\" stroke-width=\"1\" width=\"197.51833279965567\" x=\"5.208333333333333\" y=\"177.20984962128512\" /><rect fill=\"#bebebe\" height=\"4.882240707888258\" stroke=\"#bebebe\" stroke-width=\"1\" width=\"81.50653042227253\" x=\"5.208333333333333\" y=\"143.0344259587784\" /><rect fill=\"#bebebe\" height=\"5.622252165612579\" stroke=\"#bebebe\" stroke-width=\"1\" width=\"172.64689996603192\" x=\"72.14476670063473\" y=\"106.87774783438742\" /><rect fill=\"#bebebe\" height=\"4.736643188809509\" stroke=\"#bebebe\" stroke-width=\"1\" width=\"141.5457600935093\" x=\"5.208333333333333\" y=\"72.3466901445238\" /><rect fill=\"#bebebe\" height=\"4.977053292663918\" stroke=\"#bebebe\" stroke-width=\"1\" width=\"137.16507459315696\" x=\"107.6265920735097\" y=\"36.68961337400275\" /><circle cx=\"229.16666666666666\" cy=\"20.833333333333332\" fill=\"#ffff00\" r=\"5.208333333333333\" stroke=\"#ffff00\" stroke-width=\"1\" /><line fill=\"#800080\" stroke=\"#add8e6\" stroke-width=\"1\" x1=\"65.57176537964773\" x2=\"82.00978167896533\" y1=\"226.24226496252373\" y2=\"250.0\" /><line fill=\"#800080\" stroke=\"#add8e6\" stroke-width=\"1\" x1=\"64.07616129903664\" x2=\"68.05988905409863\" y1=\"226.64372717280227\" y2=\"250.0\" /><line fill=\"#800080\" stroke=\"#add8e6\" stroke-width=\"1\" x1=\"63.088039999314425\" x2=\"56.599153748200855\" y1=\"226.31405196675894\" y2=\"250.0\" /><line fill=\"#800080\" stroke=\"#add8e6\" stroke-width=\"1\" x1=\"61.94850322759827\" x2=\"41.22584496066399\" y1=\"225.58246239123324\" y2=\"250.0\" /><line fill=\"#800080\" stroke=\"#add8e6\" stroke-width=\"1\" x1=\"60.763119395294694\" x2=\"0.0\" y1=\"223.86923650189726\" y2=\"245.60096666666666\" /><line fill=\"#800080\" stroke=\"#add8e6\" stroke-width=\"1\" x1=\"60.48019556824654\" x2=\"0.0\" y1=\"222.54495501021978\" y2=\"216.91247083333334\" /><line fill=\"#800080\" stroke=\"#add8e6\" stroke-width=\"1\" x1=\"60.520009802125905\" x2=\"0.0\" y1=\"221.50404950479432\" y2=\"186.10984791666667\" /><line fill=\"#800080\" stroke=\"#add8e6\" stroke-width=\"1\" x1=\"61.422921966585186\" x2=\"35.88300449207925\" y1=\"220.2459743498478\" y2=\"183.33333333333334\" /><line fill=\"#800080\" stroke=\"#add8e6\" stroke-width=\"1\" x1=\"64.84937374525714\" x2=\"40.949793124863824\" y1=\"217.87520668524064\" y2=\"183.33333333333334\" /><line fill=\"#800080\" stroke=\"#add8e6\" stroke-width=\"1\" x1=\"66.34497782586823\" x2=\"60.52186812095957\" y1=\"217.47374447496213\" y2=\"183.33333333333334\" /><line fill=\"#800080\" stroke=\"#add8e6\" stroke-width=\"1\" x1=\"67.33309912559045\" x2=\"76.77635457814718\" y1=\"217.80341968100547\" y2=\"183.33333333333334\" /><line fill=\"#800080\" stroke=\"#add8e6\" stroke-width=\"1\" x1=\"68.4726358973066\" x2=\"69.623025\" y1=\"218.5350092565311\" y2=\"217.17950258693168\" /><line fill=\"#800080\" stroke=\"#add8e6\" stroke-width=\"1\" x1=\"69.65801972961017\" x2=\"73.84716770302461\" y1=\"220.24823514586708\" y2=\"218.75\" /><line fill=\"#800080\" stroke=\"#d3d3d3\" stroke-width=\"1\" x1=\"69.94094355665833\" x2=\"235.88952055352902\" y1=\"221.57251663754462\" y2=\"237.02721076235505\" /><line fill=\"#800080\" stroke=\"#add8e6\" stroke-width=\"1\" x1=\"69.90112932277897\" x2=\"116.72902331775684\" y1=\"222.61342214297008\" y2=\"250.0\" /><line fill=\"#800080\" stroke=\"#add8e6\" stroke-width=\"1\" x1=\"68.99821715831969\" x2=\"87.0765703117499\" y1=\"223.87149729791653\" y2=\"250.0\" /><line fill=\"#800080\" stroke=\"#a020f0\" stroke-width=\"1\" x1=\"229.16666666666666\" x2=\"216.46448319154578\" y1=\"20.833333333333332\" y2=\"36.68961249999998\" /><line fill=\"#800080\" stroke=\"#a020f0\" stroke-width=\"1\" x1=\"229.16666666666666\" x2=\"215.75788673704236\" y1=\"20.833333333333332\" y2=\"36.68961249999998\" /><polygon fill=\"red\" points=\"62.304118377289356,226.09643015803402 64.71515243497974,226.8349568786755 69.85483010298768,223.27880538176476 70.01363487930126,220.7622029126679 68.11702074761553,218.02104148973032 65.70598668992514,217.28251476908883 60.5663090219172,220.8386662659996 60.40750424560362,223.35526873509647\" stroke=\"red\" stroke-width=\"1\" /><polygon points=\"-1.0416666666666667,-1.0416666666666667 0,0 1.0416666666666667,-1.0416666666666667 0,1.0416666666666667\" stroke=\"black\" stroke-width=\"1\" transform=\"translate(65.21056956245243,222.0587358238822) rotate(55.32057598051191)\" /><circle cx=\"63.430233017977756\" cy=\"227.7239947529032\" fill=\"yellow\" r=\"0.5208333333333334\" stroke=\"orange\" stroke-width=\"1\" /><circle cx=\"59.28138960491521\" cy=\"221.7277041402273\" fill=\"yellow\" r=\"0.5208333333333334\" stroke=\"orange\" stroke-width=\"1\" /></svg>"
      ],
      "text/plain": [
       "<jyro.simulator.canvas.Canvas at 0x10b36d6d8>"
      ]
     },
     "metadata": {},
     "output_type": "display_data"
    },
    {
     "name": "stdout",
     "output_type": "stream",
     "text": [
      "-1.0 -0.6368422219911389\n"
     ]
    }
   ],
   "source": [
    "for _ in range(30):\n",
    "    sim, robot = setup_neat()\n",
    "    robot.setPose(1, 1, 0)\n",
    "    canvas = Canvas((250, 250))\n",
    "    for i in range(500):\n",
    "        sim.draw(canvas)\n",
    "        clear_output(wait=True)\n",
    "        display(canvas)\n",
    "        inputs = get_brain_inputs(robot)\n",
    "        x, y = winner_net.activate(inputs)\n",
    "        print(x, y)\n",
    "        robot.move(x, y)\n",
    "        sim.step()\n",
    "        time.sleep(0.001)\n",
    "        if robot.stall:\n",
    "            break"
   ]
  }
 ],
 "metadata": {
  "kernelspec": {
   "display_name": "Python 3",
   "language": "python",
   "name": "python3"
  },
  "language_info": {
   "codemirror_mode": {
    "name": "ipython",
    "version": 3
   },
   "file_extension": ".py",
   "mimetype": "text/x-python",
   "name": "python",
   "nbconvert_exporter": "python",
   "pygments_lexer": "ipython3",
   "version": "3.6.4"
  }
 },
 "nbformat": 4,
 "nbformat_minor": 2
}
