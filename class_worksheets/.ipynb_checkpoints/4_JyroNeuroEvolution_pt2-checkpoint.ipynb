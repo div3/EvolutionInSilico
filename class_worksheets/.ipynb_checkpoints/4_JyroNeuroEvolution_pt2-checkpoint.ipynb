{
 "cells": [
  {
   "cell_type": "markdown",
   "metadata": {},
   "source": [
    "# In this worksheet, we'll start evolving neural network controllers for our robots!"
   ]
  },
  {
   "cell_type": "code",
   "execution_count": 1,
   "metadata": {},
   "outputs": [],
   "source": [
    "from IPython.display import display, clear_output\n",
    "from jyro.simulator import *\n",
    "import random\n",
    "import numpy as np"
   ]
  },
  {
   "cell_type": "markdown",
   "metadata": {},
   "source": [
    "### Just bringing back our `SimpleNeuralNet` class from earlier"
   ]
  },
  {
   "cell_type": "code",
   "execution_count": 2,
   "metadata": {},
   "outputs": [],
   "source": [
    "class SimpleNeuralNet():\n",
    "    #This is our squashing function\n",
    "    #I changed this to the hyperbolic tangent function that\n",
    "    #returns values in (-1, 1)\n",
    "    def activation_function(self, x):\n",
    "        return np.tanh(x)\n",
    "    \n",
    "    #this should look familiar, just a way to create a copy of \n",
    "    #the network without worying about pesky reference \n",
    "    def deepcopy(self):\n",
    "        new_net = SimpleNeuralNet(self.num_inputs, self.num_outputs, self.layer_node_counts)\n",
    "        new_net.layers = [np.copy(layer) for layer in self.layers]\n",
    "        return new_net\n",
    "    \n",
    "    #this is where the neural network does its computation!\n",
    "    def execute(self, input_vector):\n",
    "        # First we need to make sure we're getting the right\n",
    "        # number of inputs into our neural network.\n",
    "        assert len(input_vector) == self.num_inputs ,\\\n",
    "        \"wrong input vector size\"\n",
    "\n",
    "        # create a temporary variable to hold the values that should go\n",
    "        # into the next layer of the network.\n",
    "        # **at the start, this will just be our input**\n",
    "        next_v = input_vector\n",
    "\n",
    "        # iterate through layers, computing the activation\n",
    "        # of the weighted inputs from the previous layer\n",
    "        for layer in self.layers:\n",
    "            # add a bias to each layer [1]\n",
    "            next_v = np.append(next_v, 1)\n",
    "            \n",
    "            # pump the input vector through the matrix multiplication\n",
    "            # and our activation function\n",
    "            next_v = self.activation_function(np.dot(next_v, layer))\n",
    "            \n",
    "        return next_v\n",
    "        \n",
    "    def __init__(self, num_inputs, num_outputs, layer_node_counts=[]):\n",
    "        self.num_inputs = num_inputs\n",
    "        self.layer_node_counts = layer_node_counts\n",
    "        self.num_outputs = num_outputs\n",
    "        self.layers = []\n",
    "        \n",
    "        last_num_neurons = self.num_inputs\n",
    "        for nc in layer_node_counts + [num_outputs]:\n",
    "            # for now, we'll just use random weights in the range [-5,5]\n",
    "            # +1 handles adding a bias node for each layer of nodes\n",
    "            self.layers.append(np.random.uniform(-5, 5, size=(last_num_neurons+1, nc)))\n",
    "            last_num_neurons = nc\n",
    "    "
   ]
  },
  {
   "cell_type": "markdown",
   "metadata": {},
   "source": [
    "## This code is mostly the same, but we're setting up the world a bit differently. Here we are setting up the simulation without all the interactive bits to speed it up."
   ]
  },
  {
   "cell_type": "code",
   "execution_count": 28,
   "metadata": {},
   "outputs": [],
   "source": [
    "class MyPioneer(Pioneer):\n",
    "    def __init__(self, name, x, y, angle):\n",
    "        Pioneer.__init__(self, name, x, y, angle)\n",
    "        self.addDevice(Pioneer16Sonars())\n",
    "        #parameter defines max range in meters\n",
    "        self.addDevice(PioneerFrontLightSensors(3))\n",
    "        self.addDevice(Camera())\n",
    "\n",
    "        \n",
    "robot = MyPioneer(\"Johnny\", 1, 1, 0)\n",
    "sim = Physics()\n",
    "sim.addBox(0, 0, 8, 8, fill=\"backgroundgreen\", wallcolor=\"gray\") #bounding box\n",
    "sim.addLight(7, 7, 1) #paramters are x, y, brightness\n",
    "\n",
    "sim.addRobot(robot)"
   ]
  },
  {
   "cell_type": "markdown",
   "metadata": {},
   "source": [
    "## If we wanted to get a visual of the simulator though, we still can by asking the simulation to draw itself! "
   ]
  },
  {
   "cell_type": "code",
   "execution_count": 29,
   "metadata": {},
   "outputs": [
    {
     "data": {
      "image/svg+xml": [
       "<svg baseProfile=\"full\" height=\"250\" version=\"1.1\" width=\"250\" xmlns=\"http://www.w3.org/2000/svg\" xmlns:ev=\"http://www.w3.org/2001/xml-events\" xmlns:xlink=\"http://www.w3.org/1999/xlink\"><defs /><rect fill=\"#eef3dd\" height=\"250.0\" stroke=\"#bebebe\" stroke-width=\"1\" width=\"250.0\" x=\"0.0\" y=\"0.0\" /><circle cx=\"218.75\" cy=\"31.25\" fill=\"#ffff00\" r=\"7.8125\" stroke=\"#ffff00\" stroke-width=\"1\" /><line fill=\"#800080\" stroke=\"#add8e6\" stroke-width=\"1\" x1=\"25.78125\" x2=\"0.0\" y1=\"215.625\" y2=\"215.625\" /><line fill=\"#800080\" stroke=\"#add8e6\" stroke-width=\"1\" x1=\"26.5625\" x2=\"0.0\" y1=\"213.4375\" y2=\"201.051203125\" /><line fill=\"#800080\" stroke=\"#add8e6\" stroke-width=\"1\" x1=\"27.8125\" x2=\"0.0\" y1=\"212.5\" y2=\"179.35435312500002\" /><line fill=\"#800080\" stroke=\"#add8e6\" stroke-width=\"1\" x1=\"29.6875\" x2=\"0.0\" y1=\"211.71875\" y2=\"100.92349375\" /><line fill=\"#800080\" stroke=\"#add8e6\" stroke-width=\"1\" x1=\"32.8125\" x2=\"89.54236942708201\" y1=\"211.71875\" y2=\"0.0\" /><line fill=\"#800080\" stroke=\"#d3d3d3\" stroke-width=\"1\" x1=\"34.6875\" x2=\"195.38440242163483\" y1=\"212.5\" y2=\"20.988889220255462\" /><line fill=\"#800080\" stroke=\"#add8e6\" stroke-width=\"1\" x1=\"35.9375\" x2=\"250.0\" y1=\"213.4375\" y2=\"113.61850937500002\" /><line fill=\"#800080\" stroke=\"#add8e6\" stroke-width=\"1\" x1=\"36.71875\" x2=\"250.0\" y1=\"215.625\" y2=\"215.625\" /><line fill=\"#800080\" stroke=\"#add8e6\" stroke-width=\"1\" x1=\"36.71875\" x2=\"250.0\" y1=\"221.875\" y2=\"221.875\" /><line fill=\"#800080\" stroke=\"#add8e6\" stroke-width=\"1\" x1=\"35.9375\" x2=\"91.5606462749811\" y1=\"224.0625\" y2=\"250.0\" /><line fill=\"#800080\" stroke=\"#add8e6\" stroke-width=\"1\" x1=\"34.68749999999999\" x2=\"55.66499075396123\" y1=\"225.0\" y2=\"250.0\" /><line fill=\"#800080\" stroke=\"#add8e6\" stroke-width=\"1\" x1=\"32.8125\" x2=\"39.3018943981656\" y1=\"225.78125\" y2=\"250.0\" /><line fill=\"#800080\" stroke=\"#add8e6\" stroke-width=\"1\" x1=\"29.6875\" x2=\"23.198105601834406\" y1=\"225.78125\" y2=\"250.0\" /><line fill=\"#800080\" stroke=\"#add8e6\" stroke-width=\"1\" x1=\"27.8125\" x2=\"6.835009246038779\" y1=\"225.0\" y2=\"250.0\" /><line fill=\"#800080\" stroke=\"#add8e6\" stroke-width=\"1\" x1=\"26.5625\" x2=\"0.0\" y1=\"224.0625\" y2=\"236.448796875\" /><line fill=\"#800080\" stroke=\"#add8e6\" stroke-width=\"1\" x1=\"25.78125\" x2=\"0.0\" y1=\"221.875\" y2=\"221.875\" /><line fill=\"#800080\" stroke=\"#ffa500\" stroke-width=\"1\" x1=\"218.75\" x2=\"25.78125\" y1=\"31.25\" y2=\"211.71875\" /><line fill=\"#800080\" stroke=\"#ffa500\" stroke-width=\"1\" x1=\"218.75\" x2=\"36.71875\" y1=\"31.25\" y2=\"211.71875\" /><line fill=\"#800080\" stroke=\"#a020f0\" stroke-width=\"1\" x1=\"31.25\" x2=\"0.0\" y1=\"218.75\" y2=\"200.707803125\" /><line fill=\"#800080\" stroke=\"#a020f0\" stroke-width=\"1\" x1=\"31.25\" x2=\"250.0\" y1=\"218.75\" y2=\"92.454621875\" /><polygon fill=\"red\" points=\"28.75,211.71875 25.78125,214.0625 25.78125,223.4375 28.75,225.78125 33.75,225.78125 36.71875,223.4375 36.71875,214.0625 33.75,211.71875\" stroke=\"red\" stroke-width=\"1\" /><polygon points=\"-1.5625,-1.5625 0,0 1.5625,-1.5625 0,1.5625\" stroke=\"black\" stroke-width=\"1\" transform=\"translate(31.25,218.75) rotate(180.0)\" /><circle cx=\"25.78125\" cy=\"211.71875\" fill=\"yellow\" r=\"0.78125\" stroke=\"orange\" stroke-width=\"1\" /><circle cx=\"36.71875\" cy=\"211.71875\" fill=\"yellow\" r=\"0.78125\" stroke=\"orange\" stroke-width=\"1\" /><polygon fill=\"black\" points=\"33.125,214.37499999999997 33.125,216.87499999999997 29.375,216.87499999999997 29.375,214.37499999999997\" stroke=\"black\" stroke-width=\"1\" /></svg>"
      ],
      "text/plain": [
       "<jyro.simulator.canvas.Canvas at 0x10d2baef0>"
      ]
     },
     "execution_count": 29,
     "metadata": {},
     "output_type": "execute_result"
    }
   ],
   "source": [
    "canvas = Canvas((250, 250))\n",
    "sim.draw(canvas)"
   ]
  },
  {
   "cell_type": "markdown",
   "metadata": {},
   "source": [
    "## Let's run a simple walking brain on our robot for 100 timesteps."
   ]
  },
  {
   "cell_type": "code",
   "execution_count": 5,
   "metadata": {},
   "outputs": [],
   "source": [
    "def walking_brain(robot):\n",
    "    robot.move(1, 0)\n",
    "    \n",
    "robot.brain = walking_brain\n",
    "\n",
    "for i in range(100):\n",
    "    sim.step(run_brain=True)"
   ]
  },
  {
   "cell_type": "markdown",
   "metadata": {},
   "source": [
    "### Notice nothing happened in our image above. That's because its a *still shot* of the simulator when we called it. We can call it again to get a picture of what the simulated world looks like now, though. "
   ]
  },
  {
   "cell_type": "code",
   "execution_count": 6,
   "metadata": {},
   "outputs": [
    {
     "data": {
      "image/svg+xml": [
       "<svg baseProfile=\"full\" height=\"250\" version=\"1.1\" width=\"250\" xmlns=\"http://www.w3.org/2000/svg\" xmlns:ev=\"http://www.w3.org/2001/xml-events\" xmlns:xlink=\"http://www.w3.org/1999/xlink\"><defs /><rect fill=\"#eef3dd\" height=\"250.0\" stroke=\"#bebebe\" stroke-width=\"1\" width=\"250.0\" x=\"0.0\" y=\"0.0\" /><circle cx=\"218.75\" cy=\"31.25\" fill=\"#ffff00\" r=\"7.8125\" stroke=\"#ffff00\" stroke-width=\"1\" /><line fill=\"#800080\" stroke=\"#add8e6\" stroke-width=\"1\" x1=\"25.78125\" x2=\"0.0\" y1=\"6.250000000000338\" y2=\"6.250000000000005\" /><line fill=\"#800080\" stroke=\"#add8e6\" stroke-width=\"1\" x1=\"26.5625\" x2=\"17.85043840151044\" y1=\"4.0625000000003295\" y2=\"0.0\" /><line fill=\"#800080\" stroke=\"#add8e6\" stroke-width=\"1\" x1=\"27.8125\" x2=\"25.19031356397833\" y1=\"3.125000000000322\" y2=\"0.0\" /><line fill=\"#800080\" stroke=\"#add8e6\" stroke-width=\"1\" x1=\"29.6875\" x2=\"29.05949435520798\" y1=\"2.3437500000003384\" y2=\"0.0\" /><line fill=\"#800080\" stroke=\"#add8e6\" stroke-width=\"1\" x1=\"32.8125\" x2=\"33.44050564479201\" y1=\"2.3437500000003384\" y2=\"0.0\" /><line fill=\"#800080\" stroke=\"#add8e6\" stroke-width=\"1\" x1=\"34.6875\" x2=\"37.309686436021686\" y1=\"3.125000000000322\" y2=\"0.0\" /><line fill=\"#800080\" stroke=\"#add8e6\" stroke-width=\"1\" x1=\"35.9375\" x2=\"44.64956159848959\" y1=\"4.0625000000003295\" y2=\"0.0\" /><line fill=\"#800080\" stroke=\"#add8e6\" stroke-width=\"1\" x1=\"36.71875\" x2=\"250.0\" y1=\"6.250000000000338\" y2=\"6.250000000000005\" /><line fill=\"#800080\" stroke=\"#add8e6\" stroke-width=\"1\" x1=\"36.71875\" x2=\"250.0\" y1=\"12.500000000000316\" y2=\"12.50000000000001\" /><line fill=\"#800080\" stroke=\"#add8e6\" stroke-width=\"1\" x1=\"35.9375\" x2=\"250.0\" y1=\"14.687500000000325\" y2=\"114.50649062500001\" /><line fill=\"#800080\" stroke=\"#d3d3d3\" stroke-width=\"1\" x1=\"34.68749999999999\" x2=\"195.3844024216348\" y1=\"15.625000000000334\" y2=\"207.13611077974485\" /><line fill=\"#800080\" stroke=\"#add8e6\" stroke-width=\"1\" x1=\"32.8125\" x2=\"95.40375818045558\" y1=\"16.406250000000316\" y2=\"250.0\" /><line fill=\"#800080\" stroke=\"#add8e6\" stroke-width=\"1\" x1=\"29.6875\" x2=\"0.0\" y1=\"16.406250000000316\" y2=\"127.20150624999998\" /><line fill=\"#800080\" stroke=\"#add8e6\" stroke-width=\"1\" x1=\"27.8125\" x2=\"0.0\" y1=\"15.625000000000334\" y2=\"48.77064687499999\" /><line fill=\"#800080\" stroke=\"#add8e6\" stroke-width=\"1\" x1=\"26.5625\" x2=\"0.0\" y1=\"14.687500000000325\" y2=\"27.073796875\" /><line fill=\"#800080\" stroke=\"#add8e6\" stroke-width=\"1\" x1=\"25.78125\" x2=\"0.0\" y1=\"12.500000000000316\" y2=\"12.50000000000001\" /><line fill=\"#800080\" stroke=\"#ffa500\" stroke-width=\"1\" x1=\"218.75\" x2=\"25.78125\" y1=\"31.25\" y2=\"2.3437500000003384\" /><line fill=\"#800080\" stroke=\"#ffa500\" stroke-width=\"1\" x1=\"218.75\" x2=\"36.71875\" y1=\"31.25\" y2=\"2.3437500000003384\" /><line fill=\"#800080\" stroke=\"#a020f0\" stroke-width=\"1\" x1=\"31.25\" x2=\"15.012024545583513\" y1=\"9.375000000000327\" y2=\"0.0\" /><line fill=\"#800080\" stroke=\"#a020f0\" stroke-width=\"1\" x1=\"31.25\" x2=\"47.487975454416485\" y1=\"9.375000000000327\" y2=\"0.0\" /><polygon fill=\"white\" points=\"28.75,2.3437500000003384 25.78125,4.687500000000316 25.78125,14.06250000000034 28.75,16.406250000000316 33.75,16.406250000000316 36.71875,14.06250000000034 36.71875,4.687500000000316 33.75,2.3437500000003384\" stroke=\"black\" stroke-width=\"1\" /><polygon points=\"-1.5625,-1.5625 0,0 1.5625,-1.5625 0,1.5625\" stroke=\"black\" stroke-width=\"1\" transform=\"translate(31.25,9.375000000000327) rotate(180.0)\" /><circle cx=\"25.78125\" cy=\"2.3437500000003384\" fill=\"yellow\" r=\"0.78125\" stroke=\"orange\" stroke-width=\"1\" /><circle cx=\"36.71875\" cy=\"2.3437500000003384\" fill=\"yellow\" r=\"0.78125\" stroke=\"orange\" stroke-width=\"1\" /><polygon fill=\"black\" points=\"33.125,5.0000000000003375 33.125,7.500000000000339 29.375,7.500000000000339 29.375,5.0000000000003375\" stroke=\"black\" stroke-width=\"1\" /></svg>"
      ],
      "text/plain": [
       "<jyro.simulator.canvas.Canvas at 0x1076a2828>"
      ]
     },
     "execution_count": 6,
     "metadata": {},
     "output_type": "execute_result"
    }
   ],
   "source": [
    "canvas = Canvas((250, 250))\n",
    "sim.draw(canvas)"
   ]
  },
  {
   "cell_type": "markdown",
   "metadata": {},
   "source": [
    "# We're going to define a weird helper function that returns a function. That sounds complicated, but it's pretty easy once you look at it. \n",
    "\n",
    "### We need this because the Jyro simulator expects the brain of a robot to be a function. But, we want to use neural networks to control that function, so we need a way of plugging our neural networks into the robot brain function easily. "
   ]
  },
  {
   "cell_type": "code",
   "execution_count": 7,
   "metadata": {},
   "outputs": [],
   "source": [
    "def network_to_brain(simple_net):\n",
    "    \n",
    "    #Define the brain function for jyro\n",
    "    def neural_brain(a_robot):\n",
    "        sonar_sensors = a_robot[\"sonar\"].getData()\n",
    "        light_sensors = a_robot[\"light\"].getData()\n",
    "        \n",
    "        #combine the sonar and light inputs\n",
    "        combined_input = sonar_sensors + light_sensors\n",
    "\n",
    "        network = simple_net\n",
    "\n",
    "        #run the neural network with the combined input values\n",
    "        output = network.execute(combined_input)\n",
    "        \n",
    "        #use the output of the network to move the robot\n",
    "        a_robot.move(output[0], output[1])\n",
    "\n",
    "    return neural_brain"
   ]
  },
  {
   "cell_type": "markdown",
   "metadata": {},
   "source": [
    "### Let's reset our robot and try running a random neural brain now!"
   ]
  },
  {
   "cell_type": "code",
   "execution_count": 8,
   "metadata": {},
   "outputs": [
    {
     "data": {
      "image/svg+xml": [
       "<svg baseProfile=\"full\" height=\"250\" version=\"1.1\" width=\"250\" xmlns=\"http://www.w3.org/2000/svg\" xmlns:ev=\"http://www.w3.org/2001/xml-events\" xmlns:xlink=\"http://www.w3.org/1999/xlink\"><defs /><rect fill=\"#eef3dd\" height=\"250.0\" stroke=\"#bebebe\" stroke-width=\"1\" width=\"250.0\" x=\"0.0\" y=\"0.0\" /><circle cx=\"218.75\" cy=\"31.25\" fill=\"#ffff00\" r=\"7.8125\" stroke=\"#ffff00\" stroke-width=\"1\" /><line fill=\"#800080\" stroke=\"#add8e6\" stroke-width=\"1\" x1=\"25.78125\" x2=\"0.0\" y1=\"215.625\" y2=\"215.625\" /><line fill=\"#800080\" stroke=\"#add8e6\" stroke-width=\"1\" x1=\"26.5625\" x2=\"0.0\" y1=\"213.4375\" y2=\"201.051203125\" /><line fill=\"#800080\" stroke=\"#add8e6\" stroke-width=\"1\" x1=\"27.8125\" x2=\"0.0\" y1=\"212.5\" y2=\"179.35435312500002\" /><line fill=\"#800080\" stroke=\"#add8e6\" stroke-width=\"1\" x1=\"29.6875\" x2=\"0.0\" y1=\"211.71875\" y2=\"100.92349375\" /><line fill=\"#800080\" stroke=\"#add8e6\" stroke-width=\"1\" x1=\"32.8125\" x2=\"89.54236942708201\" y1=\"211.71875\" y2=\"0.0\" /><line fill=\"#800080\" stroke=\"#d3d3d3\" stroke-width=\"1\" x1=\"34.6875\" x2=\"195.38440242163483\" y1=\"212.5\" y2=\"20.988889220255462\" /><line fill=\"#800080\" stroke=\"#add8e6\" stroke-width=\"1\" x1=\"35.9375\" x2=\"250.0\" y1=\"213.4375\" y2=\"113.61850937500002\" /><line fill=\"#800080\" stroke=\"#add8e6\" stroke-width=\"1\" x1=\"36.71875\" x2=\"250.0\" y1=\"215.625\" y2=\"215.625\" /><line fill=\"#800080\" stroke=\"#add8e6\" stroke-width=\"1\" x1=\"36.71875\" x2=\"250.0\" y1=\"221.875\" y2=\"221.875\" /><line fill=\"#800080\" stroke=\"#add8e6\" stroke-width=\"1\" x1=\"35.9375\" x2=\"91.5606462749811\" y1=\"224.0625\" y2=\"250.0\" /><line fill=\"#800080\" stroke=\"#add8e6\" stroke-width=\"1\" x1=\"34.68749999999999\" x2=\"55.66499075396123\" y1=\"225.0\" y2=\"250.0\" /><line fill=\"#800080\" stroke=\"#add8e6\" stroke-width=\"1\" x1=\"32.8125\" x2=\"39.3018943981656\" y1=\"225.78125\" y2=\"250.0\" /><line fill=\"#800080\" stroke=\"#add8e6\" stroke-width=\"1\" x1=\"29.6875\" x2=\"23.198105601834406\" y1=\"225.78125\" y2=\"250.0\" /><line fill=\"#800080\" stroke=\"#add8e6\" stroke-width=\"1\" x1=\"27.8125\" x2=\"6.835009246038779\" y1=\"225.0\" y2=\"250.0\" /><line fill=\"#800080\" stroke=\"#add8e6\" stroke-width=\"1\" x1=\"26.5625\" x2=\"0.0\" y1=\"224.0625\" y2=\"236.448796875\" /><line fill=\"#800080\" stroke=\"#add8e6\" stroke-width=\"1\" x1=\"25.78125\" x2=\"0.0\" y1=\"221.875\" y2=\"221.875\" /><line fill=\"#800080\" stroke=\"#ffa500\" stroke-width=\"1\" x1=\"218.75\" x2=\"25.78125\" y1=\"31.25\" y2=\"211.71875\" /><line fill=\"#800080\" stroke=\"#ffa500\" stroke-width=\"1\" x1=\"218.75\" x2=\"36.71875\" y1=\"31.25\" y2=\"211.71875\" /><line fill=\"#800080\" stroke=\"#a020f0\" stroke-width=\"1\" x1=\"31.25\" x2=\"0.0\" y1=\"218.75\" y2=\"200.707803125\" /><line fill=\"#800080\" stroke=\"#a020f0\" stroke-width=\"1\" x1=\"31.25\" x2=\"250.0\" y1=\"218.75\" y2=\"92.454621875\" /><polygon fill=\"red\" points=\"28.75,211.71875 25.78125,214.0625 25.78125,223.4375 28.75,225.78125 33.75,225.78125 36.71875,223.4375 36.71875,214.0625 33.75,211.71875\" stroke=\"red\" stroke-width=\"1\" /><polygon points=\"-1.5625,-1.5625 0,0 1.5625,-1.5625 0,1.5625\" stroke=\"black\" stroke-width=\"1\" transform=\"translate(31.25,218.75) rotate(180.0)\" /><circle cx=\"25.78125\" cy=\"211.71875\" fill=\"yellow\" r=\"0.78125\" stroke=\"orange\" stroke-width=\"1\" /><circle cx=\"36.71875\" cy=\"211.71875\" fill=\"yellow\" r=\"0.78125\" stroke=\"orange\" stroke-width=\"1\" /><polygon fill=\"black\" points=\"33.125,214.37499999999997 33.125,216.87499999999997 29.375,216.87499999999997 29.375,214.37499999999997\" stroke=\"black\" stroke-width=\"1\" /></svg>"
      ],
      "text/plain": [
       "<jyro.simulator.canvas.Canvas at 0x1076dadd8>"
      ]
     },
     "execution_count": 8,
     "metadata": {},
     "output_type": "execute_result"
    }
   ],
   "source": [
    "robot.setPose(1,1,0)\n",
    "robot.reset()\n",
    "\n",
    "#make a neural net with 18 inputs, and 2 outputs, and no hidden neurons for now.\n",
    "neural_net = SimpleNeuralNet(18,2, []) \n",
    "\n",
    "#turn our neural network into a robot brain, and assign it\n",
    "robot.brain = network_to_brain(neural_net)\n",
    "\n",
    "\n",
    "canvas = Canvas((250, 250))\n",
    "sim.draw(canvas)"
   ]
  },
  {
   "cell_type": "markdown",
   "metadata": {},
   "source": [
    "## Even though we're not in the visual simulator, we can watch the simulation by drawing each time step as we run the simulation.\n",
    "\n",
    "#### This is not something you should do while you're trying to evaluate a bunch of brains though!"
   ]
  },
  {
   "cell_type": "code",
   "execution_count": 9,
   "metadata": {},
   "outputs": [
    {
     "data": {
      "image/svg+xml": [
       "<svg baseProfile=\"full\" height=\"250\" version=\"1.1\" width=\"250\" xmlns=\"http://www.w3.org/2000/svg\" xmlns:ev=\"http://www.w3.org/2001/xml-events\" xmlns:xlink=\"http://www.w3.org/1999/xlink\"><defs /><rect fill=\"#eef3dd\" height=\"250.0\" stroke=\"#bebebe\" stroke-width=\"1\" width=\"250.0\" x=\"0.0\" y=\"0.0\" /><circle cx=\"218.75\" cy=\"31.25\" fill=\"#ffff00\" r=\"7.8125\" stroke=\"#ffff00\" stroke-width=\"1\" /><line fill=\"#800080\" stroke=\"#add8e6\" stroke-width=\"1\" x1=\"22.744482972206725\" x2=\"0.0\" y1=\"233.31926019705395\" y2=\"214.16184375\" /><line fill=\"#800080\" stroke=\"#add8e6\" stroke-width=\"1\" x1=\"24.751242121855178\" x2=\"0.0\" y1=\"232.14946298052357\" y2=\"178.81030312500002\" /><line fill=\"#800080\" stroke=\"#add8e6\" stroke-width=\"1\" x1=\"26.311248937746125\" x2=\"26.745140445871186\" y1=\"232.2376955389915\" y2=\"0.0\" /><line fill=\"#800080\" stroke=\"#d3d3d3\" stroke-width=\"1\" x1=\"28.248623107058986\" x2=\"134.3263174290597\" y1=\"232.84807074374618\" y2=\"6.46891364811561\" /><line fill=\"#800080\" stroke=\"#d3d3d3\" stroke-width=\"1\" x1=\"30.63875494232302\" x2=\"235.69431154787117\" y1=\"234.86125101636392\" y2=\"91.84999724523988\" /><line fill=\"#800080\" stroke=\"#add8e6\" stroke-width=\"1\" x1=\"31.569538975326992\" x2=\"250.0\" y1=\"236.66669213875062\" y2=\"198.57215625\" /><line fill=\"#800080\" stroke=\"#add8e6\" stroke-width=\"1\" x1=\"31.92163762764727\" x2=\"75.67374790981825\" y1=\"238.18900379837692\" y2=\"250.0\" /><line fill=\"#800080\" stroke=\"#add8e6\" stroke-width=\"1\" x1=\"31.109944395630833\" x2=\"42.54855358924568\" y1=\"240.3653911512162\" y2=\"250.0\" /><line fill=\"#800080\" stroke=\"#add8e6\" stroke-width=\"1\" x1=\"27.08358385039527\" x2=\"32.846862487955434\" y1=\"245.14565482174427\" y2=\"250.0\" /><line fill=\"#800080\" stroke=\"#add8e6\" stroke-width=\"1\" x1=\"25.07682470074682\" x2=\"26.786584144366145\" y1=\"246.31545203827466\" y2=\"250.0\" /><line fill=\"#800080\" stroke=\"#add8e6\" stroke-width=\"1\" x1=\"23.51681788485587\" x2=\"23.5097700491804\" y1=\"246.22721947980673\" y2=\"250.0\" /><line fill=\"#800080\" stroke=\"#add8e6\" stroke-width=\"1\" x1=\"21.57944371554301\" x2=\"19.525566586235755\" y1=\"245.61684427505207\" y2=\"250.0\" /><line fill=\"#800080\" stroke=\"#add8e6\" stroke-width=\"1\" x1=\"19.18931188027898\" x2=\"10.01797643595336\" y1=\"243.6036640024343\" y2=\"250.0\" /><line fill=\"#800080\" stroke=\"#add8e6\" stroke-width=\"1\" x1=\"18.258527847275005\" x2=\"0.0\" y1=\"241.79822288004763\" y2=\"244.98253125\" /><line fill=\"#800080\" stroke=\"#add8e6\" stroke-width=\"1\" x1=\"17.90642919495473\" x2=\"0.0\" y1=\"240.2759112204213\" y2=\"235.442025\" /><line fill=\"#800080\" stroke=\"#add8e6\" stroke-width=\"1\" x1=\"18.718122426971163\" x2=\"0.0\" y1=\"238.09952386758204\" y2=\"222.33346874999998\" /><line fill=\"#800080\" stroke=\"#ffa500\" stroke-width=\"1\" x1=\"218.75\" x2=\"25.26095831297895\" y1=\"31.25\" y2=\"230.33159540297393\" /><line fill=\"#800080\" stroke=\"#ffa500\" stroke-width=\"1\" x1=\"218.75\" x2=\"33.62641973640305\" y1=\"31.25\" y2=\"237.37772635713617\" /><line fill=\"#800080\" stroke=\"#a020f0\" stroke-width=\"1\" x1=\"24.914033411301\" x2=\"0.0\" y1=\"239.23245750939913\" y2=\"170.38174374999997\" /><line fill=\"#800080\" stroke=\"#a020f0\" stroke-width=\"1\" x1=\"24.914033411301\" x2=\"85.3196492084329\" y1=\"239.23245750939913\" y2=\"250.0\" /><polygon fill=\"white\" points=\"27.531583556479777,232.24411666196082 23.751073108515616,232.12419427942197 17.711532290662277,239.29458978521407 18.472272329699774,242.99970992064897 22.29648326612222,246.2207983568374 26.076993714086385,246.34072073937628 32.11653453193972,239.17032523358418 31.355794492902227,235.46520509814928\" stroke=\"black\" stroke-width=\"1\" /><polygon points=\"-1.5625,-1.5625 0,0 1.5625,-1.5625 0,1.5625\" stroke=\"black\" stroke-width=\"1\" transform=\"translate(24.914033411301,239.23245750939913) rotate(-139.89295434084252)\" /><circle cx=\"25.26095831297895\" cy=\"230.33159540297393\" fill=\"yellow\" r=\"0.78125\" stroke=\"orange\" stroke-width=\"1\" /><circle cx=\"33.62641973640305\" cy=\"237.37772635713617\" fill=\"yellow\" r=\"0.78125\" stroke=\"orange\" stroke-width=\"1\" /><polygon fill=\"black\" points=\"29.16656489412431,237.09418110360014 27.556020676030087,239.00628657181136 24.687862473713245,236.59047024467003 26.298406691807468,234.6783647764588\" stroke=\"black\" stroke-width=\"1\" /></svg>"
      ],
      "text/plain": [
       "<jyro.simulator.canvas.Canvas at 0x1076dadd8>"
      ]
     },
     "metadata": {},
     "output_type": "display_data"
    }
   ],
   "source": [
    "for i in range(50):\n",
    "    #run the simulation for one step\n",
    "    sim.step(run_brain=True)\n",
    "    \n",
    "    #draw the output, overwriting the last\n",
    "    sim.draw(canvas)\n",
    "    clear_output(wait=True)\n",
    "    display(canvas)\n",
    "    \n",
    "    #pause for enough time to enjoy it\n",
    "    time.sleep(.085)"
   ]
  },
  {
   "cell_type": "markdown",
   "metadata": {},
   "source": [
    "## I'm bringing in some helper functions we wrote in previous notebooks. \n",
    "\n",
    "## `tournament_selection` expects a list of individuals (in our case, neural networks) and a list of their fitness values. \n",
    "I'm passing in a fitness list instead of evaluating individuals every time we encounter them because evaluation is much slower in this environment. \n",
    "\n",
    "## `mutate_network` expects a network, and optionally the probability of mutating an edge weight (`mutation_rate`) and the effect size of the mutations (`mutation_effect_size`)\n",
    "This function tries to be speedy with mutations, by calculating how many mutations should occur, and then picking the ones to mutate randomly from the neurons. "
   ]
  },
  {
   "cell_type": "code",
   "execution_count": 10,
   "metadata": {},
   "outputs": [],
   "source": [
    "def tournament_selection(population, fitnesses, tournament_size=3):\n",
    "    sample_pop_idxs = np.random.choice(range(len(population)), size=tournament_size)\n",
    "    tourny_winner_idx = np.argmax(np.array(fitnesses)[sample_pop_idxs])\n",
    "    winner_pop_idx = sample_pop_idxs[tourny_winner_idx]\n",
    "\n",
    "    return population[winner_pop_idx]\n",
    "    \n",
    "def mutate_network(simple_net, mutation_rate=1E-3, mutation_effect_size=2):\n",
    "    for layer_to_mut in simple_net.layers:\n",
    "        dims = layer_to_mut.shape\n",
    "        num_mutations = np.random.binomial(dims[0]*dims[1], mutation_rate)\n",
    "        for i in range(num_mutations):\n",
    "            rand_i = np.random.randint(0, dims[0])\n",
    "            rand_j = np.random.randint(0, dims[1])\n",
    "            layer_to_mut[rand_i, rand_j] += np.random.normal(scale=mutation_effect_size)\n"
   ]
  },
  {
   "cell_type": "markdown",
   "metadata": {},
   "source": [
    "# Now we have to figure out a way of evaluating our brains.\n",
    "#### We'll stick the network into the brain of the robot, and run it in the simulation (without visualizing it so it goes fast). \n",
    "\n",
    "# But, what should we reward?\n",
    "#### In this simple fitness function, I'm just counting up how far the robot moved during it's trial and calling that it's fitness. "
   ]
  },
  {
   "cell_type": "code",
   "execution_count": 22,
   "metadata": {},
   "outputs": [],
   "source": [
    "def measure_neuralnet_fitness(simple_net, iterations=20):\n",
    "    robot.brain = network_to_brain(simple_net)\n",
    "    distance_moved = 0\n",
    "    \n",
    "    #reset the robot's position\n",
    "    robot.setPose(1, 1, 0)\n",
    "    robot.reset()\n",
    "    \n",
    "    #iterate through the simulation\n",
    "    for i in range(iterations):        \n",
    "        #but if the robot's stuck, end early!\n",
    "        if robot.stall:\n",
    "            break\n",
    "            \n",
    "        #move the robot\n",
    "        cur_pos = robot.getPose()\n",
    "        sim.step(run_brain=True)\n",
    "        next_pos = robot.getPose()\n",
    "        \n",
    "        #and keep track of how far it moved\n",
    "        distance_moved += np.linalg.norm(np.array(cur_pos[0:2]) - np.array(next_pos[0:2]))\n",
    "        \n",
    "    return distance_moved"
   ]
  },
  {
   "cell_type": "markdown",
   "metadata": {},
   "source": [
    "# So, now we can measure fitness, let's evolve some robot brains! \n",
    "## We'll start off small, because this is a slow simulation. We'll use a population of 20 robots, and let them evolve them for 10 genrations.\n",
    "\n",
    "## We'll also only use 50 timesteps of the simulation for each evaluation. "
   ]
  },
  {
   "cell_type": "code",
   "execution_count": 13,
   "metadata": {},
   "outputs": [
    {
     "data": {
      "text/plain": [
       "9"
      ]
     },
     "metadata": {},
     "output_type": "display_data"
    },
    {
     "data": {
      "text/plain": [
       "4.999999724996847"
      ]
     },
     "metadata": {},
     "output_type": "display_data"
    }
   ],
   "source": [
    "pop_size = 20\n",
    "generations = 10\n",
    "\n",
    "#build our random population of neural networks\n",
    "population = [SimpleNeuralNet(18,2,[5]) for _ in range(pop_size)]\n",
    "evo_fitnesses = []\n",
    "\n",
    "for i in range(generations):\n",
    "    #evaluate the fitnesses using 50 timesteps\n",
    "    fitnesses = [measure_neuralnet_fitness(n, iterations=50) for n in population]\n",
    "    \n",
    "    #keep track of the mean pop fitnesses\n",
    "    evo_fitnesses.append(np.mean(fitnesses))\n",
    "    \n",
    "    #print the generation and the mean fitness we just stuck on the\n",
    "    #evo_fitnesses list\n",
    "    clear_output(wait=True)\n",
    "    display(i, evo_fitnesses[-1])\n",
    "    \n",
    "    #do tournament selection\n",
    "    next_pop = [tournament_selection(population, fitnesses).deepcopy() for _ in range(pop_size)]\n",
    "    \n",
    "    #and mutate the new networks\n",
    "    for net in next_pop:\n",
    "        mutate_network(net, mutation_rate=0.01)\n",
    "    \n",
    "    population = next_pop"
   ]
  },
  {
   "cell_type": "code",
   "execution_count": 23,
   "metadata": {},
   "outputs": [
    {
     "data": {
      "image/svg+xml": [
       "<svg baseProfile=\"full\" height=\"250\" version=\"1.1\" width=\"250\" xmlns=\"http://www.w3.org/2000/svg\" xmlns:ev=\"http://www.w3.org/2001/xml-events\" xmlns:xlink=\"http://www.w3.org/1999/xlink\"><defs /><rect fill=\"#eef3dd\" height=\"250.0\" stroke=\"#bebebe\" stroke-width=\"1\" width=\"250.0\" x=\"0.0\" y=\"0.0\" /><circle cx=\"218.75\" cy=\"31.25\" fill=\"#ffff00\" r=\"7.8125\" stroke=\"#ffff00\" stroke-width=\"1\" /><line fill=\"#800080\" stroke=\"#add8e6\" stroke-width=\"1\" x1=\"87.5318315543284\" x2=\"23.706496383123913\" y1=\"70.46703252055936\" y2=\"0.0\" /><line fill=\"#800080\" stroke=\"#add8e6\" stroke-width=\"1\" x1=\"89.67761063592609\" x2=\"68.1814909737405\" y1=\"69.57757204056162\" y2=\"0.0\" /><line fill=\"#800080\" stroke=\"#add8e6\" stroke-width=\"1\" x1=\"91.21160323989861\" x2=\"100.8222215102958\" y1=\"69.87467966577104\" y2=\"0.0\" /><line fill=\"#800080\" stroke=\"#add8e6\" stroke-width=\"1\" x1=\"93.04935948083697\" x2=\"138.69295994662644\" y1=\"70.73991290680614\" y2=\"0.0\" /><line fill=\"#800080\" stroke=\"#add8e6\" stroke-width=\"1\" x1=\"95.14721849694168\" x2=\"237.4906001266858\" y1=\"73.05607623190826\" y2=\"0.0\" /><line fill=\"#800080\" stroke=\"#add8e6\" stroke-width=\"1\" x1=\"95.82689307532898\" x2=\"250.0\" y1=\"74.97023898099572\" y2=\"69.132040625\" /><line fill=\"#800080\" stroke=\"#add8e6\" stroke-width=\"1\" x1=\"95.97118768424022\" x2=\"250.0\" y1=\"76.526062015868\" y2=\"141.37307187499997\" /><line fill=\"#800080\" stroke=\"#add8e6\" stroke-width=\"1\" x1=\"94.87433811069491\" x2=\"250.0\" y1=\"78.57360415841683\" y2=\"249.84171874999998\" /><line fill=\"#800080\" stroke=\"#add8e6\" stroke-width=\"1\" x1=\"90.24201146049064\" x2=\"241.71077468127882\" y1=\"82.76932219062627\" y2=\"250.0\" /><line fill=\"#800080\" stroke=\"#add8e6\" stroke-width=\"1\" x1=\"88.09623237889296\" x2=\"139.4876560998446\" y1=\"83.65878267062402\" y2=\"250.0\" /><line fill=\"#800080\" stroke=\"#add8e6\" stroke-width=\"1\" x1=\"86.56223977492044\" x2=\"63.64267178894287\" y1=\"83.36167504541459\" y2=\"250.0\" /><line fill=\"#800080\" stroke=\"#add8e6\" stroke-width=\"1\" x1=\"84.72448353398208\" x2=\"0.0\" y1=\"82.49644180437949\" y2=\"213.80515625\" /><line fill=\"#800080\" stroke=\"#add8e6\" stroke-width=\"1\" x1=\"82.62662451787737\" x2=\"0.0\" y1=\"80.18027847927736\" y2=\"122.587428125\" /><line fill=\"#800080\" stroke=\"#add8e6\" stroke-width=\"1\" x1=\"81.94694993949007\" x2=\"0.0\" y1=\"78.26611573018991\" y2=\"81.369265625\" /><line fill=\"#800080\" stroke=\"#add8e6\" stroke-width=\"1\" x1=\"81.80265533057883\" x2=\"0.0\" y1=\"76.71029269531762\" y2=\"42.270909375\" /><line fill=\"#800080\" stroke=\"#add8e6\" stroke-width=\"1\" x1=\"82.89950490412414\" x2=\"15.273911053787364\" y1=\"74.6627505527688\" y2=\"0.0\" /><line fill=\"#800080\" stroke=\"#ffa500\" stroke-width=\"1\" x1=\"218.75\" x2=\"90.42703571070606\" y1=\"31.25\" y2=\"67.84470875042847\" /><line fill=\"#800080\" stroke=\"#ffa500\" stroke-width=\"1\" x1=\"218.75\" x2=\"97.76954226707258\" y1=\"31.25\" y2=\"75.95128038828591\" /><line fill=\"#800080\" stroke=\"#a020f0\" stroke-width=\"1\" x1=\"88.88692150740953\" x2=\"72.3653911735795\" y1=\"76.61817735559282\" y2=\"0.0\" /><line fill=\"#800080\" stroke=\"#a020f0\" stroke-width=\"1\" x1=\"88.88692150740953\" x2=\"250.0\" y1=\"76.61817735559282\" y2=\"128.44324375\" /><polygon fill=\"red\" points=\"92.42000177600555,70.04506390927548 88.68991321687946,69.41810301250703 81.74142324157307,75.71168006082115 81.99726681304597,79.48542948174672 85.3538412388135,83.19129080191016 89.08392979793958,83.8182516986786 96.03241977324598,77.52467465036447 95.77657620177308,73.7509252294389\" stroke=\"red\" stroke-width=\"1\" /><polygon points=\"-1.5625,-1.5625 0,0 1.5625,-1.5625 0,1.5625\" stroke=\"black\" stroke-width=\"1\" transform=\"translate(88.88692150740953,76.61817735559282) rotate(-132.16862955598856)\" /><circle cx=\"90.42703571070606\" cy=\"67.84470875042847\" fill=\"yellow\" r=\"0.78125\" stroke=\"orange\" stroke-width=\"1\" /><circle cx=\"97.76954226707258\" cy=\"75.95128038828591\" fill=\"yellow\" r=\"0.78125\" stroke=\"orange\" stroke-width=\"1\" /><polygon fill=\"black\" points=\"93.38826557221533,75.0708727281075 91.53533491213364,76.74915994099126 89.01790409280798,73.96976395086871 90.87083475288968,72.29147673798495\" stroke=\"black\" stroke-width=\"1\" /></svg>"
      ],
      "text/plain": [
       "<jyro.simulator.canvas.Canvas at 0x1076dadd8>"
      ]
     },
     "metadata": {},
     "output_type": "display_data"
    }
   ],
   "source": [
    "#let's visualize the first individual in the population\n",
    "#Note there is no reason to expect this is the best individual!\n",
    "robot.brain = network_to_brain(population[10])\n",
    "robot.setPose(1,1,0)\n",
    "\n",
    "for i in range(50):\n",
    "    sim.step(run_brain=True)\n",
    "    sim.draw(canvas)\n",
    "    clear_output(wait=True)\n",
    "    display(canvas)\n",
    "    time.sleep(.085)"
   ]
  },
  {
   "cell_type": "markdown",
   "metadata": {},
   "source": [
    "# 1. Change the visualization code above to visualize the *best* solution in the population. Hint: `np.argmax` is a function worth keeping in your back pocket at all times. "
   ]
  },
  {
   "cell_type": "code",
   "execution_count": 25,
   "metadata": {},
   "outputs": [
    {
     "data": {
      "image/svg+xml": [
       "<svg baseProfile=\"full\" height=\"250\" version=\"1.1\" width=\"250\" xmlns=\"http://www.w3.org/2000/svg\" xmlns:ev=\"http://www.w3.org/2001/xml-events\" xmlns:xlink=\"http://www.w3.org/1999/xlink\"><defs /><rect fill=\"#eef3dd\" height=\"250.0\" stroke=\"#bebebe\" stroke-width=\"1\" width=\"250.0\" x=\"0.0\" y=\"0.0\" /><circle cx=\"218.75\" cy=\"31.25\" fill=\"#ffff00\" r=\"7.8125\" stroke=\"#ffff00\" stroke-width=\"1\" /><line fill=\"#800080\" stroke=\"#add8e6\" stroke-width=\"1\" x1=\"158.51621297881024\" x2=\"0.0\" y1=\"166.27809573334278\" y2=\"24.328953124999998\" /><line fill=\"#800080\" stroke=\"#add8e6\" stroke-width=\"1\" x1=\"160.55750804538576\" x2=\"89.91585427029185\" y1=\"165.16966338823804\" y2=\"0.0\" /><line fill=\"#800080\" stroke=\"#add8e6\" stroke-width=\"1\" x1=\"162.1141236135032\" x2=\"167.4361731844947\" y1=\"165.30514114690865\" y2=\"0.0\" /><line fill=\"#800080\" stroke=\"#add8e6\" stroke-width=\"1\" x1=\"164.0321063465566\" x2=\"248.03169256317986\" y1=\"165.9739601046312\" y2=\"0.0\" /><line fill=\"#800080\" stroke=\"#add8e6\" stroke-width=\"1\" x1=\"166.36011794513976\" x2=\"250.0\" y1=\"168.0586632002451\" y2=\"113.41798125\" /><line fill=\"#800080\" stroke=\"#add8e6\" stroke-width=\"1\" x1=\"167.2357491303862\" x2=\"250.0\" y1=\"169.89148795725922\" y2=\"158.029871875\" /><line fill=\"#800080\" stroke=\"#add8e6\" stroke-width=\"1\" x1=\"167.5415428411353\" x2=\"250.0\" y1=\"171.42377267507973\" y2=\"196.3885875\" /><line fill=\"#800080\" stroke=\"#add8e6\" stroke-width=\"1\" x1=\"166.6642535738514\" x2=\"250.0\" y1=\"173.57455656799144\" y2=\"248.20059999999998\" /><line fill=\"#800080\" stroke=\"#add8e6\" stroke-width=\"1\" x1=\"162.4948473826236\" x2=\"242.6405689655211\" y1=\"178.2305797651578\" y2=\"250.0\" /><line fill=\"#800080\" stroke=\"#add8e6\" stroke-width=\"1\" x1=\"160.45355231604807\" x2=\"190.67465484550266\" y1=\"179.33901211026256\" y2=\"250.0\" /><line fill=\"#800080\" stroke=\"#add8e6\" stroke-width=\"1\" x1=\"158.89693674793062\" x2=\"156.61762422028423\" y1=\"179.20353435159197\" y2=\"250.0\" /><line fill=\"#800080\" stroke=\"#add8e6\" stroke-width=\"1\" x1=\"156.97895401487725\" x2=\"120.81030141502802\" y1=\"178.53471539386942\" y2=\"250.0\" /><line fill=\"#800080\" stroke=\"#add8e6\" stroke-width=\"1\" x1=\"154.65094241629407\" x2=\"42.0661015100607\" y1=\"176.45001229825553\" y2=\"250.0\" /><line fill=\"#800080\" stroke=\"#add8e6\" stroke-width=\"1\" x1=\"153.77531123104762\" x2=\"0.0\" y1=\"174.61718754124138\" y2=\"196.655971875\" /><line fill=\"#800080\" stroke=\"#add8e6\" stroke-width=\"1\" x1=\"153.46951752029852\" x2=\"0.0\" y1=\"173.08490282342086\" y2=\"126.62104062500002\" /><line fill=\"#800080\" stroke=\"#add8e6\" stroke-width=\"1\" x1=\"154.34680678758244\" x2=\"0.0\" y1=\"170.93411893050916\" y2=\"32.71862187499999\" /><line fill=\"#800080\" stroke=\"#ffa500\" stroke-width=\"1\" x1=\"218.75\" x2=\"161.1220918483276\" y1=\"31.25\" y2=\"163.3680812351138\" /><line fill=\"#800080\" stroke=\"#ffa500\" stroke-width=\"1\" x1=\"218.75\" x2=\"169.27013244336877\" y1=\"31.25\" y2=\"170.6645420697625\" /><line fill=\"#800080\" stroke=\"#a020f0\" stroke-width=\"1\" x1=\"160.50553018071693\" x2=\"104.01779023883628\" y1=\"172.2543377492503\" y2=\"0.0\" /><line fill=\"#800080\" stroke=\"#a020f0\" stroke-width=\"1\" x1=\"160.50553018071693\" x2=\"250.0\" y1=\"172.2543377492503\" y2=\"191.02247187499998\" /><polygon fill=\"red\" points=\"163.33370286698164,165.34854917594706 159.5585645266172,165.11408993405118 153.30445523977548,172.09812472980073 153.9525389367191,175.82460136957135 157.6773574944522,179.16012632255357 161.45249583481663,179.39458556444941 167.70660512165836,172.41055076869986 167.05852142471474,168.68407412892927\" stroke=\"red\" stroke-width=\"1\" /><polygon points=\"-1.5625,-1.5625 0,0 1.5625,-1.5625 0,1.5625\" stroke=\"black\" stroke-width=\"1\" transform=\"translate(160.50553018071693,172.2543377492503) rotate(-138.15598212029963)\" /><circle cx=\"161.1220918483276\" cy=\"163.3680812351138\" fill=\"yellow\" r=\"0.78125\" stroke=\"orange\" stroke-width=\"1\" /><circle cx=\"169.27013244336877\" cy=\"170.6645420697625\" fill=\"yellow\" r=\"0.78125\" stroke=\"orange\" stroke-width=\"1\" /><polygon fill=\"black\" points=\"164.8209214737263,170.2459433686022 163.15315899723515,172.10835264746873 160.35954507893535,169.60670893273206 162.0273075554265,167.7442996538655\" stroke=\"black\" stroke-width=\"1\" /></svg>"
      ],
      "text/plain": [
       "<jyro.simulator.canvas.Canvas at 0x1076dadd8>"
      ]
     },
     "metadata": {},
     "output_type": "display_data"
    }
   ],
   "source": [
    "robot.brain = network_to_brain(population[np.argmax([measure_neuralnet_fitness(brain) for brain in population])])\n",
    "robot.setPose(1,1,0)\n",
    "for i in range(50):\n",
    "    sim.step(run_brain=True)\n",
    "    sim.draw(canvas)\n",
    "    clear_output(wait=True)\n",
    "    display(canvas)\n",
    "    time.sleep(.085)"
   ]
  },
  {
   "cell_type": "markdown",
   "metadata": {},
   "source": [
    "# 2. It seems like fitness is saturating. Why do you think that is? What could you do to \"fix\" this?"
   ]
  },
  {
   "cell_type": "code",
   "execution_count": 24,
   "metadata": {},
   "outputs": [
    {
     "name": "stdout",
     "output_type": "stream",
     "text": [
      "[8.097099792344448, 8.138602339397913, 8.4932369278738, 8.493236928152385, 8.532758808031979, 8.12933155943092, 8.435960410605981, 8.097099791173061, 8.434352693251038, 8.58362743699518, 8.097099791180929, 8.4932369278738, 8.493236928172234, 8.097099791160703, 8.435960410605976, 8.493236928172234, 8.097099791200897, 8.185249575877217, 8.09730508999288, 8.493236928172234]\n"
     ]
    }
   ],
   "source": [
    "print([measure_neuralnet_fitness(brain) for brain in population])"
   ]
  },
  {
   "cell_type": "markdown",
   "metadata": {},
   "source": [
    "# 3.  After fixing this saturation problem, see if you can evolve robots that navigate to the light source! \n",
    "## To do this, you will need to change the way fitness is evaluated"
   ]
  },
  {
   "cell_type": "code",
   "execution_count": 26,
   "metadata": {},
   "outputs": [],
   "source": [
    "# CHANGE THIS FUNCTION\n",
    "def measure_neuralnet_fitness(simple_net, iterations=20):\n",
    "    robot.brain = network_to_brain(simple_net)\n",
    "    distance_moved = 0\n",
    "    \n",
    "    #reset the robot's position\n",
    "    robot.setPose(1, 1, 0)\n",
    "    robot.reset()\n",
    "    current_light = robot[\"light\"].getData()\n",
    "    #iterate through the simulation\n",
    "    for i in range(iterations):        \n",
    "        #but if the robot's stuck, end early!\n",
    "        if robot.stall:\n",
    "            break\n",
    "            \n",
    "        #move the robot\n",
    "        cur_pos = robot.getPose()\n",
    "        sim.step(run_brain=True)\n",
    "        next_pos = robot.getPose()\n",
    "        \n",
    "        #and keep track of how far it moved\n",
    "        distance_moved += np.linalg.norm(np.array(cur_pos[0:2]) - np.array(next_pos[0:2]))\n",
    "    distance_closed = sum(robot[\"light\"].getData() - current_light)\n",
    "    distance_closed_ratio = (distance_closed)/distance_moved\n",
    "    return distance_moved"
   ]
  },
  {
   "cell_type": "code",
   "execution_count": 31,
   "metadata": {},
   "outputs": [
    {
     "data": {
      "text/plain": [
       "[0.0, 0.0]"
      ]
     },
     "execution_count": 31,
     "metadata": {},
     "output_type": "execute_result"
    }
   ],
   "source": [
    "robot[\"light\"].getData()"
   ]
  },
  {
   "cell_type": "code",
   "execution_count": null,
   "metadata": {},
   "outputs": [],
   "source": []
  }
 ],
 "metadata": {
  "kernelspec": {
   "display_name": "Python 3",
   "language": "python",
   "name": "python3"
  },
  "language_info": {
   "codemirror_mode": {
    "name": "ipython",
    "version": 3
   },
   "file_extension": ".py",
   "mimetype": "text/x-python",
   "name": "python",
   "nbconvert_exporter": "python",
   "pygments_lexer": "ipython3",
   "version": "3.6.4"
  }
 },
 "nbformat": 4,
 "nbformat_minor": 2
}
