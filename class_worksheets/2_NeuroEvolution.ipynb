{
 "cells": [
  {
   "cell_type": "markdown",
   "metadata": {},
   "source": [
    "# In this worksheet, we'll start building a framework to EVOLVE BRAINS!"
   ]
  },
  {
   "cell_type": "code",
   "execution_count": 1,
   "metadata": {},
   "outputs": [],
   "source": [
    "import numpy as np\n",
    "\n",
    "#let's ignore overflow warnings from numpy in case we get\n",
    "#big numbers, no biggy.\n",
    "np.seterr(over='ignore', divide='raise')\n",
    "\n",
    "import random\n",
    "from IPython.display import clear_output, display\n",
    "\n",
    "from matplotlib import pyplot"
   ]
  },
  {
   "cell_type": "markdown",
   "metadata": {},
   "source": [
    "## We can make a generic neural network class that builds a random network with a specified number of inputs and outputs (and hidden nodes, but we'll get to that later!)\n",
    "\n",
    " This code takes care of randomly generating weights for each edge in our neural net"
   ]
  },
  {
   "cell_type": "code",
   "execution_count": 2,
   "metadata": {},
   "outputs": [],
   "source": [
    "class SimpleNeuralNet():\n",
    "    #this is our squashing function\n",
    "    def activation_function(self, x):\n",
    "        return 1/(1+np.exp(-x))\n",
    "    \n",
    "    #this should look familiar, just a way to create a copy of \n",
    "    #the network without worying about pesky reference \n",
    "    def deepcopy(self):\n",
    "        new_net = SimpleNeuralNet(self.num_inputs, self.num_outputs, self.layer_node_counts)\n",
    "        new_net.layers = [np.copy(layer) for layer in self.layers]\n",
    "        return new_net\n",
    "    \n",
    "    #this is where the neural network does its computation!\n",
    "    def execute(self, input_vector):\n",
    "        # First we need to make sure we're getting the right\n",
    "        # number of inputs into our neural network.\n",
    "        assert len(input_vector) == self.num_inputs ,\\\n",
    "        \"wrong input vector size\"\n",
    "\n",
    "        # create a temporary variable to hold the values that should go\n",
    "        # into the next layer of the network.\n",
    "        # **at the start, this will just be our input**\n",
    "        next_v = input_vector\n",
    "\n",
    "        # iterate through layers, computing the activation\n",
    "        # of the weighted inputs from the previous layer\n",
    "        for layer in self.layers:\n",
    "            # add a bias to each layer [1]\n",
    "            next_v = np.append(next_v, 1)\n",
    "            \n",
    "            # pump the input vector through the matrix multiplication\n",
    "            # and our activation function\n",
    "            next_v = self.activation_function(np.dot(next_v, layer))\n",
    "            \n",
    "        return next_v\n",
    "        \n",
    "    def __init__(self, num_inputs, num_outputs, layer_node_counts=[]):\n",
    "        self.num_inputs = num_inputs\n",
    "        self.layer_node_counts = layer_node_counts\n",
    "        self.num_outputs = num_outputs\n",
    "        self.layers = []\n",
    "        \n",
    "        last_num_neurons = self.num_inputs\n",
    "        for nc in layer_node_counts + [num_outputs]:\n",
    "            # for now, we'll just use random weights in the range [-5,5]\n",
    "            # +1 handles adding a bias node for each layer of nodes\n",
    "            self.layers.append(np.random.uniform(-5, 5, size=(last_num_neurons+1, nc)))\n",
    "            last_num_neurons = nc\n",
    "    "
   ]
  },
  {
   "cell_type": "markdown",
   "metadata": {},
   "source": [
    "# Now we have a class SimpleNeuralNet that will build a random neural network with `num_inputs` input nodes and `num_outputs` output nodes. \n"
   ]
  },
  {
   "cell_type": "code",
   "execution_count": 3,
   "metadata": {},
   "outputs": [
    {
     "name": "stdout",
     "output_type": "stream",
     "text": [
      "[array([[-3.18847777,  1.52866152],\n",
      "       [-1.72109833, -2.50564336],\n",
      "       [ 4.34490106,  2.56420479]])]\n"
     ]
    }
   ],
   "source": [
    "my_neural_net = SimpleNeuralNet(num_inputs=2, num_outputs=2)\n",
    "print(my_neural_net.layers)"
   ]
  },
  {
   "cell_type": "markdown",
   "metadata": {},
   "source": [
    "### Because this network could have multiple layers, the `layers` object is a *list of numpy arrays*. So, to get to the values of our input weights, we need to index into this larger collection of layers. "
   ]
  },
  {
   "cell_type": "code",
   "execution_count": 4,
   "metadata": {},
   "outputs": [
    {
     "name": "stdout",
     "output_type": "stream",
     "text": [
      "[[-3.18847777  1.52866152]\n",
      " [-1.72109833 -2.50564336]\n",
      " [ 4.34490106  2.56420479]]\n"
     ]
    }
   ],
   "source": [
    "print(my_neural_net.layers[0])"
   ]
  },
  {
   "cell_type": "markdown",
   "metadata": {},
   "source": [
    "### Now that we can do that, we can start to poke values in the neural network by changing their weights!"
   ]
  },
  {
   "cell_type": "code",
   "execution_count": 5,
   "metadata": {},
   "outputs": [
    {
     "name": "stdout",
     "output_type": "stream",
     "text": [
      "lets try to tinker with this brain (muhahaha)\n",
      "\n",
      "I mutated the network!!\n",
      "[[-3.14159     1.52866152]\n",
      " [-1.72109833 -2.50564336]\n",
      " [ 4.34490106  2.56420479]]\n"
     ]
    }
   ],
   "source": [
    "print(\"lets try to tinker with this brain (muhahaha)\")\n",
    "my_neural_net.layers[0][0,0] = -3.14159\n",
    "print(\"\")\n",
    "print(\"I mutated the network!!\")\n",
    "print(my_neural_net.layers[0])"
   ]
  },
  {
   "cell_type": "markdown",
   "metadata": {},
   "source": [
    "### See how we've changed the element at `[0,0]` in the network to -3.14 by comparing this output to the print statement above. "
   ]
  },
  {
   "cell_type": "markdown",
   "metadata": {},
   "source": [
    "## Numpy arrays have a built in property named `shape` which will come in handy when you go to write a mutation function. It returns a `tuple` that holds the dimension of the array. \n",
    "For example, our 3x2 matrix we just mutated would return `(3,2)`. \n",
    "\n",
    "We can also index tuples to get individual dimensions."
   ]
  },
  {
   "cell_type": "code",
   "execution_count": 6,
   "metadata": {},
   "outputs": [
    {
     "name": "stdout",
     "output_type": "stream",
     "text": [
      "(3, 2)\n",
      "3\n",
      "2\n"
     ]
    }
   ],
   "source": [
    "layer_dimensions = my_neural_net.layers[0].shape\n",
    "print(layer_dimensions)\n",
    "print(layer_dimensions[0])\n",
    "print(layer_dimensions[1])"
   ]
  },
  {
   "cell_type": "markdown",
   "metadata": {},
   "source": [
    "# Like we discussed in class, we need to test our neural network against a range of inputs to get a good measurement of its performance. \n",
    "\n",
    "### Here I'll just define a set of inputs, and our expected output (in this case, the bit-mirroring output). "
   ]
  },
  {
   "cell_type": "code",
   "execution_count": 7,
   "metadata": {},
   "outputs": [],
   "source": [
    "input_set = [[0,0],\n",
    "             [0,1],\n",
    "             [1,0],\n",
    "             [1,1]]\n",
    "\n",
    "output_set = [[0, 0], \n",
    "              [1, 0],\n",
    "              [0, 1], \n",
    "              [1, 1]]"
   ]
  },
  {
   "cell_type": "markdown",
   "metadata": {},
   "source": [
    "### We can loop through each test input and execute our neural network"
   ]
  },
  {
   "cell_type": "code",
   "execution_count": 8,
   "metadata": {},
   "outputs": [
    {
     "name": "stdout",
     "output_type": "stream",
     "text": [
      "testing input:  [0, 0]\n",
      "output:  [0.98719335 0.92852203]\n",
      "target:  [0, 0]\n",
      "\n",
      "testing input:  [0, 1]\n",
      "output:  [0.93237786 0.51463618]\n",
      "target:  [1, 0]\n",
      "\n",
      "testing input:  [1, 0]\n",
      "output:  [0.76911328 0.9835827 ]\n",
      "target:  [0, 1]\n",
      "\n",
      "testing input:  [1, 1]\n",
      "output:  [0.37336979 0.83022503]\n",
      "target:  [1, 1]\n",
      "\n"
     ]
    }
   ],
   "source": [
    "for test_index in range(len(input_set)):\n",
    "    test_output = my_neural_net.execute(input_set[test_index])\n",
    "    print(\"testing input: \", input_set[test_index])\n",
    "    print(\"output: \", test_output)\n",
    "    print(\"target: \", output_set[test_index])\n",
    "    print(\"\")"
   ]
  },
  {
   "cell_type": "markdown",
   "metadata": {},
   "source": [
    "## But we actually want to quantitatively measure how close we are to the targets. We can just measure the distance between our target and actual output values and sum them up."
   ]
  },
  {
   "cell_type": "code",
   "execution_count": 9,
   "metadata": {},
   "outputs": [
    {
     "name": "stdout",
     "output_type": "stream",
     "text": [
      "4.079909441009588\n"
     ]
    }
   ],
   "source": [
    "total_distance = 0\n",
    "\n",
    "for test_index in range(len(input_set)):\n",
    "    test_output = my_neural_net.execute(input_set[test_index])\n",
    "    target_output = output_set[test_index]\n",
    "    \n",
    "    #typical distance formula between points\n",
    "    distances = np.sqrt((test_output - target_output)**2)\n",
    "    \n",
    "    #sum the distances up and keep a running tab!\n",
    "    total_distance += np.sum(distances)\n",
    "\n",
    "print(total_distance)"
   ]
  },
  {
   "cell_type": "markdown",
   "metadata": {},
   "source": [
    "# Let's turn that calculation into a handy fitness function that expects an `input_set` and a `target_output_set`."
   ]
  },
  {
   "cell_type": "code",
   "execution_count": 10,
   "metadata": {},
   "outputs": [],
   "source": [
    "def get_network_fitness(simple_net, input_set, target_output_set):\n",
    "    assert(len(input_set) == len(target_output_set))\n",
    "    total_distance = 0\n",
    "\n",
    "    for test_index in range(len(input_set)):\n",
    "        test_output = simple_net.execute(input_set[test_index])\n",
    "        target_output = output_set[test_index]\n",
    "\n",
    "        #typical distance formula between points\n",
    "        distances = np.linalg.norm(test_output - target_output)\n",
    "\n",
    "        #sum the distances up and keep a running tab!\n",
    "        total_distance += np.sum(distances)\n",
    "\n",
    "    #we actually want fitness to *increase* as things get fitter\n",
    "    #so we'll just negate this value.\n",
    "    return -total_distance\n"
   ]
  },
  {
   "cell_type": "markdown",
   "metadata": {},
   "source": [
    "## I'll give you a little tournament selection function that expects the `population` of neural networks, an `input_set` and `target_set` to evaluate the networks with, and the `fit_func` that actually does the evaluation. \n",
    "\n",
    "# 1. But you'll have to write a function that implements mutations in the neural networks!"
   ]
  },
  {
   "cell_type": "code",
   "execution_count": null,
   "metadata": {},
   "outputs": [],
   "source": []
  },
  {
   "cell_type": "code",
   "execution_count": 11,
   "metadata": {},
   "outputs": [],
   "source": [
    "def tournament_selection(population, input_set, target_set, fit_func, tournament_size=3):\n",
    "    sample_pop = random.choices(population, k=tournament_size)\n",
    "    sample_pop_fitness = [fit_func(p, input_set, target_set) for p in sample_pop]\n",
    "    winner_idx = np.argmax(sample_pop_fitness)\n",
    "    \n",
    "    return sample_pop[winner_idx]\n",
    "    \n",
    "\n",
    "def mutate_network(simple_net, mutation_rate=0.001):\n",
    "    for layer_to_mut in simple_net.layers:\n",
    "        dims = layer_to_mut.shape\n",
    "        for weight_section in range(dims[0]):\n",
    "            for weight in range(dims[1]):\n",
    "                if random.random() < mutation_rate:\n",
    "                    layer_to_mut[weight_section][weight] += random.randint(-5, 5)\n",
    "    return simple_net"
   ]
  },
  {
   "cell_type": "markdown",
   "metadata": {},
   "source": [
    "# This code will work even without a mutation function, but you'll not be introducing any variation into the population. Once you have a working mutation function, you'll have more fun. \n",
    "\n",
    "## For this problem, we're going to try to evolve a solution to the last question from the last worksheet. \n",
    "| Input 1 | Input 2 | Output |\n",
    "|---------|---------|--------|\n",
    "| 0       | 0       | 0      |\n",
    "| 0       | 1       | 1      |\n",
    "| 1       | 0       | 1      |\n",
    "| 1       | 1       | 0      |\n",
    "\n",
    "\n",
    "## Recall that I said this one is tricky, and requires an additional *layer* in the neural network. Our SimpleNeuralNet class handles this easily for us!\n",
    "We just have to pass in a list of values, where each value is the number of nodes to include in a hidden layer. So, if we wanted 2 hidden layers, each with 5 neurons, we would build a SimpleNeuralNet and include `layer_node_counts=[5, 5]`. For this problem, we only need a single hidden layer, so we'll just pass in `[5]` for example to build a network with 5 neurons in one hidden layer. "
   ]
  },
  {
   "cell_type": "code",
   "execution_count": 24,
   "metadata": {},
   "outputs": [
    {
     "data": {
      "text/plain": [
       "999"
      ]
     },
     "metadata": {},
     "output_type": "display_data"
    }
   ],
   "source": [
    "input_set = [[0,0],\n",
    "             [0,1],\n",
    "             [1,0],\n",
    "             [1,1]]\n",
    "\n",
    "output_set = [[0], \n",
    "              [1],\n",
    "              [1], \n",
    "              [0]]\n",
    "\n",
    "\n",
    "pop_size = 100\n",
    "num_generations = 1000\n",
    "mutation_rate = 1E-3\n",
    "\n",
    "\n",
    "#Build up a population of SimpleNeuralNets\n",
    "#with one hidden layer made up of 5 neurons.\n",
    "population = [ SimpleNeuralNet(num_inputs=2, \n",
    "                               num_outputs=1, \n",
    "                               layer_node_counts=[5])\n",
    "              for i in range(pop_size)]\n",
    "\n",
    "\n",
    "for gen in range(num_generations):\n",
    "    clear_output()\n",
    "    display(gen)\n",
    "        \n",
    "    #do tournament selection to fill up the population\n",
    "    #with deepcopies of the neural networks. \n",
    "    selected_individuals = [tournament_selection(population, \n",
    "                                                 input_set, \n",
    "                                                 output_set, \n",
    "                                                 get_network_fitness).deepcopy()\n",
    "                            for _ in range(pop_size)]\n",
    "    #mutate them!\n",
    "    for individual in selected_individuals:\n",
    "        mutate_network(individual, mutation_rate)\n",
    "    \n",
    "    population = selected_individuals"
   ]
  },
  {
   "cell_type": "markdown",
   "metadata": {},
   "source": [
    "## Although we've been treating these inputs and outputs as binary values, neural networks are operating on continuous values and we can take advantage of that to visualize their output. We could also use this to make more sensitive fitness functions!\n",
    "# 2. Instead of plotting the individual at position `0`, change this code to plot the most fit individual from the population."
   ]
  },
  {
   "cell_type": "code",
   "execution_count": 25,
   "metadata": {},
   "outputs": [
    {
     "data": {
      "image/png": "[encoded data removed]",
      "text/plain": [
       "<Figure size 432x288 with 2 Axes>"
      ]
     },
     "metadata": {},
     "output_type": "display_data"
    }
   ],
   "source": [
    "#get 20 values between 0 and 1 for both x and y inputs\n",
    "x = y = np.linspace(0,1,20)\n",
    "\n",
    "#make a 20x20 matrix of all zeros\n",
    "mat_img = np.zeros((20, 20))\n",
    "population = sorted(population, key=lambda x: get_network_fitness(x, input_set, output_set))\n",
    "for i in range(20):\n",
    "    for j in range(20):\n",
    "        mat_img[i,j] = population[0].execute([x[i],y[j]])[0]\n",
    "    \n",
    "pyplot.imshow(mat_img, cmap=pyplot.get_cmap(\"plasma\"))\n",
    "pyplot.colorbar()\n",
    "pyplot.show()"
   ]
  },
  {
   "cell_type": "code",
   "execution_count": 27,
   "metadata": {},
   "outputs": [
    {
     "name": "stdout",
     "output_type": "stream",
     "text": [
      "testing input:  [0, 0]\n",
      "output:  [0.]\n",
      "target:  [0]\n",
      "\n",
      "testing input:  [0, 1]\n",
      "output:  [1.]\n",
      "target:  [1]\n",
      "\n",
      "testing input:  [1, 0]\n",
      "output:  [1.]\n",
      "target:  [1]\n",
      "\n",
      "testing input:  [1, 1]\n",
      "output:  [0.]\n",
      "target:  [0]\n",
      "\n"
     ]
    }
   ],
   "source": [
    "for test_index in range(len(input_set)):\n",
    "    test_output = population[0].execute(input_set[test_index])\n",
    "    print(\"testing input: \", input_set[test_index])\n",
    "    print(\"output: \", np.round(test_output))\n",
    "    print(\"target: \", output_set[test_index])\n",
    "    print(\"\")"
   ]
  },
  {
   "cell_type": "markdown",
   "metadata": {},
   "source": [
    "## This problem is not trivial, and you may have to increase the number of generations to get a good solution. You could also try more creative fitness functions. It IS solvable with one hidden layer and 5 neurons, but it might be easier with more."
   ]
  }
 ],
 "metadata": {
  "kernelspec": {
   "display_name": "Python 3",
   "language": "python",
   "name": "python3"
  },
  "language_info": {
   "codemirror_mode": {
    "name": "ipython",
    "version": 3
   },
   "file_extension": ".py",
   "mimetype": "text/x-python",
   "name": "python",
   "nbconvert_exporter": "python",
   "pygments_lexer": "ipython3",
   "version": "3.6.4"
  }
 },
 "nbformat": 4,
 "nbformat_minor": 2
}
