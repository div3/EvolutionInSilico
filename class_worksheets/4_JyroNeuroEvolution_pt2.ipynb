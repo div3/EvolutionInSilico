{
 "cells": [
  {
   "cell_type": "markdown",
   "metadata": {},
   "source": [
    "# In this worksheet, we'll start evolving neural network controllers for our robots!"
   ]
  },
  {
   "cell_type": "code",
   "execution_count": 66,
   "metadata": {},
   "outputs": [],
   "source": [
    "from IPython.display import display, clear_output\n",
    "from jyro.simulator import *\n",
    "import random\n",
    "import numpy as np"
   ]
  },
  {
   "cell_type": "markdown",
   "metadata": {},
   "source": [
    "### Just bringing back our `SimpleNeuralNet` class from earlier"
   ]
  },
  {
   "cell_type": "code",
   "execution_count": 67,
   "metadata": {},
   "outputs": [],
   "source": [
    "class SimpleNeuralNet():\n",
    "    #This is our squashing function\n",
    "    #I changed this to the hyperbolic tangent function that\n",
    "    #returns values in (-1, 1)\n",
    "    def activation_function(self, x):\n",
    "        return np.tanh(x)\n",
    "    \n",
    "    #this should look familiar, just a way to create a copy of \n",
    "    #the network without worying about pesky reference \n",
    "    def deepcopy(self):\n",
    "        new_net = SimpleNeuralNet(self.num_inputs, self.num_outputs, self.layer_node_counts)\n",
    "        new_net.layers = [np.copy(layer) for layer in self.layers]\n",
    "        return new_net\n",
    "    \n",
    "    #this is where the neural network does its computation!\n",
    "    def execute(self, input_vector):\n",
    "        # First we need to make sure we're getting the right\n",
    "        # number of inputs into our neural network.\n",
    "        assert len(input_vector) == self.num_inputs ,\\\n",
    "        \"wrong input vector size\"\n",
    "\n",
    "        # create a temporary variable to hold the values that should go\n",
    "        # into the next layer of the network.\n",
    "        # **at the start, this will just be our input**\n",
    "        next_v = input_vector\n",
    "\n",
    "        # iterate through layers, computing the activation\n",
    "        # of the weighted inputs from the previous layer\n",
    "        for layer in self.layers:\n",
    "            # add a bias to each layer [1]\n",
    "            next_v = np.append(next_v, 1)\n",
    "            \n",
    "            # pump the input vector through the matrix multiplication\n",
    "            # and our activation function\n",
    "            next_v = self.activation_function(np.dot(next_v, layer))\n",
    "            \n",
    "        return next_v\n",
    "        \n",
    "    def __init__(self, num_inputs, num_outputs, layer_node_counts=[]):\n",
    "        self.num_inputs = num_inputs\n",
    "        self.layer_node_counts = layer_node_counts\n",
    "        self.num_outputs = num_outputs\n",
    "        self.layers = []\n",
    "        \n",
    "        last_num_neurons = self.num_inputs\n",
    "        for nc in layer_node_counts + [num_outputs]:\n",
    "            # for now, we'll just use random weights in the range [-5,5]\n",
    "            # +1 handles adding a bias node for each layer of nodes\n",
    "            self.layers.append(np.random.uniform(-5, 5, size=(last_num_neurons+1, nc)))\n",
    "            last_num_neurons = nc\n",
    "    "
   ]
  },
  {
   "cell_type": "markdown",
   "metadata": {},
   "source": [
    "## This code is mostly the same, but we're setting up the world a bit differently. Here we are setting up the simulation without all the interactive bits to speed it up."
   ]
  },
  {
   "cell_type": "code",
   "execution_count": 68,
   "metadata": {},
   "outputs": [],
   "source": [
    "class MyPioneer(Pioneer):\n",
    "    def __init__(self, name, x, y, angle):\n",
    "        Pioneer.__init__(self, name, x, y, angle)\n",
    "        self.addDevice(Pioneer16Sonars())\n",
    "        #parameter defines max range in meters\n",
    "        self.addDevice(PioneerFrontLightSensors(3))\n",
    "        self.addDevice(Camera())\n",
    "\n",
    "        \n",
    "robot = MyPioneer(\"Johnny\", 1, 1, 0)\n",
    "sim = Physics()\n",
    "sim.addBox(0, 0, 8, 8, fill=\"backgroundgreen\", wallcolor=\"gray\") #bounding box\n",
    "sim.addLight(7, 7, 1) #paramters are x, y, brightness\n",
    "\n",
    "sim.addRobot(robot)"
   ]
  },
  {
   "cell_type": "markdown",
   "metadata": {},
   "source": [
    "## If we wanted to get a visual of the simulator though, we still can by asking the simulation to draw itself! "
   ]
  },
  {
   "cell_type": "code",
   "execution_count": 69,
   "metadata": {},
   "outputs": [
    {
     "data": {
      "image/svg+xml": [
       "<svg baseProfile=\"full\" height=\"250\" version=\"1.1\" width=\"250\" xmlns=\"http://www.w3.org/2000/svg\" xmlns:ev=\"http://www.w3.org/2001/xml-events\" xmlns:xlink=\"http://www.w3.org/1999/xlink\"><defs /><rect fill=\"#eef3dd\" height=\"250.0\" stroke=\"#bebebe\" stroke-width=\"1\" width=\"250.0\" x=\"0.0\" y=\"0.0\" /><circle cx=\"218.75\" cy=\"31.25\" fill=\"#ffff00\" r=\"7.8125\" stroke=\"#ffff00\" stroke-width=\"1\" /><line fill=\"#800080\" stroke=\"#add8e6\" stroke-width=\"1\" x1=\"25.78125\" x2=\"0.0\" y1=\"215.625\" y2=\"215.625\" /><line fill=\"#800080\" stroke=\"#add8e6\" stroke-width=\"1\" x1=\"26.5625\" x2=\"0.0\" y1=\"213.4375\" y2=\"201.051203125\" /><line fill=\"#800080\" stroke=\"#add8e6\" stroke-width=\"1\" x1=\"27.8125\" x2=\"0.0\" y1=\"212.5\" y2=\"179.35435312500002\" /><line fill=\"#800080\" stroke=\"#add8e6\" stroke-width=\"1\" x1=\"29.6875\" x2=\"0.0\" y1=\"211.71875\" y2=\"100.92349375\" /><line fill=\"#800080\" stroke=\"#add8e6\" stroke-width=\"1\" x1=\"32.8125\" x2=\"89.54236942708201\" y1=\"211.71875\" y2=\"0.0\" /><line fill=\"#800080\" stroke=\"#d3d3d3\" stroke-width=\"1\" x1=\"34.6875\" x2=\"195.38440242163483\" y1=\"212.5\" y2=\"20.988889220255462\" /><line fill=\"#800080\" stroke=\"#add8e6\" stroke-width=\"1\" x1=\"35.9375\" x2=\"250.0\" y1=\"213.4375\" y2=\"113.61850937500002\" /><line fill=\"#800080\" stroke=\"#add8e6\" stroke-width=\"1\" x1=\"36.71875\" x2=\"250.0\" y1=\"215.625\" y2=\"215.625\" /><line fill=\"#800080\" stroke=\"#add8e6\" stroke-width=\"1\" x1=\"36.71875\" x2=\"250.0\" y1=\"221.875\" y2=\"221.875\" /><line fill=\"#800080\" stroke=\"#add8e6\" stroke-width=\"1\" x1=\"35.9375\" x2=\"91.5606462749811\" y1=\"224.0625\" y2=\"250.0\" /><line fill=\"#800080\" stroke=\"#add8e6\" stroke-width=\"1\" x1=\"34.68749999999999\" x2=\"55.66499075396123\" y1=\"225.0\" y2=\"250.0\" /><line fill=\"#800080\" stroke=\"#add8e6\" stroke-width=\"1\" x1=\"32.8125\" x2=\"39.3018943981656\" y1=\"225.78125\" y2=\"250.0\" /><line fill=\"#800080\" stroke=\"#add8e6\" stroke-width=\"1\" x1=\"29.6875\" x2=\"23.198105601834406\" y1=\"225.78125\" y2=\"250.0\" /><line fill=\"#800080\" stroke=\"#add8e6\" stroke-width=\"1\" x1=\"27.8125\" x2=\"6.835009246038779\" y1=\"225.0\" y2=\"250.0\" /><line fill=\"#800080\" stroke=\"#add8e6\" stroke-width=\"1\" x1=\"26.5625\" x2=\"0.0\" y1=\"224.0625\" y2=\"236.448796875\" /><line fill=\"#800080\" stroke=\"#add8e6\" stroke-width=\"1\" x1=\"25.78125\" x2=\"0.0\" y1=\"221.875\" y2=\"221.875\" /><line fill=\"#800080\" stroke=\"#ffa500\" stroke-width=\"1\" x1=\"218.75\" x2=\"25.78125\" y1=\"31.25\" y2=\"211.71875\" /><line fill=\"#800080\" stroke=\"#ffa500\" stroke-width=\"1\" x1=\"218.75\" x2=\"36.71875\" y1=\"31.25\" y2=\"211.71875\" /><line fill=\"#800080\" stroke=\"#a020f0\" stroke-width=\"1\" x1=\"31.25\" x2=\"0.0\" y1=\"218.75\" y2=\"200.707803125\" /><line fill=\"#800080\" stroke=\"#a020f0\" stroke-width=\"1\" x1=\"31.25\" x2=\"250.0\" y1=\"218.75\" y2=\"92.454621875\" /><polygon fill=\"red\" points=\"28.75,211.71875 25.78125,214.0625 25.78125,223.4375 28.75,225.78125 33.75,225.78125 36.71875,223.4375 36.71875,214.0625 33.75,211.71875\" stroke=\"red\" stroke-width=\"1\" /><polygon points=\"-1.5625,-1.5625 0,0 1.5625,-1.5625 0,1.5625\" stroke=\"black\" stroke-width=\"1\" transform=\"translate(31.25,218.75) rotate(180.0)\" /><circle cx=\"25.78125\" cy=\"211.71875\" fill=\"yellow\" r=\"0.78125\" stroke=\"orange\" stroke-width=\"1\" /><circle cx=\"36.71875\" cy=\"211.71875\" fill=\"yellow\" r=\"0.78125\" stroke=\"orange\" stroke-width=\"1\" /><polygon fill=\"black\" points=\"33.125,214.37499999999997 33.125,216.87499999999997 29.375,216.87499999999997 29.375,214.37499999999997\" stroke=\"black\" stroke-width=\"1\" /></svg>"
      ],
      "text/plain": [
       "<jyro.simulator.canvas.Canvas at 0x10d48b0f0>"
      ]
     },
     "execution_count": 69,
     "metadata": {},
     "output_type": "execute_result"
    }
   ],
   "source": [
    "canvas = Canvas((250, 250))\n",
    "sim.draw(canvas)"
   ]
  },
  {
   "cell_type": "markdown",
   "metadata": {},
   "source": [
    "## Let's run a simple walking brain on our robot for 100 timesteps."
   ]
  },
  {
   "cell_type": "code",
   "execution_count": 70,
   "metadata": {},
   "outputs": [],
   "source": [
    "def walking_brain(robot):\n",
    "    robot.move(1, 0)\n",
    "    \n",
    "robot.brain = walking_brain\n",
    "\n",
    "for i in range(100):\n",
    "    sim.step(run_brain=True)"
   ]
  },
  {
   "cell_type": "markdown",
   "metadata": {},
   "source": [
    "### Notice nothing happened in our image above. That's because its a *still shot* of the simulator when we called it. We can call it again to get a picture of what the simulated world looks like now, though. "
   ]
  },
  {
   "cell_type": "code",
   "execution_count": 71,
   "metadata": {},
   "outputs": [
    {
     "data": {
      "image/svg+xml": [
       "<svg baseProfile=\"full\" height=\"250\" version=\"1.1\" width=\"250\" xmlns=\"http://www.w3.org/2000/svg\" xmlns:ev=\"http://www.w3.org/2001/xml-events\" xmlns:xlink=\"http://www.w3.org/1999/xlink\"><defs /><rect fill=\"#eef3dd\" height=\"250.0\" stroke=\"#bebebe\" stroke-width=\"1\" width=\"250.0\" x=\"0.0\" y=\"0.0\" /><circle cx=\"218.75\" cy=\"31.25\" fill=\"#ffff00\" r=\"7.8125\" stroke=\"#ffff00\" stroke-width=\"1\" /><line fill=\"#800080\" stroke=\"#add8e6\" stroke-width=\"1\" x1=\"25.78125\" x2=\"0.0\" y1=\"6.250000000000338\" y2=\"6.250000000000005\" /><line fill=\"#800080\" stroke=\"#add8e6\" stroke-width=\"1\" x1=\"26.5625\" x2=\"17.85043840151044\" y1=\"4.0625000000003295\" y2=\"0.0\" /><line fill=\"#800080\" stroke=\"#add8e6\" stroke-width=\"1\" x1=\"27.8125\" x2=\"25.19031356397833\" y1=\"3.125000000000322\" y2=\"0.0\" /><line fill=\"#800080\" stroke=\"#add8e6\" stroke-width=\"1\" x1=\"29.6875\" x2=\"29.05949435520798\" y1=\"2.3437500000003384\" y2=\"0.0\" /><line fill=\"#800080\" stroke=\"#add8e6\" stroke-width=\"1\" x1=\"32.8125\" x2=\"33.44050564479201\" y1=\"2.3437500000003384\" y2=\"0.0\" /><line fill=\"#800080\" stroke=\"#add8e6\" stroke-width=\"1\" x1=\"34.6875\" x2=\"37.309686436021686\" y1=\"3.125000000000322\" y2=\"0.0\" /><line fill=\"#800080\" stroke=\"#add8e6\" stroke-width=\"1\" x1=\"35.9375\" x2=\"44.64956159848959\" y1=\"4.0625000000003295\" y2=\"0.0\" /><line fill=\"#800080\" stroke=\"#add8e6\" stroke-width=\"1\" x1=\"36.71875\" x2=\"250.0\" y1=\"6.250000000000338\" y2=\"6.250000000000005\" /><line fill=\"#800080\" stroke=\"#add8e6\" stroke-width=\"1\" x1=\"36.71875\" x2=\"250.0\" y1=\"12.500000000000316\" y2=\"12.50000000000001\" /><line fill=\"#800080\" stroke=\"#add8e6\" stroke-width=\"1\" x1=\"35.9375\" x2=\"250.0\" y1=\"14.687500000000325\" y2=\"114.50649062500001\" /><line fill=\"#800080\" stroke=\"#d3d3d3\" stroke-width=\"1\" x1=\"34.68749999999999\" x2=\"195.3844024216348\" y1=\"15.625000000000334\" y2=\"207.13611077974485\" /><line fill=\"#800080\" stroke=\"#add8e6\" stroke-width=\"1\" x1=\"32.8125\" x2=\"95.40375818045558\" y1=\"16.406250000000316\" y2=\"250.0\" /><line fill=\"#800080\" stroke=\"#add8e6\" stroke-width=\"1\" x1=\"29.6875\" x2=\"0.0\" y1=\"16.406250000000316\" y2=\"127.20150624999998\" /><line fill=\"#800080\" stroke=\"#add8e6\" stroke-width=\"1\" x1=\"27.8125\" x2=\"0.0\" y1=\"15.625000000000334\" y2=\"48.77064687499999\" /><line fill=\"#800080\" stroke=\"#add8e6\" stroke-width=\"1\" x1=\"26.5625\" x2=\"0.0\" y1=\"14.687500000000325\" y2=\"27.073796875\" /><line fill=\"#800080\" stroke=\"#add8e6\" stroke-width=\"1\" x1=\"25.78125\" x2=\"0.0\" y1=\"12.500000000000316\" y2=\"12.50000000000001\" /><line fill=\"#800080\" stroke=\"#ffa500\" stroke-width=\"1\" x1=\"218.75\" x2=\"25.78125\" y1=\"31.25\" y2=\"2.3437500000003384\" /><line fill=\"#800080\" stroke=\"#ffa500\" stroke-width=\"1\" x1=\"218.75\" x2=\"36.71875\" y1=\"31.25\" y2=\"2.3437500000003384\" /><line fill=\"#800080\" stroke=\"#a020f0\" stroke-width=\"1\" x1=\"31.25\" x2=\"15.012024545583513\" y1=\"9.375000000000327\" y2=\"0.0\" /><line fill=\"#800080\" stroke=\"#a020f0\" stroke-width=\"1\" x1=\"31.25\" x2=\"47.487975454416485\" y1=\"9.375000000000327\" y2=\"0.0\" /><polygon fill=\"white\" points=\"28.75,2.3437500000003384 25.78125,4.687500000000316 25.78125,14.06250000000034 28.75,16.406250000000316 33.75,16.406250000000316 36.71875,14.06250000000034 36.71875,4.687500000000316 33.75,2.3437500000003384\" stroke=\"black\" stroke-width=\"1\" /><polygon points=\"-1.5625,-1.5625 0,0 1.5625,-1.5625 0,1.5625\" stroke=\"black\" stroke-width=\"1\" transform=\"translate(31.25,9.375000000000327) rotate(180.0)\" /><circle cx=\"25.78125\" cy=\"2.3437500000003384\" fill=\"yellow\" r=\"0.78125\" stroke=\"orange\" stroke-width=\"1\" /><circle cx=\"36.71875\" cy=\"2.3437500000003384\" fill=\"yellow\" r=\"0.78125\" stroke=\"orange\" stroke-width=\"1\" /><polygon fill=\"black\" points=\"33.125,5.0000000000003375 33.125,7.500000000000339 29.375,7.500000000000339 29.375,5.0000000000003375\" stroke=\"black\" stroke-width=\"1\" /></svg>"
      ],
      "text/plain": [
       "<jyro.simulator.canvas.Canvas at 0x10d496390>"
      ]
     },
     "execution_count": 71,
     "metadata": {},
     "output_type": "execute_result"
    }
   ],
   "source": [
    "canvas = Canvas((250, 250))\n",
    "sim.draw(canvas)"
   ]
  },
  {
   "cell_type": "markdown",
   "metadata": {},
   "source": [
    "# We're going to define a weird helper function that returns a function. That sounds complicated, but it's pretty easy once you look at it. \n",
    "\n",
    "### We need this because the Jyro simulator expects the brain of a robot to be a function. But, we want to use neural networks to control that function, so we need a way of plugging our neural networks into the robot brain function easily. "
   ]
  },
  {
   "cell_type": "code",
   "execution_count": 72,
   "metadata": {},
   "outputs": [],
   "source": [
    "def network_to_brain(simple_net):\n",
    "    \n",
    "    #Define the brain function for jyro\n",
    "    def neural_brain(a_robot):\n",
    "        sonar_sensors = a_robot[\"sonar\"].getData()\n",
    "        light_sensors = a_robot[\"light\"].getData()\n",
    "        \n",
    "        #combine the sonar and light inputs\n",
    "        combined_input = sonar_sensors + light_sensors\n",
    "\n",
    "        network = simple_net\n",
    "\n",
    "        #run the neural network with the combined input values\n",
    "        output = network.execute(combined_input)\n",
    "        \n",
    "        #use the output of the network to move the robot\n",
    "        a_robot.move(output[0], output[1])\n",
    "\n",
    "    return neural_brain"
   ]
  },
  {
   "cell_type": "markdown",
   "metadata": {},
   "source": [
    "### Let's reset our robot and try running a random neural brain now!"
   ]
  },
  {
   "cell_type": "code",
   "execution_count": 73,
   "metadata": {},
   "outputs": [
    {
     "data": {
      "image/svg+xml": [
       "<svg baseProfile=\"full\" height=\"250\" version=\"1.1\" width=\"250\" xmlns=\"http://www.w3.org/2000/svg\" xmlns:ev=\"http://www.w3.org/2001/xml-events\" xmlns:xlink=\"http://www.w3.org/1999/xlink\"><defs /><rect fill=\"#eef3dd\" height=\"250.0\" stroke=\"#bebebe\" stroke-width=\"1\" width=\"250.0\" x=\"0.0\" y=\"0.0\" /><circle cx=\"218.75\" cy=\"31.25\" fill=\"#ffff00\" r=\"7.8125\" stroke=\"#ffff00\" stroke-width=\"1\" /><line fill=\"#800080\" stroke=\"#add8e6\" stroke-width=\"1\" x1=\"25.78125\" x2=\"0.0\" y1=\"215.625\" y2=\"215.625\" /><line fill=\"#800080\" stroke=\"#add8e6\" stroke-width=\"1\" x1=\"26.5625\" x2=\"0.0\" y1=\"213.4375\" y2=\"201.051203125\" /><line fill=\"#800080\" stroke=\"#add8e6\" stroke-width=\"1\" x1=\"27.8125\" x2=\"0.0\" y1=\"212.5\" y2=\"179.35435312500002\" /><line fill=\"#800080\" stroke=\"#add8e6\" stroke-width=\"1\" x1=\"29.6875\" x2=\"0.0\" y1=\"211.71875\" y2=\"100.92349375\" /><line fill=\"#800080\" stroke=\"#add8e6\" stroke-width=\"1\" x1=\"32.8125\" x2=\"89.54236942708201\" y1=\"211.71875\" y2=\"0.0\" /><line fill=\"#800080\" stroke=\"#d3d3d3\" stroke-width=\"1\" x1=\"34.6875\" x2=\"195.38440242163483\" y1=\"212.5\" y2=\"20.988889220255462\" /><line fill=\"#800080\" stroke=\"#add8e6\" stroke-width=\"1\" x1=\"35.9375\" x2=\"250.0\" y1=\"213.4375\" y2=\"113.61850937500002\" /><line fill=\"#800080\" stroke=\"#add8e6\" stroke-width=\"1\" x1=\"36.71875\" x2=\"250.0\" y1=\"215.625\" y2=\"215.625\" /><line fill=\"#800080\" stroke=\"#add8e6\" stroke-width=\"1\" x1=\"36.71875\" x2=\"250.0\" y1=\"221.875\" y2=\"221.875\" /><line fill=\"#800080\" stroke=\"#add8e6\" stroke-width=\"1\" x1=\"35.9375\" x2=\"91.5606462749811\" y1=\"224.0625\" y2=\"250.0\" /><line fill=\"#800080\" stroke=\"#add8e6\" stroke-width=\"1\" x1=\"34.68749999999999\" x2=\"55.66499075396123\" y1=\"225.0\" y2=\"250.0\" /><line fill=\"#800080\" stroke=\"#add8e6\" stroke-width=\"1\" x1=\"32.8125\" x2=\"39.3018943981656\" y1=\"225.78125\" y2=\"250.0\" /><line fill=\"#800080\" stroke=\"#add8e6\" stroke-width=\"1\" x1=\"29.6875\" x2=\"23.198105601834406\" y1=\"225.78125\" y2=\"250.0\" /><line fill=\"#800080\" stroke=\"#add8e6\" stroke-width=\"1\" x1=\"27.8125\" x2=\"6.835009246038779\" y1=\"225.0\" y2=\"250.0\" /><line fill=\"#800080\" stroke=\"#add8e6\" stroke-width=\"1\" x1=\"26.5625\" x2=\"0.0\" y1=\"224.0625\" y2=\"236.448796875\" /><line fill=\"#800080\" stroke=\"#add8e6\" stroke-width=\"1\" x1=\"25.78125\" x2=\"0.0\" y1=\"221.875\" y2=\"221.875\" /><line fill=\"#800080\" stroke=\"#ffa500\" stroke-width=\"1\" x1=\"218.75\" x2=\"25.78125\" y1=\"31.25\" y2=\"211.71875\" /><line fill=\"#800080\" stroke=\"#ffa500\" stroke-width=\"1\" x1=\"218.75\" x2=\"36.71875\" y1=\"31.25\" y2=\"211.71875\" /><line fill=\"#800080\" stroke=\"#a020f0\" stroke-width=\"1\" x1=\"31.25\" x2=\"0.0\" y1=\"218.75\" y2=\"200.707803125\" /><line fill=\"#800080\" stroke=\"#a020f0\" stroke-width=\"1\" x1=\"31.25\" x2=\"250.0\" y1=\"218.75\" y2=\"92.454621875\" /><polygon fill=\"red\" points=\"28.75,211.71875 25.78125,214.0625 25.78125,223.4375 28.75,225.78125 33.75,225.78125 36.71875,223.4375 36.71875,214.0625 33.75,211.71875\" stroke=\"red\" stroke-width=\"1\" /><polygon points=\"-1.5625,-1.5625 0,0 1.5625,-1.5625 0,1.5625\" stroke=\"black\" stroke-width=\"1\" transform=\"translate(31.25,218.75) rotate(180.0)\" /><circle cx=\"25.78125\" cy=\"211.71875\" fill=\"yellow\" r=\"0.78125\" stroke=\"orange\" stroke-width=\"1\" /><circle cx=\"36.71875\" cy=\"211.71875\" fill=\"yellow\" r=\"0.78125\" stroke=\"orange\" stroke-width=\"1\" /><polygon fill=\"black\" points=\"33.125,214.37499999999997 33.125,216.87499999999997 29.375,216.87499999999997 29.375,214.37499999999997\" stroke=\"black\" stroke-width=\"1\" /></svg>"
      ],
      "text/plain": [
       "<jyro.simulator.canvas.Canvas at 0x10d6d3c50>"
      ]
     },
     "execution_count": 73,
     "metadata": {},
     "output_type": "execute_result"
    }
   ],
   "source": [
    "robot.setPose(1,1,0)\n",
    "robot.reset()\n",
    "\n",
    "#make a neural net with 18 inputs, and 2 outputs, and no hidden neurons for now.\n",
    "neural_net = SimpleNeuralNet(18,2, []) \n",
    "\n",
    "#turn our neural network into a robot brain, and assign it\n",
    "robot.brain = network_to_brain(neural_net)\n",
    "\n",
    "\n",
    "canvas = Canvas((250, 250))\n",
    "sim.draw(canvas)"
   ]
  },
  {
   "cell_type": "markdown",
   "metadata": {},
   "source": [
    "## Even though we're not in the visual simulator, we can watch the simulation by drawing each time step as we run the simulation.\n",
    "\n",
    "#### This is not something you should do while you're trying to evaluate a bunch of brains though!"
   ]
  },
  {
   "cell_type": "code",
   "execution_count": 74,
   "metadata": {},
   "outputs": [
    {
     "data": {
      "image/svg+xml": [
       "<svg baseProfile=\"full\" height=\"250\" version=\"1.1\" width=\"250\" xmlns=\"http://www.w3.org/2000/svg\" xmlns:ev=\"http://www.w3.org/2001/xml-events\" xmlns:xlink=\"http://www.w3.org/1999/xlink\"><defs /><rect fill=\"#eef3dd\" height=\"250.0\" stroke=\"#bebebe\" stroke-width=\"1\" width=\"250.0\" x=\"0.0\" y=\"0.0\" /><circle cx=\"218.75\" cy=\"31.25\" fill=\"#ffff00\" r=\"7.8125\" stroke=\"#ffff00\" stroke-width=\"1\" /><line fill=\"#800080\" stroke=\"#add8e6\" stroke-width=\"1\" x1=\"8.624128193161706\" x2=\"47.19605805258717\" y1=\"167.69880893805205\" y2=\"250.0\" /><line fill=\"#800080\" stroke=\"#add8e6\" stroke-width=\"1\" x1=\"6.311832938693779\" x2=\"6.4708211096679\" y1=\"167.91971269235492\" y2=\"250.0\" /><line fill=\"#800080\" stroke=\"#add8e6\" stroke-width=\"1\" x1=\"4.932472217395773\" x2=\"0.0\" y1=\"167.18570298496667\" y2=\"177.8171375\" /><line fill=\"#800080\" stroke=\"#add8e6\" stroke-width=\"1\" x1=\"3.4293608149245403\" x2=\"0.0\" y1=\"165.81945532284203\" y2=\"168.70836875\" /><line fill=\"#800080\" stroke=\"#add8e6\" stroke-width=\"1\" x1=\"2.1031953097136804\" x2=\"0.0\" y1=\"162.98980692546317\" y2=\"163.364859375\" /><line fill=\"#800080\" stroke=\"#add8e6\" stroke-width=\"1\" x1=\"2.0149081059318825\" x2=\"0.0\" y1=\"160.96047651073312\" y2=\"160.42476249999999\" /><line fill=\"#800080\" stroke=\"#add8e6\" stroke-width=\"1\" x1=\"2.333336423061201\" x2=\"0.0\" y1=\"159.4307675002183\" y2=\"157.48055625\" /><line fill=\"#800080\" stroke=\"#add8e6\" stroke-width=\"1\" x1=\"3.982548924923697\" x2=\"0.0\" y1=\"157.795039547226\" y2=\"149.29744687500002\" /><line fill=\"#800080\" stroke=\"#add8e6\" stroke-width=\"1\" x1=\"9.641845719681445\" x2=\"0.0\" y1=\"155.1427085368043\" y2=\"134.569834375\" /><line fill=\"#800080\" stroke=\"#add8e6\" stroke-width=\"1\" x1=\"11.954140974149372\" x2=\"11.654060398526788\" y1=\"154.9218047825014\" y2=\"0.0\" /><line fill=\"#800080\" stroke=\"#add8e6\" stroke-width=\"1\" x1=\"13.333501695447376\" x2=\"85.55027255766466\" y1=\"155.65581448988968\" y2=\"0.0\" /><line fill=\"#800080\" stroke=\"#add8e6\" stroke-width=\"1\" x1=\"14.83661309791861\" x2=\"201.23378705963327\" y1=\"157.02206215201429\" y2=\"0.0\" /><line fill=\"#800080\" stroke=\"#add8e6\" stroke-width=\"1\" x1=\"16.162778603129468\" x2=\"250.0\" y1=\"159.85171054939318\" y2=\"118.152709375\" /><line fill=\"#800080\" stroke=\"#add8e6\" stroke-width=\"1\" x1=\"16.25106580691127\" x2=\"250.0\" y1=\"161.8810409641232\" y2=\"224.02885\" /><line fill=\"#800080\" stroke=\"#add8e6\" stroke-width=\"1\" x1=\"15.93263748978195\" x2=\"119.53255992850958\" y1=\"163.410749974638\" y2=\"250.0\" /><line fill=\"#800080\" stroke=\"#add8e6\" stroke-width=\"1\" x1=\"14.283424987919453\" x2=\"54.09841806756205\" y1=\"165.04647792763032\" y2=\"250.0\" /><line fill=\"#800080\" stroke=\"#ffa500\" stroke-width=\"1\" x1=\"218.75\" x2=\"5.0870676964381145\" y1=\"31.25\" y2=\"169.35651581956563\" /><line fill=\"#800080\" stroke=\"#ffa500\" stroke-width=\"1\" x1=\"218.75\" x2=\"0.445488428200106\" y1=\"31.25\" y2=\"159.45274642873957\" /><line fill=\"#800080\" stroke=\"#a020f0\" stroke-width=\"1\" x1=\"9.132986956421576\" x2=\"1.5561679890246203\" y1=\"161.42075873742817\" y2=\"250.0\" /><line fill=\"#800080\" stroke=\"#a020f0\" stroke-width=\"1\" x1=\"9.132986956421576\" x2=\"0.0\" y1=\"161.42075873742817\" y2=\"155.0521\" /><polygon fill=\"white\" points=\"3.827210466487798,166.6683498420557 7.20930399447227,168.36189169065747 15.698249186608889,164.38339517502487 16.560628254692727,160.70060506860685 14.438763446355352,156.17316763280064 11.056669918370881,154.47962578419882 2.567724726234261,158.45812229983142 1.7053456581504227,162.1409124062495\" stroke=\"black\" stroke-width=\"1\" /><polygon points=\"-1.5625,-1.5625 0,0 1.5625,-1.5625 0,1.5625\" stroke=\"black\" stroke-width=\"1\" transform=\"translate(9.132986956421576,161.42075873742817) rotate(64.8890196148378)\" /><circle cx=\"5.0870676964381145\" cy=\"169.35651581956563\" fill=\"yellow\" r=\"0.78125\" stroke=\"orange\" stroke-width=\"1\" /><circle cx=\"0.445488428200106\" cy=\"159.45274642873957\" fill=\"yellow\" r=\"0.78125\" stroke=\"orange\" stroke-width=\"1\" /><polygon fill=\"black\" points=\"4.375779896964637,161.57960140629604 6.639498614867735,160.51866900212735 8.230897221120767,163.914247078982 5.967178503217668,164.9751794831507\" stroke=\"black\" stroke-width=\"1\" /></svg>"
      ],
      "text/plain": [
       "<jyro.simulator.canvas.Canvas at 0x10d6d3c50>"
      ]
     },
     "metadata": {},
     "output_type": "display_data"
    }
   ],
   "source": [
    "for i in range(50):\n",
    "    #run the simulation for one step\n",
    "    sim.step(run_brain=True)\n",
    "    \n",
    "    #draw the output, overwriting the last\n",
    "    sim.draw(canvas)\n",
    "    clear_output(wait=True)\n",
    "    display(canvas)\n",
    "    \n",
    "    #pause for enough time to enjoy it\n",
    "    time.sleep(.085)"
   ]
  },
  {
   "cell_type": "markdown",
   "metadata": {},
   "source": [
    "## I'm bringing in some helper functions we wrote in previous notebooks. \n",
    "\n",
    "## `tournament_selection` expects a list of individuals (in our case, neural networks) and a list of their fitness values. \n",
    "I'm passing in a fitness list instead of evaluating individuals every time we encounter them because evaluation is much slower in this environment. \n",
    "\n",
    "## `mutate_network` expects a network, and optionally the probability of mutating an edge weight (`mutation_rate`) and the effect size of the mutations (`mutation_effect_size`)\n",
    "This function tries to be speedy with mutations, by calculating how many mutations should occur, and then picking the ones to mutate randomly from the neurons. "
   ]
  },
  {
   "cell_type": "code",
   "execution_count": 75,
   "metadata": {},
   "outputs": [],
   "source": [
    "def tournament_selection(population, fitnesses, tournament_size=3):\n",
    "    sample_pop_idxs = np.random.choice(range(len(population)), size=tournament_size)\n",
    "    tourny_winner_idx = np.argmax(np.array(fitnesses)[sample_pop_idxs])\n",
    "    winner_pop_idx = sample_pop_idxs[tourny_winner_idx]\n",
    "\n",
    "    return population[winner_pop_idx]\n",
    "    \n",
    "def mutate_network(simple_net, mutation_rate=1E-3, mutation_effect_size=2):\n",
    "    for layer_to_mut in simple_net.layers:\n",
    "        dims = layer_to_mut.shape\n",
    "        num_mutations = np.random.binomial(dims[0]*dims[1], mutation_rate)\n",
    "        for i in range(num_mutations):\n",
    "            rand_i = np.random.randint(0, dims[0])\n",
    "            rand_j = np.random.randint(0, dims[1])\n",
    "            layer_to_mut[rand_i, rand_j] += np.random.normal(scale=mutation_effect_size)\n"
   ]
  },
  {
   "cell_type": "markdown",
   "metadata": {},
   "source": [
    "# Now we have to figure out a way of evaluating our brains.\n",
    "#### We'll stick the network into the brain of the robot, and run it in the simulation (without visualizing it so it goes fast). \n",
    "\n",
    "# But, what should we reward?\n",
    "#### In this simple fitness function, I'm just counting up how far the robot moved during it's trial and calling that it's fitness. "
   ]
  },
  {
   "cell_type": "code",
   "execution_count": 76,
   "metadata": {},
   "outputs": [],
   "source": [
    "def measure_neuralnet_fitness(simple_net, iterations=20):\n",
    "    robot.brain = network_to_brain(simple_net)\n",
    "    distance_moved = 0\n",
    "    \n",
    "    #reset the robot's position\n",
    "    robot.setPose(1, 1, 0)\n",
    "    robot.reset()\n",
    "    \n",
    "    #iterate through the simulation\n",
    "    for i in range(iterations):        \n",
    "        #but if the robot's stuck, end early!\n",
    "        if robot.stall:\n",
    "            break\n",
    "            \n",
    "        #move the robot\n",
    "        cur_pos = robot.getPose()\n",
    "        sim.step(run_brain=True)\n",
    "        next_pos = robot.getPose()\n",
    "        \n",
    "        #and keep track of how far it moved\n",
    "        distance_moved += np.linalg.norm(np.array(cur_pos[0:2]) - np.array(next_pos[0:2]))\n",
    "        \n",
    "    return distance_moved"
   ]
  },
  {
   "cell_type": "markdown",
   "metadata": {},
   "source": [
    "# So, now we can measure fitness, let's evolve some robot brains! \n",
    "## We'll start off small, because this is a slow simulation. We'll use a population of 20 robots, and let them evolve them for 10 genrations.\n",
    "\n",
    "## We'll also only use 50 timesteps of the simulation for each evaluation. "
   ]
  },
  {
   "cell_type": "code",
   "execution_count": 80,
   "metadata": {},
   "outputs": [
    {
     "name": "stdout",
     "output_type": "stream",
     "text": [
      "[0.0, 0.0]\n",
      "[0.0, 0.0]\n",
      "[0.0, 0.0]\n",
      "[0.0, 0.0]\n",
      "[0.0, 0.0]\n",
      "[0.0, 0.0]\n",
      "[0.0, 0.0]\n",
      "[0.0, 0.0]\n"
     ]
    },
    {
     "ename": "KeyboardInterrupt",
     "evalue": "",
     "output_type": "error",
     "traceback": [
      "\u001b[0;31m---------------------------------------------------------------------------\u001b[0m",
      "\u001b[0;31mKeyboardInterrupt\u001b[0m                         Traceback (most recent call last)",
      "\u001b[0;32m<ipython-input-80-d90cd06b8856>\u001b[0m in \u001b[0;36m<module>\u001b[0;34m()\u001b[0m\n\u001b[1;32m      8\u001b[0m \u001b[0;32mfor\u001b[0m \u001b[0mi\u001b[0m \u001b[0;32min\u001b[0m \u001b[0mrange\u001b[0m\u001b[0;34m(\u001b[0m\u001b[0mgenerations\u001b[0m\u001b[0;34m)\u001b[0m\u001b[0;34m:\u001b[0m\u001b[0;34m\u001b[0m\u001b[0m\n\u001b[1;32m      9\u001b[0m     \u001b[0;31m#evaluate the fitnesses using 50 timesteps\u001b[0m\u001b[0;34m\u001b[0m\u001b[0;34m\u001b[0m\u001b[0m\n\u001b[0;32m---> 10\u001b[0;31m     \u001b[0mfitnesses\u001b[0m \u001b[0;34m=\u001b[0m \u001b[0;34m[\u001b[0m\u001b[0mmeasure_neuralnet_fitness\u001b[0m\u001b[0;34m(\u001b[0m\u001b[0mn\u001b[0m\u001b[0;34m,\u001b[0m \u001b[0miterations\u001b[0m\u001b[0;34m=\u001b[0m\u001b[0;36m50\u001b[0m\u001b[0;34m)\u001b[0m \u001b[0;32mfor\u001b[0m \u001b[0mn\u001b[0m \u001b[0;32min\u001b[0m \u001b[0mpopulation\u001b[0m\u001b[0;34m]\u001b[0m\u001b[0;34m\u001b[0m\u001b[0m\n\u001b[0m\u001b[1;32m     11\u001b[0m \u001b[0;34m\u001b[0m\u001b[0m\n\u001b[1;32m     12\u001b[0m     \u001b[0;31m#keep track of the mean pop fitnesses\u001b[0m\u001b[0;34m\u001b[0m\u001b[0;34m\u001b[0m\u001b[0m\n",
      "\u001b[0;32m<ipython-input-80-d90cd06b8856>\u001b[0m in \u001b[0;36m<listcomp>\u001b[0;34m(.0)\u001b[0m\n\u001b[1;32m      8\u001b[0m \u001b[0;32mfor\u001b[0m \u001b[0mi\u001b[0m \u001b[0;32min\u001b[0m \u001b[0mrange\u001b[0m\u001b[0;34m(\u001b[0m\u001b[0mgenerations\u001b[0m\u001b[0;34m)\u001b[0m\u001b[0;34m:\u001b[0m\u001b[0;34m\u001b[0m\u001b[0m\n\u001b[1;32m      9\u001b[0m     \u001b[0;31m#evaluate the fitnesses using 50 timesteps\u001b[0m\u001b[0;34m\u001b[0m\u001b[0;34m\u001b[0m\u001b[0m\n\u001b[0;32m---> 10\u001b[0;31m     \u001b[0mfitnesses\u001b[0m \u001b[0;34m=\u001b[0m \u001b[0;34m[\u001b[0m\u001b[0mmeasure_neuralnet_fitness\u001b[0m\u001b[0;34m(\u001b[0m\u001b[0mn\u001b[0m\u001b[0;34m,\u001b[0m \u001b[0miterations\u001b[0m\u001b[0;34m=\u001b[0m\u001b[0;36m50\u001b[0m\u001b[0;34m)\u001b[0m \u001b[0;32mfor\u001b[0m \u001b[0mn\u001b[0m \u001b[0;32min\u001b[0m \u001b[0mpopulation\u001b[0m\u001b[0;34m]\u001b[0m\u001b[0;34m\u001b[0m\u001b[0m\n\u001b[0m\u001b[1;32m     11\u001b[0m \u001b[0;34m\u001b[0m\u001b[0m\n\u001b[1;32m     12\u001b[0m     \u001b[0;31m#keep track of the mean pop fitnesses\u001b[0m\u001b[0;34m\u001b[0m\u001b[0;34m\u001b[0m\u001b[0m\n",
      "\u001b[0;32m<ipython-input-79-c8e8d7d575b7>\u001b[0m in \u001b[0;36mmeasure_neuralnet_fitness\u001b[0;34m(simple_net, iterations)\u001b[0m\n\u001b[1;32m     16\u001b[0m         \u001b[0;31m#move the robot\u001b[0m\u001b[0;34m\u001b[0m\u001b[0;34m\u001b[0m\u001b[0m\n\u001b[1;32m     17\u001b[0m         \u001b[0mcur_pos\u001b[0m \u001b[0;34m=\u001b[0m \u001b[0mrobot\u001b[0m\u001b[0;34m.\u001b[0m\u001b[0mgetPose\u001b[0m\u001b[0;34m(\u001b[0m\u001b[0;34m)\u001b[0m\u001b[0;34m\u001b[0m\u001b[0m\n\u001b[0;32m---> 18\u001b[0;31m         \u001b[0msim\u001b[0m\u001b[0;34m.\u001b[0m\u001b[0mstep\u001b[0m\u001b[0;34m(\u001b[0m\u001b[0mrun_brain\u001b[0m\u001b[0;34m=\u001b[0m\u001b[0;32mTrue\u001b[0m\u001b[0;34m)\u001b[0m\u001b[0;34m\u001b[0m\u001b[0m\n\u001b[0m\u001b[1;32m     19\u001b[0m         \u001b[0mnext_pos\u001b[0m \u001b[0;34m=\u001b[0m \u001b[0mrobot\u001b[0m\u001b[0;34m.\u001b[0m\u001b[0mgetPose\u001b[0m\u001b[0;34m(\u001b[0m\u001b[0;34m)\u001b[0m\u001b[0;34m\u001b[0m\u001b[0m\n\u001b[1;32m     20\u001b[0m \u001b[0;34m\u001b[0m\u001b[0m\n",
      "\u001b[0;32m/anaconda3/lib/python3.6/site-packages/jyro/simulator/simulator.py\u001b[0m in \u001b[0;36mstep\u001b[0;34m(self, run_brain)\u001b[0m\n\u001b[1;32m    340\u001b[0m             \u001b[0mcollision\u001b[0m \u001b[0;34m=\u001b[0m \u001b[0mr\u001b[0m\u001b[0;34m.\u001b[0m\u001b[0mstep\u001b[0m\u001b[0;34m(\u001b[0m\u001b[0mself\u001b[0m\u001b[0;34m.\u001b[0m\u001b[0mtimeslice\u001b[0m\u001b[0;34m)\u001b[0m\u001b[0;34m\u001b[0m\u001b[0m\n\u001b[1;32m    341\u001b[0m         \u001b[0;32mfor\u001b[0m \u001b[0mr\u001b[0m \u001b[0;32min\u001b[0m \u001b[0mself\u001b[0m\u001b[0;34m.\u001b[0m\u001b[0mrobots\u001b[0m\u001b[0;34m:\u001b[0m\u001b[0;34m\u001b[0m\u001b[0m\n\u001b[0;32m--> 342\u001b[0;31m             \u001b[0mr\u001b[0m\u001b[0;34m.\u001b[0m\u001b[0mupdateDevices\u001b[0m\u001b[0;34m(\u001b[0m\u001b[0;34m)\u001b[0m\u001b[0;34m\u001b[0m\u001b[0m\n\u001b[0m\u001b[1;32m    343\u001b[0m         \u001b[0mself\u001b[0m\u001b[0;34m.\u001b[0m\u001b[0mstepCount\u001b[0m \u001b[0;34m+=\u001b[0m \u001b[0;36m1\u001b[0m\u001b[0;34m\u001b[0m\u001b[0m\n\u001b[1;32m    344\u001b[0m \u001b[0;34m\u001b[0m\u001b[0m\n",
      "\u001b[0;32m/anaconda3/lib/python3.6/site-packages/jyro/simulator/robot.py\u001b[0m in \u001b[0;36mupdateDevices\u001b[0;34m(self)\u001b[0m\n\u001b[1;32m    180\u001b[0m         \u001b[0;32mfor\u001b[0m \u001b[0mdevice\u001b[0m \u001b[0;32min\u001b[0m \u001b[0mself\u001b[0m\u001b[0;34m.\u001b[0m\u001b[0mdevices\u001b[0m\u001b[0;34m:\u001b[0m\u001b[0;34m\u001b[0m\u001b[0m\n\u001b[1;32m    181\u001b[0m             \u001b[0;32mif\u001b[0m \u001b[0mdevice\u001b[0m\u001b[0;34m.\u001b[0m\u001b[0mactive\u001b[0m\u001b[0;34m:\u001b[0m\u001b[0;34m\u001b[0m\u001b[0m\n\u001b[0;32m--> 182\u001b[0;31m                 \u001b[0mdevice\u001b[0m\u001b[0;34m.\u001b[0m\u001b[0mupdate\u001b[0m\u001b[0;34m(\u001b[0m\u001b[0mself\u001b[0m\u001b[0;34m)\u001b[0m\u001b[0;34m\u001b[0m\u001b[0m\n\u001b[0m\u001b[1;32m    183\u001b[0m \u001b[0;34m\u001b[0m\u001b[0m\n\u001b[1;32m    184\u001b[0m     \u001b[0;32mdef\u001b[0m \u001b[0mstep\u001b[0m\u001b[0;34m(\u001b[0m\u001b[0mself\u001b[0m\u001b[0;34m,\u001b[0m \u001b[0mtimeslice\u001b[0m\u001b[0;34m=\u001b[0m\u001b[0;36m100\u001b[0m\u001b[0;34m)\u001b[0m\u001b[0;34m:\u001b[0m\u001b[0;34m\u001b[0m\u001b[0m\n",
      "\u001b[0;32m/anaconda3/lib/python3.6/site-packages/jyro/simulator/device.py\u001b[0m in \u001b[0;36mupdate\u001b[0;34m(self, robot)\u001b[0m\n\u001b[1;32m    472\u001b[0m             distance, hit, obj = robot.physics.castRay(robot, x, y, -ga,\n\u001b[1;32m    473\u001b[0m                                                          \u001b[0mignoreRobot\u001b[0m\u001b[0;34m=\u001b[0m\u001b[0;34m\"self\"\u001b[0m\u001b[0;34m,\u001b[0m\u001b[0;34m\u001b[0m\u001b[0m\n\u001b[0;32m--> 474\u001b[0;31m                                                          rayType=\"camera\")\n\u001b[0m\u001b[1;32m    475\u001b[0m             \u001b[0;32mif\u001b[0m \u001b[0mobj\u001b[0m \u001b[0;34m!=\u001b[0m \u001b[0;32mNone\u001b[0m\u001b[0;34m:\u001b[0m\u001b[0;34m\u001b[0m\u001b[0m\n\u001b[1;32m    476\u001b[0m                 \u001b[0;32mif\u001b[0m \u001b[0mi\u001b[0m \u001b[0;32min\u001b[0m \u001b[0;34m[\u001b[0m\u001b[0;36m0\u001b[0m\u001b[0;34m,\u001b[0m \u001b[0mself\u001b[0m\u001b[0;34m.\u001b[0m\u001b[0mwidth\u001b[0m \u001b[0;34m-\u001b[0m \u001b[0;36m1\u001b[0m\u001b[0;34m]\u001b[0m\u001b[0;34m:\u001b[0m\u001b[0;34m\u001b[0m\u001b[0m\n",
      "\u001b[0;32m/anaconda3/lib/python3.6/site-packages/jyro/simulator/simulator.py\u001b[0m in \u001b[0;36mcastRay\u001b[0;34m(self, robot, x1, y1, a, maxRange, ignoreRobot, rayType)\u001b[0m\n\u001b[1;32m    354\u001b[0m             \u001b[0;32mfor\u001b[0m \u001b[0mw\u001b[0m \u001b[0;32min\u001b[0m \u001b[0mself\u001b[0m\u001b[0;34m.\u001b[0m\u001b[0mworld\u001b[0m\u001b[0;34m:\u001b[0m\u001b[0;34m\u001b[0m\u001b[0m\n\u001b[1;32m    355\u001b[0m                 \u001b[0;31m## Direct light:\u001b[0m\u001b[0;34m\u001b[0m\u001b[0;34m\u001b[0m\u001b[0m\n\u001b[0;32m--> 356\u001b[0;31m                 \u001b[0mretval\u001b[0m \u001b[0;34m=\u001b[0m \u001b[0mw\u001b[0m\u001b[0;34m.\u001b[0m\u001b[0mintersects\u001b[0m\u001b[0;34m(\u001b[0m\u001b[0mseg\u001b[0m\u001b[0;34m)\u001b[0m\u001b[0;34m\u001b[0m\u001b[0m\n\u001b[0m\u001b[1;32m    357\u001b[0m                 \u001b[0;32mif\u001b[0m \u001b[0mretval\u001b[0m\u001b[0;34m:\u001b[0m\u001b[0;34m\u001b[0m\u001b[0m\n\u001b[1;32m    358\u001b[0m                     \u001b[0mdist\u001b[0m \u001b[0;34m=\u001b[0m \u001b[0mSegment\u001b[0m\u001b[0;34m(\u001b[0m\u001b[0mretval\u001b[0m\u001b[0;34m,\u001b[0m \u001b[0;34m(\u001b[0m\u001b[0mx1\u001b[0m\u001b[0;34m,\u001b[0m \u001b[0my1\u001b[0m\u001b[0;34m)\u001b[0m\u001b[0;34m)\u001b[0m\u001b[0;34m.\u001b[0m\u001b[0mlength\u001b[0m\u001b[0;34m(\u001b[0m\u001b[0;34m)\u001b[0m\u001b[0;34m\u001b[0m\u001b[0m\n",
      "\u001b[0;32m/anaconda3/lib/python3.6/site-packages/jyro/simulator/simulator.py\u001b[0m in \u001b[0;36mintersects\u001b[0;34m(self, other)\u001b[0m\n\u001b[1;32m    189\u001b[0m                     \u001b[0;32mreturn\u001b[0m \u001b[0;32mNone\u001b[0m\u001b[0;34m\u001b[0m\u001b[0m\n\u001b[1;32m    190\u001b[0m         \u001b[0;32melse\u001b[0m\u001b[0;34m:\u001b[0m\u001b[0;34m\u001b[0m\u001b[0m\n\u001b[0;32m--> 191\u001b[0;31m             \u001b[0mi\u001b[0m \u001b[0;34m=\u001b[0m \u001b[0mself\u001b[0m\u001b[0;34m.\u001b[0m\u001b[0mintersection\u001b[0m\u001b[0;34m(\u001b[0m\u001b[0mother\u001b[0m\u001b[0;34m)\u001b[0m\u001b[0;34m\u001b[0m\u001b[0m\n\u001b[0m\u001b[1;32m    192\u001b[0m             \u001b[0;32mif\u001b[0m \u001b[0mself\u001b[0m\u001b[0;34m.\u001b[0m\u001b[0min_bbox\u001b[0m\u001b[0;34m(\u001b[0m\u001b[0mi\u001b[0m\u001b[0;34m)\u001b[0m \u001b[0;32mand\u001b[0m \u001b[0mother\u001b[0m\u001b[0;34m.\u001b[0m\u001b[0min_bbox\u001b[0m\u001b[0;34m(\u001b[0m\u001b[0mi\u001b[0m\u001b[0;34m)\u001b[0m\u001b[0;34m:\u001b[0m\u001b[0;34m\u001b[0m\u001b[0m\n\u001b[1;32m    193\u001b[0m                 \u001b[0;32mreturn\u001b[0m \u001b[0mi\u001b[0m\u001b[0;34m\u001b[0m\u001b[0m\n",
      "\u001b[0;32m/anaconda3/lib/python3.6/site-packages/jyro/simulator/simulator.py\u001b[0m in \u001b[0;36mintersection\u001b[0;34m(self, other)\u001b[0m\n\u001b[1;32m    145\u001b[0m             \u001b[0;32mreturn\u001b[0m \u001b[0;32mNone\u001b[0m\u001b[0;34m\u001b[0m\u001b[0m\n\u001b[1;32m    146\u001b[0m         \u001b[0;32melif\u001b[0m \u001b[0mself\u001b[0m\u001b[0;34m.\u001b[0m\u001b[0mvertical\u001b[0m\u001b[0;34m:\u001b[0m\u001b[0;34m\u001b[0m\u001b[0m\n\u001b[0;32m--> 147\u001b[0;31m             \u001b[0;32mreturn\u001b[0m \u001b[0mother\u001b[0m\u001b[0;34m.\u001b[0m\u001b[0mintersection\u001b[0m\u001b[0;34m(\u001b[0m\u001b[0mself\u001b[0m\u001b[0;34m)\u001b[0m\u001b[0;34m\u001b[0m\u001b[0m\n\u001b[0m\u001b[1;32m    148\u001b[0m         \u001b[0;32melif\u001b[0m \u001b[0mother\u001b[0m\u001b[0;34m.\u001b[0m\u001b[0mvertical\u001b[0m\u001b[0;34m:\u001b[0m\u001b[0;34m\u001b[0m\u001b[0m\n\u001b[1;32m    149\u001b[0m             return (other.start[0],\n",
      "\u001b[0;32m/anaconda3/lib/python3.6/site-packages/jyro/simulator/simulator.py\u001b[0m in \u001b[0;36mintersection\u001b[0;34m(self, other)\u001b[0m\n\u001b[1;32m    148\u001b[0m         \u001b[0;32melif\u001b[0m \u001b[0mother\u001b[0m\u001b[0;34m.\u001b[0m\u001b[0mvertical\u001b[0m\u001b[0;34m:\u001b[0m\u001b[0;34m\u001b[0m\u001b[0m\n\u001b[1;32m    149\u001b[0m             return (other.start[0],\n\u001b[0;32m--> 150\u001b[0;31m                     self.yintercept + other.start[0] * self.slope)\n\u001b[0m\u001b[1;32m    151\u001b[0m         \u001b[0;32melse\u001b[0m\u001b[0;34m:\u001b[0m\u001b[0;34m\u001b[0m\u001b[0m\n\u001b[1;32m    152\u001b[0m             \u001b[0;31m# m1x + b1 = m2x + b2; so\u001b[0m\u001b[0;34m\u001b[0m\u001b[0;34m\u001b[0m\u001b[0m\n",
      "\u001b[0;31mKeyboardInterrupt\u001b[0m: "
     ]
    }
   ],
   "source": [
    "pop_size = 20\n",
    "generations = 10\n",
    "\n",
    "#build our random population of neural networks\n",
    "population = [SimpleNeuralNet(18,2,[5]) for _ in range(pop_size)]\n",
    "evo_fitnesses = []\n",
    "\n",
    "for i in range(generations):\n",
    "    #evaluate the fitnesses using 50 timesteps\n",
    "    fitnesses = [measure_neuralnet_fitness(n, iterations=50) for n in population]\n",
    "    \n",
    "    #keep track of the mean pop fitnesses\n",
    "    evo_fitnesses.append(np.mean(fitnesses))\n",
    "    \n",
    "    #print the generation and the mean fitness we just stuck on the\n",
    "    #evo_fitnesses list\n",
    "    clear_output(wait=True)\n",
    "    display(i, evo_fitnesses[-1])\n",
    "    \n",
    "    #do tournament selection\n",
    "    next_pop = [tournament_selection(population, fitnesses).deepcopy() for _ in range(pop_size)]\n",
    "    \n",
    "    #and mutate the new networks\n",
    "    for net in next_pop:\n",
    "        mutate_network(net, mutation_rate=0.01)\n",
    "    \n",
    "    population = next_pop"
   ]
  },
  {
   "cell_type": "code",
   "execution_count": 58,
   "metadata": {},
   "outputs": [
    {
     "data": {
      "image/svg+xml": [
       "<svg baseProfile=\"full\" height=\"250\" version=\"1.1\" width=\"250\" xmlns=\"http://www.w3.org/2000/svg\" xmlns:ev=\"http://www.w3.org/2001/xml-events\" xmlns:xlink=\"http://www.w3.org/1999/xlink\"><defs /><rect fill=\"#eef3dd\" height=\"250.0\" stroke=\"#bebebe\" stroke-width=\"1\" width=\"250.0\" x=\"0.0\" y=\"0.0\" /><circle cx=\"218.75\" cy=\"31.25\" fill=\"#ffff00\" r=\"7.8125\" stroke=\"#ffff00\" stroke-width=\"1\" /><line fill=\"#800080\" stroke=\"#add8e6\" stroke-width=\"1\" x1=\"1.9773768408226053\" x2=\"0.0\" y1=\"164.31086663722945\" y2=\"165.273859375\" /><line fill=\"#800080\" stroke=\"#add8e6\" stroke-width=\"1\" x1=\"1.7219791205254127\" x2=\"0.0\" y1=\"162.00212676081048\" y2=\"162.03117187499998\" /><line fill=\"#800080\" stroke=\"#add8e6\" stroke-width=\"1\" x1=\"2.4353155574009895\" x2=\"0.0\" y1=\"160.61196224614844\" y2=\"159.525975\" /><line fill=\"#800080\" stroke=\"#add8e6\" stroke-width=\"1\" x1=\"3.778972112556081\" x2=\"0.0\" y1=\"159.08862261747439\" y2=\"154.73625\" /><line fill=\"#800080\" stroke=\"#add8e6\" stroke-width=\"1\" x1=\"6.588507829151499\" x2=\"0.0\" y1=\"157.72036311826577\" y2=\"123.718784375\" /><line fill=\"#800080\" stroke=\"#add8e6\" stroke-width=\"1\" x1=\"8.61629413391091\" x2=\"48.00919242600136\" y1=\"157.60179134788942\" y2=\"0.0\" /><line fill=\"#800080\" stroke=\"#add8e6\" stroke-width=\"1\" x1=\"10.150586270311667\" x2=\"138.16700695500003\" y1=\"157.8973482631846\" y2=\"0.0\" /><line fill=\"#800080\" stroke=\"#d3d3d3\" stroke-width=\"1\" x1=\"11.810751848906568\" x2=\"236.57360917654003\" y1=\"159.5219583899992\" y2=\"50.06119845330825\" /><line fill=\"#800080\" stroke=\"#d3d3d3\" stroke-width=\"1\" x1=\"14.54727084732384\" x2=\"239.3101281749573\" y1=\"165.14102982319005\" y2=\"55.680269886499104\" /><line fill=\"#800080\" stroke=\"#add8e6\" stroke-width=\"1\" x1=\"14.802668567621033\" x2=\"250.0\" y1=\"167.44976969960902\" y2=\"163.48260000000002\" /><line fill=\"#800080\" stroke=\"#add8e6\" stroke-width=\"1\" x1=\"14.089332130745456\" x2=\"196.08999242711008\" y1=\"168.8399342142711\" y2=\"250.0\" /><line fill=\"#800080\" stroke=\"#add8e6\" stroke-width=\"1\" x1=\"12.745675575590365\" x2=\"81.89072449261953\" y1=\"170.36327384294515\" y2=\"250.0\" /><line fill=\"#800080\" stroke=\"#add8e6\" stroke-width=\"1\" x1=\"9.936139858994947\" x2=\"25.10227495409427\" y1=\"171.73153334215377\" y2=\"250.0\" /><line fill=\"#800080\" stroke=\"#add8e6\" stroke-width=\"1\" x1=\"7.908353554235536\" x2=\"0.0\" y1=\"171.8501051125301\" y2=\"203.48958125\" /><line fill=\"#800080\" stroke=\"#add8e6\" stroke-width=\"1\" x1=\"6.374061417834779\" x2=\"0.0\" y1=\"171.55454819723494\" y2=\"179.416409375\" /><line fill=\"#800080\" stroke=\"#add8e6\" stroke-width=\"1\" x1=\"4.713895839239878\" x2=\"0.0\" y1=\"169.9299380704203\" y2=\"172.22563125000002\" /><line fill=\"#800080\" stroke=\"#ffa500\" stroke-width=\"1\" x1=\"218.75\" x2=\"0.2670524668118091\" y1=\"31.25\" y2=\"160.79894699148517\" /><line fill=\"#800080\" stroke=\"#ffa500\" stroke-width=\"1\" x1=\"218.75\" x2=\"10.10042747489577\" y1=\"31.25\" y2=\"156.01003874425496\" /><line fill=\"#800080\" stroke=\"#a020f0\" stroke-width=\"1\" x1=\"8.262323844073222\" x2=\"0.0\" y1=\"164.72594823020975\" y2=\"164.143309375\" /><line fill=\"#800080\" stroke=\"#a020f0\" stroke-width=\"1\" x1=\"8.262323844073222\" x2=\"119.51223988538267\" y1=\"164.72594823020975\" y2=\"0.0\" /><polygon fill=\"white\" points=\"2.9361113975774558,159.49910046723699 1.2932470912182872,162.90609877893175 5.398025588844196,171.334705928718 9.093279144016323,172.14201119191637 13.58853629056899,169.95279599318252 15.23140059692816,166.54579768148778 11.12662209930225,158.11719053170154 7.431368544130125,157.30988526850314\" stroke=\"black\" stroke-width=\"1\" /><polygon points=\"-1.5625,-1.5625 0,0 1.5625,-1.5625 0,1.5625\" stroke=\"black\" stroke-width=\"1\" transform=\"translate(8.262323844073222,164.72594823020975) rotate(154.033660627897)\" /><circle cx=\"0.2670524668118091\" cy=\"160.79894699148517\" fill=\"yellow\" r=\"0.78125\" stroke=\"orange\" stroke-width=\"1\" /><circle cx=\"10.10042747489577\" cy=\"156.01003874425496\" fill=\"yellow\" r=\"0.78125\" stroke=\"orange\" stroke-width=\"1\" /><polygon fill=\"black\" points=\"8.032481975138383,159.971642527451 9.127089574505291,162.21927110072733 5.755646714590791,163.86118249977773 4.661039115223881,161.61355392650137\" stroke=\"black\" stroke-width=\"1\" /></svg>"
      ],
      "text/plain": [
       "<jyro.simulator.canvas.Canvas at 0x10d2baef0>"
      ]
     },
     "metadata": {},
     "output_type": "display_data"
    }
   ],
   "source": [
    "#let's visualize the first individual in the population\n",
    "#Note there is no reason to expect this is the best individual!\n",
    "robot.brain = network_to_brain(population[10])\n",
    "robot.setPose(1,1,0)\n",
    "\n",
    "for i in range(50):\n",
    "    sim.step(run_brain=True)\n",
    "    sim.draw(canvas)\n",
    "    clear_output(wait=True)\n",
    "    display(canvas)\n",
    "    time.sleep(.085)"
   ]
  },
  {
   "cell_type": "markdown",
   "metadata": {},
   "source": [
    "# 1. Change the visualization code above to visualize the *best* solution in the population. Hint: `np.argmax` is a function worth keeping in your back pocket at all times. "
   ]
  },
  {
   "cell_type": "code",
   "execution_count": 53,
   "metadata": {},
   "outputs": [
    {
     "ename": "KeyboardInterrupt",
     "evalue": "",
     "output_type": "error",
     "traceback": [
      "\u001b[0;31m---------------------------------------------------------------------------\u001b[0m",
      "\u001b[0;31mKeyboardInterrupt\u001b[0m                         Traceback (most recent call last)",
      "\u001b[0;32m<ipython-input-53-6289eda585cf>\u001b[0m in \u001b[0;36m<module>\u001b[0;34m()\u001b[0m\n\u001b[0;32m----> 1\u001b[0;31m \u001b[0mrobot\u001b[0m\u001b[0;34m.\u001b[0m\u001b[0mbrain\u001b[0m \u001b[0;34m=\u001b[0m \u001b[0mnetwork_to_brain\u001b[0m\u001b[0;34m(\u001b[0m\u001b[0mpopulation\u001b[0m\u001b[0;34m[\u001b[0m\u001b[0mnp\u001b[0m\u001b[0;34m.\u001b[0m\u001b[0margmax\u001b[0m\u001b[0;34m(\u001b[0m\u001b[0;34m[\u001b[0m\u001b[0mmeasure_neuralnet_fitness\u001b[0m\u001b[0;34m(\u001b[0m\u001b[0mbrain\u001b[0m\u001b[0;34m,\u001b[0m \u001b[0miterations\u001b[0m\u001b[0;34m=\u001b[0m\u001b[0;36m100\u001b[0m\u001b[0;34m)\u001b[0m \u001b[0;32mfor\u001b[0m \u001b[0mbrain\u001b[0m \u001b[0;32min\u001b[0m \u001b[0mpopulation\u001b[0m\u001b[0;34m]\u001b[0m\u001b[0;34m)\u001b[0m\u001b[0;34m]\u001b[0m\u001b[0;34m)\u001b[0m\u001b[0;34m\u001b[0m\u001b[0m\n\u001b[0m\u001b[1;32m      2\u001b[0m \u001b[0mrobot\u001b[0m\u001b[0;34m.\u001b[0m\u001b[0msetPose\u001b[0m\u001b[0;34m(\u001b[0m\u001b[0;36m1\u001b[0m\u001b[0;34m,\u001b[0m\u001b[0;36m1\u001b[0m\u001b[0;34m,\u001b[0m\u001b[0;36m0\u001b[0m\u001b[0;34m)\u001b[0m\u001b[0;34m\u001b[0m\u001b[0m\n\u001b[1;32m      3\u001b[0m \u001b[0;32mfor\u001b[0m \u001b[0mi\u001b[0m \u001b[0;32min\u001b[0m \u001b[0mrange\u001b[0m\u001b[0;34m(\u001b[0m\u001b[0;36m100\u001b[0m\u001b[0;34m)\u001b[0m\u001b[0;34m:\u001b[0m\u001b[0;34m\u001b[0m\u001b[0m\n\u001b[1;32m      4\u001b[0m     \u001b[0msim\u001b[0m\u001b[0;34m.\u001b[0m\u001b[0mstep\u001b[0m\u001b[0;34m(\u001b[0m\u001b[0mrun_brain\u001b[0m\u001b[0;34m=\u001b[0m\u001b[0;32mTrue\u001b[0m\u001b[0;34m)\u001b[0m\u001b[0;34m\u001b[0m\u001b[0m\n\u001b[1;32m      5\u001b[0m     \u001b[0msim\u001b[0m\u001b[0;34m.\u001b[0m\u001b[0mdraw\u001b[0m\u001b[0;34m(\u001b[0m\u001b[0mcanvas\u001b[0m\u001b[0;34m)\u001b[0m\u001b[0;34m\u001b[0m\u001b[0m\n",
      "\u001b[0;32m<ipython-input-53-6289eda585cf>\u001b[0m in \u001b[0;36m<listcomp>\u001b[0;34m(.0)\u001b[0m\n\u001b[0;32m----> 1\u001b[0;31m \u001b[0mrobot\u001b[0m\u001b[0;34m.\u001b[0m\u001b[0mbrain\u001b[0m \u001b[0;34m=\u001b[0m \u001b[0mnetwork_to_brain\u001b[0m\u001b[0;34m(\u001b[0m\u001b[0mpopulation\u001b[0m\u001b[0;34m[\u001b[0m\u001b[0mnp\u001b[0m\u001b[0;34m.\u001b[0m\u001b[0margmax\u001b[0m\u001b[0;34m(\u001b[0m\u001b[0;34m[\u001b[0m\u001b[0mmeasure_neuralnet_fitness\u001b[0m\u001b[0;34m(\u001b[0m\u001b[0mbrain\u001b[0m\u001b[0;34m,\u001b[0m \u001b[0miterations\u001b[0m\u001b[0;34m=\u001b[0m\u001b[0;36m100\u001b[0m\u001b[0;34m)\u001b[0m \u001b[0;32mfor\u001b[0m \u001b[0mbrain\u001b[0m \u001b[0;32min\u001b[0m \u001b[0mpopulation\u001b[0m\u001b[0;34m]\u001b[0m\u001b[0;34m)\u001b[0m\u001b[0;34m]\u001b[0m\u001b[0;34m)\u001b[0m\u001b[0;34m\u001b[0m\u001b[0m\n\u001b[0m\u001b[1;32m      2\u001b[0m \u001b[0mrobot\u001b[0m\u001b[0;34m.\u001b[0m\u001b[0msetPose\u001b[0m\u001b[0;34m(\u001b[0m\u001b[0;36m1\u001b[0m\u001b[0;34m,\u001b[0m\u001b[0;36m1\u001b[0m\u001b[0;34m,\u001b[0m\u001b[0;36m0\u001b[0m\u001b[0;34m)\u001b[0m\u001b[0;34m\u001b[0m\u001b[0m\n\u001b[1;32m      3\u001b[0m \u001b[0;32mfor\u001b[0m \u001b[0mi\u001b[0m \u001b[0;32min\u001b[0m \u001b[0mrange\u001b[0m\u001b[0;34m(\u001b[0m\u001b[0;36m100\u001b[0m\u001b[0;34m)\u001b[0m\u001b[0;34m:\u001b[0m\u001b[0;34m\u001b[0m\u001b[0m\n\u001b[1;32m      4\u001b[0m     \u001b[0msim\u001b[0m\u001b[0;34m.\u001b[0m\u001b[0mstep\u001b[0m\u001b[0;34m(\u001b[0m\u001b[0mrun_brain\u001b[0m\u001b[0;34m=\u001b[0m\u001b[0;32mTrue\u001b[0m\u001b[0;34m)\u001b[0m\u001b[0;34m\u001b[0m\u001b[0m\n\u001b[1;32m      5\u001b[0m     \u001b[0msim\u001b[0m\u001b[0;34m.\u001b[0m\u001b[0mdraw\u001b[0m\u001b[0;34m(\u001b[0m\u001b[0mcanvas\u001b[0m\u001b[0;34m)\u001b[0m\u001b[0;34m\u001b[0m\u001b[0m\n",
      "\u001b[0;32m<ipython-input-49-db7865c06e73>\u001b[0m in \u001b[0;36mmeasure_neuralnet_fitness\u001b[0;34m(simple_net, iterations)\u001b[0m\n\u001b[1;32m     16\u001b[0m         \u001b[0;31m#move the robot\u001b[0m\u001b[0;34m\u001b[0m\u001b[0;34m\u001b[0m\u001b[0m\n\u001b[1;32m     17\u001b[0m         \u001b[0mcur_pos\u001b[0m \u001b[0;34m=\u001b[0m \u001b[0mrobot\u001b[0m\u001b[0;34m.\u001b[0m\u001b[0mgetPose\u001b[0m\u001b[0;34m(\u001b[0m\u001b[0;34m)\u001b[0m\u001b[0;34m\u001b[0m\u001b[0m\n\u001b[0;32m---> 18\u001b[0;31m         \u001b[0msim\u001b[0m\u001b[0;34m.\u001b[0m\u001b[0mstep\u001b[0m\u001b[0;34m(\u001b[0m\u001b[0mrun_brain\u001b[0m\u001b[0;34m=\u001b[0m\u001b[0;32mTrue\u001b[0m\u001b[0;34m)\u001b[0m\u001b[0;34m\u001b[0m\u001b[0m\n\u001b[0m\u001b[1;32m     19\u001b[0m         \u001b[0mnext_pos\u001b[0m \u001b[0;34m=\u001b[0m \u001b[0mrobot\u001b[0m\u001b[0;34m.\u001b[0m\u001b[0mgetPose\u001b[0m\u001b[0;34m(\u001b[0m\u001b[0;34m)\u001b[0m\u001b[0;34m\u001b[0m\u001b[0m\n\u001b[1;32m     20\u001b[0m \u001b[0;34m\u001b[0m\u001b[0m\n",
      "\u001b[0;32m/anaconda3/lib/python3.6/site-packages/jyro/simulator/simulator.py\u001b[0m in \u001b[0;36mstep\u001b[0;34m(self, run_brain)\u001b[0m\n\u001b[1;32m    340\u001b[0m             \u001b[0mcollision\u001b[0m \u001b[0;34m=\u001b[0m \u001b[0mr\u001b[0m\u001b[0;34m.\u001b[0m\u001b[0mstep\u001b[0m\u001b[0;34m(\u001b[0m\u001b[0mself\u001b[0m\u001b[0;34m.\u001b[0m\u001b[0mtimeslice\u001b[0m\u001b[0;34m)\u001b[0m\u001b[0;34m\u001b[0m\u001b[0m\n\u001b[1;32m    341\u001b[0m         \u001b[0;32mfor\u001b[0m \u001b[0mr\u001b[0m \u001b[0;32min\u001b[0m \u001b[0mself\u001b[0m\u001b[0;34m.\u001b[0m\u001b[0mrobots\u001b[0m\u001b[0;34m:\u001b[0m\u001b[0;34m\u001b[0m\u001b[0m\n\u001b[0;32m--> 342\u001b[0;31m             \u001b[0mr\u001b[0m\u001b[0;34m.\u001b[0m\u001b[0mupdateDevices\u001b[0m\u001b[0;34m(\u001b[0m\u001b[0;34m)\u001b[0m\u001b[0;34m\u001b[0m\u001b[0m\n\u001b[0m\u001b[1;32m    343\u001b[0m         \u001b[0mself\u001b[0m\u001b[0;34m.\u001b[0m\u001b[0mstepCount\u001b[0m \u001b[0;34m+=\u001b[0m \u001b[0;36m1\u001b[0m\u001b[0;34m\u001b[0m\u001b[0m\n\u001b[1;32m    344\u001b[0m \u001b[0;34m\u001b[0m\u001b[0m\n",
      "\u001b[0;32m/anaconda3/lib/python3.6/site-packages/jyro/simulator/robot.py\u001b[0m in \u001b[0;36mupdateDevices\u001b[0;34m(self)\u001b[0m\n\u001b[1;32m    180\u001b[0m         \u001b[0;32mfor\u001b[0m \u001b[0mdevice\u001b[0m \u001b[0;32min\u001b[0m \u001b[0mself\u001b[0m\u001b[0;34m.\u001b[0m\u001b[0mdevices\u001b[0m\u001b[0;34m:\u001b[0m\u001b[0;34m\u001b[0m\u001b[0m\n\u001b[1;32m    181\u001b[0m             \u001b[0;32mif\u001b[0m \u001b[0mdevice\u001b[0m\u001b[0;34m.\u001b[0m\u001b[0mactive\u001b[0m\u001b[0;34m:\u001b[0m\u001b[0;34m\u001b[0m\u001b[0m\n\u001b[0;32m--> 182\u001b[0;31m                 \u001b[0mdevice\u001b[0m\u001b[0;34m.\u001b[0m\u001b[0mupdate\u001b[0m\u001b[0;34m(\u001b[0m\u001b[0mself\u001b[0m\u001b[0;34m)\u001b[0m\u001b[0;34m\u001b[0m\u001b[0m\n\u001b[0m\u001b[1;32m    183\u001b[0m \u001b[0;34m\u001b[0m\u001b[0m\n\u001b[1;32m    184\u001b[0m     \u001b[0;32mdef\u001b[0m \u001b[0mstep\u001b[0m\u001b[0;34m(\u001b[0m\u001b[0mself\u001b[0m\u001b[0;34m,\u001b[0m \u001b[0mtimeslice\u001b[0m\u001b[0;34m=\u001b[0m\u001b[0;36m100\u001b[0m\u001b[0;34m)\u001b[0m\u001b[0;34m:\u001b[0m\u001b[0;34m\u001b[0m\u001b[0m\n",
      "\u001b[0;32m/anaconda3/lib/python3.6/site-packages/jyro/simulator/device.py\u001b[0m in \u001b[0;36mupdate\u001b[0;34m(self, robot)\u001b[0m\n\u001b[1;32m    472\u001b[0m             distance, hit, obj = robot.physics.castRay(robot, x, y, -ga,\n\u001b[1;32m    473\u001b[0m                                                          \u001b[0mignoreRobot\u001b[0m\u001b[0;34m=\u001b[0m\u001b[0;34m\"self\"\u001b[0m\u001b[0;34m,\u001b[0m\u001b[0;34m\u001b[0m\u001b[0m\n\u001b[0;32m--> 474\u001b[0;31m                                                          rayType=\"camera\")\n\u001b[0m\u001b[1;32m    475\u001b[0m             \u001b[0;32mif\u001b[0m \u001b[0mobj\u001b[0m \u001b[0;34m!=\u001b[0m \u001b[0;32mNone\u001b[0m\u001b[0;34m:\u001b[0m\u001b[0;34m\u001b[0m\u001b[0m\n\u001b[1;32m    476\u001b[0m                 \u001b[0;32mif\u001b[0m \u001b[0mi\u001b[0m \u001b[0;32min\u001b[0m \u001b[0;34m[\u001b[0m\u001b[0;36m0\u001b[0m\u001b[0;34m,\u001b[0m \u001b[0mself\u001b[0m\u001b[0;34m.\u001b[0m\u001b[0mwidth\u001b[0m \u001b[0;34m-\u001b[0m \u001b[0;36m1\u001b[0m\u001b[0;34m]\u001b[0m\u001b[0;34m:\u001b[0m\u001b[0;34m\u001b[0m\u001b[0m\n",
      "\u001b[0;32m/anaconda3/lib/python3.6/site-packages/jyro/simulator/simulator.py\u001b[0m in \u001b[0;36mcastRay\u001b[0;34m(self, robot, x1, y1, a, maxRange, ignoreRobot, rayType)\u001b[0m\n\u001b[1;32m    354\u001b[0m             \u001b[0;32mfor\u001b[0m \u001b[0mw\u001b[0m \u001b[0;32min\u001b[0m \u001b[0mself\u001b[0m\u001b[0;34m.\u001b[0m\u001b[0mworld\u001b[0m\u001b[0;34m:\u001b[0m\u001b[0;34m\u001b[0m\u001b[0m\n\u001b[1;32m    355\u001b[0m                 \u001b[0;31m## Direct light:\u001b[0m\u001b[0;34m\u001b[0m\u001b[0;34m\u001b[0m\u001b[0m\n\u001b[0;32m--> 356\u001b[0;31m                 \u001b[0mretval\u001b[0m \u001b[0;34m=\u001b[0m \u001b[0mw\u001b[0m\u001b[0;34m.\u001b[0m\u001b[0mintersects\u001b[0m\u001b[0;34m(\u001b[0m\u001b[0mseg\u001b[0m\u001b[0;34m)\u001b[0m\u001b[0;34m\u001b[0m\u001b[0m\n\u001b[0m\u001b[1;32m    357\u001b[0m                 \u001b[0;32mif\u001b[0m \u001b[0mretval\u001b[0m\u001b[0;34m:\u001b[0m\u001b[0;34m\u001b[0m\u001b[0m\n\u001b[1;32m    358\u001b[0m                     \u001b[0mdist\u001b[0m \u001b[0;34m=\u001b[0m \u001b[0mSegment\u001b[0m\u001b[0;34m(\u001b[0m\u001b[0mretval\u001b[0m\u001b[0;34m,\u001b[0m \u001b[0;34m(\u001b[0m\u001b[0mx1\u001b[0m\u001b[0;34m,\u001b[0m \u001b[0my1\u001b[0m\u001b[0;34m)\u001b[0m\u001b[0;34m)\u001b[0m\u001b[0;34m.\u001b[0m\u001b[0mlength\u001b[0m\u001b[0;34m(\u001b[0m\u001b[0;34m)\u001b[0m\u001b[0;34m\u001b[0m\u001b[0m\n",
      "\u001b[0;32m/anaconda3/lib/python3.6/site-packages/jyro/simulator/simulator.py\u001b[0m in \u001b[0;36mintersects\u001b[0;34m(self, other)\u001b[0m\n\u001b[1;32m    190\u001b[0m         \u001b[0;32melse\u001b[0m\u001b[0;34m:\u001b[0m\u001b[0;34m\u001b[0m\u001b[0m\n\u001b[1;32m    191\u001b[0m             \u001b[0mi\u001b[0m \u001b[0;34m=\u001b[0m \u001b[0mself\u001b[0m\u001b[0;34m.\u001b[0m\u001b[0mintersection\u001b[0m\u001b[0;34m(\u001b[0m\u001b[0mother\u001b[0m\u001b[0;34m)\u001b[0m\u001b[0;34m\u001b[0m\u001b[0m\n\u001b[0;32m--> 192\u001b[0;31m             \u001b[0;32mif\u001b[0m \u001b[0mself\u001b[0m\u001b[0;34m.\u001b[0m\u001b[0min_bbox\u001b[0m\u001b[0;34m(\u001b[0m\u001b[0mi\u001b[0m\u001b[0;34m)\u001b[0m \u001b[0;32mand\u001b[0m \u001b[0mother\u001b[0m\u001b[0;34m.\u001b[0m\u001b[0min_bbox\u001b[0m\u001b[0;34m(\u001b[0m\u001b[0mi\u001b[0m\u001b[0;34m)\u001b[0m\u001b[0;34m:\u001b[0m\u001b[0;34m\u001b[0m\u001b[0m\n\u001b[0m\u001b[1;32m    193\u001b[0m                 \u001b[0;32mreturn\u001b[0m \u001b[0mi\u001b[0m\u001b[0;34m\u001b[0m\u001b[0m\n\u001b[1;32m    194\u001b[0m             \u001b[0;32melse\u001b[0m\u001b[0;34m:\u001b[0m\u001b[0;34m\u001b[0m\u001b[0m\n",
      "\u001b[0;32m/anaconda3/lib/python3.6/site-packages/jyro/simulator/simulator.py\u001b[0m in \u001b[0;36min_bbox\u001b[0;34m(self, point)\u001b[0m\n\u001b[1;32m    161\u001b[0m     \u001b[0;32mdef\u001b[0m \u001b[0min_bbox\u001b[0m\u001b[0;34m(\u001b[0m\u001b[0mself\u001b[0m\u001b[0;34m,\u001b[0m \u001b[0mpoint\u001b[0m\u001b[0;34m)\u001b[0m\u001b[0;34m:\u001b[0m\u001b[0;34m\u001b[0m\u001b[0m\n\u001b[1;32m    162\u001b[0m         return (((self.end[0]   <= round(point[0], RESOLUTION) <= self.start[0]) or\n\u001b[0;32m--> 163\u001b[0;31m                  (self.start[0] <= round(point[0], RESOLUTION) <= self.end[0])) and\n\u001b[0m\u001b[1;32m    164\u001b[0m                 ((self.end[1]   <= round(point[1], RESOLUTION) <= self.start[1]) or\n\u001b[1;32m    165\u001b[0m                  (self.start[1] <= round(point[1], RESOLUTION) <= self.end[1])))\n",
      "\u001b[0;31mKeyboardInterrupt\u001b[0m: "
     ]
    }
   ],
   "source": [
    "robot.brain = network_to_brain(population[np.argmax([measure_neuralnet_fitness(brain, iterations=100) for brain in population])])\n",
    "robot.setPose(1,1,0)\n",
    "for i in range(100):\n",
    "    sim.step(run_brain=True)\n",
    "    sim.draw(canvas)\n",
    "    clear_output(wait=True)\n",
    "    display(canvas)\n",
    "    time.sleep(.085)"
   ]
  },
  {
   "cell_type": "markdown",
   "metadata": {},
   "source": [
    "# 2. It seems like fitness is saturating. Why do you think that is? What could you do to \"fix\" this?"
   ]
  },
  {
   "cell_type": "code",
   "execution_count": null,
   "metadata": {},
   "outputs": [],
   "source": [
    "print([measure_neuralnet_fitness(brain, iterations=100) for brain in population])"
   ]
  },
  {
   "cell_type": "markdown",
   "metadata": {},
   "source": [
    "# 3.  After fixing this saturation problem, see if you can evolve robots that navigate to the light source! \n",
    "## To do this, you will need to change the way fitness is evaluated"
   ]
  },
  {
   "cell_type": "code",
   "execution_count": 79,
   "metadata": {},
   "outputs": [],
   "source": [
    "# CHANGE THIS FUNCTION\n",
    "def measure_neuralnet_fitness(simple_net, iterations=20):\n",
    "    robot.brain = network_to_brain(simple_net)\n",
    "    distance_moved = 0\n",
    "    \n",
    "    #reset the robot's position\n",
    "    robot.setPose(1, 1, 0)\n",
    "    robot.reset()\n",
    "    current_light = np.array(robot['light'].getData())\n",
    "    #iterate through the simulation\n",
    "    for i in range(iterations):        \n",
    "        #but if the robot's stuck, end early!\n",
    "        if robot.stall:\n",
    "            break\n",
    "            \n",
    "        #move the robot\n",
    "        cur_pos = robot.getPose()\n",
    "        sim.step(run_brain=True)\n",
    "        next_pos = robot.getPose()\n",
    "        \n",
    "        #and keep track of how far it moved\n",
    "        distance_moved += np.linalg.norm(np.array(cur_pos[0:2]) - np.array(next_pos[0:2]))\n",
    "    distance_closed = sum(np.array(robot[\"light\"].getData()) - current_light)\n",
    "    print(robot[\"light\"].getData())\n",
    "#     distance_closed_ratio = float(distance_closed/distance_moved)\n",
    "    return distance_closed"
   ]
  },
  {
   "cell_type": "code",
   "execution_count": 65,
   "metadata": {},
   "outputs": [
    {
     "data": {
      "text/plain": [
       "[0.0, 0.0]"
      ]
     },
     "execution_count": 65,
     "metadata": {},
     "output_type": "execute_result"
    }
   ],
   "source": [
    "robot[\"light\"].getData()"
   ]
  },
  {
   "cell_type": "code",
   "execution_count": null,
   "metadata": {},
   "outputs": [],
   "source": []
  }
 ],
 "metadata": {
  "kernelspec": {
   "display_name": "Python 3",
   "language": "python",
   "name": "python3"
  },
  "language_info": {
   "codemirror_mode": {
    "name": "ipython",
    "version": 3
   },
   "file_extension": ".py",
   "mimetype": "text/x-python",
   "name": "python",
   "nbconvert_exporter": "python",
   "pygments_lexer": "ipython3",
   "version": "3.6.4"
  }
 },
 "nbformat": 4,
 "nbformat_minor": 2
}
